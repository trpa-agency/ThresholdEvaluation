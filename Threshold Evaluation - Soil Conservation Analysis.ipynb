{
 "cells": [
  {
   "cell_type": "markdown",
   "metadata": {},
   "source": [
    "## Setup"
   ]
  },
  {
   "cell_type": "code",
   "execution_count": 1,
   "metadata": {
    "ExecuteTime": {
     "end_time": "2020-07-20T19:35:13.506460Z",
     "start_time": "2020-07-20T19:35:08.104262Z"
    }
   },
   "outputs": [],
   "source": [
    "# import modules and set environment settings\n",
    "import arcpy, os\n",
    "arcpy.overwriteOutput = True\n",
    "\n",
    "# set local variables\n",
    "workspace =  \"C:\\\\GIS\\PROJECT\\\\ThresholdEvaluation\\\\ThresholdEvaluation.gdb\"\n",
    "sdeBase   = \"C:\\\\GIS\\\\DB_CONNECT\\\\Vector.sde\"\n",
    "\n",
    "# sde datasets\n",
    "parcels    = os.path.join(sdeBase,\"sde.SDE.Parcels\\sde.SDE.Parcel_Master\")\n",
    "soils      = os.path.join(sdeBase, \"sde.SDE.Soils\\sde.SDE.land_capability_NRCS2007\") \n",
    "localplan  = os.path.join(sdeBase, \"sde.SDE.Planning\\sde.SDE.LocalPlan\")\n",
    "towncenter = os.path.join(sdeBase, \"sde.SDE.Planning\\sde.SDE.TownCenter\")\n",
    "\n",
    "# local impervious datasets\n",
    "newImp = os.path.join(workspace, \"Impervious_2018\")\n",
    "oldImp = os.path.join(workspace, \"Impervious_2010\")\n",
    "                          \n",
    "# sde impervious\n",
    "impervious2010 = os.path.join(sdeBase, \"sde.SDE.Tahoe_Impervious_2010//sde.SDE.Impervious_2010\")                                                      \n",
    "impervious2018 = os.path.join(sdeBase, \"sde.SDE.Tahoe_Impervious_2010//sde.SDE.Impervious_2018\")\n",
    "\n",
    "# output tables\n",
    "outTable2010 = \"ImperviousOverlayAnalysis_2010.csv\"\n",
    "outTable2018 = \"ImperviousOverlayAnalysis_2018.csv\"\n",
    "outLocation  = \"C:\\\\GIS\\PROJECT\\\\ThresholdEvaluation\\\\\""
   ]
  },
  {
   "cell_type": "markdown",
   "metadata": {},
   "source": [
    "### 2010 Impervious Analysis"
   ]
  },
  {
   "cell_type": "code",
   "execution_count": 4,
   "metadata": {
    "ExecuteTime": {
     "end_time": "2020-07-20T22:43:17.487668Z",
     "start_time": "2020-07-20T21:39:48.868093Z"
    },
    "scrolled": true
   },
   "outputs": [
    {
     "name": "stdout",
     "output_type": "stream",
     "text": [
      "Deleting: memory\\id_NRCS_Impervious\n",
      "Deleting: memory\\id_NRCS_Impervious_LocalPlan\n",
      "Deleting: memory\\id_NRCS_Impervious_LocalPlan_TownCenter\n",
      "Deleting: id_NRCS_Impervious_LocalPlan_TownCenter_Parcel\n",
      "Identifying Soils with Impervious Surfaces...\n",
      "Identifying Soils with Impervious Surfaces & Local Plan layers...\n",
      "Identifying Soils with Impervious Surfaces, Local Plan, & Town Center layers...\n",
      "Identifying Soils with Impervious Surfaces, Local Plan, Town Center, and Parcel layers...\n",
      "Calculating Acres...\n",
      "Deleting Old Table...\n",
      "Exporting New Table...\n",
      "Table ImperviousOverlayAnalysis_2010.csv created\n"
     ]
    }
   ],
   "source": [
    "# output feature classes\n",
    "id_NRCS_Impervious = \"memory\\id_NRCS_Impervious\"\n",
    "\n",
    "id_NRCS_Impervious_LocalPlan = \"memory\\id_NRCS_Impervious_LocalPlan\"\n",
    "\n",
    "id_NRCS_Impervious_LocalPlan_TownCenter = \"memory\\id_NRCS_Impervious_LocalPlan_TownCenter\"\n",
    "\n",
    "id_NRCS_Impervious_LocalPlan_TownCenter_Parcel = os.path.join(workspace,\"id_NRCS_Impervious_LocalPlan_TownCenter_Parcel_2010\")\n",
    "\n",
    "# delete in memory feature class\n",
    "if arcpy.Exists(\"memory\\id_NRCS_Impervious\"):\n",
    "    print(\"Deleting: memory\\id_NRCS_Impervious\")\n",
    "    arcpy.Delete_management(\"memory\\id_NRCS_Impervious\")\n",
    "\n",
    "# delete in memory feature class\n",
    "if arcpy.Exists(\"memory\\id_NRCS_Impervious_LocalPlan\"):\n",
    "    print(\"Deleting: memory\\id_NRCS_Impervious_LocalPlan\")\n",
    "    arcpy.Delete_management(\"memory\\id_NRCS_Impervious_LocalPlan\")\n",
    "    \n",
    "# delete in memory feature class\n",
    "if arcpy.Exists(\"memory\\id_NRCS_Impervious_LocalPlan_TownCenter\"):\n",
    "    print(\"Deleting: memory\\id_NRCS_Impervious_LocalPlan_TownCenter\")\n",
    "    arcpy.Delete_management(\"memory\\id_NRCS_Impervious_LocalPlan_TownCenter\")\n",
    "\n",
    "# delete staging feature class\n",
    "if arcpy.Exists(id_NRCS_Impervious_LocalPlan_TownCenter_Parcel):\n",
    "    print(\"Deleting: id_NRCS_Impervious_LocalPlan_TownCenter_Parcel\")\n",
    "    arcpy.Delete_management(id_NRCS_Impervious_LocalPlan_TownCenter_Parcel)\n",
    "    \n",
    "# identify land capability/impervious\n",
    "print(\"Identifying Soils with Impervious Surfaces...\")\n",
    "arcpy.Identity_analysis(soils, oldImp, id_NRCS_Impervious)\n",
    "\n",
    "# identify land capability/impervious/local plan\n",
    "print(\"Identifying Soils with Impervious Surfaces & Local Plan layers...\")\n",
    "arcpy.Identity_analysis(id_NRCS_Impervious, localplan, id_NRCS_Impervious_LocalPlan)\n",
    "\n",
    "# identify land capability/impervious/local plan/town center\n",
    "print(\"Identifying Soils with Impervious Surfaces, Local Plan, & Town Center layers...\")\n",
    "arcpy.Identity_analysis(id_NRCS_Impervious_LocalPlan, towncenter, id_NRCS_Impervious_LocalPlan_TownCenter)\n",
    "\n",
    "# identify land capability/impervious/local plan/town center/parcels\n",
    "print(\"Identifying Soils with Impervious Surfaces, Local Plan, Town Center, and Parcel layers...\")\n",
    "arcpy.Identity_analysis(id_NRCS_Impervious_LocalPlan_TownCenter, parcels, id_NRCS_Impervious_LocalPlan_TownCenter_Parcel)\n",
    "\n",
    "# calculate acres\n",
    "print(\"Calculating Acres...\")\n",
    "with arcpy.da.UpdateCursor(id_NRCS_Impervious_LocalPlan_TownCenter_Parcel, ['GISAcre', 'SHAPE@']) as cursor:\n",
    "    for row in cursor:\n",
    "        row[0] = row[1].getArea('GEODESIC', 'ACRES')\n",
    "        cursor.updateRow(row)\n",
    "\n",
    "# delete table if it already exists\n",
    "print(\"Deleting Old Table...\")\n",
    "if arcpy.Exists(os.path.join(outLocation,outTable2010)):\n",
    "    arcpy.Delete_management(os.path.join(outLocation,outTable2010))\n",
    "\n",
    "# Execute Table To Table\n",
    "print(\"Exporting New Table...\")\n",
    "arcpy.TableToTable_conversion(id_NRCS_Impervious_LocalPlan_TownCenter_Parcel, outLocation, outTable2010)\n",
    "\n",
    "# success?\n",
    "print(\"Table {0} created\".format(outTable2010))"
   ]
  },
  {
   "cell_type": "markdown",
   "metadata": {},
   "source": [
    "### 2018 Impervious Analysis"
   ]
  },
  {
   "cell_type": "code",
   "execution_count": 5,
   "metadata": {
    "ExecuteTime": {
     "end_time": "2020-07-21T00:04:41.446617Z",
     "start_time": "2020-07-20T22:57:18.588288Z"
    }
   },
   "outputs": [
    {
     "name": "stdout",
     "output_type": "stream",
     "text": [
      "Deleting: memory\\id_NRCS_Impervious\n",
      "Deleting: memory\\id_NRCS_Impervious_LocalPlan\n",
      "Deleting: memory\\id_NRCS_Impervious_LocalPlan_TownCenter\n",
      "Identifying Soils with Impervious Surfaces...\n",
      "Identifying Soils with Impervious Surfaces & Local Plan layers...\n",
      "Identifying Soils with Impervious Surfaces, Local Plan, & Town Center layers...\n",
      "Identifying Soils with Impervious Surfaces, Local Plan, Town Center, and Parcel layers...\n",
      "Calculating Acres...\n",
      "Deleting Old Table...\n",
      "Exporting New Table...\n",
      "Table ImperviousOverlayAnalysis_2018.csv created\n"
     ]
    }
   ],
   "source": [
    "# output feature classes\n",
    "id_NRCS_Impervious = \"memory\\id_NRCS_Impervious\"\n",
    "\n",
    "id_NRCS_Impervious_LocalPlan = \"memory\\id_NRCS_Impervious_LocalPlan\"\n",
    "\n",
    "id_NRCS_Impervious_LocalPlan_TownCenter = \"memory\\id_NRCS_Impervious_LocalPlan_TownCenter\"\n",
    "\n",
    "id_NRCS_Impervious_LocalPlan_TownCenter_Parcel = os.path.join(workspace,\"id_NRCS_Impervious_LocalPlan_TownCenter_Parcel_2018\")\n",
    "\n",
    "# delete in memory feature class\n",
    "if arcpy.Exists(\"memory\\id_NRCS_Impervious\"):\n",
    "    print(\"Deleting: memory\\id_NRCS_Impervious\")\n",
    "    arcpy.Delete_management(\"memory\\id_NRCS_Impervious\")\n",
    "\n",
    "# delete in memory feature class\n",
    "if arcpy.Exists(\"memory\\id_NRCS_Impervious_LocalPlan\"):\n",
    "    print(\"Deleting: memory\\id_NRCS_Impervious_LocalPlan\")\n",
    "    arcpy.Delete_management(\"memory\\id_NRCS_Impervious_LocalPlan\")\n",
    "    \n",
    "# delete in memory feature class\n",
    "if arcpy.Exists(\"memory\\id_NRCS_Impervious_LocalPlan_TownCenter\"):\n",
    "    print(\"Deleting: memory\\id_NRCS_Impervious_LocalPlan_TownCenter\")\n",
    "    arcpy.Delete_management(\"memory\\id_NRCS_Impervious_LocalPlan_TownCenter\")\n",
    "\n",
    "# delete staging feature class\n",
    "if arcpy.Exists(id_NRCS_Impervious_LocalPlan_TownCenter_Parcel):\n",
    "    print(\"Deleting: memory\\id_NRCS_Impervious_LocalPlan_Parcel\")\n",
    "    arcpy.Delete_management(id_NRCS_Impervious_LocalPlan_TownCenter_Parcel)\n",
    "    \n",
    "# identify land capability/impervious\n",
    "print(\"Identifying Soils with Impervious Surfaces...\")\n",
    "arcpy.Identity_analysis(soils, newImp, id_NRCS_Impervious)\n",
    "\n",
    "# identify land capability/impervious/local plan\n",
    "print(\"Identifying Soils with Impervious Surfaces & Local Plan layers...\")\n",
    "arcpy.Identity_analysis(id_NRCS_Impervious, localplan, id_NRCS_Impervious_LocalPlan)\n",
    "\n",
    "# identify land capability/impervious/local plan/town center\n",
    "print(\"Identifying Soils with Impervious Surfaces, Local Plan, & Town Center layers...\")\n",
    "arcpy.Identity_analysis(id_NRCS_Impervious_LocalPlan, towncenter, id_NRCS_Impervious_LocalPlan_TownCenter)\n",
    "\n",
    "# identify land capability/impervious/local plan/town center/parcels\n",
    "print(\"Identifying Soils with Impervious Surfaces, Local Plan, Town Center, and Parcel layers...\")\n",
    "arcpy.Identity_analysis(id_NRCS_Impervious_LocalPlan_TownCenter, parcels, id_NRCS_Impervious_LocalPlan_TownCenter_Parcel)\n",
    "\n",
    "# calculate acres\n",
    "print(\"Calculating Acres...\")\n",
    "with arcpy.da.UpdateCursor(id_NRCS_Impervious_LocalPlan_TownCenter_Parcel, ['GISAcre', 'SHAPE@']) as cursor:\n",
    "    for row in cursor:\n",
    "        row[0] = row[1].getArea('GEODESIC', 'ACRES')\n",
    "        cursor.updateRow(row)\n",
    "\n",
    "# delete table if it already exists\n",
    "print(\"Deleting Old Table...\")\n",
    "if arcpy.Exists(os.path.join(outLocation,outTable2018)):\n",
    "    arcpy.Delete_management(os.path.join(outLocation,outTable2018))\n",
    "\n",
    "# Execute Table To Table\n",
    "print(\"Exporting New Table...\")\n",
    "arcpy.TableToTable_conversion(id_NRCS_Impervious_LocalPlan_TownCenter_Parcel, outLocation, outTable2018)\n",
    "\n",
    "# success?\n",
    "print(\"Table {0} created\".format(outTable2018))"
   ]
  },
  {
   "cell_type": "markdown",
   "metadata": {
    "heading_collapsed": true
   },
   "source": [
    "## Coverage Analysis\n",
    "### Recreate these tables: \n",
    "#### F:\\Research and Analysis\\Reporting\\Annual Reports\\2016 Annual Report\\Data and Analysis\\Coverage\\RawData\\AnalysisProduct\n",
    "\n",
    "#### F:\\Research and Analysis\\Reporting\\Annual Reports\\2016 Annual Report\\Data and Analysis\\Coverage\\RawData\n"
   ]
  },
  {
   "cell_type": "code",
   "execution_count": 3,
   "metadata": {
    "hidden": true
   },
   "outputs": [
    {
     "name": "stdout",
     "output_type": "stream",
     "text": [
      "Identifying Soils with Local Plan...\n",
      "Identifying Soils,and Local Plan with Impervious Surfaces...\n",
      "Identifying Soils,Local Plan, Town Center, and Impervious Surfaces with Parcels...\n",
      "Calculating Acres...\n",
      "Deleting Old Table...\n",
      "Exporting New Table...\n",
      "Table id_NRCS_LocalPlan_Impervious_Parcel.csv created\n"
     ]
    }
   ],
   "source": [
    "# import modules and set environment settings\n",
    "import arcpy, os\n",
    "arcpy.overwriteOutput = True\n",
    "\n",
    "# set local variables\n",
    "workspace = \n",
    "sdeBase = \"F:/GIS/GIS_DATA/Vector.sde\"\n",
    "\n",
    "soils = sdeBase + \"//sde.SDE.Soils//sde.SDE.land_capability_NRCS2007\" \n",
    "localplan = sdeBase + \"//sde.SDE.Planning//sde.SDE.LocalPlan\"\n",
    "# towncenter = sdeBase + \"//sde.SDE.Planning//sde.SDE.TownCenter\"\n",
    "\n",
    "# impervious datasets\n",
    "newImp = os.path.join(workspace, \"Impervious_2018_2019\")\n",
    "oldImp = os.path.join(workspace, \"Impervious_2010_Cleaned\")\n",
    "\n",
    "# impervious = sdeBase + \"//sde.SDE.Tahoe_Impervious_2010//sde.SDE.Impervious_2010\"\n",
    "\n",
    "# current parcels\n",
    "parcels = sdeBase + \"//sde.SDE.Parcels//sde.SDE.Parcel_Master\"\n",
    "\n",
    "# tables\n",
    "# outTableImpervious = \"id_NRCS_LocalPlan_TownCenter_Impervious.csv\"\n",
    "outTableParcel = \"id_NRCS_LocalPlan_Impervious_Parcel.csv\"\n",
    "outLocation = r\"F:/Research and Analysis/Reporting/Annual Reports/2017 Annual Report/2017-Annual-Report_Data/Coverage/rawdata\"\n",
    "fgdb = \"F:\\\\Research and Analysis\\\\Reporting\\\\Annual Reports\\\\2017 Annual Report\\\\2017-Annual-Report_Data\\\\Coverage\\\\rawdata\\\\Coverage.gdb\"\n",
    "\n",
    "# output feature classes\n",
    "id_NRCS_LocalPlan = \"in_memory/id_NRCS_LocalPlan\"\n",
    "# id_NRCS_LocalPlan_TownCenter = \"in_memory/id_NRCS_LocalPlan_TownCenter\"\n",
    "id_NRCS_LocalPlan_Impervious = \"in_memory/id_NRCS_LocalPlan_Impervious\"\n",
    "id_NRCS_LocalPlan_Impervious_Parcel = fgdb + \"/id_NRCS_LocalPlan_Impervious_Parcel\"\n",
    "\n",
    "# delete in memory feature classes\n",
    "if arcpy.Exists(\"in_memory/id_NRCS_LocalPlan\"):\n",
    "    print(\"Deleting: in_memory/id_NRCS_LocalPlan\")\n",
    "    arcpy.Delete_management(\"in_memory/id_NRCS_LocalPlan\")\n",
    "\n",
    "# if arcpy.Exists(\"in_memory/id_NRCS_LocalPlan_TownCenter\"):\n",
    "#     print(\"Deleting: in_memory/id_NRCS_LocalPlan_TownCenter\")\n",
    "#     arcpy.Delete_management(\"in_memory/id_NRCS_LocalPlan_TownCenter\")\n",
    "    \n",
    "if arcpy.Exists(\"in_memory/id_NRCS_LocalPlan_Impervious\"):\n",
    "    print(\"Deleting: in_memory/id_NRCS_LocalPlan_Impervious\")\n",
    "    arcpy.Delete_management(\"in_memory/id_NRCS_LocalPlan_Impervious\")\n",
    "    \n",
    "if arcpy.Exists(fgdb + \"//\" + \"id_NRCS_LocalPlan_Impervious_Parcel\"):\n",
    "    print(\"Deleting: id_NRCS_LocalPlan_Impervious_Parcel\")\n",
    "    arcpy.Delete_management(fgdb + \"//\" + \"id_NRCS_LocalPlan_Impervious_Parcel\")\n",
    "\n",
    "# identify land capability/local plan \n",
    "print(\"Identifying Soils with Local Plan...\")\n",
    "arcpy.Identity_analysis(soils, localplan, id_NRCS_LocalPlan)\n",
    "\n",
    "# # identify land capability/local plan/town center\n",
    "# print(\"Identifying Soils and Local Plan with Town Center...\")\n",
    "# arcpy.Identity_analysis(id_NRCS_LocalPlan, towncenter, id_NRCS_LocalPlan_TownCenter)\n",
    "\n",
    "# identify land capability/local plan/impervious\n",
    "print(\"Identifying Soils,and Local Plan with Impervious Surfaces...\")\n",
    "arcpy.Identity_analysis(id_NRCS_LocalPlan, impervious, id_NRCS_LocalPlan_Impervious)\n",
    "\n",
    "## Export Table without Parcels baked in:\n",
    "\n",
    "# # calculate acres\n",
    "# with arcpy.da.UpdateCursor(id_NRCS_LocalPlan_TownCenter_Impervious, ['GISAcre', 'SHAPE@']) as cursor:\n",
    "#     for row in cursor:\n",
    "#         row[0] = row[1].getArea('GEODESIC', 'ACRES')\n",
    "#         cursor.updateRow(row)\n",
    "\n",
    "# # delete table if it exists\n",
    "# if arcpy.Exists(os.path.join(outLocation,outTableTownCenterImpervious)):\n",
    "#     arcpy.Delete_management(os.path.join(outLocation,outTableTownCenterImpervious))\n",
    "    \n",
    "# # Execute Table To Table\n",
    "# arcpy.TableToTable_conversion(id_NRCS_LocalPlan_Impervious, outLocation, outTableImpervious)\n",
    "\n",
    "# # success?\n",
    "# print(\"Table {0} created\".format(outTableImpervious))\n",
    "\n",
    "# identify land capability/local plan/impervious/parcel master\n",
    "print(\"Identifying Soils,Local Plan, and Impervious Surfaces with Parcels...\")\n",
    "arcpy.Identity_analysis(id_NRCS_LocalPlan_Impervious, parcels, id_NRCS_LocalPlan_Impervious_Parcel)\n",
    "\n",
    "# calculate acres\n",
    "print(\"Calculating Acres...\")\n",
    "with arcpy.da.UpdateCursor(id_NRCS_LocalPlan_Impervious_Parcel, ['GISAcre', 'SHAPE@']) as cursor:\n",
    "    for row in cursor:\n",
    "        row[0] = row[1].getArea('GEODESIC', 'ACRES')\n",
    "        cursor.updateRow(row)\n",
    "\n",
    "# delete table if it already exists\n",
    "print(\"Deleting Old Table...\")\n",
    "if arcpy.Exists(os.path.join(outLocation,outTableParcel)):\n",
    "    arcpy.Delete_management(os.path.join(outLocation,outTableParcel))\n",
    "\n",
    "# Execute Table To Table\n",
    "print(\"Exporting New Table...\")\n",
    "arcpy.TableToTable_conversion(id_NRCS_LocalPlan_Impervious_Parcel, outLocation, outTableParcel)\n",
    "\n",
    "# success?\n",
    "print(\"Table {0} created\".format(outTableParcel))"
   ]
  },
  {
   "cell_type": "markdown",
   "metadata": {
    "hidden": true
   },
   "source": [
    "### References\n",
    "#### https://pro.arcgis.com/en/pro-app/tool-reference/analysis/identity.htm\n",
    "#### https://pro.arcgis.com/en/pro-app/arcpy/functions/exists.htm\n",
    "#### https://pro.arcgis.com/en/pro-app/arcpy/data-access/updatecursor-class.htm\n",
    "#### https://pro.arcgis.com/en/pro-app/tool-reference/conversion/table-to-table.htm"
   ]
  }
 ],
 "metadata": {
  "kernelspec": {
   "display_name": "Python 3",
   "language": "python",
   "name": "python3"
  },
  "language_info": {
   "codemirror_mode": {
    "name": "ipython",
    "version": 3
   },
   "file_extension": ".py",
   "mimetype": "text/x-python",
   "name": "python",
   "nbconvert_exporter": "python",
   "pygments_lexer": "ipython3",
   "version": "3.6.9"
  },
  "toc": {
   "base_numbering": 1,
   "nav_menu": {},
   "number_sections": true,
   "sideBar": true,
   "skip_h1_title": false,
   "title_cell": "Table of Contents",
   "title_sidebar": "Contents",
   "toc_cell": false,
   "toc_position": {},
   "toc_section_display": true,
   "toc_window_display": false
  },
  "varInspector": {
   "cols": {
    "lenName": 16,
    "lenType": 16,
    "lenVar": 40
   },
   "kernels_config": {
    "python": {
     "delete_cmd_postfix": "",
     "delete_cmd_prefix": "del ",
     "library": "var_list.py",
     "varRefreshCmd": "print(var_dic_list())"
    },
    "r": {
     "delete_cmd_postfix": ") ",
     "delete_cmd_prefix": "rm(",
     "library": "var_list.r",
     "varRefreshCmd": "cat(var_dic_list()) "
    }
   },
   "types_to_exclude": [
    "module",
    "function",
    "builtin_function_or_method",
    "instance",
    "_Feature"
   ],
   "window_display": false
  }
 },
 "nbformat": 4,
 "nbformat_minor": 2
}
