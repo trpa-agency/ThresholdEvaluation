{
 "cells": [
  {
   "cell_type": "code",
   "execution_count": null,
   "metadata": {},
   "outputs": [],
   "source": [
    "import pandas as pd\n",
    "import pathlib"
   ]
  },
  {
   "cell_type": "code",
   "execution_count": null,
   "metadata": {},
   "outputs": [],
   "source": [
    "# current working directory\n",
    "local_path = pathlib.Path().absolute()\n",
    "# set data path as a subfolder of the current working directory TravelDemandModel\\2022\\\n",
    "data_dir = local_path.parents[0] / 'data/raw_data'\n",
    "# folder to save processed data\n",
    "out_dir  = local_path.parents[0] / 'data/processed_data'"
   ]
  },
  {
   "cell_type": "code",
   "execution_count": null,
   "metadata": {},
   "outputs": [],
   "source": [
    "# read csv file from data folder or F:\\Research and Analysis\\Water Quality Monitoring Program\\Tributaries_LTIMP\\Data and Summaries\\WY23\\wy23_tribThresholds.xlsx\n",
    "xls = local_path.parents[0] / '2023/data/raw_data/wy23_tribThresholds.xlsx'\n",
    "df = pd.read_excel(xls, sheet_name='WY_summary_mean')\n",
    "# drop columns 'station_nm', 'MonitoringLocationIdentifier'\n",
    "df = df.drop(columns=['station_nm', 'MonitoringLocationIdentifier'])\n",
    "\n",
    "# get mean of all sites by year\n",
    "df = df.groupby('WaterYear').mean().reset_index()"
   ]
  },
  {
   "cell_type": "code",
   "execution_count": null,
   "metadata": {},
   "outputs": [],
   "source": [
    "# read csv\n",
    "df = pd.read_excel(\"F:\\Research and Analysis\\Water Quality Monitoring Program\\Tributaries_LTIMP\\Data and Summaries\\WY23\\wy23_tribThresholds.xlsx\")\n",
    "dfSS = df.groupby(\"WaterYear\")[\"SSC\"].mean().reset_index()\n",
    "dfCount = df.groupby(\"WaterYear\")[\"SSC\"].count().reset_index()\n",
    "df = dfSS.merge(dfCount, on=\"WaterYear\")\n",
    "# rename columns\n",
    "df.columns = [\"Water Year\", \"Average SSC (mg/L)\", \"Number of Samples\"]\n",
    "df"
   ]
  },
  {
   "cell_type": "code",
   "execution_count": null,
   "metadata": {},
   "outputs": [],
   "source": [
    "# read csv\n",
    "df = pd.read_excel(\"F:\\Research and Analysis\\Water Quality Monitoring Program\\Tributaries_LTIMP\\Data and Summaries\\WY23\\wy23_tribThresholds.xlsx\")\n",
    "# get average values of TN column\n",
    "dfTN = df.groupby(\"WaterYear\")[\"TN\"].mean().reset_index()\n",
    "# get number of samples per year\n",
    "dfCount = df.groupby(\"WaterYear\")[\"TN\"].count().reset_index()\n",
    "\n",
    "# make new dataframe with average TN and number of samples\n",
    "df = dfTN.merge(dfCount, on=\"WaterYear\")\n",
    "# rename columns\n",
    "df.columns = [\"Water Year\", \"Average TN\", \"Number of Samples\"]\n",
    "df"
   ]
  },
  {
   "cell_type": "code",
   "execution_count": null,
   "metadata": {},
   "outputs": [],
   "source": [
    "# read csv\n",
    "df = pd.read_excel(\"F:\\Research and Analysis\\Water Quality Monitoring Program\\Tributaries_LTIMP\\Data and Summaries\\WY23\\wy1970_2023\\wy_70_wy23_tribThresholds.xlsx\")\n",
    "columns = ['SSC', 'TN', 'NO3', 'TP', 'OP', 'TKN', 'vFSP', 'FSP']\n",
    "column_names_dict = {'Site': 'Site',\n",
    "                     'WaterYear': 'WaterYear',\n",
    "                     'SSC': 'Suspened Sediment Concentration (mg/L)',\n",
    "                     'TN': 'Total Nitrogen (mg/L)',\n",
    "                     'NO3': 'Nitrate (mg/L)',\n",
    "                     'TP': 'Total Phosphorus (mg/L)',\n",
    "                     'OP': 'Organic Phosphorus (mg/L)',\n",
    "                     'TKN': 'Total Kjeldahl Nitrogen (mg/L)',\n",
    "                     'vFSP': 'vFSP (mg/L)',\n",
    "                     'FSP': 'Fine Sediment Particles (mg/L)'}\n",
    "# get Water Year averages of SSC, TN, NO3, TP, OP, TKN, vFSP, and FSP for all sites\n",
    "# df = df.rename(columns=column_names_dict)\n",
    "df.drop(['MonitoringLocationIdentifier', 'ActivityStartDateTime'], axis=1, inplace=True)\n",
    "# columns = ['Suspended Sediment Concentration (mg/L)', 'Total Nitrogen (mg/L)', 'Nitrate (mg/L)', 'Total Phosphorus (mg/L)', 'Organic Phosphorus (mg/L)', 'Total Kjeldahl Nitrogen (mg/L)', 'vFSP (mg/L)', 'Fine Sediment Particles (mg/L)']\n",
    "\n",
    "# melt the dataframe to long format and get the mean for the water year\n",
    "df = df.melt(id_vars=['station_nm', 'WaterYear'], var_name='Indicator', value_name='Concentration')\n",
    "\n",
    "# get the mean for the water year\n",
    "df = df.groupby(['station_nm', 'WaterYear', 'Indicator']).mean().reset_index()\n",
    "\n",
    "# drop station_nm\n",
    "df.drop('station_nm', axis=1, inplace=True)\n",
    "\n",
    "# get the mean for the water year of all sites by indicator\n",
    "df = df.groupby(['WaterYear', 'Indicator']).mean().reset_index()\n",
    "df.to_csv(\"data\")"
   ]
  }
 ],
 "metadata": {
  "kernelspec": {
   "display_name": "Python 3",
   "language": "python",
   "name": "python3"
  },
  "language_info": {
   "codemirror_mode": {
    "name": "ipython",
    "version": 3
   },
   "file_extension": ".py",
   "mimetype": "text/x-python",
   "name": "python",
   "nbconvert_exporter": "python",
   "pygments_lexer": "ipython3",
   "version": "3.11.8"
  }
 },
 "nbformat": 4,
 "nbformat_minor": 2
}
