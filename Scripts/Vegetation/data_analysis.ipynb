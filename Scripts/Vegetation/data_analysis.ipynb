{
 "cells": [
  {
   "cell_type": "code",
   "execution_count": 145,
   "metadata": {},
   "outputs": [],
   "source": [
    "import pathlib\n",
    "import pandas as pd\n",
    "import sys\n",
    "import arcpy\n",
    "import plotly.express as px\n",
    "import plotly.graph_objects as go\n",
    "import numpy as np\n",
    "\n",
    "# get local path directory\n",
    "localpath = pathlib.Path.cwd()\n",
    "module_path = localpath.parent / '2023'\n",
    "# # adding Scripts/2023 to system path to find utils.py\n",
    "sys.path.insert(0, str(module_path))\n",
    "from utils import *"
   ]
  },
  {
   "cell_type": "code",
   "execution_count": 49,
   "metadata": {},
   "outputs": [],
   "source": [
    "# get 2010 Ecobject data\n",
    "def get_ecobject_2010_data():\n",
    "    # make sql database connection with pyodbc\n",
    "    engine = get_conn('sde_tabular')\n",
    "    # get dataframe from BMP SQL Database\n",
    "    with engine.begin() as conn:\n",
    "        # create dataframe from sql query\n",
    "        df = pd.read_sql(\"SELECT * FROM sde_tabular.SDE.Vegetation_EcObject_2010\", conn)\n",
    "    return df\n",
    "# get identity data of 2010 Ecobject data overlayed with Caldor Burn Severity\n",
    "def get_ecobject_caldor_identity_data():\n",
    "    # make sql database connection with pyodbc\n",
    "    engine = get_conn('sde_tabular')\n",
    "    # get dataframe from BMP SQL Database\n",
    "    with engine.begin() as conn:\n",
    "        # create dataframe from sql query\n",
    "        df = pd.read_sql(\"SELECT * FROM sde_tabular.SDE.ThresholdEvaluation_Vegetation_ID_Ecobejct2010_CaldorVegBurnSeverity\", conn)\n",
    "    # columns to keep\n",
    "    columns_to_keep = ['SpatialVar', 'Ownership', 'Development',\n",
    "                    'WHRTYPE', 'Acres','QMD','Elev_Ft', 'SeralStage', \n",
    "                    'TRPA_VegType','gridcode','FID_CaldorBurnSeverity']\n",
    "    # filter out columns\n",
    "    df = df[columns_to_keep]\n",
    "    # filter out Development\n",
    "    df = df[df['Development'] =='Undeveloped']\n",
    "    return df"
   ]
  },
  {
   "cell_type": "code",
   "execution_count": null,
   "metadata": {},
   "outputs": [],
   "source": [
    "## Spatial Analysis to get Ecobject 2010 data \n",
    "## overlayed with Caldor Vegetation Burn Severity\n",
    "\n",
    "# get moderate and high severity from Caldor Vegetation Burn Severity\n",
    "arcpy.management.SelectLayerByAttribute(\n",
    "    in_layer_or_view=\"CaldorBurnSeverity\",\n",
    "    selection_type=\"NEW_SELECTION\",\n",
    "    where_clause=\"gridcode IN (3, 4)\",\n",
    "    invert_where_clause=None\n",
    ")\n",
    "# overlay 2010 Ecobject data with Caldor Burn Severity\n",
    "arcpy.analysis.Identity(\n",
    "    in_features=\"Vegetation - Ecobject 2010\",\n",
    "    identity_features=\"CaldorBurnSeverity selection\",\n",
    "    out_feature_class=r\"C:\\GIS\\Scratch.gdb\\Identity_Ecobject2010_CaldorVegBurnModerateHigh\",\n",
    "    join_attributes=\"ALL\",\n",
    "    cluster_tolerance=None,\n",
    "    relationship=\"NO_RELATIONSHIPS\"\n",
    ")\n",
    "# calculate acres for each TRPA_VegType, gridcode, SeralStage\n",
    "arcpy.management.CalculateField(\n",
    "    in_table=\"Identity_Ecobject2010_CaldorVegBurnModerateHigh\",\n",
    "    field=\"Acres\",\n",
    "    expression=\"!Shape_Area@ACRES!\",\n",
    "    expression_type=\"PYTHON3\",\n",
    "    code_block=None\n",
    ")\n",
    "# export to csv\n",
    "arcpy.conversion.TableToTable(\n",
    "    in_rows=\"Identity_Ecobject2010_CaldorVegBurnModerateHigh\",\n",
    "    out_name=r\"C:\\GIS\\Scratch.gdb\",\n",
    "    out_location=r\"C:\\GIS\\Scratch.gdb\"\n",
    ")"
   ]
  },
  {
   "cell_type": "code",
   "execution_count": 51,
   "metadata": {},
   "outputs": [],
   "source": [
    "# data frame of 2010 Ecobject data \n",
    "# with Caldor Vegetation Burn Severity attributes\n",
    "dfVeg = get_ecobject_caldor_identity_data()\n"
   ]
  },
  {
   "cell_type": "code",
   "execution_count": 131,
   "metadata": {},
   "outputs": [],
   "source": [
    "# pivot Acres in df to get the sum of Acres for TRPA_VegType, gridcode, SeralStage\n",
    "dfVegType      = dfVeg.pivot_table(index=['TRPA_VegType'], values='Acres', aggfunc='sum').reset_index().round(1)\n",
    "dfVegSeralBurn = dfVeg.pivot_table(index=['TRPA_VegType'], columns=['gridcode', 'SeralStage'], values='Acres', aggfunc='sum').reset_index().round(1)\n",
    "dfVegSeral     = dfVeg.pivot_table(index=['TRPA_VegType'], columns=['SeralStage'], values='Acres', aggfunc='sum').reset_index().round(1)\n",
    "dfVegHHBurn    = dfVeg.pivot_table(index=['TRPA_VegType'], columns=['gridcode', 'SpatialVar'], values='Acres', aggfunc='sum').reset_index().round(1)\n",
    "dfVegHH        = dfVeg.pivot_table(index=['TRPA_VegType'], columns=['SpatialVar'], values='Acres', aggfunc='sum').reset_index().round(1)\n",
    "dfVegBurn      = dfVeg.pivot_table(index=['TRPA_VegType'], columns=['gridcode'], values='Acres', aggfunc='sum').reset_index().round(1)"
   ]
  },
  {
   "cell_type": "code",
   "execution_count": 142,
   "metadata": {},
   "outputs": [],
   "source": [
    "dfVegType.rename(columns={'TRPA_VegType':\"Vegetation Type\"}, inplace=True)\n",
    "dfVegType.to_csv(localpath.parent / '2023/data/processed_data/Ecobject_VegetationSummary.csv', index=False)\n",
    "dfVegHH.rename(columns={'TRPA_VegType':\"Vegetation Type\"}, inplace=True)\n",
    "dfVegHH.fillna(0, inplace=True)\n",
    "dfVegHH.to_csv(localpath.parent / '2023/data/processed_data/Ecobject_HorizontalHeterogeneitySummary.csv', index=False)\n",
    "dfVegSeral.rename(columns={'TRPA_VegType':\"Vegetation Type\"}, inplace=True)\n",
    "dfVegSeral.fillna(0, inplace=True)\n",
    "dfVegSeral.to_csv(localpath.parent / '2023/data/processed_data/Ecobject_SeralStageSummary.csv', index=False)"
   ]
  },
  {
   "cell_type": "code",
   "execution_count": 91,
   "metadata": {},
   "outputs": [],
   "source": [
    "# sum Columns 3 and 4 to get Total_Burned\n",
    "dfVegBurn['Total_Burned'] = dfVegBurn[3] + dfVegBurn[4]\n",
    "# rename columns \n",
    "dfVegBurn.rename(columns={'TRPA_VegType':\"Vegetation Type\", 0:'Unburned',3:'Moderate', 4:'High'}, inplace=True)\n",
    "dfVegType.rename(columns={'TRPA_VegType':\"Vegetation Type\"}, inplace=True)\n",
    "# merge dataframes\n",
    "dfNewVegSummary = pd.merge(dfVegType, dfVegBurn, on='Vegetation Type', how='left')\n",
    "# fill NaN with 0\n",
    "dfNewVegSummary.fillna(0, inplace=True)\n",
    "# save to csv\n",
    "outcsv = localpath.parent / '2023/data/processed_data/Ecobject_CaldorBurnSeveritySummary.csv'\n",
    "dfNewVegSummary.to_csv(outcsv, index=False)"
   ]
  },
  {
   "cell_type": "code",
   "execution_count": 120,
   "metadata": {},
   "outputs": [],
   "source": [
    "dfVegSeralBurn = dfVeg.pivot_table(index=['TRPA_VegType'], columns=['gridcode','SeralStage'], values='Acres', aggfunc='sum').reset_index().round(1)\n",
    "df = dfVegSeralBurn\n",
    "# rename columns\n",
    "df.rename(columns={'TRPA_VegType':\"Vegetation Type\", 0:'Unburned',3:'Moderate', 4:'High'}, inplace=True)\n",
    "# fill NaN with 0\n",
    "df.fillna(0, inplace=True)\n",
    "#\n",
    "# flatten columns\n",
    "df.columns = [' '.join(col).strip() for col in df.columns.values]\n",
    "# combine open and closed canopy columns\n",
    "df['Unburned Early Seral'] = df['Unburned Early Seral Closed'] + df['Unburned Early Seral Open']\n",
    "df['Unburned Mid Seral'] = df['Unburned Mid Seral Closed'] + df['Unburned Mid Seral Open']\n",
    "df['Unburned Late Seral'] = df['Unburned Late Seral Closed'] + df['Unburned Late Seral Open']\n",
    "df['Moderate Severity Early Seral'] = df['Moderate Early Seral Closed'] + df['Moderate Early Seral Open']\n",
    "df['Moderate Severity Mid Seral'] = df['Moderate Mid Seral Closed'] + df['Moderate Mid Seral Open']\n",
    "df['Moderate Severity Late Seral'] = df['Moderate Late Seral Closed'] + df['Moderate Late Seral Open']\n",
    "df['High Severity Early Seral'] = df['High Early Seral Closed'] + df['High Early Seral Open']\n",
    "df['High Severity Mid Seral'] = df['High Mid Seral Closed'] + df['High Mid Seral Open']\n",
    "df['High Severity Late Seral'] = df['High Late Seral Closed'] + df['High Late Seral Open']\n",
    "\n",
    "# columns to keep\n",
    "columns_to_keep = ['Vegetation Type',\n",
    "                   'Moderate Severity Early Seral','Moderate Severity Mid Seral','Moderate Severity Late Seral',\n",
    "                   'High Severity Early Seral','High Severity Mid Seral','High Severity Late Seral', \n",
    "                   'Moderate N/A', 'High N/A' ]\n",
    "\n",
    "# filter to Red Fir Forest and Yellow Pine Forest\n",
    "# df = df[df['Vegetation Type'].isin(['Red Fir Forest','Yellow Pine Forest'])]\n",
    "df = df[columns_to_keep]\n",
    "\n",
    "df.to_csv(localpath.parent / '2023/data/processed_data/Ecobject_CaldorBurnSeverity_SeralStageSummary.csv', index=False)"
   ]
  },
  {
   "cell_type": "code",
   "execution_count": 132,
   "metadata": {},
   "outputs": [],
   "source": [
    "dfVegHHBurn = dfVeg.pivot_table(index=['TRPA_VegType'], columns=['gridcode', 'SpatialVar'], values='Acres', aggfunc='sum').reset_index().round(1)\n",
    "df = dfVegHHBurn\n",
    "# rename columns\n",
    "df.rename(columns={'TRPA_VegType':\"Vegetation Type\", 0:'Unburned',3:'Moderate', 4:'High'}, inplace=True)\n",
    "# fill NaN with 0\n",
    "df.fillna(0, inplace=True)\n",
    "# columns to keep\n",
    "columns_to_keep = ['Vegetation Type', 'Moderate Clump',\n",
    " 'Moderate Dense Clump',\n",
    " 'Moderate Individual',\n",
    " 'Moderate Open',\n",
    " 'Moderate Scattered Clump',\n",
    " 'Moderate Sparse',\n",
    " 'Moderate Stand Initiation',\n",
    " 'Moderate water',\n",
    " 'High Clump',\n",
    " 'High Dense Clump',\n",
    " 'High Individual',\n",
    " 'High Open',\n",
    " 'High Scattered Clump',\n",
    " 'High Sparse',\n",
    " 'High Stand Initiation']\n",
    "# flatten columns\n",
    "df.columns = [' '.join(col).strip() for col in df.columns.values]\n",
    "\n",
    "# filter to Red Fir Forest and Yellow Pine Forest\n",
    "# df = df[df['Vegetation Type'].isin(['Red Fir Forest','Yellow Pine Forest'])]\n",
    "df = df[columns_to_keep]\n",
    "df.to_csv(localpath.parent / '2023/data/processed_data/Ecobject_CaldorBurnSeverity_HorizontalHeterogeneity.csv', index=False)"
   ]
  },
  {
   "cell_type": "code",
   "execution_count": 147,
   "metadata": {},
   "outputs": [],
   "source": [
    "# set the template, font, and config for the charts\n",
    "template = 'plotly_white'\n",
    "font     = 'Calibri'\n",
    "config   = {\"displayModeBar\": False}\n"
   ]
  },
  {
   "cell_type": "code",
   "execution_count": 157,
   "metadata": {},
   "outputs": [
    {
     "data": {
      "application/vnd.plotly.v1+json": {
       "config": {
        "plotlyServerURL": "https://plot.ly"
       },
       "data": [
        {
         "alignmentgroup": "True",
         "customdata": [
          [
           97504.12936341,
           171438.19
          ]
         ],
         "hovertemplate": "<b>%{x:.1f}%</b><br>or <b>%{customdata[0]:,.0f}</b> acres<br>of the %{customdata[1]:,.0f} total acres<br>of undisturbed vegetation",
         "legendgroup": "Yellow Pine Forest",
         "marker": {
          "color": "lightslategray",
          "pattern": {
           "shape": ""
          }
         },
         "name": "",
         "offsetgroup": "Yellow Pine Forest",
         "orientation": "h",
         "showlegend": true,
         "textposition": "auto",
         "type": "bar",
         "x": [
          56.87421767775896
         ],
         "xaxis": "x",
         "y": [
          "Yellow Pine Forest"
         ],
         "yaxis": "y"
        },
        {
         "alignmentgroup": "True",
         "customdata": [
          [
           31556.47256434,
           171438.19
          ]
         ],
         "hovertemplate": "<b>%{x:.1f}%</b><br>or <b>%{customdata[0]:,.0f}</b> acres<br>of the %{customdata[1]:,.0f} total acres<br>of undisturbed vegetation",
         "legendgroup": "Red Fir Forest",
         "marker": {
          "color": "#ff0000",
          "pattern": {
           "shape": ""
          }
         },
         "name": "",
         "offsetgroup": "Red Fir Forest",
         "orientation": "h",
         "showlegend": true,
         "textposition": "auto",
         "type": "bar",
         "x": [
          18.40690954818177
         ],
         "xaxis": "x",
         "y": [
          "Red Fir Forest"
         ],
         "yaxis": "y"
        },
        {
         "alignmentgroup": "True",
         "customdata": [
          [
           18910.45195333,
           171438.19
          ]
         ],
         "hovertemplate": "<b>%{x:.1f}%</b><br>or <b>%{customdata[0]:,.0f}</b> acres<br>of the %{customdata[1]:,.0f} total acres<br>of undisturbed vegetation",
         "legendgroup": "Subalpine Forest",
         "marker": {
          "color": "lightslategray",
          "pattern": {
           "shape": ""
          }
         },
         "name": "",
         "offsetgroup": "Subalpine Forest",
         "orientation": "h",
         "showlegend": true,
         "textposition": "auto",
         "type": "bar",
         "x": [
          11.030478071035397
         ],
         "xaxis": "x",
         "y": [
          "Subalpine Forest"
         ],
         "yaxis": "y"
        },
        {
         "alignmentgroup": "True",
         "customdata": [
          [
           7537.73603174,
           171438.19
          ]
         ],
         "hovertemplate": "<b>%{x:.1f}%</b><br>or <b>%{customdata[0]:,.0f}</b> acres<br>of the %{customdata[1]:,.0f} total acres<br>of undisturbed vegetation",
         "legendgroup": "Shrub",
         "marker": {
          "color": "lightslategray",
          "pattern": {
           "shape": ""
          }
         },
         "name": "",
         "offsetgroup": "Shrub",
         "orientation": "h",
         "showlegend": true,
         "textposition": "auto",
         "type": "bar",
         "x": [
          4.3967659899699125
         ],
         "xaxis": "x",
         "y": [
          "Shrub"
         ],
         "yaxis": "y"
        },
        {
         "alignmentgroup": "True",
         "customdata": [
          [
           4301.43672596,
           171438.19
          ]
         ],
         "hovertemplate": "<b>%{x:.1f}%</b><br>or <b>%{customdata[0]:,.0f}</b> acres<br>of the %{customdata[1]:,.0f} total acres<br>of undisturbed vegetation",
         "legendgroup": "Cushion Plant",
         "marker": {
          "color": "lightslategray",
          "pattern": {
           "shape": ""
          }
         },
         "name": "",
         "offsetgroup": "Cushion Plant",
         "orientation": "h",
         "showlegend": true,
         "textposition": "auto",
         "type": "bar",
         "x": [
          2.5090306459488407
         ],
         "xaxis": "x",
         "y": [
          "Cushion Plant"
         ],
         "yaxis": "y"
        },
        {
         "alignmentgroup": "True",
         "customdata": [
          [
           3876.73336318,
           171438.19
          ]
         ],
         "hovertemplate": "<b>%{x:.1f}%</b><br>or <b>%{customdata[0]:,.0f}</b> acres<br>of the %{customdata[1]:,.0f} total acres<br>of undisturbed vegetation",
         "legendgroup": "Water",
         "marker": {
          "color": "lightslategray",
          "pattern": {
           "shape": ""
          }
         },
         "name": "",
         "offsetgroup": "Water",
         "orientation": "h",
         "showlegend": true,
         "textposition": "auto",
         "type": "bar",
         "x": [
          2.261300917362695
         ],
         "xaxis": "x",
         "y": [
          "Water"
         ],
         "yaxis": "y"
        },
        {
         "alignmentgroup": "True",
         "customdata": [
          [
           2241.58957494,
           171438.19
          ]
         ],
         "hovertemplate": "<b>%{x:.1f}%</b><br>or <b>%{customdata[0]:,.0f}</b> acres<br>of the %{customdata[1]:,.0f} total acres<br>of undisturbed vegetation",
         "legendgroup": "Meadow",
         "marker": {
          "color": "lightslategray",
          "pattern": {
           "shape": ""
          }
         },
         "name": "",
         "offsetgroup": "Meadow",
         "orientation": "h",
         "showlegend": true,
         "textposition": "auto",
         "type": "bar",
         "x": [
          1.3075205559158085
         ],
         "xaxis": "x",
         "y": [
          "Meadow"
         ],
         "yaxis": "y"
        },
        {
         "alignmentgroup": "True",
         "customdata": [
          [
           2228.02720392,
           171438.19
          ]
         ],
         "hovertemplate": "<b>%{x:.1f}%</b><br>or <b>%{customdata[0]:,.0f}</b> acres<br>of the %{customdata[1]:,.0f} total acres<br>of undisturbed vegetation",
         "legendgroup": "Deciduous Riparian",
         "marker": {
          "color": "lightslategray",
          "pattern": {
           "shape": ""
          }
         },
         "name": "",
         "offsetgroup": "Deciduous Riparian",
         "orientation": "h",
         "showlegend": true,
         "textposition": "auto",
         "type": "bar",
         "x": [
          1.2996096166904234
         ],
         "xaxis": "x",
         "y": [
          "Deciduous Riparian"
         ],
         "yaxis": "y"
        },
        {
         "alignmentgroup": "True",
         "customdata": [
          [
           1322.36068534,
           171438.19
          ]
         ],
         "hovertemplate": "<b>%{x:.1f}%</b><br>or <b>%{customdata[0]:,.0f}</b> acres<br>of the %{customdata[1]:,.0f} total acres<br>of undisturbed vegetation",
         "legendgroup": "Wetland",
         "marker": {
          "color": "lightslategray",
          "pattern": {
           "shape": ""
          }
         },
         "name": "",
         "offsetgroup": "Wetland",
         "orientation": "h",
         "showlegend": true,
         "textposition": "auto",
         "type": "bar",
         "x": [
          0.771333788195034
         ],
         "xaxis": "x",
         "y": [
          "Wetland"
         ],
         "yaxis": "y"
        },
        {
         "alignmentgroup": "True",
         "customdata": [
          [
           1057.50445468,
           171438.19
          ]
         ],
         "hovertemplate": "<b>%{x:.1f}%</b><br>or <b>%{customdata[0]:,.0f}</b> acres<br>of the %{customdata[1]:,.0f} total acres<br>of undisturbed vegetation",
         "legendgroup": "Sagebrush Scrub",
         "marker": {
          "color": "lightslategray",
          "pattern": {
           "shape": ""
          }
         },
         "name": "",
         "offsetgroup": "Sagebrush Scrub",
         "orientation": "h",
         "showlegend": true,
         "textposition": "auto",
         "type": "bar",
         "x": [
          0.6168429885313185
         ],
         "xaxis": "x",
         "y": [
          "Sagebrush Scrub"
         ],
         "yaxis": "y"
        },
        {
         "alignmentgroup": "True",
         "customdata": [
          [
           859.49616678,
           171438.19
          ]
         ],
         "hovertemplate": "<b>%{x:.1f}%</b><br>or <b>%{customdata[0]:,.0f}</b> acres<br>of the %{customdata[1]:,.0f} total acres<br>of undisturbed vegetation",
         "legendgroup": "",
         "marker": {
          "color": "lightslategray",
          "pattern": {
           "shape": ""
          }
         },
         "name": "",
         "offsetgroup": "",
         "orientation": "h",
         "showlegend": false,
         "textposition": "auto",
         "type": "bar",
         "x": [
          0.5013446343431414
         ],
         "xaxis": "x",
         "y": [
          ""
         ],
         "yaxis": "y"
        },
        {
         "hovertemplate": "<b>%{x:,.1f}%</b><br>or <b>10,673</b> acres<br>of total undisturbed vegetation <br>is immature Red Fir forest<br>(QMD<11\")<extra></extra>",
         "marker": {
          "color": "#FF7F7F"
         },
         "name": "Red Fir Forest - QMD<11",
         "orientation": "h",
         "type": "bar",
         "x": [
          6.23
         ],
         "y": [
          "Red Fir Forest"
         ]
        },
        {
         "hovertemplate": "<b>%{x:,.1f}%</b><br>or <b>862</b> acres<br> of total undisturbed vegetation<br>was Red Fir forest that burned in the Caldor Fire<extra></extra>",
         "marker": {
          "color": "#000000"
         },
         "name": "Red Fir Forest - Burned in Caldor Fire",
         "orientation": "h",
         "type": "bar",
         "x": [
          0.5
         ],
         "y": [
          "Red Fir Forest"
         ]
        }
       ],
       "layout": {
        "barmode": "overlay",
        "font": {
         "family": "Calibri"
        },
        "hovermode": "y unified",
        "legend": {
         "title": {
          "text": ""
         },
         "tracegroupgap": 0
        },
        "margin": {
         "t": 60
        },
        "showlegend": false,
        "template": {
         "data": {
          "bar": [
           {
            "error_x": {
             "color": "#2a3f5f"
            },
            "error_y": {
             "color": "#2a3f5f"
            },
            "marker": {
             "line": {
              "color": "white",
              "width": 0.5
             },
             "pattern": {
              "fillmode": "overlay",
              "size": 10,
              "solidity": 0.2
             }
            },
            "type": "bar"
           }
          ],
          "barpolar": [
           {
            "marker": {
             "line": {
              "color": "white",
              "width": 0.5
             },
             "pattern": {
              "fillmode": "overlay",
              "size": 10,
              "solidity": 0.2
             }
            },
            "type": "barpolar"
           }
          ],
          "carpet": [
           {
            "aaxis": {
             "endlinecolor": "#2a3f5f",
             "gridcolor": "#C8D4E3",
             "linecolor": "#C8D4E3",
             "minorgridcolor": "#C8D4E3",
             "startlinecolor": "#2a3f5f"
            },
            "baxis": {
             "endlinecolor": "#2a3f5f",
             "gridcolor": "#C8D4E3",
             "linecolor": "#C8D4E3",
             "minorgridcolor": "#C8D4E3",
             "startlinecolor": "#2a3f5f"
            },
            "type": "carpet"
           }
          ],
          "choropleth": [
           {
            "colorbar": {
             "outlinewidth": 0,
             "ticks": ""
            },
            "type": "choropleth"
           }
          ],
          "contour": [
           {
            "colorbar": {
             "outlinewidth": 0,
             "ticks": ""
            },
            "colorscale": [
             [
              0,
              "#0d0887"
             ],
             [
              0.1111111111111111,
              "#46039f"
             ],
             [
              0.2222222222222222,
              "#7201a8"
             ],
             [
              0.3333333333333333,
              "#9c179e"
             ],
             [
              0.4444444444444444,
              "#bd3786"
             ],
             [
              0.5555555555555556,
              "#d8576b"
             ],
             [
              0.6666666666666666,
              "#ed7953"
             ],
             [
              0.7777777777777778,
              "#fb9f3a"
             ],
             [
              0.8888888888888888,
              "#fdca26"
             ],
             [
              1,
              "#f0f921"
             ]
            ],
            "type": "contour"
           }
          ],
          "contourcarpet": [
           {
            "colorbar": {
             "outlinewidth": 0,
             "ticks": ""
            },
            "type": "contourcarpet"
           }
          ],
          "heatmap": [
           {
            "colorbar": {
             "outlinewidth": 0,
             "ticks": ""
            },
            "colorscale": [
             [
              0,
              "#0d0887"
             ],
             [
              0.1111111111111111,
              "#46039f"
             ],
             [
              0.2222222222222222,
              "#7201a8"
             ],
             [
              0.3333333333333333,
              "#9c179e"
             ],
             [
              0.4444444444444444,
              "#bd3786"
             ],
             [
              0.5555555555555556,
              "#d8576b"
             ],
             [
              0.6666666666666666,
              "#ed7953"
             ],
             [
              0.7777777777777778,
              "#fb9f3a"
             ],
             [
              0.8888888888888888,
              "#fdca26"
             ],
             [
              1,
              "#f0f921"
             ]
            ],
            "type": "heatmap"
           }
          ],
          "heatmapgl": [
           {
            "colorbar": {
             "outlinewidth": 0,
             "ticks": ""
            },
            "colorscale": [
             [
              0,
              "#0d0887"
             ],
             [
              0.1111111111111111,
              "#46039f"
             ],
             [
              0.2222222222222222,
              "#7201a8"
             ],
             [
              0.3333333333333333,
              "#9c179e"
             ],
             [
              0.4444444444444444,
              "#bd3786"
             ],
             [
              0.5555555555555556,
              "#d8576b"
             ],
             [
              0.6666666666666666,
              "#ed7953"
             ],
             [
              0.7777777777777778,
              "#fb9f3a"
             ],
             [
              0.8888888888888888,
              "#fdca26"
             ],
             [
              1,
              "#f0f921"
             ]
            ],
            "type": "heatmapgl"
           }
          ],
          "histogram": [
           {
            "marker": {
             "pattern": {
              "fillmode": "overlay",
              "size": 10,
              "solidity": 0.2
             }
            },
            "type": "histogram"
           }
          ],
          "histogram2d": [
           {
            "colorbar": {
             "outlinewidth": 0,
             "ticks": ""
            },
            "colorscale": [
             [
              0,
              "#0d0887"
             ],
             [
              0.1111111111111111,
              "#46039f"
             ],
             [
              0.2222222222222222,
              "#7201a8"
             ],
             [
              0.3333333333333333,
              "#9c179e"
             ],
             [
              0.4444444444444444,
              "#bd3786"
             ],
             [
              0.5555555555555556,
              "#d8576b"
             ],
             [
              0.6666666666666666,
              "#ed7953"
             ],
             [
              0.7777777777777778,
              "#fb9f3a"
             ],
             [
              0.8888888888888888,
              "#fdca26"
             ],
             [
              1,
              "#f0f921"
             ]
            ],
            "type": "histogram2d"
           }
          ],
          "histogram2dcontour": [
           {
            "colorbar": {
             "outlinewidth": 0,
             "ticks": ""
            },
            "colorscale": [
             [
              0,
              "#0d0887"
             ],
             [
              0.1111111111111111,
              "#46039f"
             ],
             [
              0.2222222222222222,
              "#7201a8"
             ],
             [
              0.3333333333333333,
              "#9c179e"
             ],
             [
              0.4444444444444444,
              "#bd3786"
             ],
             [
              0.5555555555555556,
              "#d8576b"
             ],
             [
              0.6666666666666666,
              "#ed7953"
             ],
             [
              0.7777777777777778,
              "#fb9f3a"
             ],
             [
              0.8888888888888888,
              "#fdca26"
             ],
             [
              1,
              "#f0f921"
             ]
            ],
            "type": "histogram2dcontour"
           }
          ],
          "mesh3d": [
           {
            "colorbar": {
             "outlinewidth": 0,
             "ticks": ""
            },
            "type": "mesh3d"
           }
          ],
          "parcoords": [
           {
            "line": {
             "colorbar": {
              "outlinewidth": 0,
              "ticks": ""
             }
            },
            "type": "parcoords"
           }
          ],
          "pie": [
           {
            "automargin": true,
            "type": "pie"
           }
          ],
          "scatter": [
           {
            "fillpattern": {
             "fillmode": "overlay",
             "size": 10,
             "solidity": 0.2
            },
            "type": "scatter"
           }
          ],
          "scatter3d": [
           {
            "line": {
             "colorbar": {
              "outlinewidth": 0,
              "ticks": ""
             }
            },
            "marker": {
             "colorbar": {
              "outlinewidth": 0,
              "ticks": ""
             }
            },
            "type": "scatter3d"
           }
          ],
          "scattercarpet": [
           {
            "marker": {
             "colorbar": {
              "outlinewidth": 0,
              "ticks": ""
             }
            },
            "type": "scattercarpet"
           }
          ],
          "scattergeo": [
           {
            "marker": {
             "colorbar": {
              "outlinewidth": 0,
              "ticks": ""
             }
            },
            "type": "scattergeo"
           }
          ],
          "scattergl": [
           {
            "marker": {
             "colorbar": {
              "outlinewidth": 0,
              "ticks": ""
             }
            },
            "type": "scattergl"
           }
          ],
          "scattermapbox": [
           {
            "marker": {
             "colorbar": {
              "outlinewidth": 0,
              "ticks": ""
             }
            },
            "type": "scattermapbox"
           }
          ],
          "scatterpolar": [
           {
            "marker": {
             "colorbar": {
              "outlinewidth": 0,
              "ticks": ""
             }
            },
            "type": "scatterpolar"
           }
          ],
          "scatterpolargl": [
           {
            "marker": {
             "colorbar": {
              "outlinewidth": 0,
              "ticks": ""
             }
            },
            "type": "scatterpolargl"
           }
          ],
          "scatterternary": [
           {
            "marker": {
             "colorbar": {
              "outlinewidth": 0,
              "ticks": ""
             }
            },
            "type": "scatterternary"
           }
          ],
          "surface": [
           {
            "colorbar": {
             "outlinewidth": 0,
             "ticks": ""
            },
            "colorscale": [
             [
              0,
              "#0d0887"
             ],
             [
              0.1111111111111111,
              "#46039f"
             ],
             [
              0.2222222222222222,
              "#7201a8"
             ],
             [
              0.3333333333333333,
              "#9c179e"
             ],
             [
              0.4444444444444444,
              "#bd3786"
             ],
             [
              0.5555555555555556,
              "#d8576b"
             ],
             [
              0.6666666666666666,
              "#ed7953"
             ],
             [
              0.7777777777777778,
              "#fb9f3a"
             ],
             [
              0.8888888888888888,
              "#fdca26"
             ],
             [
              1,
              "#f0f921"
             ]
            ],
            "type": "surface"
           }
          ],
          "table": [
           {
            "cells": {
             "fill": {
              "color": "#EBF0F8"
             },
             "line": {
              "color": "white"
             }
            },
            "header": {
             "fill": {
              "color": "#C8D4E3"
             },
             "line": {
              "color": "white"
             }
            },
            "type": "table"
           }
          ]
         },
         "layout": {
          "annotationdefaults": {
           "arrowcolor": "#2a3f5f",
           "arrowhead": 0,
           "arrowwidth": 1
          },
          "autotypenumbers": "strict",
          "coloraxis": {
           "colorbar": {
            "outlinewidth": 0,
            "ticks": ""
           }
          },
          "colorscale": {
           "diverging": [
            [
             0,
             "#8e0152"
            ],
            [
             0.1,
             "#c51b7d"
            ],
            [
             0.2,
             "#de77ae"
            ],
            [
             0.3,
             "#f1b6da"
            ],
            [
             0.4,
             "#fde0ef"
            ],
            [
             0.5,
             "#f7f7f7"
            ],
            [
             0.6,
             "#e6f5d0"
            ],
            [
             0.7,
             "#b8e186"
            ],
            [
             0.8,
             "#7fbc41"
            ],
            [
             0.9,
             "#4d9221"
            ],
            [
             1,
             "#276419"
            ]
           ],
           "sequential": [
            [
             0,
             "#0d0887"
            ],
            [
             0.1111111111111111,
             "#46039f"
            ],
            [
             0.2222222222222222,
             "#7201a8"
            ],
            [
             0.3333333333333333,
             "#9c179e"
            ],
            [
             0.4444444444444444,
             "#bd3786"
            ],
            [
             0.5555555555555556,
             "#d8576b"
            ],
            [
             0.6666666666666666,
             "#ed7953"
            ],
            [
             0.7777777777777778,
             "#fb9f3a"
            ],
            [
             0.8888888888888888,
             "#fdca26"
            ],
            [
             1,
             "#f0f921"
            ]
           ],
           "sequentialminus": [
            [
             0,
             "#0d0887"
            ],
            [
             0.1111111111111111,
             "#46039f"
            ],
            [
             0.2222222222222222,
             "#7201a8"
            ],
            [
             0.3333333333333333,
             "#9c179e"
            ],
            [
             0.4444444444444444,
             "#bd3786"
            ],
            [
             0.5555555555555556,
             "#d8576b"
            ],
            [
             0.6666666666666666,
             "#ed7953"
            ],
            [
             0.7777777777777778,
             "#fb9f3a"
            ],
            [
             0.8888888888888888,
             "#fdca26"
            ],
            [
             1,
             "#f0f921"
            ]
           ]
          },
          "colorway": [
           "#636efa",
           "#EF553B",
           "#00cc96",
           "#ab63fa",
           "#FFA15A",
           "#19d3f3",
           "#FF6692",
           "#B6E880",
           "#FF97FF",
           "#FECB52"
          ],
          "font": {
           "color": "#2a3f5f"
          },
          "geo": {
           "bgcolor": "white",
           "lakecolor": "white",
           "landcolor": "white",
           "showlakes": true,
           "showland": true,
           "subunitcolor": "#C8D4E3"
          },
          "hoverlabel": {
           "align": "left"
          },
          "hovermode": "closest",
          "mapbox": {
           "style": "light"
          },
          "paper_bgcolor": "white",
          "plot_bgcolor": "white",
          "polar": {
           "angularaxis": {
            "gridcolor": "#EBF0F8",
            "linecolor": "#EBF0F8",
            "ticks": ""
           },
           "bgcolor": "white",
           "radialaxis": {
            "gridcolor": "#EBF0F8",
            "linecolor": "#EBF0F8",
            "ticks": ""
           }
          },
          "scene": {
           "xaxis": {
            "backgroundcolor": "white",
            "gridcolor": "#DFE8F3",
            "gridwidth": 2,
            "linecolor": "#EBF0F8",
            "showbackground": true,
            "ticks": "",
            "zerolinecolor": "#EBF0F8"
           },
           "yaxis": {
            "backgroundcolor": "white",
            "gridcolor": "#DFE8F3",
            "gridwidth": 2,
            "linecolor": "#EBF0F8",
            "showbackground": true,
            "ticks": "",
            "zerolinecolor": "#EBF0F8"
           },
           "zaxis": {
            "backgroundcolor": "white",
            "gridcolor": "#DFE8F3",
            "gridwidth": 2,
            "linecolor": "#EBF0F8",
            "showbackground": true,
            "ticks": "",
            "zerolinecolor": "#EBF0F8"
           }
          },
          "shapedefaults": {
           "line": {
            "color": "#2a3f5f"
           }
          },
          "ternary": {
           "aaxis": {
            "gridcolor": "#DFE8F3",
            "linecolor": "#A2B1C6",
            "ticks": ""
           },
           "baxis": {
            "gridcolor": "#DFE8F3",
            "linecolor": "#A2B1C6",
            "ticks": ""
           },
           "bgcolor": "white",
           "caxis": {
            "gridcolor": "#DFE8F3",
            "linecolor": "#A2B1C6",
            "ticks": ""
           }
          },
          "title": {
           "x": 0.05
          },
          "xaxis": {
           "automargin": true,
           "gridcolor": "#EBF0F8",
           "linecolor": "#EBF0F8",
           "ticks": "",
           "title": {
            "standoff": 15
           },
           "zerolinecolor": "#EBF0F8",
           "zerolinewidth": 2
          },
          "yaxis": {
           "automargin": true,
           "gridcolor": "#EBF0F8",
           "linecolor": "#EBF0F8",
           "ticks": "",
           "title": {
            "standoff": 15
           },
           "zerolinecolor": "#EBF0F8",
           "zerolinewidth": 2
          }
         }
        },
        "title": {
         "text": "Relative Abundance of Red Fir Forest In Seral Stages Other Than Mature"
        },
        "xaxis": {
         "anchor": "y",
         "domain": [
          0,
          1
         ],
         "dtick": 10,
         "range": [
          0,
          60
         ],
         "tick0": 0,
         "tickmode": "linear",
         "ticksuffix": "%",
         "title": {
          "text": "% of undisturbed vegetation"
         }
        },
        "yaxis": {
         "anchor": "x",
         "categoryarray": [
          "",
          "Sagebrush Scrub",
          "Wetland",
          "Deciduous Riparian",
          "Meadow",
          "Water",
          "Cushion Plant",
          "Shrub",
          "Subalpine Forest",
          "Red Fir Forest",
          "Yellow Pine Forest"
         ],
         "categoryorder": "array",
         "domain": [
          0,
          1
         ],
         "tickmode": "linear",
         "title": {
          "text": "Vegetation Type"
         }
        }
       }
      }
     },
     "metadata": {},
     "output_type": "display_data"
    }
   ],
   "source": [
    "colors = ['lightslategray',] * 10\n",
    "colors[1] = '#ff0000'\n",
    "\n",
    "df = dfVeg.copy()\n",
    "\n",
    "# df= df.loc[(df['Development']=='Undeveloped')&(df['QMD']<11)]\n",
    "df= df.loc[(df['Development']=='Undeveloped')]\n",
    "\n",
    "\n",
    "table = pd.pivot_table(df, values=['Acres'], index=['TRPA_VegType'],\n",
    "                        aggfunc=np.sum)\n",
    "\n",
    "flattened = pd.DataFrame(table.to_records())\n",
    "\n",
    "flattened.columns = [hdr.replace(\"('Acres', '\", '').replace(\"')\", \"\") \\\n",
    "                     for hdr in flattened.columns]\n",
    "\n",
    "df = flattened\n",
    "df['TRPA_VegType'].replace('', np.nan, inplace=True)\n",
    "df = df.dropna(subset=['TRPA_VegType'])\n",
    "\n",
    "df['TotalAcres']= 171438.19\n",
    "df['VegPercent'] = (df['Acres']/df['TotalAcres'])*100\n",
    "\n",
    "df = df.sort_values('Acres', ascending=False)\n",
    "\n",
    "# setup chart\n",
    "fig = px.bar(df, y=\"TRPA_VegType\", x='VegPercent',  color='TRPA_VegType', color_discrete_sequence=colors,\n",
    "            custom_data=['Acres','TotalAcres'], orientation='h',)\n",
    "\n",
    "fig.update_traces(\n",
    "    name='',\n",
    "#     hoverinfo = \"y\",  \n",
    "    hovertemplate=\"<br>\".join([\n",
    "        \"<b>%{x:.1f}%</b>\",\n",
    "        \"or <b>%{customdata[0]:,.0f}</b> acres<br>of the %{customdata[1]:,.0f} total acres<br>of undisturbed vegetation\"\n",
    "    ])\n",
    ")\n",
    "\n",
    "# create coverage bars\n",
    "fig.add_trace(go.Bar(\n",
    "    x=[6.23],\n",
    "    y=['Red Fir Forest'],\n",
    "    name= \"Red Fir Forest - QMD<11\",\n",
    "    marker_color='#FF7F7F', \n",
    "#     marker_line_color='rgb(88,48,10)',\n",
    "#     opacity=0.6,\n",
    "    orientation='h',\n",
    "    hovertemplate='<b>%{x:,.1f}%</b><br>or <b>10,673</b> acres<br>of total undisturbed vegetation <br>is immature Red Fir forest<br>(QMD<11\")<extra></extra>'\n",
    "))\n",
    "\n",
    "# create coverage bars\n",
    "fig.add_trace(go.Bar(\n",
    "    x=[0.5],\n",
    "    y=['Red Fir Forest'],\n",
    "    name= \"Red Fir Forest - Burned in Caldor Fire\",\n",
    "    marker_color='#000000', \n",
    "#     marker_line_color='rgb(88,48,10)',\n",
    "#     opacity=0.6,\n",
    "    orientation='h',\n",
    "    hovertemplate='<b>%{x:,.1f}%</b><br>or <b>862</b> acres<br> of total undisturbed vegetation<br>was Red Fir forest that burned in the Caldor Fire<extra></extra>'\n",
    "))\n",
    "\n",
    "# set layout\n",
    "fig.update_layout(title=\"Relative Abundance of Red Fir Forest In Seral Stages Other Than Mature\",\n",
    "                    font_family=font,\n",
    "                    template=template,\n",
    "                    legend_title_text='',\n",
    "                    showlegend=False,\n",
    "                    hovermode=\"y unified\",\n",
    "                    barmode = 'overlay',\n",
    "                    yaxis = dict(\n",
    "                        tickmode = 'linear',\n",
    "                        title_text='Vegetation Type'\n",
    "                    ),\n",
    "                    xaxis = dict(\n",
    "                        tickmode = 'linear',\n",
    "                        tick0 = 0,\n",
    "                        dtick = 10,\n",
    "                        ticksuffix='%',\n",
    "                        range=[0, 60],\n",
    "                        title_text='% of undisturbed vegetation'\n",
    "                    )\n",
    "                 )\n",
    "fig.show()\n"
   ]
  },
  {
   "cell_type": "code",
   "execution_count": 158,
   "metadata": {},
   "outputs": [
    {
     "data": {
      "application/vnd.plotly.v1+json": {
       "config": {
        "plotlyServerURL": "https://plot.ly"
       },
       "data": [
        {
         "alignmentgroup": "True",
         "customdata": [
          [
           859.49616678,
           171438.19
          ]
         ],
         "hovertemplate": "<b>%{y:.1f}%</b><br>or <b>%{customdata[0]:,.0f}</b> acres<br>of the %{customdata[1]:,.0f} total acres<br>of undisturbed vegetation",
         "legendgroup": "",
         "marker": {
          "color": "lightslategray",
          "pattern": {
           "shape": ""
          }
         },
         "name": "",
         "offsetgroup": "",
         "orientation": "v",
         "showlegend": false,
         "textposition": "auto",
         "type": "bar",
         "x": [
          ""
         ],
         "xaxis": "x",
         "y": [
          0.5013446343431414
         ],
         "yaxis": "y"
        },
        {
         "alignmentgroup": "True",
         "customdata": [
          [
           4301.43672596,
           171438.19
          ]
         ],
         "hovertemplate": "<b>%{y:.1f}%</b><br>or <b>%{customdata[0]:,.0f}</b> acres<br>of the %{customdata[1]:,.0f} total acres<br>of undisturbed vegetation",
         "legendgroup": "Cushion Plant",
         "marker": {
          "color": "lightslategray",
          "pattern": {
           "shape": ""
          }
         },
         "name": "",
         "offsetgroup": "Cushion Plant",
         "orientation": "v",
         "showlegend": true,
         "textposition": "auto",
         "type": "bar",
         "x": [
          "Cushion Plant"
         ],
         "xaxis": "x",
         "y": [
          2.5090306459488407
         ],
         "yaxis": "y"
        },
        {
         "alignmentgroup": "True",
         "customdata": [
          [
           2228.02720392,
           171438.19
          ]
         ],
         "hovertemplate": "<b>%{y:.1f}%</b><br>or <b>%{customdata[0]:,.0f}</b> acres<br>of the %{customdata[1]:,.0f} total acres<br>of undisturbed vegetation",
         "legendgroup": "Deciduous Riparian",
         "marker": {
          "color": "lightslategray",
          "pattern": {
           "shape": ""
          }
         },
         "name": "",
         "offsetgroup": "Deciduous Riparian",
         "orientation": "v",
         "showlegend": true,
         "textposition": "auto",
         "type": "bar",
         "x": [
          "Deciduous Riparian"
         ],
         "xaxis": "x",
         "y": [
          1.2996096166904234
         ],
         "yaxis": "y"
        },
        {
         "alignmentgroup": "True",
         "customdata": [
          [
           2241.58957494,
           171438.19
          ]
         ],
         "hovertemplate": "<b>%{y:.1f}%</b><br>or <b>%{customdata[0]:,.0f}</b> acres<br>of the %{customdata[1]:,.0f} total acres<br>of undisturbed vegetation",
         "legendgroup": "Meadow",
         "marker": {
          "color": "lightslategray",
          "pattern": {
           "shape": ""
          }
         },
         "name": "",
         "offsetgroup": "Meadow",
         "orientation": "v",
         "showlegend": true,
         "textposition": "auto",
         "type": "bar",
         "x": [
          "Meadow"
         ],
         "xaxis": "x",
         "y": [
          1.3075205559158085
         ],
         "yaxis": "y"
        },
        {
         "alignmentgroup": "True",
         "customdata": [
          [
           31556.47256434,
           171438.19
          ]
         ],
         "hovertemplate": "<b>%{y:.1f}%</b><br>or <b>%{customdata[0]:,.0f}</b> acres<br>of the %{customdata[1]:,.0f} total acres<br>of undisturbed vegetation",
         "legendgroup": "Red Fir Forest",
         "marker": {
          "color": "lightslategray",
          "pattern": {
           "shape": ""
          }
         },
         "name": "",
         "offsetgroup": "Red Fir Forest",
         "orientation": "v",
         "showlegend": true,
         "textposition": "auto",
         "type": "bar",
         "x": [
          "Red Fir Forest"
         ],
         "xaxis": "x",
         "y": [
          18.40690954818177
         ],
         "yaxis": "y"
        },
        {
         "alignmentgroup": "True",
         "customdata": [
          [
           1057.50445468,
           171438.19
          ]
         ],
         "hovertemplate": "<b>%{y:.1f}%</b><br>or <b>%{customdata[0]:,.0f}</b> acres<br>of the %{customdata[1]:,.0f} total acres<br>of undisturbed vegetation",
         "legendgroup": "Sagebrush Scrub",
         "marker": {
          "color": "lightslategray",
          "pattern": {
           "shape": ""
          }
         },
         "name": "",
         "offsetgroup": "Sagebrush Scrub",
         "orientation": "v",
         "showlegend": true,
         "textposition": "auto",
         "type": "bar",
         "x": [
          "Sagebrush Scrub"
         ],
         "xaxis": "x",
         "y": [
          0.6168429885313185
         ],
         "yaxis": "y"
        },
        {
         "alignmentgroup": "True",
         "customdata": [
          [
           7537.73603174,
           171438.19
          ]
         ],
         "hovertemplate": "<b>%{y:.1f}%</b><br>or <b>%{customdata[0]:,.0f}</b> acres<br>of the %{customdata[1]:,.0f} total acres<br>of undisturbed vegetation",
         "legendgroup": "Shrub",
         "marker": {
          "color": "lightslategray",
          "pattern": {
           "shape": ""
          }
         },
         "name": "",
         "offsetgroup": "Shrub",
         "orientation": "v",
         "showlegend": true,
         "textposition": "auto",
         "type": "bar",
         "x": [
          "Shrub"
         ],
         "xaxis": "x",
         "y": [
          4.3967659899699125
         ],
         "yaxis": "y"
        },
        {
         "alignmentgroup": "True",
         "customdata": [
          [
           18910.45195333,
           171438.19
          ]
         ],
         "hovertemplate": "<b>%{y:.1f}%</b><br>or <b>%{customdata[0]:,.0f}</b> acres<br>of the %{customdata[1]:,.0f} total acres<br>of undisturbed vegetation",
         "legendgroup": "Subalpine Forest",
         "marker": {
          "color": "lightslategray",
          "pattern": {
           "shape": ""
          }
         },
         "name": "",
         "offsetgroup": "Subalpine Forest",
         "orientation": "v",
         "showlegend": true,
         "textposition": "auto",
         "type": "bar",
         "x": [
          "Subalpine Forest"
         ],
         "xaxis": "x",
         "y": [
          11.030478071035397
         ],
         "yaxis": "y"
        },
        {
         "alignmentgroup": "True",
         "customdata": [
          [
           3876.73336318,
           171438.19
          ]
         ],
         "hovertemplate": "<b>%{y:.1f}%</b><br>or <b>%{customdata[0]:,.0f}</b> acres<br>of the %{customdata[1]:,.0f} total acres<br>of undisturbed vegetation",
         "legendgroup": "Water",
         "marker": {
          "color": "lightslategray",
          "pattern": {
           "shape": ""
          }
         },
         "name": "",
         "offsetgroup": "Water",
         "orientation": "v",
         "showlegend": true,
         "textposition": "auto",
         "type": "bar",
         "x": [
          "Water"
         ],
         "xaxis": "x",
         "y": [
          2.261300917362695
         ],
         "yaxis": "y"
        },
        {
         "alignmentgroup": "True",
         "customdata": [
          [
           1322.36068534,
           171438.19
          ]
         ],
         "hovertemplate": "<b>%{y:.1f}%</b><br>or <b>%{customdata[0]:,.0f}</b> acres<br>of the %{customdata[1]:,.0f} total acres<br>of undisturbed vegetation",
         "legendgroup": "Wetland",
         "marker": {
          "color": "#a8a800",
          "pattern": {
           "shape": ""
          }
         },
         "name": "",
         "offsetgroup": "Wetland",
         "orientation": "v",
         "showlegend": true,
         "textposition": "auto",
         "type": "bar",
         "x": [
          "Wetland"
         ],
         "xaxis": "x",
         "y": [
          0.771333788195034
         ],
         "yaxis": "y"
        },
        {
         "alignmentgroup": "True",
         "customdata": [
          [
           97504.12936341,
           171438.19
          ]
         ],
         "hovertemplate": "<b>%{y:.1f}%</b><br>or <b>%{customdata[0]:,.0f}</b> acres<br>of the %{customdata[1]:,.0f} total acres<br>of undisturbed vegetation",
         "legendgroup": "Yellow Pine Forest",
         "marker": {
          "color": "lightslategray",
          "pattern": {
           "shape": ""
          }
         },
         "name": "",
         "offsetgroup": "Yellow Pine Forest",
         "orientation": "v",
         "showlegend": true,
         "textposition": "auto",
         "type": "bar",
         "x": [
          "Yellow Pine Forest"
         ],
         "xaxis": "x",
         "y": [
          56.87421767775896
         ],
         "yaxis": "y"
        },
        {
         "hovertemplate": "<b>%{y:,.1f}%</b><br>or <b>23,836</b> acres<br>of immature forest<br>(QMD<11\")<extra></extra>",
         "marker": {
          "color": "#ffffbf",
          "line": {
           "color": "rgb(88,48,10)"
          }
         },
         "name": "Yellow Pine Forest - QMD<11",
         "opacity": 0.6,
         "type": "bar",
         "x": [
          "Yellow Pine Forest"
         ],
         "y": [
          13.9
         ]
        }
       ],
       "layout": {
        "barmode": "overlay",
        "font": {
         "family": "Calibri"
        },
        "hovermode": "x unified",
        "legend": {
         "title": {
          "text": ""
         },
         "tracegroupgap": 0
        },
        "margin": {
         "t": 60
        },
        "showlegend": false,
        "template": {
         "data": {
          "bar": [
           {
            "error_x": {
             "color": "#2a3f5f"
            },
            "error_y": {
             "color": "#2a3f5f"
            },
            "marker": {
             "line": {
              "color": "white",
              "width": 0.5
             },
             "pattern": {
              "fillmode": "overlay",
              "size": 10,
              "solidity": 0.2
             }
            },
            "type": "bar"
           }
          ],
          "barpolar": [
           {
            "marker": {
             "line": {
              "color": "white",
              "width": 0.5
             },
             "pattern": {
              "fillmode": "overlay",
              "size": 10,
              "solidity": 0.2
             }
            },
            "type": "barpolar"
           }
          ],
          "carpet": [
           {
            "aaxis": {
             "endlinecolor": "#2a3f5f",
             "gridcolor": "#C8D4E3",
             "linecolor": "#C8D4E3",
             "minorgridcolor": "#C8D4E3",
             "startlinecolor": "#2a3f5f"
            },
            "baxis": {
             "endlinecolor": "#2a3f5f",
             "gridcolor": "#C8D4E3",
             "linecolor": "#C8D4E3",
             "minorgridcolor": "#C8D4E3",
             "startlinecolor": "#2a3f5f"
            },
            "type": "carpet"
           }
          ],
          "choropleth": [
           {
            "colorbar": {
             "outlinewidth": 0,
             "ticks": ""
            },
            "type": "choropleth"
           }
          ],
          "contour": [
           {
            "colorbar": {
             "outlinewidth": 0,
             "ticks": ""
            },
            "colorscale": [
             [
              0,
              "#0d0887"
             ],
             [
              0.1111111111111111,
              "#46039f"
             ],
             [
              0.2222222222222222,
              "#7201a8"
             ],
             [
              0.3333333333333333,
              "#9c179e"
             ],
             [
              0.4444444444444444,
              "#bd3786"
             ],
             [
              0.5555555555555556,
              "#d8576b"
             ],
             [
              0.6666666666666666,
              "#ed7953"
             ],
             [
              0.7777777777777778,
              "#fb9f3a"
             ],
             [
              0.8888888888888888,
              "#fdca26"
             ],
             [
              1,
              "#f0f921"
             ]
            ],
            "type": "contour"
           }
          ],
          "contourcarpet": [
           {
            "colorbar": {
             "outlinewidth": 0,
             "ticks": ""
            },
            "type": "contourcarpet"
           }
          ],
          "heatmap": [
           {
            "colorbar": {
             "outlinewidth": 0,
             "ticks": ""
            },
            "colorscale": [
             [
              0,
              "#0d0887"
             ],
             [
              0.1111111111111111,
              "#46039f"
             ],
             [
              0.2222222222222222,
              "#7201a8"
             ],
             [
              0.3333333333333333,
              "#9c179e"
             ],
             [
              0.4444444444444444,
              "#bd3786"
             ],
             [
              0.5555555555555556,
              "#d8576b"
             ],
             [
              0.6666666666666666,
              "#ed7953"
             ],
             [
              0.7777777777777778,
              "#fb9f3a"
             ],
             [
              0.8888888888888888,
              "#fdca26"
             ],
             [
              1,
              "#f0f921"
             ]
            ],
            "type": "heatmap"
           }
          ],
          "heatmapgl": [
           {
            "colorbar": {
             "outlinewidth": 0,
             "ticks": ""
            },
            "colorscale": [
             [
              0,
              "#0d0887"
             ],
             [
              0.1111111111111111,
              "#46039f"
             ],
             [
              0.2222222222222222,
              "#7201a8"
             ],
             [
              0.3333333333333333,
              "#9c179e"
             ],
             [
              0.4444444444444444,
              "#bd3786"
             ],
             [
              0.5555555555555556,
              "#d8576b"
             ],
             [
              0.6666666666666666,
              "#ed7953"
             ],
             [
              0.7777777777777778,
              "#fb9f3a"
             ],
             [
              0.8888888888888888,
              "#fdca26"
             ],
             [
              1,
              "#f0f921"
             ]
            ],
            "type": "heatmapgl"
           }
          ],
          "histogram": [
           {
            "marker": {
             "pattern": {
              "fillmode": "overlay",
              "size": 10,
              "solidity": 0.2
             }
            },
            "type": "histogram"
           }
          ],
          "histogram2d": [
           {
            "colorbar": {
             "outlinewidth": 0,
             "ticks": ""
            },
            "colorscale": [
             [
              0,
              "#0d0887"
             ],
             [
              0.1111111111111111,
              "#46039f"
             ],
             [
              0.2222222222222222,
              "#7201a8"
             ],
             [
              0.3333333333333333,
              "#9c179e"
             ],
             [
              0.4444444444444444,
              "#bd3786"
             ],
             [
              0.5555555555555556,
              "#d8576b"
             ],
             [
              0.6666666666666666,
              "#ed7953"
             ],
             [
              0.7777777777777778,
              "#fb9f3a"
             ],
             [
              0.8888888888888888,
              "#fdca26"
             ],
             [
              1,
              "#f0f921"
             ]
            ],
            "type": "histogram2d"
           }
          ],
          "histogram2dcontour": [
           {
            "colorbar": {
             "outlinewidth": 0,
             "ticks": ""
            },
            "colorscale": [
             [
              0,
              "#0d0887"
             ],
             [
              0.1111111111111111,
              "#46039f"
             ],
             [
              0.2222222222222222,
              "#7201a8"
             ],
             [
              0.3333333333333333,
              "#9c179e"
             ],
             [
              0.4444444444444444,
              "#bd3786"
             ],
             [
              0.5555555555555556,
              "#d8576b"
             ],
             [
              0.6666666666666666,
              "#ed7953"
             ],
             [
              0.7777777777777778,
              "#fb9f3a"
             ],
             [
              0.8888888888888888,
              "#fdca26"
             ],
             [
              1,
              "#f0f921"
             ]
            ],
            "type": "histogram2dcontour"
           }
          ],
          "mesh3d": [
           {
            "colorbar": {
             "outlinewidth": 0,
             "ticks": ""
            },
            "type": "mesh3d"
           }
          ],
          "parcoords": [
           {
            "line": {
             "colorbar": {
              "outlinewidth": 0,
              "ticks": ""
             }
            },
            "type": "parcoords"
           }
          ],
          "pie": [
           {
            "automargin": true,
            "type": "pie"
           }
          ],
          "scatter": [
           {
            "fillpattern": {
             "fillmode": "overlay",
             "size": 10,
             "solidity": 0.2
            },
            "type": "scatter"
           }
          ],
          "scatter3d": [
           {
            "line": {
             "colorbar": {
              "outlinewidth": 0,
              "ticks": ""
             }
            },
            "marker": {
             "colorbar": {
              "outlinewidth": 0,
              "ticks": ""
             }
            },
            "type": "scatter3d"
           }
          ],
          "scattercarpet": [
           {
            "marker": {
             "colorbar": {
              "outlinewidth": 0,
              "ticks": ""
             }
            },
            "type": "scattercarpet"
           }
          ],
          "scattergeo": [
           {
            "marker": {
             "colorbar": {
              "outlinewidth": 0,
              "ticks": ""
             }
            },
            "type": "scattergeo"
           }
          ],
          "scattergl": [
           {
            "marker": {
             "colorbar": {
              "outlinewidth": 0,
              "ticks": ""
             }
            },
            "type": "scattergl"
           }
          ],
          "scattermapbox": [
           {
            "marker": {
             "colorbar": {
              "outlinewidth": 0,
              "ticks": ""
             }
            },
            "type": "scattermapbox"
           }
          ],
          "scatterpolar": [
           {
            "marker": {
             "colorbar": {
              "outlinewidth": 0,
              "ticks": ""
             }
            },
            "type": "scatterpolar"
           }
          ],
          "scatterpolargl": [
           {
            "marker": {
             "colorbar": {
              "outlinewidth": 0,
              "ticks": ""
             }
            },
            "type": "scatterpolargl"
           }
          ],
          "scatterternary": [
           {
            "marker": {
             "colorbar": {
              "outlinewidth": 0,
              "ticks": ""
             }
            },
            "type": "scatterternary"
           }
          ],
          "surface": [
           {
            "colorbar": {
             "outlinewidth": 0,
             "ticks": ""
            },
            "colorscale": [
             [
              0,
              "#0d0887"
             ],
             [
              0.1111111111111111,
              "#46039f"
             ],
             [
              0.2222222222222222,
              "#7201a8"
             ],
             [
              0.3333333333333333,
              "#9c179e"
             ],
             [
              0.4444444444444444,
              "#bd3786"
             ],
             [
              0.5555555555555556,
              "#d8576b"
             ],
             [
              0.6666666666666666,
              "#ed7953"
             ],
             [
              0.7777777777777778,
              "#fb9f3a"
             ],
             [
              0.8888888888888888,
              "#fdca26"
             ],
             [
              1,
              "#f0f921"
             ]
            ],
            "type": "surface"
           }
          ],
          "table": [
           {
            "cells": {
             "fill": {
              "color": "#EBF0F8"
             },
             "line": {
              "color": "white"
             }
            },
            "header": {
             "fill": {
              "color": "#C8D4E3"
             },
             "line": {
              "color": "white"
             }
            },
            "type": "table"
           }
          ]
         },
         "layout": {
          "annotationdefaults": {
           "arrowcolor": "#2a3f5f",
           "arrowhead": 0,
           "arrowwidth": 1
          },
          "autotypenumbers": "strict",
          "coloraxis": {
           "colorbar": {
            "outlinewidth": 0,
            "ticks": ""
           }
          },
          "colorscale": {
           "diverging": [
            [
             0,
             "#8e0152"
            ],
            [
             0.1,
             "#c51b7d"
            ],
            [
             0.2,
             "#de77ae"
            ],
            [
             0.3,
             "#f1b6da"
            ],
            [
             0.4,
             "#fde0ef"
            ],
            [
             0.5,
             "#f7f7f7"
            ],
            [
             0.6,
             "#e6f5d0"
            ],
            [
             0.7,
             "#b8e186"
            ],
            [
             0.8,
             "#7fbc41"
            ],
            [
             0.9,
             "#4d9221"
            ],
            [
             1,
             "#276419"
            ]
           ],
           "sequential": [
            [
             0,
             "#0d0887"
            ],
            [
             0.1111111111111111,
             "#46039f"
            ],
            [
             0.2222222222222222,
             "#7201a8"
            ],
            [
             0.3333333333333333,
             "#9c179e"
            ],
            [
             0.4444444444444444,
             "#bd3786"
            ],
            [
             0.5555555555555556,
             "#d8576b"
            ],
            [
             0.6666666666666666,
             "#ed7953"
            ],
            [
             0.7777777777777778,
             "#fb9f3a"
            ],
            [
             0.8888888888888888,
             "#fdca26"
            ],
            [
             1,
             "#f0f921"
            ]
           ],
           "sequentialminus": [
            [
             0,
             "#0d0887"
            ],
            [
             0.1111111111111111,
             "#46039f"
            ],
            [
             0.2222222222222222,
             "#7201a8"
            ],
            [
             0.3333333333333333,
             "#9c179e"
            ],
            [
             0.4444444444444444,
             "#bd3786"
            ],
            [
             0.5555555555555556,
             "#d8576b"
            ],
            [
             0.6666666666666666,
             "#ed7953"
            ],
            [
             0.7777777777777778,
             "#fb9f3a"
            ],
            [
             0.8888888888888888,
             "#fdca26"
            ],
            [
             1,
             "#f0f921"
            ]
           ]
          },
          "colorway": [
           "#636efa",
           "#EF553B",
           "#00cc96",
           "#ab63fa",
           "#FFA15A",
           "#19d3f3",
           "#FF6692",
           "#B6E880",
           "#FF97FF",
           "#FECB52"
          ],
          "font": {
           "color": "#2a3f5f"
          },
          "geo": {
           "bgcolor": "white",
           "lakecolor": "white",
           "landcolor": "white",
           "showlakes": true,
           "showland": true,
           "subunitcolor": "#C8D4E3"
          },
          "hoverlabel": {
           "align": "left"
          },
          "hovermode": "closest",
          "mapbox": {
           "style": "light"
          },
          "paper_bgcolor": "white",
          "plot_bgcolor": "white",
          "polar": {
           "angularaxis": {
            "gridcolor": "#EBF0F8",
            "linecolor": "#EBF0F8",
            "ticks": ""
           },
           "bgcolor": "white",
           "radialaxis": {
            "gridcolor": "#EBF0F8",
            "linecolor": "#EBF0F8",
            "ticks": ""
           }
          },
          "scene": {
           "xaxis": {
            "backgroundcolor": "white",
            "gridcolor": "#DFE8F3",
            "gridwidth": 2,
            "linecolor": "#EBF0F8",
            "showbackground": true,
            "ticks": "",
            "zerolinecolor": "#EBF0F8"
           },
           "yaxis": {
            "backgroundcolor": "white",
            "gridcolor": "#DFE8F3",
            "gridwidth": 2,
            "linecolor": "#EBF0F8",
            "showbackground": true,
            "ticks": "",
            "zerolinecolor": "#EBF0F8"
           },
           "zaxis": {
            "backgroundcolor": "white",
            "gridcolor": "#DFE8F3",
            "gridwidth": 2,
            "linecolor": "#EBF0F8",
            "showbackground": true,
            "ticks": "",
            "zerolinecolor": "#EBF0F8"
           }
          },
          "shapedefaults": {
           "line": {
            "color": "#2a3f5f"
           }
          },
          "ternary": {
           "aaxis": {
            "gridcolor": "#DFE8F3",
            "linecolor": "#A2B1C6",
            "ticks": ""
           },
           "baxis": {
            "gridcolor": "#DFE8F3",
            "linecolor": "#A2B1C6",
            "ticks": ""
           },
           "bgcolor": "white",
           "caxis": {
            "gridcolor": "#DFE8F3",
            "linecolor": "#A2B1C6",
            "ticks": ""
           }
          },
          "title": {
           "x": 0.05
          },
          "xaxis": {
           "automargin": true,
           "gridcolor": "#EBF0F8",
           "linecolor": "#EBF0F8",
           "ticks": "",
           "title": {
            "standoff": 15
           },
           "zerolinecolor": "#EBF0F8",
           "zerolinewidth": 2
          },
          "yaxis": {
           "automargin": true,
           "gridcolor": "#EBF0F8",
           "linecolor": "#EBF0F8",
           "ticks": "",
           "title": {
            "standoff": 15
           },
           "zerolinecolor": "#EBF0F8",
           "zerolinewidth": 2
          }
         }
        },
        "title": {
         "text": "Relative Abundance of Yellow Pine Forest In Seral Stages Other Than Mature"
        },
        "xaxis": {
         "anchor": "y",
         "categoryarray": [
          "",
          "Cushion Plant",
          "Deciduous Riparian",
          "Meadow",
          "Red Fir Forest",
          "Sagebrush Scrub",
          "Shrub",
          "Subalpine Forest",
          "Water",
          "Wetland",
          "Yellow Pine Forest"
         ],
         "categoryorder": "array",
         "domain": [
          0,
          1
         ],
         "tickmode": "linear",
         "title": {
          "text": "Vegetation Type"
         }
        },
        "yaxis": {
         "anchor": "x",
         "domain": [
          0,
          1
         ],
         "dtick": 10,
         "range": [
          0,
          60
         ],
         "tick0": 0,
         "tickmode": "linear",
         "ticksuffix": "%",
         "title": {
          "text": "% of undisturbed vegetation"
         }
        }
       }
      }
     },
     "metadata": {},
     "output_type": "display_data"
    }
   ],
   "source": [
    "colors = ['lightslategray',] * 10\n",
    "colors[9] ='#a8a800'\n",
    "\n",
    "df = dfVeg.copy()\n",
    "\n",
    "# df= df.loc[(df['Development']=='Undeveloped')&(df['QMD']<11)]\n",
    "df= df.loc[(df['Development']=='Undeveloped')]\n",
    "\n",
    "\n",
    "table = pd.pivot_table(df, values=['Acres'], index=['TRPA_VegType'],\n",
    "                        aggfunc=np.sum)\n",
    "\n",
    "flattened = pd.DataFrame(table.to_records())\n",
    "\n",
    "flattened.columns = [hdr.replace(\"('Acres', '\", '').replace(\"')\", \"\") \\\n",
    "                     for hdr in flattened.columns]\n",
    "\n",
    "df = flattened\n",
    "df['TRPA_VegType'].replace('', np.nan, inplace=True)\n",
    "df = df.dropna(subset=['TRPA_VegType'])\n",
    "\n",
    "df['TotalAcres']= 171438.19\n",
    "df['VegPercent'] = (df['Acres']/df['TotalAcres'])*100\n",
    "\n",
    "\n",
    "# df2 = {'TRPA_VegType': 'Yellow Pine Forest', 'Acres': 23836.14, 'VegPercent': 13.9} \n",
    "# df = df.append(df2, ignore_index = True) \n",
    "\n",
    "# setup chart\n",
    "fig = px.bar(df, x=\"TRPA_VegType\", y='VegPercent',  color='TRPA_VegType', color_discrete_sequence=colors,\n",
    "            custom_data=['Acres','TotalAcres'])\n",
    "\n",
    "fig.update_traces(\n",
    "    name='',\n",
    "#     hoverinfo = \"y\",  \n",
    "    hovertemplate=\"<br>\".join([\n",
    "        \"<b>%{y:.1f}%</b>\",\n",
    "        \"or <b>%{customdata[0]:,.0f}</b> acres<br>of the %{customdata[1]:,.0f} total acres<br>of undisturbed vegetation\"\n",
    "    ])\n",
    ")\n",
    "\n",
    "# create coverage bars\n",
    "fig.add_trace(go.Bar(\n",
    "    y=[13.9],\n",
    "    x=['Yellow Pine Forest'],\n",
    "    name= \"Yellow Pine Forest - QMD<11\",\n",
    "    marker_color='#ffffbf', \n",
    "    marker_line_color='rgb(88,48,10)',\n",
    "    opacity=0.6,\n",
    "    hovertemplate='<b>%{y:,.1f}%</b><br>or <b>23,836</b> acres<br>of immature forest<br>(QMD<11\")<extra></extra>'\n",
    "))\n",
    "\n",
    "# set layout\n",
    "fig.update_layout(title=\"Relative Abundance of Yellow Pine Forest In Seral Stages Other Than Mature\",\n",
    "                    font_family=font,\n",
    "                    template=template,\n",
    "                    legend_title_text='',\n",
    "                    showlegend=False,\n",
    "                    hovermode=\"x unified\",\n",
    "                    barmode = 'overlay',\n",
    "                    xaxis = dict(\n",
    "#                         categoryorder= 'array',\n",
    "#                         categoryarray= ['Early Seral', 'Mid Seral', 'Late Seral', 'N/A'],\n",
    "                        tickmode = 'linear',\n",
    "                        title_text='Vegetation Type'\n",
    "                    ),\n",
    "                    yaxis = dict(\n",
    "                        tickmode = 'linear',\n",
    "                        tick0 = 0,\n",
    "                        dtick = 10,\n",
    "                        ticksuffix='%',\n",
    "                        range=[0, 60],\n",
    "                        title_text='% of undisturbed vegetation'\n",
    "                    )\n",
    "                 )\n",
    "\n",
    "fig.show()"
   ]
  }
 ],
 "metadata": {
  "kernelspec": {
   "display_name": "arcgispro-py3",
   "language": "python",
   "name": "python3"
  },
  "language_info": {
   "codemirror_mode": {
    "name": "ipython",
    "version": 3
   },
   "file_extension": ".py",
   "mimetype": "text/x-python",
   "name": "python",
   "nbconvert_exporter": "python",
   "pygments_lexer": "ipython3",
   "version": "3.11.8"
  }
 },
 "nbformat": 4,
 "nbformat_minor": 2
}
