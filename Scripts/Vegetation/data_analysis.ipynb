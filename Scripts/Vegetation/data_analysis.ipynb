{
 "cells": [
  {
   "cell_type": "code",
   "execution_count": 9,
   "metadata": {},
   "outputs": [],
   "source": [
    "import pathlib\n",
    "import pandas as pd\n",
    "import sys\n",
    "# get local path directory\n",
    "localpath = pathlib.Path.cwd()\n",
    "# adding Scripts/2023 to system path to find utils.py\n",
    "sys.path.insert(0, localpath.parent / '2023')\n",
    "from utils import *"
   ]
  },
  {
   "cell_type": "code",
   "execution_count": 14,
   "metadata": {},
   "outputs": [],
   "source": [
    "# get 2010 Ecobject data\n",
    "def get_ecobject_2010_data():\n",
    "    # make sql database connection with pyodbc\n",
    "    engine = get_conn('sde_tabular')\n",
    "    # get dataframe from BMP SQL Database\n",
    "    with engine.begin() as conn:\n",
    "        # create dataframe from sql query\n",
    "        df = pd.read_sql(\"SELECT * FROM sde_tabular.SDE.Vegetation_EcObject_2010\", conn)\n",
    "    return df\n",
    "\n",
    "# get identity data of 2010 Ecobject data overlayed with Caldor Burn Severity\n",
    "def get_ecobject_2010_identity_data():\n",
    "    # make sql database connection with pyodbc\n",
    "    engine = get_conn('sde_tabular')\n",
    "    # get dataframe from BMP SQL Database\n",
    "    with engine.begin() as conn:\n",
    "        # create dataframe from sql query\n",
    "        df = pd.read_sql(\"SELECT * FROM sde_tabular.SDE.ThresholdEvaluation_Vegetation_ID_Ecobejct2010_CaldorVegBurnSeverity\", conn)\n",
    "    return df"
   ]
  },
  {
   "cell_type": "code",
   "execution_count": 12,
   "metadata": {},
   "outputs": [],
   "source": [
    "df = get_ecobject_2010_data()"
   ]
  },
  {
   "cell_type": "code",
   "execution_count": 15,
   "metadata": {},
   "outputs": [],
   "source": [
    "dfNew = get_ecobject_2010_identity_data()"
   ]
  },
  {
   "cell_type": "code",
   "execution_count": null,
   "metadata": {},
   "outputs": [],
   "source": [
    "dfNew.columns.to_list()"
   ]
  },
  {
   "cell_type": "code",
   "execution_count": null,
   "metadata": {},
   "outputs": [],
   "source": [
    "dfCal.Development.unique()"
   ]
  },
  {
   "cell_type": "code",
   "execution_count": null,
   "metadata": {},
   "outputs": [],
   "source": [
    "columns_to_keep = [ 'SpatialVar', 'Ownership', 'Development',\n",
    "                   'WHRTYPE', 'Acres','QMD','Elev_Ft', 'SeralStage', \n",
    "                   'TRPA_VegType','gridcode','FID_CaldorBurnSeverity']\n",
    "\n",
    "dfCal = dfNew[columns_to_keep]\n",
    "# filter out Development = 1\n",
    "dfCal = dfCal[dfCal['Development'] =='Undeveloped']\n",
    "# pivot table to get the sum of Acres for TRPA_VegType, gridcode, SeralStage\n",
    "dfVegSeverity = dfCal.pivot_table(index=['TRPA_VegType'], columns=['gridcode'], values='Acres', aggfunc='sum').reset_index()\n",
    "# round acres to 2 decimal places\n",
    "dfVegSeverity = dfVegSeverity.round(1)\n",
    "dfVegSeverity"
   ]
  },
  {
   "cell_type": "code",
   "execution_count": 39,
   "metadata": {},
   "outputs": [],
   "source": [
    "# sum Columns 3 and 4\n",
    "dfVegSeverity['Total_Burned'] = dfVegSeverity[3] + dfVegSeverity[4]\n",
    "# rename columns \n",
    "dfVegSeverity.rename(columns={0:'Unburned',3:'Moderate', 4:'High'}, inplace=True)"
   ]
  },
  {
   "cell_type": "code",
   "execution_count": null,
   "metadata": {},
   "outputs": [],
   "source": [
    "dfNewVegSummary = pd.merge(dfVeg, dfVegSeverity, on='TRPA_VegType', how='left')\n",
    "dfNewVegSummary"
   ]
  },
  {
   "cell_type": "code",
   "execution_count": null,
   "metadata": {},
   "outputs": [],
   "source": [
    "# filter out Development\n",
    "df = df[df['Development'] =='Undeveloped']\n",
    "# pivot Acres in df to get the sum of Acres for TRPA_VegType, gridcode, SeralStage\n",
    "dfVeg = df.pivot_table(index=['TRPA_VegType'], values='Acres', aggfunc='sum').reset_index()\n",
    "dfVeg = dfVeg.round(1)\n",
    "dfVeg"
   ]
  }
 ],
 "metadata": {
  "kernelspec": {
   "display_name": "arcgispro-py3",
   "language": "python",
   "name": "python3"
  },
  "language_info": {
   "codemirror_mode": {
    "name": "ipython",
    "version": 3
   },
   "file_extension": ".py",
   "mimetype": "text/x-python",
   "name": "python",
   "nbconvert_exporter": "python",
   "pygments_lexer": "ipython3",
   "version": "3.11.8"
  }
 },
 "nbformat": 4,
 "nbformat_minor": 2
}
