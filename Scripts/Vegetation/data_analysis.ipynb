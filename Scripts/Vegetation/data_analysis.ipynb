{
 "cells": [
  {
   "cell_type": "code",
   "execution_count": 4,
   "metadata": {},
   "outputs": [],
   "source": [
    "# get local path directory\n",
    "localpath = pathlib.Path.cwd()\n",
    "# adding Scripts/2023 to system path to find utils.py\n",
    "t = sys.path.insert(0, localpath.parent / '2023')"
   ]
  },
  {
   "cell_type": "code",
   "execution_count": 7,
   "metadata": {},
   "outputs": [
    {
     "data": {
      "text/plain": [
       "WindowsPath('c:/Users/mbindl/Documents/GitHub/ThresholdEvaluation/Scripts/Vegetation')"
      ]
     },
     "execution_count": 7,
     "metadata": {},
     "output_type": "execute_result"
    }
   ],
   "source": [
    "localpath"
   ]
  },
  {
   "cell_type": "code",
   "execution_count": 8,
   "metadata": {},
   "outputs": [
    {
     "ename": "ModuleNotFoundError",
     "evalue": "No module named 'utils'",
     "output_type": "error",
     "traceback": [
      "\u001b[1;31m---------------------------------------------------------------------------\u001b[0m",
      "\u001b[1;31mModuleNotFoundError\u001b[0m                       Traceback (most recent call last)",
      "\u001b[1;32m~\\AppData\\Local\\Temp\\ipykernel_21076\\1164710199.py\u001b[0m in \u001b[0;36m<cell line: 0>\u001b[1;34m()\u001b[0m\n\u001b[0;32m      6\u001b[0m \u001b[1;31m# adding Scripts/2023 to system path to find utils.py\u001b[0m\u001b[1;33m\u001b[0m\u001b[1;33m\u001b[0m\u001b[0m\n\u001b[0;32m      7\u001b[0m \u001b[0msys\u001b[0m\u001b[1;33m.\u001b[0m\u001b[0mpath\u001b[0m\u001b[1;33m.\u001b[0m\u001b[0minsert\u001b[0m\u001b[1;33m(\u001b[0m\u001b[1;36m0\u001b[0m\u001b[1;33m,\u001b[0m \u001b[0mlocalpath\u001b[0m\u001b[1;33m.\u001b[0m\u001b[0mparent\u001b[0m \u001b[1;33m/\u001b[0m \u001b[1;34m'2023'\u001b[0m\u001b[1;33m)\u001b[0m\u001b[1;33m\u001b[0m\u001b[1;33m\u001b[0m\u001b[0m\n\u001b[1;32m----> 8\u001b[1;33m \u001b[1;32mfrom\u001b[0m \u001b[0mutils\u001b[0m \u001b[1;32mimport\u001b[0m \u001b[1;33m*\u001b[0m\u001b[1;33m\u001b[0m\u001b[1;33m\u001b[0m\u001b[0m\n\u001b[0m",
      "\u001b[1;31mModuleNotFoundError\u001b[0m: No module named 'utils'"
     ]
    }
   ],
   "source": [
    "import pathlib\n",
    "import pandas as pd\n",
    "import sys\n",
    "# get local path directory\n",
    "localpath = pathlib.Path.cwd()\n",
    "# adding Scripts/2023 to system path to find utils.py\n",
    "sys.path.insert(0, localpath.parent / '2023')\n",
    "from utils import *"
   ]
  },
  {
   "cell_type": "code",
   "execution_count": 14,
   "metadata": {},
   "outputs": [],
   "source": [
    "# get 2010 Ecobject data\n",
    "def get_ecobject_2010_data():\n",
    "    # make sql database connection with pyodbc\n",
    "    engine = get_conn('sde_tabular')\n",
    "    # get dataframe from BMP SQL Database\n",
    "    with engine.begin() as conn:\n",
    "        # create dataframe from sql query\n",
    "        df = pd.read_sql(\"SELECT * FROM sde_tabular.SDE.Vegetation_EcObject_2010\", conn)\n",
    "    return df\n",
    "\n",
    "# get identity data of 2010 Ecobject data overlayed with Caldor Burn Severity\n",
    "def get_ecobject_2010_identity_data():\n",
    "    # make sql database connection with pyodbc\n",
    "    engine = get_conn('sde_tabular')\n",
    "    # get dataframe from BMP SQL Database\n",
    "    with engine.begin() as conn:\n",
    "        # create dataframe from sql query\n",
    "        df = pd.read_sql(\"SELECT * FROM sde_tabular.SDE.ThresholdEvaluation_Vegetation_ID_Ecobejct2010_CaldorVegBurnSeverity\", conn)\n",
    "    return df"
   ]
  },
  {
   "cell_type": "code",
   "execution_count": 12,
   "metadata": {},
   "outputs": [],
   "source": [
    "df = get_ecobject_2010_data()"
   ]
  },
  {
   "cell_type": "code",
   "execution_count": 15,
   "metadata": {},
   "outputs": [],
   "source": [
    "dfNew = get_ecobject_2010_identity_data()"
   ]
  },
  {
   "cell_type": "code",
   "execution_count": null,
   "metadata": {},
   "outputs": [],
   "source": [
    "columns_to_keep = [ 'SpatialVar', 'Ownership', 'Development',\n",
    "                   'WHRTYPE', 'Acres','QMD','Elev_Ft', 'SeralStage', \n",
    "                   'TRPA_VegType','gridcode','FID_CaldorBurnSeverity']\n",
    "\n",
    "dfCal = dfNew[columns_to_keep]\n",
    "# filter out Development = 1\n",
    "dfCal = dfCal[dfCal['Development'] =='Undeveloped']\n",
    "# pivot table to get the sum of Acres for TRPA_VegType, gridcode, SeralStage\n",
    "dfVegSeverity = dfCal.pivot_table(index=['TRPA_VegType'], columns=['gridcode'], values='Acres', aggfunc='sum').reset_index()\n",
    "# round acres to 2 decimal places\n",
    "dfVegSeverity = dfVegSeverity.round(1)\n",
    "dfVegSeverity"
   ]
  },
  {
   "cell_type": "code",
   "execution_count": 39,
   "metadata": {},
   "outputs": [],
   "source": [
    "# sum Columns 3 and 4\n",
    "dfVegSeverity['Total_Burned'] = dfVegSeverity[3] + dfVegSeverity[4]\n",
    "# rename columns \n",
    "dfVegSeverity.rename(columns={0:'Unburned',3:'Moderate', 4:'High'}, inplace=True)"
   ]
  },
  {
   "cell_type": "code",
   "execution_count": null,
   "metadata": {},
   "outputs": [],
   "source": [
    "# filter out Development\n",
    "df = df[df['Development'] =='Undeveloped']\n",
    "# pivot Acres in df to get the sum of Acres for TRPA_VegType, gridcode, SeralStage\n",
    "dfVeg = df.pivot_table(index=['TRPA_VegType'], values='Acres', aggfunc='sum').reset_index()\n",
    "dfVeg = dfVeg.round(1)\n",
    "dfVeg"
   ]
  },
  {
   "cell_type": "code",
   "execution_count": null,
   "metadata": {},
   "outputs": [],
   "source": [
    "dfNewVegSummary = pd.merge(dfVeg, dfVegSeverity, on='TRPA_VegType', how='left')\n",
    "dfNewVegSummary"
   ]
  }
 ],
 "metadata": {
  "kernelspec": {
   "display_name": "arcgispro-py3",
   "language": "python",
   "name": "python3"
  },
  "language_info": {
   "codemirror_mode": {
    "name": "ipython",
    "version": 3
   },
   "file_extension": ".py",
   "mimetype": "text/x-python",
   "name": "python",
   "nbconvert_exporter": "python",
   "pygments_lexer": "ipython3",
   "version": "3.11.8"
  }
 },
 "nbformat": 4,
 "nbformat_minor": 2
}
