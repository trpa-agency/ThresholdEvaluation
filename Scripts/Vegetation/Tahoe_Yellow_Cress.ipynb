{
 "cells": [
  {
   "cell_type": "code",
   "execution_count": 1,
   "metadata": {},
   "outputs": [],
   "source": [
    "import pandas as pd\n",
    "import subprocess\n",
    "import sys\n",
    "import os\n",
    "utils_dir = os.path.abspath(os.path.join(os.getcwd(), '..', '2023'))\n",
    "\n",
    "# Add the Subfolder2 directory to the system path\n",
    "sys.path.append(utils_dir)\n",
    "from vegetation_preservation import *"
   ]
  },
  {
   "cell_type": "code",
   "execution_count": 2,
   "metadata": {},
   "outputs": [],
   "source": [
    "df = get_TYC_data_sql()"
   ]
  },
  {
   "cell_type": "code",
   "execution_count": 7,
   "metadata": {},
   "outputs": [],
   "source": [
    "df['Relation_to_Threshold'] = df['Occupied_Sites']/df['Threshold']\n",
    "def get_attainment_status(row):\n",
    "    if row['Relation_to_Threshold'] >=1:\n",
    "        return 1\n",
    "    else:\n",
    "        return 0\n",
    "df['Attainment_Status'] = df.apply(get_attainment_status, axis=1)"
   ]
  },
  {
   "cell_type": "code",
   "execution_count": 8,
   "metadata": {},
   "outputs": [],
   "source": [
    "df.to_csv('TYC_data.csv', index=False)"
   ]
  }
 ],
 "metadata": {
  "kernelspec": {
   "display_name": "Python 3",
   "language": "python",
   "name": "python3"
  },
  "language_info": {
   "codemirror_mode": {
    "name": "ipython",
    "version": 3
   },
   "file_extension": ".py",
   "mimetype": "text/x-python",
   "name": "python",
   "nbconvert_exporter": "python",
   "pygments_lexer": "ipython3",
   "version": "3.11.10"
  }
 },
 "nbformat": 4,
 "nbformat_minor": 2
}
