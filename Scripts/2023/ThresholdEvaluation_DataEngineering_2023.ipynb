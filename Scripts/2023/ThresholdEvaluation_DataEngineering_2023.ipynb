{
 "cells": [
  {
   "cell_type": "code",
   "execution_count": null,
   "metadata": {},
   "outputs": [],
   "source": []
  },
  {
   "cell_type": "markdown",
   "metadata": {},
   "source": [
    "## Setup"
   ]
  },
  {
   "cell_type": "markdown",
   "metadata": {},
   "source": []
  },
  {
   "cell_type": "code",
   "execution_count": 1,
   "metadata": {},
   "outputs": [
    {
     "ename": "SyntaxError",
     "evalue": "invalid syntax (1196091081.py, line 5)",
     "output_type": "error",
     "traceback": [
      "\u001b[1;36m  File \u001b[1;32m\"C:\\Users\\snewsome\\AppData\\Local\\Temp\\ipykernel_29744\\1196091081.py\"\u001b[1;36m, line \u001b[1;32m5\u001b[0m\n\u001b[1;33m    read small change\u001b[0m\n\u001b[1;37m         ^\u001b[0m\n\u001b[1;31mSyntaxError\u001b[0m\u001b[1;31m:\u001b[0m invalid syntax\n"
     ]
    }
   ],
   "source": [
    "\n",
    "#\n",
    "import pandas as pd\n",
    "import numpy as np\n",
    "\n",
    "\n",
    "# make sql database connection with pyodbc\n",
    "conn = pyodbc.connect('DRIVER={ODBC Driver 17 for SQL Server};SERVER=sql12;DATABASE=sde_tabular;UID=sde;PWD=staff')\n"
   ]
  },
  {
   "cell_type": "markdown",
   "metadata": {},
   "source": [
    "# Air Quality"
   ]
  },
  {
   "cell_type": "markdown",
   "metadata": {},
   "source": []
  },
  {
   "cell_type": "markdown",
   "metadata": {},
   "source": [
    "## Noise"
   ]
  },
  {
   "cell_type": "code",
   "execution_count": null,
   "metadata": {},
   "outputs": [],
   "source": [
    "#Setup\n",
    "import pandas as pd\n",
    "import os from arcgis import GIS \n",
    "from arcgis.features import FeatureLayer\n",
    "Import numpy as np\n",
    "import arcpy\n",
    "\n",
    "\"F:\\Research and Analysis\\Noise\\Monitoring\\CNEL - Plan Areas\\ALL_CNEL_PLANAREAS_RESULTS_(1991-2023).xlsx\"\n",
    "\n",
    "# Provide the path to your Excel file\n",
    "excel_file_path = 'path/to/your/excel/file.xlsx'\n",
    "\n",
    "# Read the Excel file into a DataFrame\n",
    "Raw_df = pd.read_excel(excel_file_path)\n",
    "\n",
    "# Define columns for the new DataFrame\n",
    "columns_for_new_df = ['PAS_NAME','LAND USE', 'CNEL LAND USE','CNEL limit', ]\n",
    "\n",
    " #Create new dataframe using the defined columns\n",
    "Noise23_df = pd.DataFrame(Raw_df, columns=columns_for_new_df)\n",
    "\n",
    "#Reorganize to fit csv we will melt it into\n",
    "Noise23_df(Description)= 'Average CNEL of all sites during timeframe'\n",
    "\n",
    "Noise23_df(Year)=2023\n",
    "\n",
    "#Field Mapping\n",
    "field_mapping = {\n",
    "    'Category', 'CNEL LAND USE '\n",
    "    'Description': '',\n",
    "    'Year': 'Year' \n",
    "    '2023 CNEL Average:  ,\n",
    "    'Threshold Value': 'CNEL_Limit'}\n",
    "\n",
    "# Rename fields based on field mappings--whateeer the df is\n",
    "ready_df = filtered_df.rename(columns=field_mapping).drop(columns=[col for col in filtered_df.columns if col not in field_mapping])\n",
    "\n",
    "#Export to CSV\n",
    "ready_df.to_csv(os.path.join(working_folder, ThresholdNoise23.csv))\n",
    "\n",
    "# Convert CSV to point feature class\n",
    "arcpy.management.XYTableToPoint(csv_path, \"oldStream_CSCI_Points\", \"LONGITUDE\", \"LATITUDE\")\n",
    "\n",
    "# Project to UTM Zone 10N\n",
    "arcpy.Project_management(\"oldStream_CSCI_Points\", \"old_CSCI_Projected\", arcpy.SpatialReference(26910))\n",
    "\n",
    "print(\"Conversion and projection completed.\")"
   ]
  },
  {
   "cell_type": "markdown",
   "metadata": {},
   "source": []
  },
  {
   "cell_type": "markdown",
   "metadata": {},
   "source": [
    "## Stream/CSCI"
   ]
  },
  {
   "cell_type": "code",
   "execution_count": 1,
   "metadata": {},
   "outputs": [
    {
     "name": "stdout",
     "output_type": "stream",
     "text": [
      "CSV file 'F:\\Research and Analysis\\Threshold reporting\\ThresholdData\\Fisheries\\ThresholdData_Streams.csv' has been updated.\n"
     ]
    },
    {
     "name": "stderr",
     "output_type": "stream",
     "text": [
      "C:\\Users\\snewsome\\AppData\\Local\\Temp\\ipykernel_22588\\3748317425.py:77: FutureWarning: The frame.append method is deprecated and will be removed from pandas in a future version. Use pandas.concat instead.\n",
      "  existing_df = existing_df.append(new_entry, ignore_index=True)\n"
     ]
    },
    {
     "ename": "",
     "evalue": "",
     "output_type": "error",
     "traceback": [
      "\u001b[1;31mThe Kernel crashed while executing code in the the current cell or a previous cell. Please review the code in the cell(s) to identify a possible cause of the failure. Click <a href='https://aka.ms/vscodeJupyterKernelCrash'>here</a> for more info. View Jupyter <a href='command:jupyter.viewOutput'>log</a> for further details."
     ]
    }
   ],
   "source": [
    "#Setup\n",
    "#Create Dictionary Usring Rest Service data\n",
    "\n",
    "import pandas as pd\n",
    "import os\n",
    "from arcgis import GIS\n",
    "from arcgis.features import FeatureLayer\n",
    "import numpy as np\n",
    "import requests\n",
    "import arcpy\n",
    "\n",
    "gis = GIS()\n",
    "# Connect to TRPA Enterprise GIS Portal *if it's a service only shared with org\n",
    "# portal_user = \"TRPA_PORTAL_ADMIN\"\n",
    "# portal_pwd = str(os.environ.get('Password'))\n",
    "# portal_url = \"https://maps.trpa.org/portal/\"\n",
    "wk_memory = \"memory\" + \"\\\\\"\n",
    "\n",
    "#Set up Workspace\n",
    "# set workspace and sde connections \n",
    "working_folder = r\"F:\\Research and Analysis\\Threshold reporting\\ThresholdData\\Fisheries\"\n",
    "workspace      = \"C:\\GIS\\Scratch.gdb\"\n",
    "arcpy.env.workspace = \"C:\\GIS\\Scratch.gdb\"\n",
    "\n",
    "# network path to connection files\n",
    "filePath = r\"C:\\\\GIS\\\\DB_CONNECT\"\n",
    "\n",
    "\n",
    "## CSV to be updated with new average\n",
    "StreamAvg = os.path.join(working_folder,\"ThresholdData_Stream.csv\")\n",
    "\n",
    "\n",
    "def get_fs_data(service_url):\n",
    "    feature_layer = FeatureLayer(service_url)\n",
    "    query_result = feature_layer.query()\n",
    "    # Convert the query result to a list of dictionaries\n",
    "    feature_list = query_result.features\n",
    "    # Create a pandas DataFrame from the list of dictionaries\n",
    "    all_data = pd.DataFrame([feature.attributes for feature in feature_list])\n",
    "    return all_data\n",
    "\n",
    "# Service URL\n",
    "service_url = 'https://maps.trpa.org/server/rest/services/LTInfo_Monitoring/MapServer/8'\n",
    "\n",
    "# Get Stream data as a Spatially Enabled DataFrame\n",
    "sdfStreamHab = get_fs_data(service_url)\n",
    "\n",
    "# Keep only necessary columns\n",
    "columnstokeep = ['SITE_NAME', 'STATION_TYPE', 'DURATION', 'LATITUDE', 'LONGITUDE', 'LTINFO', 'COUNT_VALUE', 'YEAR_OF_COUNT']\n",
    "sdfStreamHab = sdfStreamHab.loc[:, columnstokeep]\n",
    "\n",
    "# Query only 2020-2022 data\n",
    "sdfStreamHab['Date'] = pd.to_datetime(sdfStreamHab['YEAR_OF_COUNT'], format='%Y')\n",
    "filtered_df = sdfStreamHab[\n",
    "    (sdfStreamHab['Date'].dt.year.between(2020, 2022)) & \n",
    "    (sdfStreamHab['DURATION'] == 'Long-term')\n",
    "]\n",
    "\n",
    "# Calculate the average of the 'COUNT_VALUE' column\n",
    "AvgCSCI = filtered_df['COUNT_VALUE'].mean()\n",
    "\n",
    "# Update CSV ThresholdData_Stream.csv\n",
    "csv_path = r\"F:\\Research and Analysis\\Threshold reporting\\ThresholdData\\Fisheries\\ThresholdData_Streams.csv\"\n",
    "existing_df = pd.read_csv(csv_path)\n",
    "\n",
    "Description = \"Average CSCI score of all trend sites (48 sites)\"\n",
    "Year = '2020-2022'\n",
    "Value = AvgCSCI\n",
    "\n",
    "existing_entry = existing_df[\n",
    "    (existing_df['Description'] == Description) &\n",
    "    (existing_df['Year'] == Year)\n",
    "]\n",
    "\n",
    "if existing_entry.empty:\n",
    "    new_entry = {'Description': Description, 'Year': Year, 'Value': Value}\n",
    "    existing_df = existing_df.append(new_entry, ignore_index=True)\n",
    "\n",
    "existing_df.to_csv(csv_path, index=False)\n",
    "print(f\"CSV file '{csv_path}' has been updated.\")\n",
    "\n"
   ]
  },
  {
   "cell_type": "code",
   "execution_count": null,
   "metadata": {},
   "outputs": [],
   "source": [
    "#Use F:Research and Analysis/Threshold reporting\\ThresholdData\\Fisheries\\ThresholdData_Streams.csv' to update SDE.tabular.....table"
   ]
  },
  {
   "cell_type": "code",
   "execution_count": null,
   "metadata": {},
   "outputs": [],
   "source": [
    "#Calculate Rating or CSCI values and then find the percent of total streams in each rating\n",
    "\n",
    "#Calculate Rating for CSCI value\n",
    "#Define a function to categorize CSCI values based on ranges\n",
    "def categorize_value(value):\n",
    "    if 0 <= value < 0.6:\n",
    "        return 'poor'\n",
    "    elif 0.6 <= value < 0.8:\n",
    "        return 'marginal'\n",
    "    elif 0.8 <= value < 1.0:\n",
    "        return 'good'\n",
    "    else:\n",
    "        return 'excellent'\n",
    "\n",
    "#Find average for each rating- Poor, Marginal, Good, Excellent"
   ]
  }
 ],
 "metadata": {
  "kernelspec": {
   "display_name": "Python 3",
   "language": "python",
   "name": "python3"
  },
  "language_info": {
   "codemirror_mode": {
    "name": "ipython",
    "version": 3
   },
   "file_extension": ".py",
   "mimetype": "text/x-python",
   "name": "python",
   "nbconvert_exporter": "python",
   "pygments_lexer": "ipython3",
   "version": "3.9.16"
  }
 },
 "nbformat": 4,
 "nbformat_minor": 2
}
