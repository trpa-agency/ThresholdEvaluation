{
 "cells": [
  {
   "cell_type": "code",
   "execution_count": null,
   "metadata": {},
   "outputs": [],
   "source": []
  },
  {
   "cell_type": "markdown",
   "metadata": {},
   "source": [
    "## Setup"
   ]
  },
  {
   "cell_type": "markdown",
   "metadata": {},
   "source": []
  },
  {
   "cell_type": "code",
   "execution_count": 1,
   "metadata": {},
   "outputs": [
    {
     "ename": "SyntaxError",
     "evalue": "invalid syntax (1196091081.py, line 5)",
     "output_type": "error",
     "traceback": [
      "\u001b[1;36m  File \u001b[1;32m\"C:\\Users\\snewsome\\AppData\\Local\\Temp\\ipykernel_29744\\1196091081.py\"\u001b[1;36m, line \u001b[1;32m5\u001b[0m\n\u001b[1;33m    read small change\u001b[0m\n\u001b[1;37m         ^\u001b[0m\n\u001b[1;31mSyntaxError\u001b[0m\u001b[1;31m:\u001b[0m invalid syntax\n"
     ]
    }
   ],
   "source": [
    "\n",
    "#\n",
    "import pandas as pd\n",
    "import numpy as np\n",
    "\n",
    "\n",
    "# make sql database connection with pyodbc\n",
    "conn = pyodbc.connect('DRIVER={ODBC Driver 17 for SQL Server};SERVER=sql12;DATABASE=sde_tabular;UID=sde;PWD=staff')\n"
   ]
  },
  {
   "cell_type": "markdown",
   "metadata": {},
   "source": [
    "# Air Quality"
   ]
  },
  {
   "cell_type": "markdown",
   "metadata": {},
   "source": []
  },
  {
   "cell_type": "markdown",
   "metadata": {},
   "source": [
    "## Noise"
   ]
  },
  {
   "cell_type": "code",
   "execution_count": null,
   "metadata": {},
   "outputs": [],
   "source": [
    "pip install geopandas"
   ]
  },
  {
   "cell_type": "markdown",
   "metadata": {},
   "source": []
  },
  {
   "cell_type": "markdown",
   "metadata": {},
   "source": [
    "#### CNEL Maximum Day Update SDE.Monitoring SDE.Plan_Area_Noise"
   ]
  },
  {
   "cell_type": "code",
   "execution_count": 35,
   "metadata": {},
   "outputs": [
    {
     "name": "stdout",
     "output_type": "stream",
     "text": [
      "               PAS_NAME             CNEL LAND USE 1987 PAS#  \\\n",
      "0            MOUNT ROSE       WILDERNESS/ROADLESS        30   \n",
      "1         BIJOU MEADOWS  URBAN OUTDOOR RECREATION       101   \n",
      "2              LAKEVIEW  HIGH DENSITY RESIDENTIAL        37   \n",
      "3  ROUNDHILL COMMERCIAL                INDUSTRIAL        71   \n",
      "4         MOUNTAIN VIEW   LOW DENSITY RESIDENTIAL       132   \n",
      "\n",
      "   MONITORING SITE LATITUDE  MONITORING SITE LONGITUDE LAND_USE  \\\n",
      "0                 39.303580                -119.929140     CONS   \n",
      "1                 38.921959                -119.961552      REC   \n",
      "2                 39.248356                -119.971536      RES   \n",
      "3                 38.984234                -119.941212   COM/PS   \n",
      "4                 38.879719                -120.039483      RES   \n",
      "\n",
      "                    Year  CNEL_Maximum_Day_Value  \n",
      "0  2023 CNEL Maximum Day                     NaN  \n",
      "1  2023 CNEL Maximum Day                     NaN  \n",
      "2  2023 CNEL Maximum Day                     NaN  \n",
      "3  2023 CNEL Maximum Day                     NaN  \n",
      "4  2023 CNEL Maximum Day                     NaN  \n",
      "Index(['PAS_NAME', 'CNEL LAND USE', '1987 PAS#', 'MONITORING SITE LATITUDE',\n",
      "       'MONITORING SITE LONGITUDE', 'LAND_USE', 'Year',\n",
      "       'CNEL_Maximum_Day_Value'],\n",
      "      dtype='object')\n",
      "<class 'pandas.core.frame.DataFrame'>\n",
      "RangeIndex: 320 entries, 0 to 319\n",
      "Data columns (total 17 columns):\n",
      " #   Column            Non-Null Count  Dtype  \n",
      "---  ------            --------------  -----  \n",
      " 0   OBJECTID          320 non-null    int64  \n",
      " 1   PAS_1987          320 non-null    object \n",
      " 2   ID                280 non-null    float64\n",
      " 3   LATITUDE          320 non-null    float64\n",
      " 4   LONGITUDE         320 non-null    float64\n",
      " 5   SITE_NAME         320 non-null    object \n",
      " 6   LAND_USE          320 non-null    object \n",
      " 7   CNEL_LAND_USE     320 non-null    object \n",
      " 8   CATEGORY          320 non-null    object \n",
      " 9   YEAR_OF_COUNT     320 non-null    int64  \n",
      " 10  COUNT_VALUE       320 non-null    float64\n",
      " 11  LTINFO            320 non-null    object \n",
      " 12  GlobalID          320 non-null    object \n",
      " 13  created_user      0 non-null      object \n",
      " 14  created_date      0 non-null      object \n",
      " 15  last_edited_user  0 non-null      object \n",
      " 16  last_edited_date  0 non-null      object \n",
      "dtypes: float64(4), int64(2), object(11)\n",
      "memory usage: 42.6+ KB\n",
      "{'FAIRWAY TRACT': {'ID': nan, 'LTINFO': 'https://monitoring.laketahoeinfo.org/MonitoringSite/Detail/651'}, 'LOWER TRUCKEE': {'ID': 197.0, 'LTINFO': 'https://monitoring.laketahoeinfo.org/MonitoringSite/Detail/351'}, 'ROCKY RIDGE': {'ID': 181.0, 'LTINFO': 'https://monitoring.laketahoeinfo.org/MonitoringSite/Detail/348'}, 'FISH HATCHERY': {'ID': 179.0, 'LTINFO': 'https://monitoring.laketahoeinfo.org/MonitoringSite/Detail/349'}, 'DOLLAR POINT': {'ID': 175.0, 'LTINFO': 'https://monitoring.laketahoeinfo.org/MonitoringSite/Detail/347'}, 'HIGHLANDS': {'ID': 176.0, 'LTINFO': 'https://monitoring.laketahoeinfo.org/MonitoringSite/Detail/346'}, 'NORTH TAHOE HIGH SCHOOL': {'ID': 174.0, 'LTINFO': 'https://monitoring.laketahoeinfo.org/MonitoringSite/Detail/345'}, 'WATSON CREEK': {'ID': 192.0, 'LTINFO': 'https://monitoring.laketahoeinfo.org/MonitoringSite/Detail/344'}, 'CEDAR FLAT': {'ID': 171.0, 'LTINFO': 'https://monitoring.laketahoeinfo.org/MonitoringSite/Detail/343'}, 'NORTH STAR': {'ID': nan, 'LTINFO': 'https://monitoring.laketahoeinfo.org/MonitoringSite/Detail/650'}, 'CARNELIAN BAY': {'ID': 170.0, 'LTINFO': 'https://monitoring.laketahoeinfo.org/MonitoringSite/Detail/342'}, 'FLICK POINT/AGATE BAY': {'ID': 168.0, 'LTINFO': 'https://monitoring.laketahoeinfo.org/MonitoringSite/Detail/340'}, 'MARTIS PEAK': {'ID': nan, 'LTINFO': 'https://monitoring.laketahoeinfo.org/MonitoringSite/Detail/649'}, 'KINGSWOOD WEST': {'ID': nan, 'LTINFO': 'https://monitoring.laketahoeinfo.org/MonitoringSite/Detail/648'}, 'TAHOE ESTATES': {'ID': 167.0, 'LTINFO': 'https://monitoring.laketahoeinfo.org/MonitoringSite/Detail/332'}, 'TAHOE VISTA COMMERCIAL': {'ID': 220.0, 'LTINFO': 'https://monitoring.laketahoeinfo.org/MonitoringSite/Detail/333'}, 'TAHOE VISTA SUBDIVISION': {'ID': nan, 'LTINFO': 'https://monitoring.laketahoeinfo.org/MonitoringSite/Detail/647'}, 'KINGSWOOD EAST': {'ID': 162.0, 'LTINFO': 'https://monitoring.laketahoeinfo.org/MonitoringSite/Detail/322'}, 'KINGS BEACH INDUSTRIAL': {'ID': 202.0, 'LTINFO': 'https://monitoring.laketahoeinfo.org/MonitoringSite/Detail/331'}, 'WOODVISTA': {'ID': 193.0, 'LTINFO': 'https://monitoring.laketahoeinfo.org/MonitoringSite/Detail/329'}, 'KINGS BEACH RESIDENTIAL': {'ID': 211.0, 'LTINFO': 'https://monitoring.laketahoeinfo.org/MonitoringSite/Detail/334'}, 'KINGS BEACH COMMERCIAL': {'ID': 227.0, 'LTINFO': 'https://monitoring.laketahoeinfo.org/MonitoringSite/Detail/336'}, 'MOUNT ROSE': {'ID': nan, 'LTINFO': 'https://monitoring.laketahoeinfo.org/MonitoringSite/Detail/646'}, 'BROCKWAY': {'ID': 204.0, 'LTINFO': 'https://monitoring.laketahoeinfo.org/MonitoringSite/Detail/338'}, 'CRYSTAL BAY': {'ID': 4.0, 'LTINFO': 'https://monitoring.laketahoeinfo.org/MonitoringSite/Detail/335'}, 'INCLINE VILLAGE #4/PONDEROSA': {'ID': nan, 'LTINFO': 'https://monitoring.laketahoeinfo.org/MonitoringSite/Detail/645'}, 'LAKEVIEW': {'ID': 7.0, 'LTINFO': 'https://monitoring.laketahoeinfo.org/MonitoringSite/Detail/326'}, 'INCLINE VILLAGE #3': {'ID': nan, 'LTINFO': 'https://monitoring.laketahoeinfo.org/MonitoringSite/Detail/644'}, 'INCLINE VILLAGE #5': {'ID': nan, 'LTINFO': 'https://monitoring.laketahoeinfo.org/MonitoringSite/Detail/643'}, 'CHATUEA/COUNTRY CLUB': {'ID': 13.0, 'LTINFO': 'https://monitoring.laketahoeinfo.org/MonitoringSite/Detail/321'}, 'INCLINE VILLAGE COMMERCIAL': {'ID': 15.0, 'LTINFO': 'https://monitoring.laketahoeinfo.org/MonitoringSite/Detail/327'}, 'INCLINE VILLAGE RESIDENTIAL': {'ID': 16.0, 'LTINFO': 'https://monitoring.laketahoeinfo.org/MonitoringSite/Detail/325'}, 'INCLINE VILLAGE TOURIST': {'ID': 18.0, 'LTINFO': 'https://monitoring.laketahoeinfo.org/MonitoringSite/Detail/330'}, 'MILL CREEK': {'ID': 19.0, 'LTINFO': 'https://monitoring.laketahoeinfo.org/MonitoringSite/Detail/337'}, 'TYROLIAN VILLAGE': {'ID': 21.0, 'LTINFO': 'https://monitoring.laketahoeinfo.org/MonitoringSite/Detail/323'}, 'INCLINE SKI': {'ID': 22.0, 'LTINFO': 'https://monitoring.laketahoeinfo.org/MonitoringSite/Detail/324'}, 'SPOONER LAKE': {'ID': nan, 'LTINFO': 'https://monitoring.laketahoeinfo.org/MonitoringSite/Detail/642'}, 'GLENBROOK': {'ID': 28.0, 'LTINFO': 'https://monitoring.laketahoeinfo.org/MonitoringSite/Detail/357'}, 'LINCOLN': {'ID': 33.0, 'LTINFO': 'https://monitoring.laketahoeinfo.org/MonitoringSite/Detail/363'}, 'LAKERIDGE': {'ID': nan, 'LTINFO': 'https://monitoring.laketahoeinfo.org/MonitoringSite/Detail/641'}, 'ZEPHYR COVE': {'ID': 36.0, 'LTINFO': 'https://monitoring.laketahoeinfo.org/MonitoringSite/Detail/365'}, 'MARLA BAY/ZEPHYR HEIGHTS': {'ID': 37.0, 'LTINFO': 'https://monitoring.laketahoeinfo.org/MonitoringSite/Detail/366'}, 'ROUNDHILL COMMERCIAL': {'ID': 41.0, 'LTINFO': 'https://monitoring.laketahoeinfo.org/MonitoringSite/Detail/368'}, 'LAKE VILLAGE': {'ID': 43.0, 'LTINFO': 'https://monitoring.laketahoeinfo.org/MonitoringSite/Detail/371'}, 'ROUND HILL RESIDENTIAL': {'ID': 44.0, 'LTINFO': 'https://monitoring.laketahoeinfo.org/MonitoringSite/Detail/367'}, 'DOUGLAS COUNTY SEWER IMPROVEMENT DISTRIC': {'ID': 45.0, 'LTINFO': 'https://monitoring.laketahoeinfo.org/MonitoringSite/Detail/369'}, 'KINGSBURY COMMERCIAL': {'ID': 140.0, 'LTINFO': 'https://monitoring.laketahoeinfo.org/MonitoringSite/Detail/374'}, 'MIDDLE KINGSBURY': {'ID': 47.0, 'LTINFO': 'https://monitoring.laketahoeinfo.org/MonitoringSite/Detail/373'}, 'CHIMNEY ROCK': {'ID': 48.0, 'LTINFO': 'https://monitoring.laketahoeinfo.org/MonitoringSite/Detail/370'}, 'KINGSBURY DRAINAGE': {'ID': 49.0, 'LTINFO': 'https://monitoring.laketahoeinfo.org/MonitoringSite/Detail/378'}, 'KINGSBURY VILLAGE': {'ID': nan, 'LTINFO': 'https://monitoring.laketahoeinfo.org/MonitoringSite/Detail/640'}, 'UPPER KINGSBURY': {'ID': 51.0, 'LTINFO': 'https://monitoring.laketahoeinfo.org/MonitoringSite/Detail/372'}, 'LAKEVIEW HEIGHTS': {'ID': 54.0, 'LTINFO': 'https://monitoring.laketahoeinfo.org/MonitoringSite/Detail/381'}, 'HEAVENLY VALLEY NEVADA': {'ID': 55.0, 'LTINFO': 'https://monitoring.laketahoeinfo.org/MonitoringSite/Detail/375'}, 'TAHOE VILLAGE': {'ID': 57.0, 'LTINFO': 'https://monitoring.laketahoeinfo.org/MonitoringSite/Detail/376'}, 'PIONEER/SKI RUN': {'ID': 61.0, 'LTINFO': 'https://monitoring.laketahoeinfo.org/MonitoringSite/Detail/380'}, 'BIJOU': {'ID': 62.0, 'LTINFO': 'https://monitoring.laketahoeinfo.org/MonitoringSite/Detail/382'}, 'TROUT/COLD CREEK': {'ID': nan, 'LTINFO': 'https://monitoring.laketahoeinfo.org/MonitoringSite/Detail/639'}, 'PIONEER VILLAGE': {'ID': nan, 'LTINFO': 'https://monitoring.laketahoeinfo.org/MonitoringSite/Detail/638'}, 'BIJOU/AL TAHOE': {'ID': 67.0, 'LTINFO': 'https://monitoring.laketahoeinfo.org/MonitoringSite/Detail/386'}, 'AL TAHOE': {'ID': nan, 'LTINFO': 'https://monitoring.laketahoeinfo.org/MonitoringSite/Detail/637'}, 'BIJOU MEADOWS': {'ID': 70.0, 'LTINFO': 'https://monitoring.laketahoeinfo.org/MonitoringSite/Detail/390'}, 'TAHOE KEYS': {'ID': 71.0, 'LTINFO': 'https://monitoring.laketahoeinfo.org/MonitoringSite/Detail/384'}, 'HIGHLAND WOODS': {'ID': nan, 'LTINFO': 'https://monitoring.laketahoeinfo.org/MonitoringSite/Detail/636'}, 'SIERRA TRACT': {'ID': 74.0, 'LTINFO': 'https://monitoring.laketahoeinfo.org/MonitoringSite/Detail/388'}, 'MONTGOMERY ESTATES': {'ID': 75.0, 'LTINFO': 'https://monitoring.laketahoeinfo.org/MonitoringSite/Detail/396'}, 'BLACK BART': {'ID': 76.0, 'LTINFO': 'https://monitoring.laketahoeinfo.org/MonitoringSite/Detail/392'}, 'WINNEMUCCA': {'ID': nan, 'LTINFO': 'https://monitoring.laketahoeinfo.org/MonitoringSite/Detail/635'}, 'SOUTH Y SA#1': {'ID': 133.0, 'LTINFO': 'https://monitoring.laketahoeinfo.org/MonitoringSite/Detail/391'}, 'TAHOE ISLAND': {'ID': 79.0, 'LTINFO': 'https://monitoring.laketahoeinfo.org/MonitoringSite/Detail/389'}, 'GARDNER MOUNTAIN': {'ID': 80.0, 'LTINFO': 'https://monitoring.laketahoeinfo.org/MonitoringSite/Detail/393'}, 'INDUSTRIAL TRACT': {'ID': 81.0, 'LTINFO': 'https://monitoring.laketahoeinfo.org/MonitoringSite/Detail/395'}, 'BONANZA': {'ID': 82.0, 'LTINFO': 'https://monitoring.laketahoeinfo.org/MonitoringSite/Detail/394'}, 'GOLDEN BEAR': {'ID': nan, 'LTINFO': 'https://monitoring.laketahoeinfo.org/MonitoringSite/Detail/634'}, 'TAHOE PARADISE WASHOAN': {'ID': 85.0, 'LTINFO': 'https://monitoring.laketahoeinfo.org/MonitoringSite/Detail/397'}, 'COUNTRY CLUB MEADOW': {'ID': nan, 'LTINFO': 'https://monitoring.laketahoeinfo.org/MonitoringSite/Detail/633'}, 'TAHOE PARADISE MEADOWVALE': {'ID': nan, 'LTINFO': 'https://monitoring.laketahoeinfo.org/MonitoringSite/Detail/632'}, 'FREEL PEAK': {'ID': 89.0, 'LTINFO': 'https://monitoring.laketahoeinfo.org/MonitoringSite/Detail/406'}, 'TAHOE PARADISE MANDAN': {'ID': 90.0, 'LTINFO': 'https://monitoring.laketahoeinfo.org/MonitoringSite/Detail/405'}, 'MEYERS FOREST': {'ID': 91.0, 'LTINFO': 'https://monitoring.laketahoeinfo.org/MonitoringSite/Detail/403'}, 'MEYERS RESIDENTIAL': {'ID': 92.0, 'LTINFO': 'https://monitoring.laketahoeinfo.org/MonitoringSite/Detail/402'}, 'MEYERS COMMERCIAL': {'ID': 93.0, 'LTINFO': 'https://monitoring.laketahoeinfo.org/MonitoringSite/Detail/404'}, 'POPE BEACH': {'ID': 93.0, 'LTINFO': 'https://monitoring.laketahoeinfo.org/MonitoringSite/Detail/387'}, 'BALDWIN': {'ID': nan, 'LTINFO': 'https://monitoring.laketahoeinfo.org/MonitoringSite/Detail/631'}, 'FALLEN LEAF NORTH': {'ID': 97.0, 'LTINFO': 'https://monitoring.laketahoeinfo.org/MonitoringSite/Detail/385'}, 'ANGORA RIDGE': {'ID': nan, 'LTINFO': 'https://monitoring.laketahoeinfo.org/MonitoringSite/Detail/630'}, 'ANGORA HIGHLANDS': {'ID': nan, 'LTINFO': 'https://monitoring.laketahoeinfo.org/MonitoringSite/Detail/629'}, 'MOUNTAIN VIEW': {'ID': 100.0, 'LTINFO': 'https://monitoring.laketahoeinfo.org/MonitoringSite/Detail/398'}, 'TAHOE PARADISE UPPER TRUCKEE': {'ID': 101.0, 'LTINFO': 'https://monitoring.laketahoeinfo.org/MonitoringSite/Detail/401'}, 'TAHOE PARADISE CHIAPA': {'ID': nan, 'LTINFO': 'https://monitoring.laketahoeinfo.org/MonitoringSite/Detail/628'}, 'KOA/RAINBOW': {'ID': 104.0, 'LTINFO': 'https://monitoring.laketahoeinfo.org/MonitoringSite/Detail/407'}, 'CHRISTMAS VALLEY': {'ID': 105.0, 'LTINFO': 'https://monitoring.laketahoeinfo.org/MonitoringSite/Detail/410'}, 'DARDENELLES': {'ID': 107.0, 'LTINFO': 'https://monitoring.laketahoeinfo.org/MonitoringSite/Detail/411'}, 'ECHO SUMMIT': {'ID': 107.0, 'LTINFO': 'https://monitoring.laketahoeinfo.org/MonitoringSite/Detail/409'}, 'ECHO LAKE': {'ID': 110.0, 'LTINFO': 'https://monitoring.laketahoeinfo.org/MonitoringSite/Detail/408'}, 'DESOLATION': {'ID': 111.0, 'LTINFO': 'https://monitoring.laketahoeinfo.org/MonitoringSite/Detail/383'}, 'EMERALD BAY (EAGLE FALLS)': {'ID': 115.0, 'LTINFO': 'https://monitoring.laketahoeinfo.org/MonitoringSite/Detail/379'}, 'MEEKS CREEK': {'ID': nan, 'LTINFO': 'https://monitoring.laketahoeinfo.org/MonitoringSite/Detail/627'}, 'RUBICON': {'ID': 118.0, 'LTINFO': 'https://monitoring.laketahoeinfo.org/MonitoringSite/Detail/364'}, 'GLENRIDGE': {'ID': nan, 'LTINFO': 'https://monitoring.laketahoeinfo.org/MonitoringSite/Detail/626'}, 'SUGAR PINE POINT': {'ID': nan, 'LTINFO': 'https://monitoring.laketahoeinfo.org/MonitoringSite/Detail/625'}, 'TAHOMA RESIDENTIAL': {'ID': 123.0, 'LTINFO': 'https://monitoring.laketahoeinfo.org/MonitoringSite/Detail/362'}, 'CHAMBERS LANDING': {'ID': nan, 'LTINFO': 'https://monitoring.laketahoeinfo.org/MonitoringSite/Detail/624'}, 'HOMEWOOD/TAHOE SKI BOWL': {'ID': 206.0, 'LTINFO': 'https://monitoring.laketahoeinfo.org/MonitoringSite/Detail/361'}, 'MCKINNEY TRACT': {'ID': 186.0, 'LTINFO': 'https://monitoring.laketahoeinfo.org/MonitoringSite/Detail/360'}, 'HOMEWOOD COMMERCIAL': {'ID': 185.0, 'LTINFO': 'https://monitoring.laketahoeinfo.org/MonitoringSite/Detail/359'}, 'HOMEWOOD/RESIDENTIAL': {'ID': 205.0, 'LTINFO': 'https://monitoring.laketahoeinfo.org/MonitoringSite/Detail/358'}, 'BLACKWOOD': {'ID': 201.0, 'LTINFO': 'https://monitoring.laketahoeinfo.org/MonitoringSite/Detail/356'}, 'LOWER WARD VALLEY': {'ID': nan, 'LTINFO': 'https://monitoring.laketahoeinfo.org/MonitoringSite/Detail/623'}, 'SUNNYSIDE/SKYLAND': {'ID': 212.0, 'LTINFO': 'https://monitoring.laketahoeinfo.org/MonitoringSite/Detail/355'}, 'TIMBERLAND': {'ID': nan, 'LTINFO': 'https://monitoring.laketahoeinfo.org/MonitoringSite/Detail/622'}, 'ALPINE PEAKS': {'ID': 195.0, 'LTINFO': 'https://monitoring.laketahoeinfo.org/MonitoringSite/Detail/353'}, 'TAHOE PARK/PINELAND': {'ID': 208.0, 'LTINFO': 'https://monitoring.laketahoeinfo.org/MonitoringSite/Detail/354'}, 'TAVERN HEIGHTS': {'ID': 210.0, 'LTINFO': 'https://monitoring.laketahoeinfo.org/MonitoringSite/Detail/352'}, '64 ACRE TRACT': {'ID': nan, 'LTINFO': 'https://monitoring.laketahoeinfo.org/MonitoringSite/Detail/621'}, 'FALLEN LEAF FOREST SERVICE TRACTS': {'ID': 112.0, 'LTINFO': 'https://monitoring.laketahoeinfo.org/MonitoringSite/Detail/399'}, 'LILLY/ANGORA LAKES': {'ID': 113.0, 'LTINFO': 'https://monitoring.laketahoeinfo.org/MonitoringSite/Detail/400'}, 'CARNELIAN WOODS': {'ID': 169.0, 'LTINFO': 'https://monitoring.laketahoeinfo.org/MonitoringSite/Detail/339'}, 'CARNELIAN BAY SUBDIVISION': {'ID': 171.0, 'LTINFO': 'https://monitoring.laketahoeinfo.org/MonitoringSite/Detail/341'}, 'TAHOE CITY': {'ID': nan, 'LTINFO': 'https://monitoring.laketahoeinfo.org/MonitoringSite/Detail/620'}, 'NORTH TAHOE RECREATION AREA': {'ID': 164.0, 'LTINFO': 'https://monitoring.laketahoeinfo.org/MonitoringSite/Detail/328'}, 'SNOW CREEK': {'ID': nan, 'LTINFO': 'https://monitoring.laketahoeinfo.org/MonitoringSite/Detail/619'}, 'NEVADA SOUTH STATELINE RESORT AREA': {'ID': 137.0, 'LTINFO': 'https://monitoring.laketahoeinfo.org/MonitoringSite/Detail/377'}, 'LAKE FOREST COM. SA#1': {'ID': 218.0, 'LTINFO': 'https://monitoring.laketahoeinfo.org/MonitoringSite/Detail/350'}, 'FAIRWAY': {'ID': nan, 'LTINFO': 'https://monitoring.laketahoeinfo.org/MonitoringSite/Detail/716'}, 'PONDEROSA RANCH': {'ID': nan, 'LTINFO': 'https://monitoring.laketahoeinfo.org/MonitoringSite/Detail/715'}, 'EAST SHORE': {'ID': nan, 'LTINFO': 'https://monitoring.laketahoeinfo.org/MonitoringSite/Detail/714'}, 'ROUND MOUND': {'ID': nan, 'LTINFO': 'https://monitoring.laketahoeinfo.org/MonitoringSite/Detail/713'}, 'TRUCKEE MARSH': {'ID': nan, 'LTINFO': 'https://monitoring.laketahoeinfo.org/MonitoringSite/Detail/712'}, 'LUTHER PASS': {'ID': nan, 'LTINFO': 'https://monitoring.laketahoeinfo.org/MonitoringSite/Detail/711'}}\n",
      "['SITE_NAME', 'YEAR_OF_COUNT', 'COUNT_VALUE', 'CATEGORY', 'ID', 'LATITUDE', 'LONGITUDE', 'LAND_USE', 'CNEL_LAND_USE', 'LTINFO', 'PAS_1987', 'geometry']\n"
     ]
    },
    {
     "name": "stderr",
     "output_type": "stream",
     "text": [
      "Could not insert the row because of error message: The value type is incompatible with the field type. [PAS_1987]. Recheck your data.\n",
      "Could not insert the row because of error message: The value type is incompatible with the field type. [PAS_1987]. Recheck your data.\n",
      "Could not insert the row because of error message: The value type is incompatible with the field type. [PAS_1987]. Recheck your data.\n"
     ]
    },
    {
     "data": {
      "text/plain": [
       "'C:\\\\Users\\\\snewsome\\\\Documents\\\\ArcGIS\\\\Projects\\\\Data Management 2023\\\\Scratch.gdb\\\\PlanAreaNoise23staging'"
      ]
     },
     "execution_count": 35,
     "metadata": {},
     "output_type": "execute_result"
    }
   ],
   "source": [
    "# Setup\n",
    "#import pandas as pd\n",
    "#import os\n",
    "#from arcgis import GIS\n",
    "#from arcgis.features import FeatureLayer\n",
    "# Import geopandas\n",
    "#import geopandas as gpd\n",
    "#from shapely.geometry import Point\n",
    "#import arcpy\n",
    "#from arcgis.features import GeoAccessor\n",
    "\n",
    "\n",
    "#workspace =r'C:\\Users\\snewsome\\Documents\\ArcGIS\\Projects\\Data Management 2023\\Scratch.gdb'\n",
    "\n",
    "## Update SDE.Monitoring.SDE.Plan_Area_Noise with new data 2020-2023\n",
    "#excel_file_path = r\"F:\\Research and Analysis\\Noise\\Monitoring\\CNEL - Plan Areas\\ALL_CNEL_PLANAREAS_RESULTS_(1991-2023).xlsx\"\n",
    "\n",
    "# Read the Excel file into a DataFrame\n",
    "#Noise23_df = pd.read_excel(excel_file_path)\n",
    "\n",
    "# Keep only columns that you want\n",
    "#columns_to_keep = ['CNEL LAND USE', '1987 PAS#', 'MONITORING SITE LATITUDE', 'MONITORING SITE LONGITUDE', 'PAS_NAME', 'LAND_USE', '2023 CNEL Maximum Day', '2022 CNEL Maximum Day', '2021 CNEL Maximum Day', '2020 CNEL Maximum Day']\n",
    "#Noise23_df = Noise23_df[columns_to_keep]\n",
    "\n",
    "#Noise23_df.columns = Noise23_df.columns.str.strip()\n",
    "\n",
    "# PASNAME\n",
    "#Noise23_df['PAS_NAME'] = Noise23_df['PAS_NAME'].astype(str)\n",
    "\n",
    "# Assuming df is your DataFrame\n",
    "#meltcolumns_to_keep = ['CNEL LAND USE', '1987 PAS#', 'MONITORING SITE LATITUDE', 'MONITORING SITE LONGITUDE', 'LAND_USE']\n",
    "#id_columns = ['PAS_NAME']\n",
    "\n",
    "# Specify the columns to melt (exclude the identifier column)\n",
    "#columns_to_melt = ['2023 CNEL Maximum Day', '2022 CNEL Maximum Day', '2021 CNEL Maximum Day', '2020 CNEL Maximum Day']\n",
    "\n",
    "#id_vars = id_columns + meltcolumns_to_keep\n",
    "\n",
    "# Use pd.melt to reshape the DataFrame\n",
    "#Noise23_df = pd.melt(Noise23_df, id_vars=id_vars, value_vars=columns_to_melt, var_name='Year', value_name='CNEL_Maximum_Day_Value')\n",
    "\n",
    "#print(Noise23_df.head())\n",
    "#print(Noise23_df.columns)\n",
    "\n",
    "# Extract only the year from the 'YEAR_OF_COUNT' column and drop \"CNEL Maximum Day\" from each value\n",
    "#Noise23_df['Year'] = Noise23_df['Year'].str.replace(' CNEL Maximum Day', '')\n",
    "\n",
    "\n",
    "\n",
    "# Add 'Category' column\n",
    "#Noise23_df['Category'] = 'CNEL Maximum Day'\n",
    "\n",
    "# Drop rows where 'CNEL_Maximum_Day_Value' is NaN\n",
    "#Noise23_df = Noise23_df.dropna(subset=['CNEL_Maximum_Day_Value'])\n",
    "\n",
    "# Use lookup_dict to fill in LTINFO# Create a lookup dictionary to fill in LTINFO and ID\n",
    "#gis = GIS()\n",
    "\n",
    "\n",
    "#def get_fs_data(service_url):\n",
    " #   feature_layer = FeatureLayer(service_url)\n",
    "  #  query_result = feature_layer.query()\n",
    "   # feature_list = query_result.features\n",
    "    #all_data = pd.DataFrame([feature.attributes for feature in feature_list])\n",
    "    #return all_data\n",
    "\n",
    "\n",
    "# REST SERVICE data for lookup dictionary\n",
    "#service_url = 'https://maps.trpa.org/server/rest/services/LTInfo_Monitoring/MapServer/6'\n",
    "\n",
    "#dfplannoisesde = get_fs_data(service_url)\n",
    "\n",
    "#dfplannoisesde.info()\n",
    "#columnstokeep = ['SITE_NAME', 'ID', 'LTINFO']\n",
    "#dfplannoisesde = dfplannoisesde.loc[:, columnstokeep]\n",
    "\n",
    "# Drop duplicates based on 'SITE_NAME' and keep the first occurrence\n",
    "#unique_values = dfplannoisesde.drop_duplicates(subset='SITE_NAME', keep='first')\n",
    "\n",
    "# Select specific columns for lookup\n",
    "#selected_columns = ['SITE_NAME', 'ID', 'LTINFO']\n",
    "\n",
    "# Convert selected columns to dictionary\n",
    "#lookup_dict = unique_values[selected_columns].set_index('SITE_NAME').to_dict(orient='index')\n",
    "\n",
    "# Display the dictionary\n",
    "#print(lookup_dict)\n",
    "\n",
    "# Create new columns 'ID' and 'LTINFO' based on 'PAS_NAME' and look up dictionary\n",
    "#Noise23_df['ID'] = Noise23_df['PAS_NAME'].apply(lambda x: lookup_dict.get(x, {}).get('ID'))\n",
    "#Noise23_df['LTINFO'] = Noise23_df['PAS_NAME'].apply(lambda x: lookup_dict.get(x, {}).get('LTINFO'))\n",
    "\n",
    "# Specify the columns to keep in Final_sdf\n",
    "#finalcolumns_to_keep = ['PAS_NAME', 'Year', 'CNEL_Maximum_Day_Value', 'Category','ID', 'MONITORING SITE LATITUDE', 'MONITORING SITE LONGITUDE', 'LAND_USE', 'CNEL LAND USE', 'LTINFO', '1987 PAS#']\n",
    "\n",
    "# Create a new DataFrame Final_df with the selected columns\n",
    "#Final_sdf = Noise23_df[finalcolumns_to_keep]\n",
    "\n",
    "# Create a GeoDataFrame by converting 'LATITUDE' and 'LONGITUDE' to Point geometry\n",
    "#geometry = [Point(xy) for xy in zip(Final_sdf['MONITORING SITE LONGITUDE'], Final_sdf['MONITORING SITE LATITUDE'])]\n",
    "#Final_sdf = gpd.GeoDataFrame(Final_sdf, geometry=geometry)\n",
    "\n",
    "# Field mapping so that columns match\n",
    "#field_mapping = {\n",
    " #   '1987 PAS#': 'PAS_1987',\n",
    "  #  'ID': 'ID',\n",
    "   # 'MONITORING SITE LATITUDE': 'LATITUDE',\n",
    "    #'MONITORING SITE LONGITUDE': 'LONGITUDE',\n",
    "    #'PAS_NAME': 'SITE_NAME',\n",
    "    'LAND_USE': 'LAND_USE',\n",
    "    'CNEL LAND USE': 'CNEL_LAND_USE',\n",
    "    'Category': 'CATEGORY',\n",
    "    'Year': 'YEAR_OF_COUNT',\n",
    "    'CNEL_Maximum_Day_Value': 'COUNT_VALUE',\n",
    "    'LTINFO': 'LTINFO'\n",
    "}\n",
    "\n",
    "# Create a new DataFrame Final_df with columns based on the field mapping\n",
    "Final_sdf = Final_sdf.rename(columns=field_mapping)\n",
    "\n",
    "# Convert GeoPandas DataFrame to ArcGIS Spatially Enabled DataFrame\n",
    "sedf = GeoAccessor.from_geodataframe(Final_sdf)\n",
    "\n",
    "# Display the updated Final_df\n",
    "print(list(Final_sdf.columns))\n",
    "\n",
    "# Save Final_df to a CSV file\n",
    "#Final_sdf.to_csv(r'F:\\Research and Analysis\\Workspace\\Sarah\\Data Management 2023\\Drafts\\NoiseThreshold23.csv', index=False)\n",
    "\n",
    "# Convert the SEDF to a feature class\n",
    "sedf.spatial.to_featureclass(location=os.path.join(workspace, 'PlanAreaNoise23staging'), \n",
    "                                                            sanitize_columns=False)\n",
    "\n"
   ]
  },
  {
   "cell_type": "code",
   "execution_count": 36,
   "metadata": {},
   "outputs": [
    {
     "name": "stdout",
     "output_type": "stream",
     "text": [
      "               PAS_NAME             CNEL LAND USE  MONITORING SITE LATITUDE  \\\n",
      "0            MOUNT ROSE       WILDERNESS/ROADLESS                 39.303580   \n",
      "1         BIJOU MEADOWS  URBAN OUTDOOR RECREATION                 38.921959   \n",
      "2              LAKEVIEW  HIGH DENSITY RESIDENTIAL                 39.248356   \n",
      "3  ROUNDHILL COMMERCIAL                INDUSTRIAL                 38.984234   \n",
      "4         MOUNTAIN VIEW   LOW DENSITY RESIDENTIAL                 38.879719   \n",
      "\n",
      "   MONITORING SITE LONGITUDE LAND_USE                   Year  \\\n",
      "0                -119.929140     CONS  2023 CNEL Maximum Day   \n",
      "1                -119.961552      REC  2023 CNEL Maximum Day   \n",
      "2                -119.971536      RES  2023 CNEL Maximum Day   \n",
      "3                -119.941212   COM/PS  2023 CNEL Maximum Day   \n",
      "4                -120.039483      RES  2023 CNEL Maximum Day   \n",
      "\n",
      "   CNEL_Maximum_Day_Value  \n",
      "0                     NaN  \n",
      "1                     NaN  \n",
      "2                     NaN  \n",
      "3                     NaN  \n",
      "4                     NaN  \n",
      "Index(['PAS_NAME', 'CNEL LAND USE', 'MONITORING SITE LATITUDE',\n",
      "       'MONITORING SITE LONGITUDE', 'LAND_USE', 'Year',\n",
      "       'CNEL_Maximum_Day_Value'],\n",
      "      dtype='object')\n",
      "<class 'pandas.core.frame.DataFrame'>\n",
      "RangeIndex: 320 entries, 0 to 319\n",
      "Data columns (total 17 columns):\n",
      " #   Column            Non-Null Count  Dtype  \n",
      "---  ------            --------------  -----  \n",
      " 0   OBJECTID          320 non-null    int64  \n",
      " 1   PAS_1987          320 non-null    object \n",
      " 2   ID                280 non-null    float64\n",
      " 3   LATITUDE          320 non-null    float64\n",
      " 4   LONGITUDE         320 non-null    float64\n",
      " 5   SITE_NAME         320 non-null    object \n",
      " 6   LAND_USE          320 non-null    object \n",
      " 7   CNEL_LAND_USE     320 non-null    object \n",
      " 8   CATEGORY          320 non-null    object \n",
      " 9   YEAR_OF_COUNT     320 non-null    int64  \n",
      " 10  COUNT_VALUE       320 non-null    float64\n",
      " 11  LTINFO            320 non-null    object \n",
      " 12  GlobalID          320 non-null    object \n",
      " 13  created_user      0 non-null      object \n",
      " 14  created_date      0 non-null      object \n",
      " 15  last_edited_user  0 non-null      object \n",
      " 16  last_edited_date  0 non-null      object \n",
      "dtypes: float64(4), int64(2), object(11)\n",
      "memory usage: 42.6+ KB\n",
      "{'FAIRWAY TRACT': {'ID': nan, 'LTINFO': 'https://monitoring.laketahoeinfo.org/MonitoringSite/Detail/651', 'PAS_1987': '2'}, 'LOWER TRUCKEE': {'ID': 197.0, 'LTINFO': 'https://monitoring.laketahoeinfo.org/MonitoringSite/Detail/351', 'PAS_1987': '3'}, 'ROCKY RIDGE': {'ID': 181.0, 'LTINFO': 'https://monitoring.laketahoeinfo.org/MonitoringSite/Detail/348', 'PAS_1987': '5'}, 'FISH HATCHERY': {'ID': 179.0, 'LTINFO': 'https://monitoring.laketahoeinfo.org/MonitoringSite/Detail/349', 'PAS_1987': '6'}, 'DOLLAR POINT': {'ID': 175.0, 'LTINFO': 'https://monitoring.laketahoeinfo.org/MonitoringSite/Detail/347', 'PAS_1987': '10'}, 'HIGHLANDS': {'ID': 176.0, 'LTINFO': 'https://monitoring.laketahoeinfo.org/MonitoringSite/Detail/346', 'PAS_1987': '11'}, 'NORTH TAHOE HIGH SCHOOL': {'ID': 174.0, 'LTINFO': 'https://monitoring.laketahoeinfo.org/MonitoringSite/Detail/345', 'PAS_1987': '12'}, 'WATSON CREEK': {'ID': 192.0, 'LTINFO': 'https://monitoring.laketahoeinfo.org/MonitoringSite/Detail/344', 'PAS_1987': '13'}, 'CEDAR FLAT': {'ID': 171.0, 'LTINFO': 'https://monitoring.laketahoeinfo.org/MonitoringSite/Detail/343', 'PAS_1987': '14'}, 'NORTH STAR': {'ID': nan, 'LTINFO': 'https://monitoring.laketahoeinfo.org/MonitoringSite/Detail/650', 'PAS_1987': '15'}, 'CARNELIAN BAY': {'ID': 170.0, 'LTINFO': 'https://monitoring.laketahoeinfo.org/MonitoringSite/Detail/342', 'PAS_1987': '17'}, 'FLICK POINT/AGATE BAY': {'ID': 168.0, 'LTINFO': 'https://monitoring.laketahoeinfo.org/MonitoringSite/Detail/340', 'PAS_1987': '18'}, 'MARTIS PEAK': {'ID': nan, 'LTINFO': 'https://monitoring.laketahoeinfo.org/MonitoringSite/Detail/649', 'PAS_1987': '19'}, 'KINGSWOOD WEST': {'ID': nan, 'LTINFO': 'https://monitoring.laketahoeinfo.org/MonitoringSite/Detail/648', 'PAS_1987': '20'}, 'TAHOE ESTATES': {'ID': 167.0, 'LTINFO': 'https://monitoring.laketahoeinfo.org/MonitoringSite/Detail/332', 'PAS_1987': '21'}, 'TAHOE VISTA COMMERCIAL': {'ID': 220.0, 'LTINFO': 'https://monitoring.laketahoeinfo.org/MonitoringSite/Detail/333', 'PAS_1987': '22'}, 'TAHOE VISTA SUBDIVISION': {'ID': nan, 'LTINFO': 'https://monitoring.laketahoeinfo.org/MonitoringSite/Detail/647', 'PAS_1987': '23'}, 'KINGSWOOD EAST': {'ID': 162.0, 'LTINFO': 'https://monitoring.laketahoeinfo.org/MonitoringSite/Detail/322', 'PAS_1987': '25'}, 'KINGS BEACH INDUSTRIAL': {'ID': 202.0, 'LTINFO': 'https://monitoring.laketahoeinfo.org/MonitoringSite/Detail/331', 'PAS_1987': '26'}, 'WOODVISTA': {'ID': 193.0, 'LTINFO': 'https://monitoring.laketahoeinfo.org/MonitoringSite/Detail/329', 'PAS_1987': '27'}, 'KINGS BEACH RESIDENTIAL': {'ID': 211.0, 'LTINFO': 'https://monitoring.laketahoeinfo.org/MonitoringSite/Detail/334', 'PAS_1987': '28'}, 'KINGS BEACH COMMERCIAL': {'ID': 227.0, 'LTINFO': 'https://monitoring.laketahoeinfo.org/MonitoringSite/Detail/336', 'PAS_1987': '29'}, 'MOUNT ROSE': {'ID': nan, 'LTINFO': 'https://monitoring.laketahoeinfo.org/MonitoringSite/Detail/646', 'PAS_1987': '30'}, 'BROCKWAY': {'ID': 204.0, 'LTINFO': 'https://monitoring.laketahoeinfo.org/MonitoringSite/Detail/338', 'PAS_1987': '31'}, 'CRYSTAL BAY': {'ID': 4.0, 'LTINFO': 'https://monitoring.laketahoeinfo.org/MonitoringSite/Detail/335', 'PAS_1987': '34'}, 'INCLINE VILLAGE #4/PONDEROSA': {'ID': nan, 'LTINFO': 'https://monitoring.laketahoeinfo.org/MonitoringSite/Detail/645', 'PAS_1987': '36'}, 'LAKEVIEW': {'ID': 7.0, 'LTINFO': 'https://monitoring.laketahoeinfo.org/MonitoringSite/Detail/326', 'PAS_1987': '37'}, 'INCLINE VILLAGE #3': {'ID': nan, 'LTINFO': 'https://monitoring.laketahoeinfo.org/MonitoringSite/Detail/644', 'PAS_1987': '41'}, 'INCLINE VILLAGE #5': {'ID': nan, 'LTINFO': 'https://monitoring.laketahoeinfo.org/MonitoringSite/Detail/643', 'PAS_1987': '42'}, 'CHATUEA/COUNTRY CLUB': {'ID': 13.0, 'LTINFO': 'https://monitoring.laketahoeinfo.org/MonitoringSite/Detail/321', 'PAS_1987': '43'}, 'INCLINE VILLAGE COMMERCIAL': {'ID': 15.0, 'LTINFO': 'https://monitoring.laketahoeinfo.org/MonitoringSite/Detail/327', 'PAS_1987': '45'}, 'INCLINE VILLAGE RESIDENTIAL': {'ID': 16.0, 'LTINFO': 'https://monitoring.laketahoeinfo.org/MonitoringSite/Detail/325', 'PAS_1987': '46'}, 'INCLINE VILLAGE TOURIST': {'ID': 18.0, 'LTINFO': 'https://monitoring.laketahoeinfo.org/MonitoringSite/Detail/330', 'PAS_1987': '48'}, 'MILL CREEK': {'ID': 19.0, 'LTINFO': 'https://monitoring.laketahoeinfo.org/MonitoringSite/Detail/337', 'PAS_1987': '49'}, 'TYROLIAN VILLAGE': {'ID': 21.0, 'LTINFO': 'https://monitoring.laketahoeinfo.org/MonitoringSite/Detail/323', 'PAS_1987': '51'}, 'INCLINE SKI': {'ID': 22.0, 'LTINFO': 'https://monitoring.laketahoeinfo.org/MonitoringSite/Detail/324', 'PAS_1987': '52'}, 'SPOONER LAKE': {'ID': nan, 'LTINFO': 'https://monitoring.laketahoeinfo.org/MonitoringSite/Detail/642', 'PAS_1987': '57'}, 'GLENBROOK': {'ID': 28.0, 'LTINFO': 'https://monitoring.laketahoeinfo.org/MonitoringSite/Detail/357', 'PAS_1987': '58'}, 'LINCOLN': {'ID': 33.0, 'LTINFO': 'https://monitoring.laketahoeinfo.org/MonitoringSite/Detail/363', 'PAS_1987': '63'}, 'LAKERIDGE': {'ID': nan, 'LTINFO': 'https://monitoring.laketahoeinfo.org/MonitoringSite/Detail/641', 'PAS_1987': '64'}, 'ZEPHYR COVE': {'ID': 36.0, 'LTINFO': 'https://monitoring.laketahoeinfo.org/MonitoringSite/Detail/365', 'PAS_1987': '66'}, 'MARLA BAY/ZEPHYR HEIGHTS': {'ID': 37.0, 'LTINFO': 'https://monitoring.laketahoeinfo.org/MonitoringSite/Detail/366', 'PAS_1987': '67'}, 'ROUNDHILL COMMERCIAL': {'ID': 41.0, 'LTINFO': 'https://monitoring.laketahoeinfo.org/MonitoringSite/Detail/368', 'PAS_1987': '71'}, 'LAKE VILLAGE': {'ID': 43.0, 'LTINFO': 'https://monitoring.laketahoeinfo.org/MonitoringSite/Detail/371', 'PAS_1987': '73'}, 'ROUND HILL RESIDENTIAL': {'ID': 44.0, 'LTINFO': 'https://monitoring.laketahoeinfo.org/MonitoringSite/Detail/367', 'PAS_1987': '74'}, 'DOUGLAS COUNTY SEWER IMPROVEMENT DISTRIC': {'ID': 45.0, 'LTINFO': 'https://monitoring.laketahoeinfo.org/MonitoringSite/Detail/369', 'PAS_1987': '75'}, 'KINGSBURY COMMERCIAL': {'ID': 140.0, 'LTINFO': 'https://monitoring.laketahoeinfo.org/MonitoringSite/Detail/374', 'PAS_1987': '76'}, 'MIDDLE KINGSBURY': {'ID': 47.0, 'LTINFO': 'https://monitoring.laketahoeinfo.org/MonitoringSite/Detail/373', 'PAS_1987': '78'}, 'CHIMNEY ROCK': {'ID': 48.0, 'LTINFO': 'https://monitoring.laketahoeinfo.org/MonitoringSite/Detail/370', 'PAS_1987': '79'}, 'KINGSBURY DRAINAGE': {'ID': 49.0, 'LTINFO': 'https://monitoring.laketahoeinfo.org/MonitoringSite/Detail/378', 'PAS_1987': '80'}, 'KINGSBURY VILLAGE': {'ID': nan, 'LTINFO': 'https://monitoring.laketahoeinfo.org/MonitoringSite/Detail/640', 'PAS_1987': '81'}, 'UPPER KINGSBURY': {'ID': 51.0, 'LTINFO': 'https://monitoring.laketahoeinfo.org/MonitoringSite/Detail/372', 'PAS_1987': '82'}, 'LAKEVIEW HEIGHTS': {'ID': 54.0, 'LTINFO': 'https://monitoring.laketahoeinfo.org/MonitoringSite/Detail/381', 'PAS_1987': '85'}, 'HEAVENLY VALLEY NEVADA': {'ID': 55.0, 'LTINFO': 'https://monitoring.laketahoeinfo.org/MonitoringSite/Detail/375', 'PAS_1987': '86'}, 'TAHOE VILLAGE': {'ID': 57.0, 'LTINFO': 'https://monitoring.laketahoeinfo.org/MonitoringSite/Detail/376', 'PAS_1987': '88'}, 'PIONEER/SKI RUN': {'ID': 61.0, 'LTINFO': 'https://monitoring.laketahoeinfo.org/MonitoringSite/Detail/380', 'PAS_1987': '92'}, 'BIJOU': {'ID': 62.0, 'LTINFO': 'https://monitoring.laketahoeinfo.org/MonitoringSite/Detail/382', 'PAS_1987': '93'}, 'TROUT/COLD CREEK': {'ID': nan, 'LTINFO': 'https://monitoring.laketahoeinfo.org/MonitoringSite/Detail/639', 'PAS_1987': '95'}, 'PIONEER VILLAGE': {'ID': nan, 'LTINFO': 'https://monitoring.laketahoeinfo.org/MonitoringSite/Detail/638', 'PAS_1987': '96'}, 'BIJOU/AL TAHOE': {'ID': 67.0, 'LTINFO': 'https://monitoring.laketahoeinfo.org/MonitoringSite/Detail/386', 'PAS_1987': '98'}, 'AL TAHOE': {'ID': nan, 'LTINFO': 'https://monitoring.laketahoeinfo.org/MonitoringSite/Detail/637', 'PAS_1987': '99'}, 'BIJOU MEADOWS': {'ID': 70.0, 'LTINFO': 'https://monitoring.laketahoeinfo.org/MonitoringSite/Detail/390', 'PAS_1987': '101'}, 'TAHOE KEYS': {'ID': 71.0, 'LTINFO': 'https://monitoring.laketahoeinfo.org/MonitoringSite/Detail/384', 'PAS_1987': '102'}, 'HIGHLAND WOODS': {'ID': nan, 'LTINFO': 'https://monitoring.laketahoeinfo.org/MonitoringSite/Detail/636', 'PAS_1987': '104'}, 'SIERRA TRACT': {'ID': 74.0, 'LTINFO': 'https://monitoring.laketahoeinfo.org/MonitoringSite/Detail/388', 'PAS_1987': '105'}, 'MONTGOMERY ESTATES': {'ID': 75.0, 'LTINFO': 'https://monitoring.laketahoeinfo.org/MonitoringSite/Detail/396', 'PAS_1987': '106'}, 'BLACK BART': {'ID': 76.0, 'LTINFO': 'https://monitoring.laketahoeinfo.org/MonitoringSite/Detail/392', 'PAS_1987': '107'}, 'WINNEMUCCA': {'ID': nan, 'LTINFO': 'https://monitoring.laketahoeinfo.org/MonitoringSite/Detail/635', 'PAS_1987': '108'}, 'SOUTH Y SA#1': {'ID': 133.0, 'LTINFO': 'https://monitoring.laketahoeinfo.org/MonitoringSite/Detail/391', 'PAS_1987': '110'}, 'TAHOE ISLAND': {'ID': 79.0, 'LTINFO': 'https://monitoring.laketahoeinfo.org/MonitoringSite/Detail/389', 'PAS_1987': '111'}, 'GARDNER MOUNTAIN': {'ID': 80.0, 'LTINFO': 'https://monitoring.laketahoeinfo.org/MonitoringSite/Detail/393', 'PAS_1987': '112'}, 'INDUSTRIAL TRACT': {'ID': 81.0, 'LTINFO': 'https://monitoring.laketahoeinfo.org/MonitoringSite/Detail/395', 'PAS_1987': '113'}, 'BONANZA': {'ID': 82.0, 'LTINFO': 'https://monitoring.laketahoeinfo.org/MonitoringSite/Detail/394', 'PAS_1987': '114'}, 'GOLDEN BEAR': {'ID': nan, 'LTINFO': 'https://monitoring.laketahoeinfo.org/MonitoringSite/Detail/634', 'PAS_1987': '115'}, 'TAHOE PARADISE WASHOAN': {'ID': 85.0, 'LTINFO': 'https://monitoring.laketahoeinfo.org/MonitoringSite/Detail/397', 'PAS_1987': '117'}, 'COUNTRY CLUB MEADOW': {'ID': nan, 'LTINFO': 'https://monitoring.laketahoeinfo.org/MonitoringSite/Detail/633', 'PAS_1987': '119'}, 'TAHOE PARADISE MEADOWVALE': {'ID': nan, 'LTINFO': 'https://monitoring.laketahoeinfo.org/MonitoringSite/Detail/632', 'PAS_1987': '120'}, 'FREEL PEAK': {'ID': 89.0, 'LTINFO': 'https://monitoring.laketahoeinfo.org/MonitoringSite/Detail/406', 'PAS_1987': '121'}, 'TAHOE PARADISE MANDAN': {'ID': 90.0, 'LTINFO': 'https://monitoring.laketahoeinfo.org/MonitoringSite/Detail/405', 'PAS_1987': '122'}, 'MEYERS FOREST': {'ID': 91.0, 'LTINFO': 'https://monitoring.laketahoeinfo.org/MonitoringSite/Detail/403', 'PAS_1987': '123'}, 'MEYERS RESIDENTIAL': {'ID': 92.0, 'LTINFO': 'https://monitoring.laketahoeinfo.org/MonitoringSite/Detail/402', 'PAS_1987': '124'}, 'MEYERS COMMERCIAL': {'ID': 93.0, 'LTINFO': 'https://monitoring.laketahoeinfo.org/MonitoringSite/Detail/404', 'PAS_1987': '125'}, 'POPE BEACH': {'ID': 93.0, 'LTINFO': 'https://monitoring.laketahoeinfo.org/MonitoringSite/Detail/387', 'PAS_1987': '126'}, 'BALDWIN': {'ID': nan, 'LTINFO': 'https://monitoring.laketahoeinfo.org/MonitoringSite/Detail/631', 'PAS_1987': '128'}, 'FALLEN LEAF NORTH': {'ID': 97.0, 'LTINFO': 'https://monitoring.laketahoeinfo.org/MonitoringSite/Detail/385', 'PAS_1987': '129'}, 'ANGORA RIDGE': {'ID': nan, 'LTINFO': 'https://monitoring.laketahoeinfo.org/MonitoringSite/Detail/630', 'PAS_1987': '130'}, 'ANGORA HIGHLANDS': {'ID': nan, 'LTINFO': 'https://monitoring.laketahoeinfo.org/MonitoringSite/Detail/629', 'PAS_1987': '131'}, 'MOUNTAIN VIEW': {'ID': 100.0, 'LTINFO': 'https://monitoring.laketahoeinfo.org/MonitoringSite/Detail/398', 'PAS_1987': '132'}, 'TAHOE PARADISE UPPER TRUCKEE': {'ID': 101.0, 'LTINFO': 'https://monitoring.laketahoeinfo.org/MonitoringSite/Detail/401', 'PAS_1987': '133'}, 'TAHOE PARADISE CHIAPA': {'ID': nan, 'LTINFO': 'https://monitoring.laketahoeinfo.org/MonitoringSite/Detail/628', 'PAS_1987': '135'}, 'KOA/RAINBOW': {'ID': 104.0, 'LTINFO': 'https://monitoring.laketahoeinfo.org/MonitoringSite/Detail/407', 'PAS_1987': '136'}, 'CHRISTMAS VALLEY': {'ID': 105.0, 'LTINFO': 'https://monitoring.laketahoeinfo.org/MonitoringSite/Detail/410', 'PAS_1987': '137'}, 'DARDENELLES': {'ID': 107.0, 'LTINFO': 'https://monitoring.laketahoeinfo.org/MonitoringSite/Detail/411', 'PAS_1987': '139'}, 'ECHO SUMMIT': {'ID': 107.0, 'LTINFO': 'https://monitoring.laketahoeinfo.org/MonitoringSite/Detail/409', 'PAS_1987': '140'}, 'ECHO LAKE': {'ID': 110.0, 'LTINFO': 'https://monitoring.laketahoeinfo.org/MonitoringSite/Detail/408', 'PAS_1987': '142'}, 'DESOLATION': {'ID': 111.0, 'LTINFO': 'https://monitoring.laketahoeinfo.org/MonitoringSite/Detail/383', 'PAS_1987': '143'}, 'EMERALD BAY (EAGLE FALLS)': {'ID': 115.0, 'LTINFO': 'https://monitoring.laketahoeinfo.org/MonitoringSite/Detail/379', 'PAS_1987': '146'}, 'MEEKS CREEK': {'ID': nan, 'LTINFO': 'https://monitoring.laketahoeinfo.org/MonitoringSite/Detail/627', 'PAS_1987': '148'}, 'RUBICON': {'ID': 118.0, 'LTINFO': 'https://monitoring.laketahoeinfo.org/MonitoringSite/Detail/364', 'PAS_1987': '149'}, 'GLENRIDGE': {'ID': nan, 'LTINFO': 'https://monitoring.laketahoeinfo.org/MonitoringSite/Detail/626', 'PAS_1987': '151'}, 'SUGAR PINE POINT': {'ID': nan, 'LTINFO': 'https://monitoring.laketahoeinfo.org/MonitoringSite/Detail/625', 'PAS_1987': '153'}, 'TAHOMA RESIDENTIAL': {'ID': 123.0, 'LTINFO': 'https://monitoring.laketahoeinfo.org/MonitoringSite/Detail/362', 'PAS_1987': '154'}, 'CHAMBERS LANDING': {'ID': nan, 'LTINFO': 'https://monitoring.laketahoeinfo.org/MonitoringSite/Detail/624', 'PAS_1987': '156'}, 'HOMEWOOD/TAHOE SKI BOWL': {'ID': 206.0, 'LTINFO': 'https://monitoring.laketahoeinfo.org/MonitoringSite/Detail/361', 'PAS_1987': '157'}, 'MCKINNEY TRACT': {'ID': 186.0, 'LTINFO': 'https://monitoring.laketahoeinfo.org/MonitoringSite/Detail/360', 'PAS_1987': '158'}, 'HOMEWOOD COMMERCIAL': {'ID': 185.0, 'LTINFO': 'https://monitoring.laketahoeinfo.org/MonitoringSite/Detail/359', 'PAS_1987': '159'}, 'HOMEWOOD/RESIDENTIAL': {'ID': 205.0, 'LTINFO': 'https://monitoring.laketahoeinfo.org/MonitoringSite/Detail/358', 'PAS_1987': '160'}, 'BLACKWOOD': {'ID': 201.0, 'LTINFO': 'https://monitoring.laketahoeinfo.org/MonitoringSite/Detail/356', 'PAS_1987': '162'}, 'LOWER WARD VALLEY': {'ID': nan, 'LTINFO': 'https://monitoring.laketahoeinfo.org/MonitoringSite/Detail/623', 'PAS_1987': '163'}, 'SUNNYSIDE/SKYLAND': {'ID': 212.0, 'LTINFO': 'https://monitoring.laketahoeinfo.org/MonitoringSite/Detail/355', 'PAS_1987': '164'}, 'TIMBERLAND': {'ID': nan, 'LTINFO': 'https://monitoring.laketahoeinfo.org/MonitoringSite/Detail/622', 'PAS_1987': '165'}, 'ALPINE PEAKS': {'ID': 195.0, 'LTINFO': 'https://monitoring.laketahoeinfo.org/MonitoringSite/Detail/353', 'PAS_1987': '167'}, 'TAHOE PARK/PINELAND': {'ID': 208.0, 'LTINFO': 'https://monitoring.laketahoeinfo.org/MonitoringSite/Detail/354', 'PAS_1987': '170'}, 'TAVERN HEIGHTS': {'ID': 210.0, 'LTINFO': 'https://monitoring.laketahoeinfo.org/MonitoringSite/Detail/352', 'PAS_1987': '171'}, '64 ACRE TRACT': {'ID': nan, 'LTINFO': 'https://monitoring.laketahoeinfo.org/MonitoringSite/Detail/621', 'PAS_1987': '174'}, 'FALLEN LEAF FOREST SERVICE TRACTS': {'ID': 112.0, 'LTINFO': 'https://monitoring.laketahoeinfo.org/MonitoringSite/Detail/399', 'PAS_1987': '144A'}, 'LILLY/ANGORA LAKES': {'ID': 113.0, 'LTINFO': 'https://monitoring.laketahoeinfo.org/MonitoringSite/Detail/400', 'PAS_1987': '144B'}, 'CARNELIAN WOODS': {'ID': 169.0, 'LTINFO': 'https://monitoring.laketahoeinfo.org/MonitoringSite/Detail/339', 'PAS_1987': '16A'}, 'CARNELIAN BAY SUBDIVISION': {'ID': 171.0, 'LTINFO': 'https://monitoring.laketahoeinfo.org/MonitoringSite/Detail/341', 'PAS_1987': '16B'}, 'TAHOE CITY': {'ID': nan, 'LTINFO': 'https://monitoring.laketahoeinfo.org/MonitoringSite/Detail/620', 'PAS_1987': '1A'}, 'NORTH TAHOE RECREATION AREA': {'ID': 164.0, 'LTINFO': 'https://monitoring.laketahoeinfo.org/MonitoringSite/Detail/328', 'PAS_1987': '24A'}, 'SNOW CREEK': {'ID': nan, 'LTINFO': 'https://monitoring.laketahoeinfo.org/MonitoringSite/Detail/619', 'PAS_1987': '24B'}, 'NEVADA SOUTH STATELINE RESORT AREA': {'ID': 137.0, 'LTINFO': 'https://monitoring.laketahoeinfo.org/MonitoringSite/Detail/377', 'PAS_1987': '89A'}, 'LAKE FOREST COM. SA#1': {'ID': 218.0, 'LTINFO': 'https://monitoring.laketahoeinfo.org/MonitoringSite/Detail/350', 'PAS_1987': '9A'}, 'FAIRWAY': {'ID': nan, 'LTINFO': 'https://monitoring.laketahoeinfo.org/MonitoringSite/Detail/716', 'PAS_1987': '44'}, 'PONDEROSA RANCH': {'ID': nan, 'LTINFO': 'https://monitoring.laketahoeinfo.org/MonitoringSite/Detail/715', 'PAS_1987': '54'}, 'EAST SHORE': {'ID': nan, 'LTINFO': 'https://monitoring.laketahoeinfo.org/MonitoringSite/Detail/714', 'PAS_1987': '55'}, 'ROUND MOUND': {'ID': nan, 'LTINFO': 'https://monitoring.laketahoeinfo.org/MonitoringSite/Detail/713', 'PAS_1987': '68'}, 'TRUCKEE MARSH': {'ID': nan, 'LTINFO': 'https://monitoring.laketahoeinfo.org/MonitoringSite/Detail/712', 'PAS_1987': '100'}, 'LUTHER PASS': {'ID': nan, 'LTINFO': 'https://monitoring.laketahoeinfo.org/MonitoringSite/Detail/711', 'PAS_1987': '141'}}\n"
     ]
    },
    {
     "data": {
      "text/plain": [
       "'C:\\\\Users\\\\snewsome\\\\Documents\\\\ArcGIS\\\\Projects\\\\Data Management 2023\\\\Scratch.gdb\\\\PlanAreaNoise_23_Staging'"
      ]
     },
     "execution_count": 36,
     "metadata": {},
     "output_type": "execute_result"
    }
   ],
   "source": [
    "#updated \n",
    "# Setup\n",
    "import pandas as pd\n",
    "from arcgis import GIS\n",
    "from arcgis.features import FeatureLayer\n",
    "from arcgis.features import GeoAccessor\n",
    "import os\n",
    "\n",
    "\n",
    "workspace =r'C:\\Users\\snewsome\\Documents\\ArcGIS\\Projects\\Data Management 2023\\Scratch.gdb'\n",
    "\n",
    "# Update SDE.Monitoring.SDE.Plan_Area_Noise with new data 2020-2023\n",
    "excel_file_path = r\"F:\\Research and Analysis\\Noise\\Monitoring\\CNEL - Plan Areas\\ALL_CNEL_PLANAREAS_RESULTS_(1991-2023).xlsx\"\n",
    "\n",
    "# Read the Excel file into a DataFrame\n",
    "Noise23_df = pd.read_excel(excel_file_path)\n",
    "\n",
    "# Keep only columns that you want\n",
    "columns_to_keep = ['CNEL LAND USE', 'MONITORING SITE LATITUDE', 'MONITORING SITE LONGITUDE', 'PAS_NAME', 'LAND_USE', '2023 CNEL Maximum Day', '2022 CNEL Maximum Day', '2021 CNEL Maximum Day', '2020 CNEL Maximum Day']\n",
    "Noise23_df = Noise23_df[columns_to_keep]\n",
    "\n",
    "Noise23_df.columns = Noise23_df.columns.str.strip()\n",
    "\n",
    "# PASNAME\n",
    "Noise23_df['PAS_NAME'] = Noise23_df['PAS_NAME'].astype(str)\n",
    "\n",
    "# melted columns to keep\n",
    "meltcolumns_to_keep = ['CNEL LAND USE', 'MONITORING SITE LATITUDE', 'MONITORING SITE LONGITUDE', 'LAND_USE']\n",
    "id_columns = ['PAS_NAME']\n",
    "\n",
    "# Specify the columns to melt (exclude the identifier column)\n",
    "columns_to_melt = ['2023 CNEL Maximum Day', '2022 CNEL Maximum Day', '2021 CNEL Maximum Day', '2020 CNEL Maximum Day']\n",
    "\n",
    "id_vars = id_columns + meltcolumns_to_keep\n",
    "\n",
    "# Use pd.melt to reshape the DataFrame\n",
    "Noise23_df = pd.melt(Noise23_df, id_vars=id_vars, value_vars=columns_to_melt, var_name='Year', value_name='CNEL_Maximum_Day_Value')\n",
    "\n",
    "print(Noise23_df.head())\n",
    "print(Noise23_df.columns)\n",
    "\n",
    "# Extract only the year from the 'YEAR_OF_COUNT' column and drop \"CNEL Maximum Day\" from each value\n",
    "Noise23_df['Year'] = Noise23_df['Year'].str.replace(' CNEL Maximum Day', '')\n",
    "\n",
    "\n",
    "\n",
    "# Add 'Category' column\n",
    "Noise23_df['Category'] = 'CNEL Maximum Day'\n",
    "\n",
    "# Drop rows where 'CNEL_Maximum_Day_Value' is NaN\n",
    "Noise23_df = Noise23_df.dropna(subset=['CNEL_Maximum_Day_Value'])\n",
    "\n",
    "# Use lookup_dict to fill in LTINFO# Create a lookup dictionary to fill in LTINFO and ID\n",
    "gis = GIS()\n",
    "\n",
    "\n",
    "def get_fs_data(service_url):\n",
    "    feature_layer = FeatureLayer(service_url)\n",
    "    query_result = feature_layer.query()\n",
    "    feature_list = query_result.features\n",
    "    all_data = pd.DataFrame([feature.attributes for feature in feature_list])\n",
    "    return all_data\n",
    "\n",
    "\n",
    "# REST SERVICE data for lookup dictionary\n",
    "service_url = 'https://maps.trpa.org/server/rest/services/LTInfo_Monitoring/MapServer/6'\n",
    "\n",
    "dfplannoisesde = get_fs_data(service_url)\n",
    "\n",
    "dfplannoisesde.info()\n",
    "columnstokeep = ['SITE_NAME', 'ID', 'LTINFO', 'PAS_1987']\n",
    "dfplannoisesde = dfplannoisesde.loc[:, columnstokeep]\n",
    "\n",
    "# Drop duplicates based on 'SITE_NAME' and keep the first occurrence\n",
    "unique_values = dfplannoisesde.drop_duplicates(subset='SITE_NAME', keep='first')\n",
    "\n",
    "# Select specific columns for lookup\n",
    "selected_columns = ['SITE_NAME', 'ID', 'LTINFO', 'PAS_1987']\n",
    "\n",
    "# Convert selected columns to dictionary\n",
    "lookup_dict = unique_values[selected_columns].set_index('SITE_NAME').to_dict(orient='index')\n",
    "\n",
    "# Display the dictionary\n",
    "print(lookup_dict)\n",
    "\n",
    "# Create new columns 'ID' and 'LTINFO' based on 'PAS_NAME' and look up dictionary\n",
    "Noise23_df['ID'] = Noise23_df['PAS_NAME'].apply(lambda x: lookup_dict.get(x, {}).get('ID'))\n",
    "Noise23_df['LTINFO'] = Noise23_df['PAS_NAME'].apply(lambda x: lookup_dict.get(x, {}).get('LTINFO'))\n",
    "Noise23_df['PAS_1987'] = Noise23_df['PAS_NAME'].apply(lambda x: lookup_dict.get(x, {}).get('PAS_1987'))\n",
    "\n",
    "# Specify the columns to keep in Final_sdf\n",
    "finalcolumns_to_keep = ['PAS_NAME', 'Year', 'CNEL_Maximum_Day_Value', 'Category','ID', 'MONITORING SITE LATITUDE', 'MONITORING SITE LONGITUDE', 'LAND_USE', 'CNEL LAND USE', 'LTINFO', 'PAS_1987']\n",
    "\n",
    "# Create a new DataFrame Final_df with the selected columns\n",
    "df = Noise23_df[finalcolumns_to_keep]\n",
    "\n",
    "# Field mapping so that columns match\n",
    "field_mapping = {\n",
    "    'PAS_1987': 'PAS_1987',\n",
    "    'ID': 'ID',\n",
    "    'MONITORING SITE LATITUDE': 'LATITUDE',\n",
    "    'MONITORING SITE LONGITUDE': 'LONGITUDE',\n",
    "    'PAS_NAME': 'SITE_NAME',\n",
    "    'LAND_USE': 'LAND_USE',\n",
    "    'CNEL LAND USE': 'CNEL_LAND_USE',\n",
    "    'Category': 'CATEGORY',\n",
    "    'Year': 'YEAR_OF_COUNT',\n",
    "    'CNEL_Maximum_Day_Value': 'COUNT_VALUE',\n",
    "    'LTINFO': 'LTINFO'\n",
    "}\n",
    "\n",
    "# Create a new DataFrame Final_df with columns based on the field mapping\n",
    "df = df.rename(columns=field_mapping)\n",
    "\n",
    "# Convert DataFrame to Spatially Enabled DataFrame\n",
    "sedf = GeoAccessor.from_xy(df, x_column='LONGITUDE', y_column='LATITUDE')\n",
    "\n",
    "# Convert the SEDF to a feature class without sanitizing columns\n",
    "sedf.spatial.to_featureclass(location=os.path.join(workspace, 'PlanAreaNoise_23_Staging'), sanitize_columns=False)\n"
   ]
  },
  {
   "cell_type": "code",
   "execution_count": 107,
   "metadata": {},
   "outputs": [
    {
     "ename": "AttributeError",
     "evalue": "'GeoAccessor' object has no attribute 'fields'",
     "output_type": "error",
     "traceback": [
      "\u001b[1;31m---------------------------------------------------------------------------\u001b[0m",
      "\u001b[1;31mAttributeError\u001b[0m                            Traceback (most recent call last)",
      "\u001b[1;32m~\\AppData\\Local\\Temp\\ipykernel_20612\\1640595844.py\u001b[0m in \u001b[0;36m<cell line: 5>\u001b[1;34m()\u001b[0m\n\u001b[0;32m      3\u001b[0m \u001b[1;33m\u001b[0m\u001b[0m\n\u001b[0;32m      4\u001b[0m \u001b[1;31m# Print the data type of the field\u001b[0m\u001b[1;33m\u001b[0m\u001b[1;33m\u001b[0m\u001b[0m\n\u001b[1;32m----> 5\u001b[1;33m \u001b[0mprint\u001b[0m\u001b[1;33m(\u001b[0m\u001b[0msedf\u001b[0m\u001b[1;33m.\u001b[0m\u001b[0mspatial\u001b[0m\u001b[1;33m.\u001b[0m\u001b[0mfields\u001b[0m\u001b[1;33m[\u001b[0m\u001b[0mfield_name\u001b[0m\u001b[1;33m]\u001b[0m\u001b[1;33m.\u001b[0m\u001b[0mtype\u001b[0m\u001b[1;33m)\u001b[0m\u001b[1;33m\u001b[0m\u001b[1;33m\u001b[0m\u001b[0m\n\u001b[0m",
      "\u001b[1;31mAttributeError\u001b[0m: 'GeoAccessor' object has no attribute 'fields'"
     ]
    }
   ],
   "source": [
    "\n"
   ]
  },
  {
   "cell_type": "code",
   "execution_count": 37,
   "metadata": {},
   "outputs": [
    {
     "name": "stdout",
     "output_type": "stream",
     "text": [
      "Reprojection completed. Output feature class: PlanAreaNoise_23_ready\n"
     ]
    }
   ],
   "source": [
    "#reproject feature class 4236 to 26910\n",
    "# Set the input and output paths\n",
    "arcpy.env.workspace=r'C:\\Users\\snewsome\\Documents\\ArcGIS\\Projects\\Data Management 2023\\Scratch.gdb'\n",
    "input_feature_class = 'PlanAreaNoise_23_Staging'\n",
    "output_feature_class = 'PlanAreaNoise_23_ready'\n",
    " \n",
    "# Specify the target coordinate system (EPSG code 26910 for UTM Zone 10N)\n",
    "target_coordinate_system = arcpy.SpatialReference(26910)\n",
    " \n",
    "# Use the Project tool to reproject the feature class\n",
    "arcpy.management.Project(\n",
    "    input_feature_class,\n",
    "    output_feature_class,\n",
    "    target_coordinate_system\n",
    ")\n",
    " \n",
    "print(f\"Reprojection completed. Output feature class: {output_feature_class}\")"
   ]
  },
  {
   "cell_type": "code",
   "execution_count": 38,
   "metadata": {},
   "outputs": [
    {
     "data": {
      "text/html": [
       "<div class='gpresult'><h2>Messages</h2><div id='messages' data-messages='[\"Start Time: Thursday, January 25, 2024 9:38:05 AM\",\"WARNING 000110: c:\\\\Users\\\\snewsome\\\\Documents\\\\GitHub\\\\ThresholdEvaluation\\\\Scripts\\\\2023\\\\db_connect\\\\ConnectionFile.sde does not exist\",\"Succeeded at Thursday, January 25, 2024 9:38:05 AM (Elapsed Time: 0.01 seconds)\"]' data-show='true'><div id = 'default' /></div></div>"
      ],
      "text/plain": [
       "<Result 'true'>"
      ]
     },
     "execution_count": 38,
     "metadata": {},
     "output_type": "execute_result"
    }
   ],
   "source": [
    "arcpy.Delete_management(r'c:\\Users\\snewsome\\Documents\\GitHub\\ThresholdEvaluation\\Scripts\\2023\\db_connect\\ConnectionFile.sde')"
   ]
  },
  {
   "cell_type": "code",
   "execution_count": 20,
   "metadata": {},
   "outputs": [
    {
     "name": "stdout",
     "output_type": "stream",
     "text": [
      "TAHOE\\SNEWSOME.PlanAreaNoise_2024-01-24\n"
     ]
    }
   ],
   "source": [
    "new_version_name = \"PlanAreaNoise_\" + strftime(\"%Y-%m-%d\")\n",
    "version_name_full = \"TAHOE\\SNEWSOME.\"+ new_version_name\n",
    "\n",
    "print(version_name_full)"
   ]
  },
  {
   "cell_type": "markdown",
   "metadata": {},
   "source": []
  },
  {
   "cell_type": "code",
   "execution_count": 39,
   "metadata": {},
   "outputs": [
    {
     "ename": "ExecuteError",
     "evalue": "ERROR 001148: Cannot create a version with the specified name.\nFailed to execute (CreateVersion).\n",
     "output_type": "error",
     "traceback": [
      "\u001b[1;31m---------------------------------------------------------------------------\u001b[0m",
      "\u001b[1;31mExecuteError\u001b[0m                              Traceback (most recent call last)",
      "\u001b[1;32m~\\AppData\\Local\\Temp\\ipykernel_4176\\2784656912.py\u001b[0m in \u001b[0;36m<cell line: 16>\u001b[1;34m()\u001b[0m\n\u001b[0;32m     14\u001b[0m \u001b[1;33m\u001b[0m\u001b[0m\n\u001b[0;32m     15\u001b[0m \u001b[1;31m# Create a new version\u001b[0m\u001b[1;33m\u001b[0m\u001b[1;33m\u001b[0m\u001b[0m\n\u001b[1;32m---> 16\u001b[1;33m \u001b[0marcpy\u001b[0m\u001b[1;33m.\u001b[0m\u001b[0mCreateVersion_management\u001b[0m\u001b[1;33m(\u001b[0m\u001b[0minWorkspace\u001b[0m\u001b[1;33m,\u001b[0m \u001b[0mparent_version\u001b[0m\u001b[1;33m,\u001b[0m \u001b[0mnew_version_name\u001b[0m\u001b[1;33m,\u001b[0m \u001b[1;34m\"PUBLIC\"\u001b[0m\u001b[1;33m)\u001b[0m\u001b[1;33m\u001b[0m\u001b[1;33m\u001b[0m\u001b[0m\n\u001b[0m\u001b[0;32m     17\u001b[0m \u001b[1;33m\u001b[0m\u001b[0m\n\u001b[0;32m     18\u001b[0m \u001b[1;31m# If you want to create a connection file, you can use the following code:\u001b[0m\u001b[1;33m\u001b[0m\u001b[1;33m\u001b[0m\u001b[0m\n",
      "\u001b[1;32mc:\\Program Files\\ArcGIS\\Pro\\Resources\\ArcPy\\arcpy\\management.py\u001b[0m in \u001b[0;36mCreateVersion\u001b[1;34m(in_workspace, parent_version, version_name, access_permission)\u001b[0m\n\u001b[0;32m  21927\u001b[0m         \u001b[1;32mreturn\u001b[0m \u001b[0mretval\u001b[0m\u001b[1;33m\u001b[0m\u001b[1;33m\u001b[0m\u001b[0m\n\u001b[0;32m  21928\u001b[0m     \u001b[1;32mexcept\u001b[0m \u001b[0mException\u001b[0m \u001b[1;32mas\u001b[0m \u001b[0me\u001b[0m\u001b[1;33m:\u001b[0m\u001b[1;33m\u001b[0m\u001b[1;33m\u001b[0m\u001b[0m\n\u001b[1;32m> 21929\u001b[1;33m         \u001b[1;32mraise\u001b[0m \u001b[0me\u001b[0m\u001b[1;33m\u001b[0m\u001b[1;33m\u001b[0m\u001b[0m\n\u001b[0m\u001b[0;32m  21930\u001b[0m \u001b[1;33m\u001b[0m\u001b[0m\n\u001b[0;32m  21931\u001b[0m \u001b[1;33m@\u001b[0m\u001b[0mgptooldoc\u001b[0m\u001b[1;33m(\u001b[0m\u001b[1;34m'CreateVersionedView_management'\u001b[0m\u001b[1;33m,\u001b[0m \u001b[1;32mNone\u001b[0m\u001b[1;33m)\u001b[0m\u001b[1;33m\u001b[0m\u001b[1;33m\u001b[0m\u001b[0m\n",
      "\u001b[1;32mc:\\Program Files\\ArcGIS\\Pro\\Resources\\ArcPy\\arcpy\\management.py\u001b[0m in \u001b[0;36mCreateVersion\u001b[1;34m(in_workspace, parent_version, version_name, access_permission)\u001b[0m\n\u001b[0;32m  21924\u001b[0m     \u001b[1;32mfrom\u001b[0m \u001b[0marcpy\u001b[0m\u001b[1;33m.\u001b[0m\u001b[0marcobjects\u001b[0m\u001b[1;33m.\u001b[0m\u001b[0marcobjectconversion\u001b[0m \u001b[1;32mimport\u001b[0m \u001b[0mconvertArcObjectToPythonObject\u001b[0m\u001b[1;33m\u001b[0m\u001b[1;33m\u001b[0m\u001b[0m\n\u001b[0;32m  21925\u001b[0m     \u001b[1;32mtry\u001b[0m\u001b[1;33m:\u001b[0m\u001b[1;33m\u001b[0m\u001b[1;33m\u001b[0m\u001b[0m\n\u001b[1;32m> 21926\u001b[1;33m         \u001b[0mretval\u001b[0m \u001b[1;33m=\u001b[0m \u001b[0mconvertArcObjectToPythonObject\u001b[0m\u001b[1;33m(\u001b[0m\u001b[0mgp\u001b[0m\u001b[1;33m.\u001b[0m\u001b[0mCreateVersion_management\u001b[0m\u001b[1;33m(\u001b[0m\u001b[1;33m*\u001b[0m\u001b[0mgp_fixargs\u001b[0m\u001b[1;33m(\u001b[0m\u001b[1;33m(\u001b[0m\u001b[0min_workspace\u001b[0m\u001b[1;33m,\u001b[0m \u001b[0mparent_version\u001b[0m\u001b[1;33m,\u001b[0m \u001b[0mversion_name\u001b[0m\u001b[1;33m,\u001b[0m \u001b[0maccess_permission\u001b[0m\u001b[1;33m)\u001b[0m\u001b[1;33m,\u001b[0m \u001b[1;32mTrue\u001b[0m\u001b[1;33m)\u001b[0m\u001b[1;33m)\u001b[0m\u001b[1;33m)\u001b[0m\u001b[1;33m\u001b[0m\u001b[1;33m\u001b[0m\u001b[0m\n\u001b[0m\u001b[0;32m  21927\u001b[0m         \u001b[1;32mreturn\u001b[0m \u001b[0mretval\u001b[0m\u001b[1;33m\u001b[0m\u001b[1;33m\u001b[0m\u001b[0m\n\u001b[0;32m  21928\u001b[0m     \u001b[1;32mexcept\u001b[0m \u001b[0mException\u001b[0m \u001b[1;32mas\u001b[0m \u001b[0me\u001b[0m\u001b[1;33m:\u001b[0m\u001b[1;33m\u001b[0m\u001b[1;33m\u001b[0m\u001b[0m\n",
      "\u001b[1;32mc:\\Program Files\\ArcGIS\\Pro\\Resources\\ArcPy\\arcpy\\geoprocessing\\_base.py\u001b[0m in \u001b[0;36m<lambda>\u001b[1;34m(*args)\u001b[0m\n\u001b[0;32m    518\u001b[0m         \u001b[0mval\u001b[0m \u001b[1;33m=\u001b[0m \u001b[0mgetattr\u001b[0m\u001b[1;33m(\u001b[0m\u001b[0mself\u001b[0m\u001b[1;33m.\u001b[0m\u001b[0m_gp\u001b[0m\u001b[1;33m,\u001b[0m \u001b[0mattr\u001b[0m\u001b[1;33m)\u001b[0m\u001b[1;33m\u001b[0m\u001b[1;33m\u001b[0m\u001b[0m\n\u001b[0;32m    519\u001b[0m         \u001b[1;32mif\u001b[0m \u001b[0mcallable\u001b[0m\u001b[1;33m(\u001b[0m\u001b[0mval\u001b[0m\u001b[1;33m)\u001b[0m\u001b[1;33m:\u001b[0m\u001b[1;33m\u001b[0m\u001b[1;33m\u001b[0m\u001b[0m\n\u001b[1;32m--> 520\u001b[1;33m             \u001b[1;32mreturn\u001b[0m \u001b[1;32mlambda\u001b[0m \u001b[1;33m*\u001b[0m\u001b[0margs\u001b[0m\u001b[1;33m:\u001b[0m \u001b[0mval\u001b[0m\u001b[1;33m(\u001b[0m\u001b[1;33m*\u001b[0m\u001b[0mgp_fixargs\u001b[0m\u001b[1;33m(\u001b[0m\u001b[0margs\u001b[0m\u001b[1;33m,\u001b[0m \u001b[1;32mTrue\u001b[0m\u001b[1;33m)\u001b[0m\u001b[1;33m)\u001b[0m\u001b[1;33m\u001b[0m\u001b[1;33m\u001b[0m\u001b[0m\n\u001b[0m\u001b[0;32m    521\u001b[0m         \u001b[1;32melse\u001b[0m\u001b[1;33m:\u001b[0m\u001b[1;33m\u001b[0m\u001b[1;33m\u001b[0m\u001b[0m\n\u001b[0;32m    522\u001b[0m             \u001b[1;32mreturn\u001b[0m \u001b[0mconvertArcObjectToPythonObject\u001b[0m\u001b[1;33m(\u001b[0m\u001b[0mval\u001b[0m\u001b[1;33m)\u001b[0m\u001b[1;33m\u001b[0m\u001b[1;33m\u001b[0m\u001b[0m\n",
      "\u001b[1;31mExecuteError\u001b[0m: ERROR 001148: Cannot create a version with the specified name.\nFailed to execute (CreateVersion).\n"
     ]
    }
   ],
   "source": [
    "import arcpy\n",
    "from time import strftime\n",
    "\n",
    "\n",
    "#push data to sde\n",
    "#Create database connection\n",
    "inWorkspace =r\"F:\\Research and Analysis\\Workspace\\Sarah\\SarahVector.sde\"\n",
    "arcpy.env.workspace = inWorkspace\n",
    "\n",
    "# Specify the name of the new version and the parent version\n",
    "new_version_name = \"PlanAreaNoise_\" + strftime(\"%Y-%m-%d\")\n",
    "parent_version = \"sde.DEFAULT\"\n",
    "version_name_full = '\"TAHOE\\SNEWSOME\".'+ new_version_name\n",
    "\n",
    "# Create a new version\n",
    "arcpy.CreateVersion_management(inWorkspace, parent_version, new_version_name, \"PUBLIC\")\n",
    "\n",
    "# If you want to create a connection file, you can use the following code:\n",
    "arcpy.CreateDatabaseConnection_management(\n",
    "    out_folder_path='db_connect/',\n",
    "    out_name=\"ConnectionFile.sde\",\n",
    "    database_platform=\"SQL_SERVER\",  \n",
    "    instance='sql12',\n",
    "    database='sde',\n",
    "    account_authentication=\"OPERATING_SYSTEM_AUTH\",  \n",
    "    version_type='TRANSACTIONAL',\n",
    "    version=version_name_full\n",
    ")\n",
    "\n",
    "PlanNoisesde=os.path.join(version_name_full, \"SDE.Monitoring\\SDE.Plan_Area_Noise\")\n",
    "PlanAreaNoise = 'planareanoise'\n",
    "arcpy.MakeFeatureLayer_management(PlanNoisesde, PlanAreaNoise)\n",
    "\n",
    "\n",
    "# Create a new version\n",
    "#arcpy.CreateVersion_management(inWorkspace, parent_version, new_version_name, \"PUBLIC\")\n",
    "arcpy.ChangeVersion_management(PlanAreaNoise, 'TRANSACTIONAL', version_name_full, '')\n",
    "\n",
    "#Start\n",
    "edit = arcpy.da.Editor('db_connections/ConnectionFile.sde')\n",
    "edit.startEditing(False, True)\n",
    "\n",
    "# Append the records from the temporary feature class to the target feature class\n",
    "arcpy.management.Append(\n",
    "    inputs='PlanAreaNoise_23_ready',\n",
    "    target=PlanNoisesde, \n",
    "    schema_type='NO_TEST'\n",
    ")\n",
    "\n",
    "#Stop\n",
    "edit.stopEditing(True)\n",
    "\n"
   ]
  },
  {
   "cell_type": "code",
   "execution_count": 27,
   "metadata": {},
   "outputs": [
    {
     "name": "stdout",
     "output_type": "stream",
     "text": [
      "Version created successfully.\n"
     ]
    }
   ],
   "source": [
    "try:\n",
    "    arcpy.CreateVersion_management(inWorkspace, parent_version, new_version_name, \"PUBLIC\")\n",
    "    print(\"Version created successfully.\")\n",
    "except arcpy.ExecuteError as e:\n",
    "    print(f\"Error: {e}\")"
   ]
  },
  {
   "cell_type": "code",
   "execution_count": null,
   "metadata": {},
   "outputs": [],
   "source": [
    "#Start\n",
    "edit = arcpy.da.Editor('db_connections/ConnectionFile.sde')\n",
    "edit.startEditing(False, True)\n",
    "\n",
    "# Append the records from the temporary feature class to the target feature class\n",
    "arcpy.management.Append(\n",
    "    inputs='PlanAreaNoise_23_ready',\n",
    "    target=os.path.join(version_full_name, \"SDE.Monitoring\\SDE.Plan_Area_Noise\"), \n",
    "    schema_type='NO_TEST'\n",
    ")\n",
    "\n",
    "#Stop\n",
    "edit.stopEditing(True)"
   ]
  },
  {
   "cell_type": "code",
   "execution_count": 110,
   "metadata": {},
   "outputs": [
    {
     "data": {
      "text/html": [
       "<div class='gpresult'><h2>Messages</h2><div id='messages' data-messages='[\"Start Time: Wednesday, January 24, 2024 11:16:22 AM\",\"Succeeded at Wednesday, January 24, 2024 11:16:22 AM (Elapsed Time: 0.03 seconds)\"]' data-show='true'><div id = 'default' /></div></div>"
      ],
      "text/plain": [
       "<Result 'true'>"
      ]
     },
     "execution_count": 110,
     "metadata": {},
     "output_type": "execute_result"
    }
   ],
   "source": [
    "arcpy.Delete_management(\"planareanoise\")"
   ]
  },
  {
   "cell_type": "code",
   "execution_count": null,
   "metadata": {},
   "outputs": [],
   "source": [
    "# Start an edit session\n",
    "edit = arcpy.da.Editor('db_connections/ConnectionFile.sde')\n",
    "edit.startEditing(False, True)\n",
    "\n",
    "    # Create a new version\n",
    "arcpy.CreateVersion_management(inWorkspace, parent_version, new_version_name, \"PUBLIC\")"
   ]
  },
  {
   "cell_type": "markdown",
   "metadata": {},
   "source": [
    "#### Shorezone Noise"
   ]
  },
  {
   "cell_type": "code",
   "execution_count": null,
   "metadata": {},
   "outputs": [],
   "source": []
  },
  {
   "cell_type": "code",
   "execution_count": 40,
   "metadata": {},
   "outputs": [
    {
     "name": "stdout",
     "output_type": "stream",
     "text": [
      "                PAS_NAME  Year  CNEL_Maximum_Day_Value          Category  \\\n",
      "37         FISH HATCHERY  2023                    54.2  CNEL Maximum Day   \n",
      "39  KINGSBURY COMMERCIAL  2023                    63.3  CNEL Maximum Day   \n",
      "44      INDUSTRIAL TRACT  2023                    55.6  CNEL Maximum Day   \n",
      "54         TRUCKEE MARSH  2023                    48.3  CNEL Maximum Day   \n",
      "60             ECHO VIEW  2023                    44.2  CNEL Maximum Day   \n",
      "\n",
      "                                               LTINFO  \\\n",
      "37  {'ID': 179.0, 'LTINFO': 'https://monitoring.la...   \n",
      "39  {'ID': 140.0, 'LTINFO': 'https://monitoring.la...   \n",
      "44  {'ID': 81.0, 'LTINFO': 'https://monitoring.lak...   \n",
      "54  {'ID': nan, 'LTINFO': 'https://monitoring.lake...   \n",
      "60                                               None   \n",
      "\n",
      "                                                   ID  \n",
      "37  {'ID': 179.0, 'LTINFO': 'https://monitoring.la...  \n",
      "39  {'ID': 140.0, 'LTINFO': 'https://monitoring.la...  \n",
      "44  {'ID': 81.0, 'LTINFO': 'https://monitoring.lak...  \n",
      "54  {'ID': nan, 'LTINFO': 'https://monitoring.lake...  \n",
      "60                                               None  \n",
      "Index(['PAS_NAME', 'Year', 'CNEL_Maximum_Day_Value', 'Category', 'LTINFO',\n",
      "       'ID'],\n",
      "      dtype='object')\n"
     ]
    }
   ],
   "source": []
  },
  {
   "cell_type": "markdown",
   "metadata": {},
   "source": [
    "## Stream/CSCI"
   ]
  },
  {
   "cell_type": "code",
   "execution_count": 56,
   "metadata": {},
   "outputs": [
    {
     "name": "stdout",
     "output_type": "stream",
     "text": [
      "CSV file 'F:\\Research and Analysis\\Threshold reporting\\ThresholdData\\Fisheries\\ThresholdData_Streams.csv' has been updated.\n"
     ]
    }
   ],
   "source": [
    "#Setup\n",
    "#Create Dictionary Usring Rest Service data\n",
    "\n",
    "import pandas as pd\n",
    "import os\n",
    "from arcgis import GIS\n",
    "from arcgis.features import FeatureLayer\n",
    "import numpy as np\n",
    "import requests\n",
    "import arcpy\n",
    "\n",
    "gis = GIS()\n",
    "# Connect to TRPA Enterprise GIS Portal *if it's a service only shared with org\n",
    "# portal_user = \"TRPA_PORTAL_ADMIN\"\n",
    "# portal_pwd = str(os.environ.get('Password'))\n",
    "# portal_url = \"https://maps.trpa.org/portal/\"\n",
    "wk_memory = \"memory\" + \"\\\\\"\n",
    "\n",
    "#Set up Workspace\n",
    "# set workspace and sde connections \n",
    "working_folder = r\"F:\\Research and Analysis\\Threshold reporting\\ThresholdData\\Fisheries\"\n",
    "workspace      = \"C:\\GIS\\Scratch.gdb\"\n",
    "arcpy.env.workspace = \"C:\\GIS\\Scratch.gdb\"\n",
    "\n",
    "# network path to connection files\n",
    "filePath = r\"C:\\\\GIS\\\\DB_CONNECT\"\n",
    "\n",
    "\n",
    "## CSV to be updated with new average\n",
    "StreamAvg = os.path.join(working_folder,\"ThresholdData_Stream.csv\")\n",
    "\n",
    "\n",
    "def get_fs_data(service_url):\n",
    "    feature_layer = FeatureLayer(service_url)\n",
    "    query_result = feature_layer.query()\n",
    "    # Convert the query result to a list of dictionaries\n",
    "    feature_list = query_result.features\n",
    "    # Create a pandas DataFrame from the list of dictionaries\n",
    "    all_data = pd.DataFrame([feature.attributes for feature in feature_list])\n",
    "    return all_data\n",
    "\n",
    "# Service URL\n",
    "service_url = 'https://maps.trpa.org/server/rest/services/LTInfo_Monitoring/MapServer/8'\n",
    "\n",
    "# Get Stream data as a Spatially Enabled DataFrame\n",
    "sdfStreamHab = get_fs_data(service_url)\n",
    "\n",
    "# Keep only necessary columns\n",
    "columnstokeep = ['SITE_NAME', 'STATION_TYPE', 'DURATION', 'LATITUDE', 'LONGITUDE', 'LTINFO', 'COUNT_VALUE', 'YEAR_OF_COUNT']\n",
    "sdfStreamHab = sdfStreamHab.loc[:, columnstokeep]\n",
    "\n",
    "# Query only 2020-2022 data\n",
    "sdfStreamHab['Date'] = pd.to_datetime(sdfStreamHab['YEAR_OF_COUNT'], format='%Y')\n",
    "filtered_df = sdfStreamHab[\n",
    "    (sdfStreamHab['Date'].dt.year.between(2020, 2022)) & \n",
    "    (sdfStreamHab['SITE_NAME'].str.contains('TPB|TPA'))\n",
    "].copy()\n",
    "\n",
    "# Calculate the average of the 'COUNT_VALUE' column\n",
    "AvgCSCI = filtered_df['COUNT_VALUE'].mean()\n",
    "\n",
    "# Update CSV ThresholdData_Stream.csv\n",
    "csv_path = r\"F:\\Research and Analysis\\Threshold reporting\\ThresholdData\\Fisheries\\ThresholdData_Streams.csv\"\n",
    "existing_df = pd.read_csv(csv_path)\n",
    "\n",
    "Description = \"Average CSCI score of all trend sites (48 sites)\"\n",
    "Year = '2020-2022'\n",
    "Value = AvgCSCI\n",
    "\n",
    "existing_entry = existing_df[\n",
    "    (existing_df['Description'] == Description) &\n",
    "    (existing_df['Year'] == Year)\n",
    "]\n",
    "\n",
    "if existing_entry.empty:\n",
    "    new_entry = {'Description': Description, 'Year': Year, 'Value': Value}\n",
    "    existing_df = pd.concat([existing_df, pd.DataFrame([new_entry])], ignore_index=True)\n",
    "\n",
    "\n",
    "existing_df.to_csv(csv_path, index=False)\n",
    "print(f\"CSV file '{csv_path}' has been updated.\")\n",
    "\n"
   ]
  },
  {
   "cell_type": "code",
   "execution_count": null,
   "metadata": {},
   "outputs": [],
   "source": [
    "#Use F:Research and Analysis/Threshold reporting\\ThresholdData\\Fisheries\\ThresholdData_Streams.csv' to update SDE.tabular.....table"
   ]
  },
  {
   "cell_type": "code",
   "execution_count": 34,
   "metadata": {},
   "outputs": [
    {
     "name": "stdout",
     "output_type": "stream",
     "text": [
      "    StationCod StationCode  Sample Year  Organism Count  -120.01605  \\\n",
      "0    634UTR004   634UTR004         2000             NaN -120.001460   \n",
      "1    634UTR005   634UTR005         2000             NaN -120.023080   \n",
      "2    634UTR006   634UTR006         2000             NaN -120.020990   \n",
      "3    634S13242   634S13242         2000             NaN -119.990880   \n",
      "4    634UTR002   634UTR002         2000             NaN -119.991390   \n",
      "..         ...         ...          ...             ...         ...   \n",
      "598  634TPB134   634TPB134         2020             NaN -120.107720   \n",
      "599  634TPB138   634TPB138         2020             NaN -119.917980   \n",
      "600  634TPB143   634TPB143         2020             NaN -120.224850   \n",
      "601  634TPB153   634TPB153         2020             NaN -120.036040   \n",
      "602  634TRT002   634TRT002         2020             NaN -119.976433   \n",
      "\n",
      "      38.76332  CSCI_Score     Rating           StationTyp  \n",
      "0    38.879120    0.930000       good  Targeted Monitoring  \n",
      "1    38.862350    0.990000       good  Targeted Monitoring  \n",
      "2    38.837990    0.950000       good  Targeted Monitoring  \n",
      "3    38.904260    0.840000       good  Targeted Monitoring  \n",
      "4    38.905770    0.840000       good  Targeted Monitoring  \n",
      "..         ...         ...        ...                  ...  \n",
      "598  38.989230    0.922889       good        Trend Panel B  \n",
      "599  38.979650    1.049287  excellent        Trend Panel B  \n",
      "600  39.130570    0.822304       good        Trend Panel B  \n",
      "601  38.881600    0.812284       good        Trend Panel B  \n",
      "602  38.930117    0.733622   marginal  Targeted Monitoring  \n",
      "\n",
      "[603 rows x 9 columns]\n"
     ]
    },
    {
     "ename": "KeyError",
     "evalue": "'Rating'",
     "output_type": "error",
     "traceback": [
      "\u001b[1;31m---------------------------------------------------------------------------\u001b[0m",
      "\u001b[1;31mKeyError\u001b[0m                                  Traceback (most recent call last)",
      "\u001b[1;32m~\\AppData\\Local\\Temp\\ipykernel_4176\\486313482.py\u001b[0m in \u001b[0;36m<cell line: 22>\u001b[1;34m()\u001b[0m\n\u001b[0;32m     20\u001b[0m \u001b[1;31m#Find average for each rating- Poor, Marginal, Good, Excellent\u001b[0m\u001b[1;33m\u001b[0m\u001b[1;33m\u001b[0m\u001b[0m\n\u001b[0;32m     21\u001b[0m \u001b[1;31m# Group by 'Category' and calculate the mean of 'Count'\u001b[0m\u001b[1;33m\u001b[0m\u001b[1;33m\u001b[0m\u001b[0m\n\u001b[1;32m---> 22\u001b[1;33m \u001b[0maverage_count_by_category\u001b[0m \u001b[1;33m=\u001b[0m \u001b[0mdf\u001b[0m\u001b[1;33m.\u001b[0m\u001b[0mgroupby\u001b[0m\u001b[1;33m(\u001b[0m\u001b[1;34m'Rating'\u001b[0m\u001b[1;33m)\u001b[0m\u001b[1;33m[\u001b[0m\u001b[1;34m'CSCI_Score'\u001b[0m\u001b[1;33m]\u001b[0m\u001b[1;33m.\u001b[0m\u001b[0mmean\u001b[0m\u001b[1;33m(\u001b[0m\u001b[1;33m)\u001b[0m\u001b[1;33m\u001b[0m\u001b[1;33m\u001b[0m\u001b[0m\n\u001b[0m",
      "\u001b[1;32mc:\\Program Files\\ArcGIS\\Pro\\bin\\Python\\envs\\arcgispro-py3\\lib\\site-packages\\pandas\\core\\frame.py\u001b[0m in \u001b[0;36mgroupby\u001b[1;34m(self, by, axis, level, as_index, sort, group_keys, observed, dropna)\u001b[0m\n\u001b[0;32m   8250\u001b[0m         \u001b[0maxis\u001b[0m \u001b[1;33m=\u001b[0m \u001b[0mself\u001b[0m\u001b[1;33m.\u001b[0m\u001b[0m_get_axis_number\u001b[0m\u001b[1;33m(\u001b[0m\u001b[0maxis\u001b[0m\u001b[1;33m)\u001b[0m\u001b[1;33m\u001b[0m\u001b[1;33m\u001b[0m\u001b[0m\n\u001b[0;32m   8251\u001b[0m \u001b[1;33m\u001b[0m\u001b[0m\n\u001b[1;32m-> 8252\u001b[1;33m         return DataFrameGroupBy(\n\u001b[0m\u001b[0;32m   8253\u001b[0m             \u001b[0mobj\u001b[0m\u001b[1;33m=\u001b[0m\u001b[0mself\u001b[0m\u001b[1;33m,\u001b[0m\u001b[1;33m\u001b[0m\u001b[1;33m\u001b[0m\u001b[0m\n\u001b[0;32m   8254\u001b[0m             \u001b[0mkeys\u001b[0m\u001b[1;33m=\u001b[0m\u001b[0mby\u001b[0m\u001b[1;33m,\u001b[0m\u001b[1;33m\u001b[0m\u001b[1;33m\u001b[0m\u001b[0m\n",
      "\u001b[1;32mc:\\Program Files\\ArcGIS\\Pro\\bin\\Python\\envs\\arcgispro-py3\\lib\\site-packages\\pandas\\core\\groupby\\groupby.py\u001b[0m in \u001b[0;36m__init__\u001b[1;34m(self, obj, keys, axis, level, grouper, exclusions, selection, as_index, sort, group_keys, observed, dropna)\u001b[0m\n\u001b[0;32m    929\u001b[0m \u001b[1;33m\u001b[0m\u001b[0m\n\u001b[0;32m    930\u001b[0m         \u001b[1;32mif\u001b[0m \u001b[0mgrouper\u001b[0m \u001b[1;32mis\u001b[0m \u001b[1;32mNone\u001b[0m\u001b[1;33m:\u001b[0m\u001b[1;33m\u001b[0m\u001b[1;33m\u001b[0m\u001b[0m\n\u001b[1;32m--> 931\u001b[1;33m             grouper, exclusions, obj = get_grouper(\n\u001b[0m\u001b[0;32m    932\u001b[0m                 \u001b[0mobj\u001b[0m\u001b[1;33m,\u001b[0m\u001b[1;33m\u001b[0m\u001b[1;33m\u001b[0m\u001b[0m\n\u001b[0;32m    933\u001b[0m                 \u001b[0mkeys\u001b[0m\u001b[1;33m,\u001b[0m\u001b[1;33m\u001b[0m\u001b[1;33m\u001b[0m\u001b[0m\n",
      "\u001b[1;32mc:\\Program Files\\ArcGIS\\Pro\\bin\\Python\\envs\\arcgispro-py3\\lib\\site-packages\\pandas\\core\\groupby\\grouper.py\u001b[0m in \u001b[0;36mget_grouper\u001b[1;34m(obj, key, axis, level, sort, observed, validate, dropna)\u001b[0m\n\u001b[0;32m    983\u001b[0m                 \u001b[0min_axis\u001b[0m\u001b[1;33m,\u001b[0m \u001b[0mlevel\u001b[0m\u001b[1;33m,\u001b[0m \u001b[0mgpr\u001b[0m \u001b[1;33m=\u001b[0m \u001b[1;32mFalse\u001b[0m\u001b[1;33m,\u001b[0m \u001b[0mgpr\u001b[0m\u001b[1;33m,\u001b[0m \u001b[1;32mNone\u001b[0m\u001b[1;33m\u001b[0m\u001b[1;33m\u001b[0m\u001b[0m\n\u001b[0;32m    984\u001b[0m             \u001b[1;32melse\u001b[0m\u001b[1;33m:\u001b[0m\u001b[1;33m\u001b[0m\u001b[1;33m\u001b[0m\u001b[0m\n\u001b[1;32m--> 985\u001b[1;33m                 \u001b[1;32mraise\u001b[0m \u001b[0mKeyError\u001b[0m\u001b[1;33m(\u001b[0m\u001b[0mgpr\u001b[0m\u001b[1;33m)\u001b[0m\u001b[1;33m\u001b[0m\u001b[1;33m\u001b[0m\u001b[0m\n\u001b[0m\u001b[0;32m    986\u001b[0m         \u001b[1;32melif\u001b[0m \u001b[0misinstance\u001b[0m\u001b[1;33m(\u001b[0m\u001b[0mgpr\u001b[0m\u001b[1;33m,\u001b[0m \u001b[0mGrouper\u001b[0m\u001b[1;33m)\u001b[0m \u001b[1;32mand\u001b[0m \u001b[0mgpr\u001b[0m\u001b[1;33m.\u001b[0m\u001b[0mkey\u001b[0m \u001b[1;32mis\u001b[0m \u001b[1;32mnot\u001b[0m \u001b[1;32mNone\u001b[0m\u001b[1;33m:\u001b[0m\u001b[1;33m\u001b[0m\u001b[1;33m\u001b[0m\u001b[0m\n\u001b[0;32m    987\u001b[0m             \u001b[1;31m# Add key to exclusions\u001b[0m\u001b[1;33m\u001b[0m\u001b[1;33m\u001b[0m\u001b[0m\n",
      "\u001b[1;31mKeyError\u001b[0m: 'Rating'"
     ]
    }
   ],
   "source": [
    "#Calculate Rating or CSCI values and then find the percent of total streams in each rating\n",
    "excel_file_path=\"F:\\Research and Analysis\\Fisheries\\Streams\\Bioassessment\\California Stream Condition Index\\California Stream Condition Index\\CSCI_Scores_AllSites_AllYears.xlsx\"\n",
    "\n",
    "Alldf = pd.read_excel(excel_file_path, sheet_name='CSCI_Scores_AllSites_AllYears')\n",
    "\n",
    "#Calculate Rating for CSCI value\n",
    "#Define a function to categorize CSCI values based on ranges\n",
    "def categorize_value(value):\n",
    "    if 0 <= value < 0.8:\n",
    "        return 'marginal'\n",
    "    elif 0.8 <= value < 1.0:\n",
    "        return 'good'\n",
    "    else:\n",
    "        return 'excellent'\n",
    "\n",
    "Alldf['Rating']=Alldf['CSCI_Score'].apply(categorize_value)\n",
    "\n",
    "print(Alldf)\n",
    "\n",
    "#Find average for each rating- Poor, Marginal, Good, Excellent\n",
    "# Group by 'Category' and calculate the mean of 'Count'\n",
    "average_count_by_category = df.groupby('Rating')['CSCI_Score'].mean()    "
   ]
  },
  {
   "cell_type": "code",
   "execution_count": null,
   "metadata": {},
   "outputs": [],
   "source": []
  }
 ],
 "metadata": {
  "kernelspec": {
   "display_name": "Python 3",
   "language": "python",
   "name": "python3"
  },
  "language_info": {
   "codemirror_mode": {
    "name": "ipython",
    "version": 3
   },
   "file_extension": ".py",
   "mimetype": "text/x-python",
   "name": "python",
   "nbconvert_exporter": "python",
   "pygments_lexer": "ipython3",
   "version": "3.9.18"
  }
 },
 "nbformat": 4,
 "nbformat_minor": 2
}
