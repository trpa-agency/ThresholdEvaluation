{
 "cells": [
  {
   "cell_type": "markdown",
   "metadata": {},
   "source": [
    "## Setup"
   ]
  },
  {
   "cell_type": "code",
   "execution_count": 17,
   "metadata": {},
   "outputs": [],
   "source": [
    "# Setup\n",
    "import pandas as pd\n",
    "from arcgis import GIS\n",
    "from arcgis.features import FeatureLayer\n",
    "from arcgis.features import GeoAccessor\n",
    "import os\n",
    "import numpy as np\n",
    "import arcpy\n",
    "from soil_conservation import *\n",
    "workspace =r'F:\\Research and Analysis\\Workspace\\Sarah\\Data Management 2023\\Scratch.gdb'\n",
    "draftworkspace =r'C:\\Users\\snewsome\\Documents\\GitHub\\ThresholdEvaluation\\2023\\WaterQuality' \n",
    "# make sql database connection with pyodbc\n",
    "#conn = pyodbc.connect('DRIVER={ODBC Driver 17 for SQL Server};SERVER=sql12;DATABASE=sde_tabular;UID=sde;PWD=staff')"
   ]
  },
  {
   "cell_type": "markdown",
   "metadata": {},
   "source": [
    "## Soil Conservation"
   ]
  },
  {
   "cell_type": "code",
   "execution_count": 15,
   "metadata": {},
   "outputs": [
    {
     "data": {
      "text/html": [
       "<div>\n",
       "<style scoped>\n",
       "    .dataframe tbody tr th:only-of-type {\n",
       "        vertical-align: middle;\n",
       "    }\n",
       "\n",
       "    .dataframe tbody tr th {\n",
       "        vertical-align: top;\n",
       "    }\n",
       "\n",
       "    .dataframe thead th {\n",
       "        text-align: right;\n",
       "    }\n",
       "</style>\n",
       "<table border=\"1\" class=\"dataframe\">\n",
       "  <thead>\n",
       "    <tr style=\"text-align: right;\">\n",
       "      <th></th>\n",
       "      <th>OBJECTID</th>\n",
       "      <th>OBJECTID_1</th>\n",
       "      <th>FID_id_NRC</th>\n",
       "      <th>FID_id_N_1</th>\n",
       "      <th>FID_id_N_2</th>\n",
       "      <th>FID_Land_C</th>\n",
       "      <th>FID_land_1</th>\n",
       "      <th>LandCapabi</th>\n",
       "      <th>GISAcre1</th>\n",
       "      <th>FID_Parcel</th>\n",
       "      <th>Status</th>\n",
       "      <th>IPESScore</th>\n",
       "      <th>IPESScoreT</th>\n",
       "      <th>RelativeEr</th>\n",
       "      <th>RunoffPote</th>\n",
       "      <th>FID_Land_2</th>\n",
       "      <th>LandCapa_1</th>\n",
       "      <th>GISAcre</th>\n",
       "      <th>IPES_Trans</th>\n",
       "      <th>Land_Capab</th>\n",
       "      <th>FID_Imperv</th>\n",
       "      <th>FID_Impe_1</th>\n",
       "      <th>Feature</th>\n",
       "      <th>Surface</th>\n",
       "      <th>FID_Impe_2</th>\n",
       "      <th>Feature_1</th>\n",
       "      <th>Surface_1</th>\n",
       "      <th>General_St</th>\n",
       "      <th>Detail_Sta</th>\n",
       "      <th>L_A_ratio</th>\n",
       "      <th>SquareFeet</th>\n",
       "      <th>FID_LocalP</th>\n",
       "      <th>PLAN_NAME</th>\n",
       "      <th>PLAN_TYPE</th>\n",
       "      <th>JURISDICTI</th>\n",
       "      <th>GIS_ACRES</th>\n",
       "      <th>SQFT</th>\n",
       "      <th>PLAN_ID</th>\n",
       "      <th>Shape_STAr</th>\n",
       "      <th>Shape_STLe</th>\n",
       "      <th>FID_TownCe</th>\n",
       "      <th>Name</th>\n",
       "      <th>District_N</th>\n",
       "      <th>Descriptio</th>\n",
       "      <th>Land_Use</th>\n",
       "      <th>Jurisdic_1</th>\n",
       "      <th>id</th>\n",
       "      <th>CNEL</th>\n",
       "      <th>Transect</th>\n",
       "      <th>Acres</th>\n",
       "      <th>Shape_ST_1</th>\n",
       "      <th>Shape_ST_2</th>\n",
       "      <th>FID_Parc_1</th>\n",
       "      <th>APN</th>\n",
       "      <th>PPNO</th>\n",
       "      <th>HSE_NUMBR</th>\n",
       "      <th>UNIT_NUMBR</th>\n",
       "      <th>STR_DIR</th>\n",
       "      <th>STR_NAME</th>\n",
       "      <th>STR_SUFFIX</th>\n",
       "      <th>APO_ADDRES</th>\n",
       "      <th>PSTL_TOWN</th>\n",
       "      <th>PSTL_STATE</th>\n",
       "      <th>PSTL_ZIP5</th>\n",
       "      <th>MAIL_ADD1</th>\n",
       "      <th>MAIL_ADD2</th>\n",
       "      <th>MAIL_CITY</th>\n",
       "      <th>MAIL_STATE</th>\n",
       "      <th>MAIL_ZIP5</th>\n",
       "      <th>JURISDIC_2</th>\n",
       "      <th>COUNTY</th>\n",
       "      <th>OWNERSHIP_</th>\n",
       "      <th>COUNTY_LAN</th>\n",
       "      <th>COUNTY_L_1</th>\n",
       "      <th>TRPA_LANDU</th>\n",
       "      <th>REGIONAL_L</th>\n",
       "      <th>UNITS</th>\n",
       "      <th>BEDROOMS</th>\n",
       "      <th>BATHROOMS</th>\n",
       "      <th>ALLOWABLE_</th>\n",
       "      <th>IMPERVIOUS</th>\n",
       "      <th>SOIL_1974</th>\n",
       "      <th>SOIL_2003</th>\n",
       "      <th>HRA_NAME</th>\n",
       "      <th>WATERSHED_</th>\n",
       "      <th>WATERSHED1</th>\n",
       "      <th>PRIORITY_W</th>\n",
       "      <th>FIREPD</th>\n",
       "      <th>WITHIN_TRP</th>\n",
       "      <th>LITTORAL</th>\n",
       "      <th>AS_LANDVAL</th>\n",
       "      <th>AS_IMPROVA</th>\n",
       "      <th>AS_SUM</th>\n",
       "      <th>TAX_LANDVA</th>\n",
       "      <th>TAX_IMPROV</th>\n",
       "      <th>TAX_SUM</th>\n",
       "      <th>TAX_YEAR</th>\n",
       "      <th>PLAN_ID_1</th>\n",
       "      <th>PLAN_NAME_</th>\n",
       "      <th>ZONING_ID</th>\n",
       "      <th>ZONING_DES</th>\n",
       "      <th>TOWN_CENTE</th>\n",
       "      <th>LOCATION_T</th>\n",
       "      <th>PARCEL_ACR</th>\n",
       "      <th>PARCEL_SQF</th>\n",
       "      <th>Shape_Leng</th>\n",
       "      <th>Shape_Area</th>\n",
       "    </tr>\n",
       "  </thead>\n",
       "  <tbody>\n",
       "    <tr>\n",
       "      <th>0</th>\n",
       "      <td>1</td>\n",
       "      <td>1</td>\n",
       "      <td>3</td>\n",
       "      <td>3</td>\n",
       "      <td>16</td>\n",
       "      <td>16</td>\n",
       "      <td>20</td>\n",
       "      <td>None</td>\n",
       "      <td>122856.066636</td>\n",
       "      <td>-1</td>\n",
       "      <td>None</td>\n",
       "      <td>0.0</td>\n",
       "      <td>None</td>\n",
       "      <td>0.0</td>\n",
       "      <td>0.0</td>\n",
       "      <td>-1</td>\n",
       "      <td>None</td>\n",
       "      <td>122537.566401</td>\n",
       "      <td>None</td>\n",
       "      <td>None</td>\n",
       "      <td>-1</td>\n",
       "      <td>0</td>\n",
       "      <td>None</td>\n",
       "      <td>None</td>\n",
       "      <td>0</td>\n",
       "      <td>None</td>\n",
       "      <td>None</td>\n",
       "      <td>None</td>\n",
       "      <td>None</td>\n",
       "      <td>0.0</td>\n",
       "      <td>0.0</td>\n",
       "      <td>-1</td>\n",
       "      <td>None</td>\n",
       "      <td>None</td>\n",
       "      <td>None</td>\n",
       "      <td>0.000000</td>\n",
       "      <td>0.000000e+00</td>\n",
       "      <td>None</td>\n",
       "      <td>0.000000e+00</td>\n",
       "      <td>0.000000</td>\n",
       "      <td>-1</td>\n",
       "      <td>None</td>\n",
       "      <td>0</td>\n",
       "      <td>None</td>\n",
       "      <td>None</td>\n",
       "      <td>None</td>\n",
       "      <td>None</td>\n",
       "      <td>0</td>\n",
       "      <td>None</td>\n",
       "      <td>0.0</td>\n",
       "      <td>0.0</td>\n",
       "      <td>0.0</td>\n",
       "      <td>-1</td>\n",
       "      <td>None</td>\n",
       "      <td>0.0</td>\n",
       "      <td>0</td>\n",
       "      <td>None</td>\n",
       "      <td>None</td>\n",
       "      <td>None</td>\n",
       "      <td>None</td>\n",
       "      <td>None</td>\n",
       "      <td>None</td>\n",
       "      <td>None</td>\n",
       "      <td>None</td>\n",
       "      <td>None</td>\n",
       "      <td>None</td>\n",
       "      <td>None</td>\n",
       "      <td>None</td>\n",
       "      <td>None</td>\n",
       "      <td>None</td>\n",
       "      <td>None</td>\n",
       "      <td>None</td>\n",
       "      <td>None</td>\n",
       "      <td>None</td>\n",
       "      <td>None</td>\n",
       "      <td>None</td>\n",
       "      <td>None</td>\n",
       "      <td>None</td>\n",
       "      <td>None</td>\n",
       "      <td>0.0</td>\n",
       "      <td>0.0</td>\n",
       "      <td>None</td>\n",
       "      <td>None</td>\n",
       "      <td>None</td>\n",
       "      <td>0</td>\n",
       "      <td>None</td>\n",
       "      <td>None</td>\n",
       "      <td>None</td>\n",
       "      <td>0</td>\n",
       "      <td>0</td>\n",
       "      <td>0</td>\n",
       "      <td>0</td>\n",
       "      <td>0</td>\n",
       "      <td>0</td>\n",
       "      <td>0</td>\n",
       "      <td>0</td>\n",
       "      <td>None</td>\n",
       "      <td>None</td>\n",
       "      <td>None</td>\n",
       "      <td>None</td>\n",
       "      <td>None</td>\n",
       "      <td>None</td>\n",
       "      <td>None</td>\n",
       "      <td>0.0</td>\n",
       "      <td>0.0</td>\n",
       "      <td>129851.631409</td>\n",
       "      <td>4.962995e+08</td>\n",
       "    </tr>\n",
       "    <tr>\n",
       "      <th>1</th>\n",
       "      <td>2</td>\n",
       "      <td>2</td>\n",
       "      <td>4</td>\n",
       "      <td>4</td>\n",
       "      <td>24</td>\n",
       "      <td>24</td>\n",
       "      <td>31</td>\n",
       "      <td>6</td>\n",
       "      <td>198.604105</td>\n",
       "      <td>-1</td>\n",
       "      <td>None</td>\n",
       "      <td>0.0</td>\n",
       "      <td>None</td>\n",
       "      <td>0.0</td>\n",
       "      <td>0.0</td>\n",
       "      <td>-1</td>\n",
       "      <td>None</td>\n",
       "      <td>2.403359</td>\n",
       "      <td>None</td>\n",
       "      <td>6</td>\n",
       "      <td>-1</td>\n",
       "      <td>0</td>\n",
       "      <td>None</td>\n",
       "      <td>None</td>\n",
       "      <td>0</td>\n",
       "      <td>None</td>\n",
       "      <td>None</td>\n",
       "      <td>None</td>\n",
       "      <td>None</td>\n",
       "      <td>0.0</td>\n",
       "      <td>0.0</td>\n",
       "      <td>-1</td>\n",
       "      <td>None</td>\n",
       "      <td>None</td>\n",
       "      <td>None</td>\n",
       "      <td>0.000000</td>\n",
       "      <td>0.000000e+00</td>\n",
       "      <td>None</td>\n",
       "      <td>0.000000e+00</td>\n",
       "      <td>0.000000</td>\n",
       "      <td>-1</td>\n",
       "      <td>None</td>\n",
       "      <td>0</td>\n",
       "      <td>None</td>\n",
       "      <td>None</td>\n",
       "      <td>None</td>\n",
       "      <td>None</td>\n",
       "      <td>0</td>\n",
       "      <td>None</td>\n",
       "      <td>0.0</td>\n",
       "      <td>0.0</td>\n",
       "      <td>0.0</td>\n",
       "      <td>-1</td>\n",
       "      <td>None</td>\n",
       "      <td>0.0</td>\n",
       "      <td>0</td>\n",
       "      <td>None</td>\n",
       "      <td>None</td>\n",
       "      <td>None</td>\n",
       "      <td>None</td>\n",
       "      <td>None</td>\n",
       "      <td>None</td>\n",
       "      <td>None</td>\n",
       "      <td>None</td>\n",
       "      <td>None</td>\n",
       "      <td>None</td>\n",
       "      <td>None</td>\n",
       "      <td>None</td>\n",
       "      <td>None</td>\n",
       "      <td>None</td>\n",
       "      <td>None</td>\n",
       "      <td>None</td>\n",
       "      <td>None</td>\n",
       "      <td>None</td>\n",
       "      <td>None</td>\n",
       "      <td>None</td>\n",
       "      <td>None</td>\n",
       "      <td>None</td>\n",
       "      <td>None</td>\n",
       "      <td>0.0</td>\n",
       "      <td>0.0</td>\n",
       "      <td>None</td>\n",
       "      <td>None</td>\n",
       "      <td>None</td>\n",
       "      <td>0</td>\n",
       "      <td>None</td>\n",
       "      <td>None</td>\n",
       "      <td>None</td>\n",
       "      <td>0</td>\n",
       "      <td>0</td>\n",
       "      <td>0</td>\n",
       "      <td>0</td>\n",
       "      <td>0</td>\n",
       "      <td>0</td>\n",
       "      <td>0</td>\n",
       "      <td>0</td>\n",
       "      <td>None</td>\n",
       "      <td>None</td>\n",
       "      <td>None</td>\n",
       "      <td>None</td>\n",
       "      <td>None</td>\n",
       "      <td>None</td>\n",
       "      <td>None</td>\n",
       "      <td>0.0</td>\n",
       "      <td>0.0</td>\n",
       "      <td>1801.935090</td>\n",
       "      <td>9.733578e+03</td>\n",
       "    </tr>\n",
       "    <tr>\n",
       "      <th>2</th>\n",
       "      <td>3</td>\n",
       "      <td>3</td>\n",
       "      <td>5</td>\n",
       "      <td>5</td>\n",
       "      <td>36</td>\n",
       "      <td>36</td>\n",
       "      <td>52</td>\n",
       "      <td>3</td>\n",
       "      <td>156.668119</td>\n",
       "      <td>-1</td>\n",
       "      <td>None</td>\n",
       "      <td>0.0</td>\n",
       "      <td>None</td>\n",
       "      <td>0.0</td>\n",
       "      <td>0.0</td>\n",
       "      <td>-1</td>\n",
       "      <td>None</td>\n",
       "      <td>0.003333</td>\n",
       "      <td>None</td>\n",
       "      <td>3</td>\n",
       "      <td>-1</td>\n",
       "      <td>0</td>\n",
       "      <td>None</td>\n",
       "      <td>None</td>\n",
       "      <td>0</td>\n",
       "      <td>None</td>\n",
       "      <td>None</td>\n",
       "      <td>None</td>\n",
       "      <td>None</td>\n",
       "      <td>0.0</td>\n",
       "      <td>0.0</td>\n",
       "      <td>-1</td>\n",
       "      <td>None</td>\n",
       "      <td>None</td>\n",
       "      <td>None</td>\n",
       "      <td>0.000000</td>\n",
       "      <td>0.000000e+00</td>\n",
       "      <td>None</td>\n",
       "      <td>0.000000e+00</td>\n",
       "      <td>0.000000</td>\n",
       "      <td>-1</td>\n",
       "      <td>None</td>\n",
       "      <td>0</td>\n",
       "      <td>None</td>\n",
       "      <td>None</td>\n",
       "      <td>None</td>\n",
       "      <td>None</td>\n",
       "      <td>0</td>\n",
       "      <td>None</td>\n",
       "      <td>0.0</td>\n",
       "      <td>0.0</td>\n",
       "      <td>0.0</td>\n",
       "      <td>-1</td>\n",
       "      <td>None</td>\n",
       "      <td>0.0</td>\n",
       "      <td>0</td>\n",
       "      <td>None</td>\n",
       "      <td>None</td>\n",
       "      <td>None</td>\n",
       "      <td>None</td>\n",
       "      <td>None</td>\n",
       "      <td>None</td>\n",
       "      <td>None</td>\n",
       "      <td>None</td>\n",
       "      <td>None</td>\n",
       "      <td>None</td>\n",
       "      <td>None</td>\n",
       "      <td>None</td>\n",
       "      <td>None</td>\n",
       "      <td>None</td>\n",
       "      <td>None</td>\n",
       "      <td>None</td>\n",
       "      <td>None</td>\n",
       "      <td>None</td>\n",
       "      <td>None</td>\n",
       "      <td>None</td>\n",
       "      <td>None</td>\n",
       "      <td>None</td>\n",
       "      <td>None</td>\n",
       "      <td>0.0</td>\n",
       "      <td>0.0</td>\n",
       "      <td>None</td>\n",
       "      <td>None</td>\n",
       "      <td>None</td>\n",
       "      <td>0</td>\n",
       "      <td>None</td>\n",
       "      <td>None</td>\n",
       "      <td>None</td>\n",
       "      <td>0</td>\n",
       "      <td>0</td>\n",
       "      <td>0</td>\n",
       "      <td>0</td>\n",
       "      <td>0</td>\n",
       "      <td>0</td>\n",
       "      <td>0</td>\n",
       "      <td>0</td>\n",
       "      <td>None</td>\n",
       "      <td>None</td>\n",
       "      <td>None</td>\n",
       "      <td>None</td>\n",
       "      <td>None</td>\n",
       "      <td>None</td>\n",
       "      <td>None</td>\n",
       "      <td>0.0</td>\n",
       "      <td>0.0</td>\n",
       "      <td>29.065027</td>\n",
       "      <td>1.349903e+01</td>\n",
       "    </tr>\n",
       "    <tr>\n",
       "      <th>3</th>\n",
       "      <td>4</td>\n",
       "      <td>4</td>\n",
       "      <td>6</td>\n",
       "      <td>6</td>\n",
       "      <td>43</td>\n",
       "      <td>43</td>\n",
       "      <td>63</td>\n",
       "      <td>6</td>\n",
       "      <td>21.050457</td>\n",
       "      <td>-1</td>\n",
       "      <td>None</td>\n",
       "      <td>0.0</td>\n",
       "      <td>None</td>\n",
       "      <td>0.0</td>\n",
       "      <td>0.0</td>\n",
       "      <td>-1</td>\n",
       "      <td>None</td>\n",
       "      <td>0.044906</td>\n",
       "      <td>None</td>\n",
       "      <td>6</td>\n",
       "      <td>-1</td>\n",
       "      <td>0</td>\n",
       "      <td>None</td>\n",
       "      <td>None</td>\n",
       "      <td>0</td>\n",
       "      <td>None</td>\n",
       "      <td>None</td>\n",
       "      <td>None</td>\n",
       "      <td>None</td>\n",
       "      <td>0.0</td>\n",
       "      <td>0.0</td>\n",
       "      <td>-1</td>\n",
       "      <td>None</td>\n",
       "      <td>None</td>\n",
       "      <td>None</td>\n",
       "      <td>0.000000</td>\n",
       "      <td>0.000000e+00</td>\n",
       "      <td>None</td>\n",
       "      <td>0.000000e+00</td>\n",
       "      <td>0.000000</td>\n",
       "      <td>-1</td>\n",
       "      <td>None</td>\n",
       "      <td>0</td>\n",
       "      <td>None</td>\n",
       "      <td>None</td>\n",
       "      <td>None</td>\n",
       "      <td>None</td>\n",
       "      <td>0</td>\n",
       "      <td>None</td>\n",
       "      <td>0.0</td>\n",
       "      <td>0.0</td>\n",
       "      <td>0.0</td>\n",
       "      <td>-1</td>\n",
       "      <td>None</td>\n",
       "      <td>0.0</td>\n",
       "      <td>0</td>\n",
       "      <td>None</td>\n",
       "      <td>None</td>\n",
       "      <td>None</td>\n",
       "      <td>None</td>\n",
       "      <td>None</td>\n",
       "      <td>None</td>\n",
       "      <td>None</td>\n",
       "      <td>None</td>\n",
       "      <td>None</td>\n",
       "      <td>None</td>\n",
       "      <td>None</td>\n",
       "      <td>None</td>\n",
       "      <td>None</td>\n",
       "      <td>None</td>\n",
       "      <td>None</td>\n",
       "      <td>None</td>\n",
       "      <td>None</td>\n",
       "      <td>None</td>\n",
       "      <td>None</td>\n",
       "      <td>None</td>\n",
       "      <td>None</td>\n",
       "      <td>None</td>\n",
       "      <td>None</td>\n",
       "      <td>0.0</td>\n",
       "      <td>0.0</td>\n",
       "      <td>None</td>\n",
       "      <td>None</td>\n",
       "      <td>None</td>\n",
       "      <td>0</td>\n",
       "      <td>None</td>\n",
       "      <td>None</td>\n",
       "      <td>None</td>\n",
       "      <td>0</td>\n",
       "      <td>0</td>\n",
       "      <td>0</td>\n",
       "      <td>0</td>\n",
       "      <td>0</td>\n",
       "      <td>0</td>\n",
       "      <td>0</td>\n",
       "      <td>0</td>\n",
       "      <td>None</td>\n",
       "      <td>None</td>\n",
       "      <td>None</td>\n",
       "      <td>None</td>\n",
       "      <td>None</td>\n",
       "      <td>None</td>\n",
       "      <td>None</td>\n",
       "      <td>0.0</td>\n",
       "      <td>0.0</td>\n",
       "      <td>75.316363</td>\n",
       "      <td>1.818718e+02</td>\n",
       "    </tr>\n",
       "    <tr>\n",
       "      <th>4</th>\n",
       "      <td>5</td>\n",
       "      <td>5</td>\n",
       "      <td>7</td>\n",
       "      <td>7</td>\n",
       "      <td>48</td>\n",
       "      <td>48</td>\n",
       "      <td>69</td>\n",
       "      <td>3</td>\n",
       "      <td>3.201614</td>\n",
       "      <td>-1</td>\n",
       "      <td>None</td>\n",
       "      <td>0.0</td>\n",
       "      <td>None</td>\n",
       "      <td>0.0</td>\n",
       "      <td>0.0</td>\n",
       "      <td>-1</td>\n",
       "      <td>None</td>\n",
       "      <td>0.000753</td>\n",
       "      <td>None</td>\n",
       "      <td>3</td>\n",
       "      <td>-1</td>\n",
       "      <td>0</td>\n",
       "      <td>None</td>\n",
       "      <td>None</td>\n",
       "      <td>0</td>\n",
       "      <td>None</td>\n",
       "      <td>None</td>\n",
       "      <td>None</td>\n",
       "      <td>None</td>\n",
       "      <td>0.0</td>\n",
       "      <td>0.0</td>\n",
       "      <td>-1</td>\n",
       "      <td>None</td>\n",
       "      <td>None</td>\n",
       "      <td>None</td>\n",
       "      <td>0.000000</td>\n",
       "      <td>0.000000e+00</td>\n",
       "      <td>None</td>\n",
       "      <td>0.000000e+00</td>\n",
       "      <td>0.000000</td>\n",
       "      <td>-1</td>\n",
       "      <td>None</td>\n",
       "      <td>0</td>\n",
       "      <td>None</td>\n",
       "      <td>None</td>\n",
       "      <td>None</td>\n",
       "      <td>None</td>\n",
       "      <td>0</td>\n",
       "      <td>None</td>\n",
       "      <td>0.0</td>\n",
       "      <td>0.0</td>\n",
       "      <td>0.0</td>\n",
       "      <td>-1</td>\n",
       "      <td>None</td>\n",
       "      <td>0.0</td>\n",
       "      <td>0</td>\n",
       "      <td>None</td>\n",
       "      <td>None</td>\n",
       "      <td>None</td>\n",
       "      <td>None</td>\n",
       "      <td>None</td>\n",
       "      <td>None</td>\n",
       "      <td>None</td>\n",
       "      <td>None</td>\n",
       "      <td>None</td>\n",
       "      <td>None</td>\n",
       "      <td>None</td>\n",
       "      <td>None</td>\n",
       "      <td>None</td>\n",
       "      <td>None</td>\n",
       "      <td>None</td>\n",
       "      <td>None</td>\n",
       "      <td>None</td>\n",
       "      <td>None</td>\n",
       "      <td>None</td>\n",
       "      <td>None</td>\n",
       "      <td>None</td>\n",
       "      <td>None</td>\n",
       "      <td>None</td>\n",
       "      <td>0.0</td>\n",
       "      <td>0.0</td>\n",
       "      <td>None</td>\n",
       "      <td>None</td>\n",
       "      <td>None</td>\n",
       "      <td>0</td>\n",
       "      <td>None</td>\n",
       "      <td>None</td>\n",
       "      <td>None</td>\n",
       "      <td>0</td>\n",
       "      <td>0</td>\n",
       "      <td>0</td>\n",
       "      <td>0</td>\n",
       "      <td>0</td>\n",
       "      <td>0</td>\n",
       "      <td>0</td>\n",
       "      <td>0</td>\n",
       "      <td>None</td>\n",
       "      <td>None</td>\n",
       "      <td>None</td>\n",
       "      <td>None</td>\n",
       "      <td>None</td>\n",
       "      <td>None</td>\n",
       "      <td>None</td>\n",
       "      <td>0.0</td>\n",
       "      <td>0.0</td>\n",
       "      <td>11.928079</td>\n",
       "      <td>3.047978e+00</td>\n",
       "    </tr>\n",
       "    <tr>\n",
       "      <th>...</th>\n",
       "      <td>...</td>\n",
       "      <td>...</td>\n",
       "      <td>...</td>\n",
       "      <td>...</td>\n",
       "      <td>...</td>\n",
       "      <td>...</td>\n",
       "      <td>...</td>\n",
       "      <td>...</td>\n",
       "      <td>...</td>\n",
       "      <td>...</td>\n",
       "      <td>...</td>\n",
       "      <td>...</td>\n",
       "      <td>...</td>\n",
       "      <td>...</td>\n",
       "      <td>...</td>\n",
       "      <td>...</td>\n",
       "      <td>...</td>\n",
       "      <td>...</td>\n",
       "      <td>...</td>\n",
       "      <td>...</td>\n",
       "      <td>...</td>\n",
       "      <td>...</td>\n",
       "      <td>...</td>\n",
       "      <td>...</td>\n",
       "      <td>...</td>\n",
       "      <td>...</td>\n",
       "      <td>...</td>\n",
       "      <td>...</td>\n",
       "      <td>...</td>\n",
       "      <td>...</td>\n",
       "      <td>...</td>\n",
       "      <td>...</td>\n",
       "      <td>...</td>\n",
       "      <td>...</td>\n",
       "      <td>...</td>\n",
       "      <td>...</td>\n",
       "      <td>...</td>\n",
       "      <td>...</td>\n",
       "      <td>...</td>\n",
       "      <td>...</td>\n",
       "      <td>...</td>\n",
       "      <td>...</td>\n",
       "      <td>...</td>\n",
       "      <td>...</td>\n",
       "      <td>...</td>\n",
       "      <td>...</td>\n",
       "      <td>...</td>\n",
       "      <td>...</td>\n",
       "      <td>...</td>\n",
       "      <td>...</td>\n",
       "      <td>...</td>\n",
       "      <td>...</td>\n",
       "      <td>...</td>\n",
       "      <td>...</td>\n",
       "      <td>...</td>\n",
       "      <td>...</td>\n",
       "      <td>...</td>\n",
       "      <td>...</td>\n",
       "      <td>...</td>\n",
       "      <td>...</td>\n",
       "      <td>...</td>\n",
       "      <td>...</td>\n",
       "      <td>...</td>\n",
       "      <td>...</td>\n",
       "      <td>...</td>\n",
       "      <td>...</td>\n",
       "      <td>...</td>\n",
       "      <td>...</td>\n",
       "      <td>...</td>\n",
       "      <td>...</td>\n",
       "      <td>...</td>\n",
       "      <td>...</td>\n",
       "      <td>...</td>\n",
       "      <td>...</td>\n",
       "      <td>...</td>\n",
       "      <td>...</td>\n",
       "      <td>...</td>\n",
       "      <td>...</td>\n",
       "      <td>...</td>\n",
       "      <td>...</td>\n",
       "      <td>...</td>\n",
       "      <td>...</td>\n",
       "      <td>...</td>\n",
       "      <td>...</td>\n",
       "      <td>...</td>\n",
       "      <td>...</td>\n",
       "      <td>...</td>\n",
       "      <td>...</td>\n",
       "      <td>...</td>\n",
       "      <td>...</td>\n",
       "      <td>...</td>\n",
       "      <td>...</td>\n",
       "      <td>...</td>\n",
       "      <td>...</td>\n",
       "      <td>...</td>\n",
       "      <td>...</td>\n",
       "      <td>...</td>\n",
       "      <td>...</td>\n",
       "      <td>...</td>\n",
       "      <td>...</td>\n",
       "      <td>...</td>\n",
       "      <td>...</td>\n",
       "      <td>...</td>\n",
       "      <td>...</td>\n",
       "      <td>...</td>\n",
       "      <td>...</td>\n",
       "      <td>...</td>\n",
       "    </tr>\n",
       "    <tr>\n",
       "      <th>995</th>\n",
       "      <td>996</td>\n",
       "      <td>996</td>\n",
       "      <td>2943</td>\n",
       "      <td>2966</td>\n",
       "      <td>1096</td>\n",
       "      <td>1096</td>\n",
       "      <td>1924</td>\n",
       "      <td>6</td>\n",
       "      <td>69.708179</td>\n",
       "      <td>-1</td>\n",
       "      <td>None</td>\n",
       "      <td>0.0</td>\n",
       "      <td>None</td>\n",
       "      <td>0.0</td>\n",
       "      <td>0.0</td>\n",
       "      <td>-1</td>\n",
       "      <td>None</td>\n",
       "      <td>0.675714</td>\n",
       "      <td>None</td>\n",
       "      <td>6</td>\n",
       "      <td>-1</td>\n",
       "      <td>0</td>\n",
       "      <td>None</td>\n",
       "      <td>None</td>\n",
       "      <td>0</td>\n",
       "      <td>None</td>\n",
       "      <td>None</td>\n",
       "      <td>None</td>\n",
       "      <td>None</td>\n",
       "      <td>0.0</td>\n",
       "      <td>0.0</td>\n",
       "      <td>51</td>\n",
       "      <td>PALISADES</td>\n",
       "      <td>PLAN AREA STATEMENT</td>\n",
       "      <td>DOUGLAS COUNTY</td>\n",
       "      <td>78.634526</td>\n",
       "      <td>3.425306e+06</td>\n",
       "      <td>084</td>\n",
       "      <td>3.182226e+05</td>\n",
       "      <td>2784.056634</td>\n",
       "      <td>-1</td>\n",
       "      <td>None</td>\n",
       "      <td>0</td>\n",
       "      <td>None</td>\n",
       "      <td>None</td>\n",
       "      <td>None</td>\n",
       "      <td>None</td>\n",
       "      <td>0</td>\n",
       "      <td>None</td>\n",
       "      <td>0.0</td>\n",
       "      <td>0.0</td>\n",
       "      <td>0.0</td>\n",
       "      <td>-1</td>\n",
       "      <td>None</td>\n",
       "      <td>0.0</td>\n",
       "      <td>0</td>\n",
       "      <td>None</td>\n",
       "      <td>None</td>\n",
       "      <td>None</td>\n",
       "      <td>None</td>\n",
       "      <td>None</td>\n",
       "      <td>None</td>\n",
       "      <td>None</td>\n",
       "      <td>None</td>\n",
       "      <td>None</td>\n",
       "      <td>None</td>\n",
       "      <td>None</td>\n",
       "      <td>None</td>\n",
       "      <td>None</td>\n",
       "      <td>None</td>\n",
       "      <td>None</td>\n",
       "      <td>None</td>\n",
       "      <td>None</td>\n",
       "      <td>None</td>\n",
       "      <td>None</td>\n",
       "      <td>None</td>\n",
       "      <td>None</td>\n",
       "      <td>None</td>\n",
       "      <td>None</td>\n",
       "      <td>0.0</td>\n",
       "      <td>0.0</td>\n",
       "      <td>None</td>\n",
       "      <td>None</td>\n",
       "      <td>None</td>\n",
       "      <td>0</td>\n",
       "      <td>None</td>\n",
       "      <td>None</td>\n",
       "      <td>None</td>\n",
       "      <td>0</td>\n",
       "      <td>0</td>\n",
       "      <td>0</td>\n",
       "      <td>0</td>\n",
       "      <td>0</td>\n",
       "      <td>0</td>\n",
       "      <td>0</td>\n",
       "      <td>0</td>\n",
       "      <td>None</td>\n",
       "      <td>None</td>\n",
       "      <td>None</td>\n",
       "      <td>None</td>\n",
       "      <td>None</td>\n",
       "      <td>None</td>\n",
       "      <td>None</td>\n",
       "      <td>0.0</td>\n",
       "      <td>0.0</td>\n",
       "      <td>1323.117949</td>\n",
       "      <td>2.736331e+03</td>\n",
       "    </tr>\n",
       "    <tr>\n",
       "      <th>996</th>\n",
       "      <td>997</td>\n",
       "      <td>997</td>\n",
       "      <td>2944</td>\n",
       "      <td>2967</td>\n",
       "      <td>1097</td>\n",
       "      <td>1097</td>\n",
       "      <td>1926</td>\n",
       "      <td>2</td>\n",
       "      <td>9.046920</td>\n",
       "      <td>-1</td>\n",
       "      <td>None</td>\n",
       "      <td>0.0</td>\n",
       "      <td>None</td>\n",
       "      <td>0.0</td>\n",
       "      <td>0.0</td>\n",
       "      <td>-1</td>\n",
       "      <td>None</td>\n",
       "      <td>0.254643</td>\n",
       "      <td>None</td>\n",
       "      <td>2</td>\n",
       "      <td>-1</td>\n",
       "      <td>0</td>\n",
       "      <td>None</td>\n",
       "      <td>None</td>\n",
       "      <td>0</td>\n",
       "      <td>None</td>\n",
       "      <td>None</td>\n",
       "      <td>None</td>\n",
       "      <td>None</td>\n",
       "      <td>0.0</td>\n",
       "      <td>0.0</td>\n",
       "      <td>47</td>\n",
       "      <td>KINGSBURY DRAINAGE</td>\n",
       "      <td>PLAN AREA STATEMENT</td>\n",
       "      <td>DOUGLAS COUNTY, EL DORADO COUNTY, CSLT</td>\n",
       "      <td>2335.773770</td>\n",
       "      <td>1.017459e+08</td>\n",
       "      <td>080</td>\n",
       "      <td>9.452300e+06</td>\n",
       "      <td>36560.973655</td>\n",
       "      <td>-1</td>\n",
       "      <td>None</td>\n",
       "      <td>0</td>\n",
       "      <td>None</td>\n",
       "      <td>None</td>\n",
       "      <td>None</td>\n",
       "      <td>None</td>\n",
       "      <td>0</td>\n",
       "      <td>None</td>\n",
       "      <td>0.0</td>\n",
       "      <td>0.0</td>\n",
       "      <td>0.0</td>\n",
       "      <td>-1</td>\n",
       "      <td>None</td>\n",
       "      <td>0.0</td>\n",
       "      <td>0</td>\n",
       "      <td>None</td>\n",
       "      <td>None</td>\n",
       "      <td>None</td>\n",
       "      <td>None</td>\n",
       "      <td>None</td>\n",
       "      <td>None</td>\n",
       "      <td>None</td>\n",
       "      <td>None</td>\n",
       "      <td>None</td>\n",
       "      <td>None</td>\n",
       "      <td>None</td>\n",
       "      <td>None</td>\n",
       "      <td>None</td>\n",
       "      <td>None</td>\n",
       "      <td>None</td>\n",
       "      <td>None</td>\n",
       "      <td>None</td>\n",
       "      <td>None</td>\n",
       "      <td>None</td>\n",
       "      <td>None</td>\n",
       "      <td>None</td>\n",
       "      <td>None</td>\n",
       "      <td>None</td>\n",
       "      <td>0.0</td>\n",
       "      <td>0.0</td>\n",
       "      <td>None</td>\n",
       "      <td>None</td>\n",
       "      <td>None</td>\n",
       "      <td>0</td>\n",
       "      <td>None</td>\n",
       "      <td>None</td>\n",
       "      <td>None</td>\n",
       "      <td>0</td>\n",
       "      <td>0</td>\n",
       "      <td>0</td>\n",
       "      <td>0</td>\n",
       "      <td>0</td>\n",
       "      <td>0</td>\n",
       "      <td>0</td>\n",
       "      <td>0</td>\n",
       "      <td>None</td>\n",
       "      <td>None</td>\n",
       "      <td>None</td>\n",
       "      <td>None</td>\n",
       "      <td>None</td>\n",
       "      <td>None</td>\n",
       "      <td>None</td>\n",
       "      <td>0.0</td>\n",
       "      <td>0.0</td>\n",
       "      <td>543.048421</td>\n",
       "      <td>1.032034e+03</td>\n",
       "    </tr>\n",
       "    <tr>\n",
       "      <th>997</th>\n",
       "      <td>998</td>\n",
       "      <td>998</td>\n",
       "      <td>2945</td>\n",
       "      <td>2968</td>\n",
       "      <td>1097</td>\n",
       "      <td>1097</td>\n",
       "      <td>1926</td>\n",
       "      <td>2</td>\n",
       "      <td>9.046920</td>\n",
       "      <td>-1</td>\n",
       "      <td>None</td>\n",
       "      <td>0.0</td>\n",
       "      <td>None</td>\n",
       "      <td>0.0</td>\n",
       "      <td>0.0</td>\n",
       "      <td>-1</td>\n",
       "      <td>None</td>\n",
       "      <td>0.012185</td>\n",
       "      <td>None</td>\n",
       "      <td>2</td>\n",
       "      <td>-1</td>\n",
       "      <td>0</td>\n",
       "      <td>None</td>\n",
       "      <td>None</td>\n",
       "      <td>0</td>\n",
       "      <td>None</td>\n",
       "      <td>None</td>\n",
       "      <td>None</td>\n",
       "      <td>None</td>\n",
       "      <td>0.0</td>\n",
       "      <td>0.0</td>\n",
       "      <td>49</td>\n",
       "      <td>UPPER KINGSBURY</td>\n",
       "      <td>PLAN AREA STATEMENT</td>\n",
       "      <td>DOUGLAS COUNTY</td>\n",
       "      <td>203.289764</td>\n",
       "      <td>8.855267e+06</td>\n",
       "      <td>082</td>\n",
       "      <td>8.226842e+05</td>\n",
       "      <td>6604.408095</td>\n",
       "      <td>-1</td>\n",
       "      <td>None</td>\n",
       "      <td>0</td>\n",
       "      <td>None</td>\n",
       "      <td>None</td>\n",
       "      <td>None</td>\n",
       "      <td>None</td>\n",
       "      <td>0</td>\n",
       "      <td>None</td>\n",
       "      <td>0.0</td>\n",
       "      <td>0.0</td>\n",
       "      <td>0.0</td>\n",
       "      <td>-1</td>\n",
       "      <td>None</td>\n",
       "      <td>0.0</td>\n",
       "      <td>0</td>\n",
       "      <td>None</td>\n",
       "      <td>None</td>\n",
       "      <td>None</td>\n",
       "      <td>None</td>\n",
       "      <td>None</td>\n",
       "      <td>None</td>\n",
       "      <td>None</td>\n",
       "      <td>None</td>\n",
       "      <td>None</td>\n",
       "      <td>None</td>\n",
       "      <td>None</td>\n",
       "      <td>None</td>\n",
       "      <td>None</td>\n",
       "      <td>None</td>\n",
       "      <td>None</td>\n",
       "      <td>None</td>\n",
       "      <td>None</td>\n",
       "      <td>None</td>\n",
       "      <td>None</td>\n",
       "      <td>None</td>\n",
       "      <td>None</td>\n",
       "      <td>None</td>\n",
       "      <td>None</td>\n",
       "      <td>0.0</td>\n",
       "      <td>0.0</td>\n",
       "      <td>None</td>\n",
       "      <td>None</td>\n",
       "      <td>None</td>\n",
       "      <td>0</td>\n",
       "      <td>None</td>\n",
       "      <td>None</td>\n",
       "      <td>None</td>\n",
       "      <td>0</td>\n",
       "      <td>0</td>\n",
       "      <td>0</td>\n",
       "      <td>0</td>\n",
       "      <td>0</td>\n",
       "      <td>0</td>\n",
       "      <td>0</td>\n",
       "      <td>0</td>\n",
       "      <td>None</td>\n",
       "      <td>None</td>\n",
       "      <td>None</td>\n",
       "      <td>None</td>\n",
       "      <td>None</td>\n",
       "      <td>None</td>\n",
       "      <td>None</td>\n",
       "      <td>0.0</td>\n",
       "      <td>0.0</td>\n",
       "      <td>75.212447</td>\n",
       "      <td>4.936306e+01</td>\n",
       "    </tr>\n",
       "    <tr>\n",
       "      <th>998</th>\n",
       "      <td>999</td>\n",
       "      <td>999</td>\n",
       "      <td>2946</td>\n",
       "      <td>2969</td>\n",
       "      <td>1098</td>\n",
       "      <td>1098</td>\n",
       "      <td>1929</td>\n",
       "      <td>6</td>\n",
       "      <td>4.657575</td>\n",
       "      <td>-1</td>\n",
       "      <td>None</td>\n",
       "      <td>0.0</td>\n",
       "      <td>None</td>\n",
       "      <td>0.0</td>\n",
       "      <td>0.0</td>\n",
       "      <td>-1</td>\n",
       "      <td>None</td>\n",
       "      <td>0.003191</td>\n",
       "      <td>None</td>\n",
       "      <td>6</td>\n",
       "      <td>-1</td>\n",
       "      <td>0</td>\n",
       "      <td>None</td>\n",
       "      <td>None</td>\n",
       "      <td>0</td>\n",
       "      <td>None</td>\n",
       "      <td>None</td>\n",
       "      <td>None</td>\n",
       "      <td>None</td>\n",
       "      <td>0.0</td>\n",
       "      <td>0.0</td>\n",
       "      <td>38</td>\n",
       "      <td>RABE</td>\n",
       "      <td>PLAN AREA STATEMENT</td>\n",
       "      <td>DOUGLAS COUNTY</td>\n",
       "      <td>354.090278</td>\n",
       "      <td>1.542411e+07</td>\n",
       "      <td>070B</td>\n",
       "      <td>1.432952e+06</td>\n",
       "      <td>6208.042797</td>\n",
       "      <td>-1</td>\n",
       "      <td>None</td>\n",
       "      <td>0</td>\n",
       "      <td>None</td>\n",
       "      <td>None</td>\n",
       "      <td>None</td>\n",
       "      <td>None</td>\n",
       "      <td>0</td>\n",
       "      <td>None</td>\n",
       "      <td>0.0</td>\n",
       "      <td>0.0</td>\n",
       "      <td>0.0</td>\n",
       "      <td>-1</td>\n",
       "      <td>None</td>\n",
       "      <td>0.0</td>\n",
       "      <td>0</td>\n",
       "      <td>None</td>\n",
       "      <td>None</td>\n",
       "      <td>None</td>\n",
       "      <td>None</td>\n",
       "      <td>None</td>\n",
       "      <td>None</td>\n",
       "      <td>None</td>\n",
       "      <td>None</td>\n",
       "      <td>None</td>\n",
       "      <td>None</td>\n",
       "      <td>None</td>\n",
       "      <td>None</td>\n",
       "      <td>None</td>\n",
       "      <td>None</td>\n",
       "      <td>None</td>\n",
       "      <td>None</td>\n",
       "      <td>None</td>\n",
       "      <td>None</td>\n",
       "      <td>None</td>\n",
       "      <td>None</td>\n",
       "      <td>None</td>\n",
       "      <td>None</td>\n",
       "      <td>None</td>\n",
       "      <td>0.0</td>\n",
       "      <td>0.0</td>\n",
       "      <td>None</td>\n",
       "      <td>None</td>\n",
       "      <td>None</td>\n",
       "      <td>0</td>\n",
       "      <td>None</td>\n",
       "      <td>None</td>\n",
       "      <td>None</td>\n",
       "      <td>0</td>\n",
       "      <td>0</td>\n",
       "      <td>0</td>\n",
       "      <td>0</td>\n",
       "      <td>0</td>\n",
       "      <td>0</td>\n",
       "      <td>0</td>\n",
       "      <td>0</td>\n",
       "      <td>None</td>\n",
       "      <td>None</td>\n",
       "      <td>None</td>\n",
       "      <td>None</td>\n",
       "      <td>None</td>\n",
       "      <td>None</td>\n",
       "      <td>None</td>\n",
       "      <td>0.0</td>\n",
       "      <td>0.0</td>\n",
       "      <td>174.669384</td>\n",
       "      <td>1.292433e+01</td>\n",
       "    </tr>\n",
       "    <tr>\n",
       "      <th>999</th>\n",
       "      <td>1000</td>\n",
       "      <td>1000</td>\n",
       "      <td>2947</td>\n",
       "      <td>2970</td>\n",
       "      <td>1098</td>\n",
       "      <td>1098</td>\n",
       "      <td>1929</td>\n",
       "      <td>6</td>\n",
       "      <td>4.657575</td>\n",
       "      <td>-1</td>\n",
       "      <td>None</td>\n",
       "      <td>0.0</td>\n",
       "      <td>None</td>\n",
       "      <td>0.0</td>\n",
       "      <td>0.0</td>\n",
       "      <td>-1</td>\n",
       "      <td>None</td>\n",
       "      <td>0.274323</td>\n",
       "      <td>None</td>\n",
       "      <td>6</td>\n",
       "      <td>-1</td>\n",
       "      <td>0</td>\n",
       "      <td>None</td>\n",
       "      <td>None</td>\n",
       "      <td>0</td>\n",
       "      <td>None</td>\n",
       "      <td>None</td>\n",
       "      <td>None</td>\n",
       "      <td>None</td>\n",
       "      <td>0.0</td>\n",
       "      <td>0.0</td>\n",
       "      <td>131</td>\n",
       "      <td>OLIVER PARK</td>\n",
       "      <td>PLAN AREA STATEMENT</td>\n",
       "      <td>DOUGLAS COUNTY</td>\n",
       "      <td>43.147722</td>\n",
       "      <td>1.879507e+06</td>\n",
       "      <td>077</td>\n",
       "      <td>1.740528e+05</td>\n",
       "      <td>2892.177607</td>\n",
       "      <td>-1</td>\n",
       "      <td>None</td>\n",
       "      <td>0</td>\n",
       "      <td>None</td>\n",
       "      <td>None</td>\n",
       "      <td>None</td>\n",
       "      <td>None</td>\n",
       "      <td>0</td>\n",
       "      <td>None</td>\n",
       "      <td>0.0</td>\n",
       "      <td>0.0</td>\n",
       "      <td>0.0</td>\n",
       "      <td>-1</td>\n",
       "      <td>None</td>\n",
       "      <td>0.0</td>\n",
       "      <td>0</td>\n",
       "      <td>None</td>\n",
       "      <td>None</td>\n",
       "      <td>None</td>\n",
       "      <td>None</td>\n",
       "      <td>None</td>\n",
       "      <td>None</td>\n",
       "      <td>None</td>\n",
       "      <td>None</td>\n",
       "      <td>None</td>\n",
       "      <td>None</td>\n",
       "      <td>None</td>\n",
       "      <td>None</td>\n",
       "      <td>None</td>\n",
       "      <td>None</td>\n",
       "      <td>None</td>\n",
       "      <td>None</td>\n",
       "      <td>None</td>\n",
       "      <td>None</td>\n",
       "      <td>None</td>\n",
       "      <td>None</td>\n",
       "      <td>None</td>\n",
       "      <td>None</td>\n",
       "      <td>None</td>\n",
       "      <td>0.0</td>\n",
       "      <td>0.0</td>\n",
       "      <td>None</td>\n",
       "      <td>None</td>\n",
       "      <td>None</td>\n",
       "      <td>0</td>\n",
       "      <td>None</td>\n",
       "      <td>None</td>\n",
       "      <td>None</td>\n",
       "      <td>0</td>\n",
       "      <td>0</td>\n",
       "      <td>0</td>\n",
       "      <td>0</td>\n",
       "      <td>0</td>\n",
       "      <td>0</td>\n",
       "      <td>0</td>\n",
       "      <td>0</td>\n",
       "      <td>None</td>\n",
       "      <td>None</td>\n",
       "      <td>None</td>\n",
       "      <td>None</td>\n",
       "      <td>None</td>\n",
       "      <td>None</td>\n",
       "      <td>None</td>\n",
       "      <td>0.0</td>\n",
       "      <td>0.0</td>\n",
       "      <td>438.384989</td>\n",
       "      <td>1.111181e+03</td>\n",
       "    </tr>\n",
       "  </tbody>\n",
       "</table>\n",
       "<p>1000 rows × 107 columns</p>\n",
       "</div>"
      ],
      "text/plain": [
       "     OBJECTID  OBJECTID_1  FID_id_NRC  FID_id_N_1  FID_id_N_2  FID_Land_C  \\\n",
       "0           1           1           3           3          16          16   \n",
       "1           2           2           4           4          24          24   \n",
       "2           3           3           5           5          36          36   \n",
       "3           4           4           6           6          43          43   \n",
       "4           5           5           7           7          48          48   \n",
       "..        ...         ...         ...         ...         ...         ...   \n",
       "995       996         996        2943        2966        1096        1096   \n",
       "996       997         997        2944        2967        1097        1097   \n",
       "997       998         998        2945        2968        1097        1097   \n",
       "998       999         999        2946        2969        1098        1098   \n",
       "999      1000        1000        2947        2970        1098        1098   \n",
       "\n",
       "     FID_land_1 LandCapabi       GISAcre1  FID_Parcel Status  IPESScore  \\\n",
       "0            20       None  122856.066636          -1   None        0.0   \n",
       "1            31          6     198.604105          -1   None        0.0   \n",
       "2            52          3     156.668119          -1   None        0.0   \n",
       "3            63          6      21.050457          -1   None        0.0   \n",
       "4            69          3       3.201614          -1   None        0.0   \n",
       "..          ...        ...            ...         ...    ...        ...   \n",
       "995        1924          6      69.708179          -1   None        0.0   \n",
       "996        1926          2       9.046920          -1   None        0.0   \n",
       "997        1926          2       9.046920          -1   None        0.0   \n",
       "998        1929          6       4.657575          -1   None        0.0   \n",
       "999        1929          6       4.657575          -1   None        0.0   \n",
       "\n",
       "    IPESScoreT  RelativeEr  RunoffPote  FID_Land_2 LandCapa_1        GISAcre  \\\n",
       "0         None         0.0         0.0          -1       None  122537.566401   \n",
       "1         None         0.0         0.0          -1       None       2.403359   \n",
       "2         None         0.0         0.0          -1       None       0.003333   \n",
       "3         None         0.0         0.0          -1       None       0.044906   \n",
       "4         None         0.0         0.0          -1       None       0.000753   \n",
       "..         ...         ...         ...         ...        ...            ...   \n",
       "995       None         0.0         0.0          -1       None       0.675714   \n",
       "996       None         0.0         0.0          -1       None       0.254643   \n",
       "997       None         0.0         0.0          -1       None       0.012185   \n",
       "998       None         0.0         0.0          -1       None       0.003191   \n",
       "999       None         0.0         0.0          -1       None       0.274323   \n",
       "\n",
       "    IPES_Trans Land_Capab  FID_Imperv  FID_Impe_1 Feature Surface  FID_Impe_2  \\\n",
       "0         None       None          -1           0    None    None           0   \n",
       "1         None          6          -1           0    None    None           0   \n",
       "2         None          3          -1           0    None    None           0   \n",
       "3         None          6          -1           0    None    None           0   \n",
       "4         None          3          -1           0    None    None           0   \n",
       "..         ...        ...         ...         ...     ...     ...         ...   \n",
       "995       None          6          -1           0    None    None           0   \n",
       "996       None          2          -1           0    None    None           0   \n",
       "997       None          2          -1           0    None    None           0   \n",
       "998       None          6          -1           0    None    None           0   \n",
       "999       None          6          -1           0    None    None           0   \n",
       "\n",
       "    Feature_1 Surface_1 General_St Detail_Sta  L_A_ratio  SquareFeet  \\\n",
       "0        None      None       None       None        0.0         0.0   \n",
       "1        None      None       None       None        0.0         0.0   \n",
       "2        None      None       None       None        0.0         0.0   \n",
       "3        None      None       None       None        0.0         0.0   \n",
       "4        None      None       None       None        0.0         0.0   \n",
       "..        ...       ...        ...        ...        ...         ...   \n",
       "995      None      None       None       None        0.0         0.0   \n",
       "996      None      None       None       None        0.0         0.0   \n",
       "997      None      None       None       None        0.0         0.0   \n",
       "998      None      None       None       None        0.0         0.0   \n",
       "999      None      None       None       None        0.0         0.0   \n",
       "\n",
       "     FID_LocalP           PLAN_NAME            PLAN_TYPE  \\\n",
       "0            -1                None                 None   \n",
       "1            -1                None                 None   \n",
       "2            -1                None                 None   \n",
       "3            -1                None                 None   \n",
       "4            -1                None                 None   \n",
       "..          ...                 ...                  ...   \n",
       "995          51           PALISADES  PLAN AREA STATEMENT   \n",
       "996          47  KINGSBURY DRAINAGE  PLAN AREA STATEMENT   \n",
       "997          49     UPPER KINGSBURY  PLAN AREA STATEMENT   \n",
       "998          38                RABE  PLAN AREA STATEMENT   \n",
       "999         131         OLIVER PARK  PLAN AREA STATEMENT   \n",
       "\n",
       "                                 JURISDICTI    GIS_ACRES          SQFT  \\\n",
       "0                                      None     0.000000  0.000000e+00   \n",
       "1                                      None     0.000000  0.000000e+00   \n",
       "2                                      None     0.000000  0.000000e+00   \n",
       "3                                      None     0.000000  0.000000e+00   \n",
       "4                                      None     0.000000  0.000000e+00   \n",
       "..                                      ...          ...           ...   \n",
       "995                          DOUGLAS COUNTY    78.634526  3.425306e+06   \n",
       "996  DOUGLAS COUNTY, EL DORADO COUNTY, CSLT  2335.773770  1.017459e+08   \n",
       "997                          DOUGLAS COUNTY   203.289764  8.855267e+06   \n",
       "998                          DOUGLAS COUNTY   354.090278  1.542411e+07   \n",
       "999                          DOUGLAS COUNTY    43.147722  1.879507e+06   \n",
       "\n",
       "    PLAN_ID    Shape_STAr    Shape_STLe  FID_TownCe  Name  District_N  \\\n",
       "0      None  0.000000e+00      0.000000          -1  None           0   \n",
       "1      None  0.000000e+00      0.000000          -1  None           0   \n",
       "2      None  0.000000e+00      0.000000          -1  None           0   \n",
       "3      None  0.000000e+00      0.000000          -1  None           0   \n",
       "4      None  0.000000e+00      0.000000          -1  None           0   \n",
       "..      ...           ...           ...         ...   ...         ...   \n",
       "995     084  3.182226e+05   2784.056634          -1  None           0   \n",
       "996     080  9.452300e+06  36560.973655          -1  None           0   \n",
       "997     082  8.226842e+05   6604.408095          -1  None           0   \n",
       "998    070B  1.432952e+06   6208.042797          -1  None           0   \n",
       "999     077  1.740528e+05   2892.177607          -1  None           0   \n",
       "\n",
       "    Descriptio Land_Use Jurisdic_1    id  CNEL Transect  Acres  Shape_ST_1  \\\n",
       "0         None     None       None  None     0     None    0.0         0.0   \n",
       "1         None     None       None  None     0     None    0.0         0.0   \n",
       "2         None     None       None  None     0     None    0.0         0.0   \n",
       "3         None     None       None  None     0     None    0.0         0.0   \n",
       "4         None     None       None  None     0     None    0.0         0.0   \n",
       "..         ...      ...        ...   ...   ...      ...    ...         ...   \n",
       "995       None     None       None  None     0     None    0.0         0.0   \n",
       "996       None     None       None  None     0     None    0.0         0.0   \n",
       "997       None     None       None  None     0     None    0.0         0.0   \n",
       "998       None     None       None  None     0     None    0.0         0.0   \n",
       "999       None     None       None  None     0     None    0.0         0.0   \n",
       "\n",
       "     Shape_ST_2  FID_Parc_1   APN  PPNO  HSE_NUMBR UNIT_NUMBR STR_DIR  \\\n",
       "0           0.0          -1  None   0.0          0       None    None   \n",
       "1           0.0          -1  None   0.0          0       None    None   \n",
       "2           0.0          -1  None   0.0          0       None    None   \n",
       "3           0.0          -1  None   0.0          0       None    None   \n",
       "4           0.0          -1  None   0.0          0       None    None   \n",
       "..          ...         ...   ...   ...        ...        ...     ...   \n",
       "995         0.0          -1  None   0.0          0       None    None   \n",
       "996         0.0          -1  None   0.0          0       None    None   \n",
       "997         0.0          -1  None   0.0          0       None    None   \n",
       "998         0.0          -1  None   0.0          0       None    None   \n",
       "999         0.0          -1  None   0.0          0       None    None   \n",
       "\n",
       "    STR_NAME STR_SUFFIX APO_ADDRES PSTL_TOWN PSTL_STATE PSTL_ZIP5 MAIL_ADD1  \\\n",
       "0       None       None       None      None       None      None      None   \n",
       "1       None       None       None      None       None      None      None   \n",
       "2       None       None       None      None       None      None      None   \n",
       "3       None       None       None      None       None      None      None   \n",
       "4       None       None       None      None       None      None      None   \n",
       "..       ...        ...        ...       ...        ...       ...       ...   \n",
       "995     None       None       None      None       None      None      None   \n",
       "996     None       None       None      None       None      None      None   \n",
       "997     None       None       None      None       None      None      None   \n",
       "998     None       None       None      None       None      None      None   \n",
       "999     None       None       None      None       None      None      None   \n",
       "\n",
       "    MAIL_ADD2 MAIL_CITY MAIL_STATE MAIL_ZIP5 JURISDIC_2 COUNTY OWNERSHIP_  \\\n",
       "0        None      None       None      None       None   None       None   \n",
       "1        None      None       None      None       None   None       None   \n",
       "2        None      None       None      None       None   None       None   \n",
       "3        None      None       None      None       None   None       None   \n",
       "4        None      None       None      None       None   None       None   \n",
       "..        ...       ...        ...       ...        ...    ...        ...   \n",
       "995      None      None       None      None       None   None       None   \n",
       "996      None      None       None      None       None   None       None   \n",
       "997      None      None       None      None       None   None       None   \n",
       "998      None      None       None      None       None   None       None   \n",
       "999      None      None       None      None       None   None       None   \n",
       "\n",
       "    COUNTY_LAN COUNTY_L_1 TRPA_LANDU REGIONAL_L UNITS BEDROOMS BATHROOMS  \\\n",
       "0         None       None       None       None  None     None      None   \n",
       "1         None       None       None       None  None     None      None   \n",
       "2         None       None       None       None  None     None      None   \n",
       "3         None       None       None       None  None     None      None   \n",
       "4         None       None       None       None  None     None      None   \n",
       "..         ...        ...        ...        ...   ...      ...       ...   \n",
       "995       None       None       None       None  None     None      None   \n",
       "996       None       None       None       None  None     None      None   \n",
       "997       None       None       None       None  None     None      None   \n",
       "998       None       None       None       None  None     None      None   \n",
       "999       None       None       None       None  None     None      None   \n",
       "\n",
       "     ALLOWABLE_  IMPERVIOUS SOIL_1974 SOIL_2003 HRA_NAME  WATERSHED_  \\\n",
       "0           0.0         0.0      None      None     None           0   \n",
       "1           0.0         0.0      None      None     None           0   \n",
       "2           0.0         0.0      None      None     None           0   \n",
       "3           0.0         0.0      None      None     None           0   \n",
       "4           0.0         0.0      None      None     None           0   \n",
       "..          ...         ...       ...       ...      ...         ...   \n",
       "995         0.0         0.0      None      None     None           0   \n",
       "996         0.0         0.0      None      None     None           0   \n",
       "997         0.0         0.0      None      None     None           0   \n",
       "998         0.0         0.0      None      None     None           0   \n",
       "999         0.0         0.0      None      None     None           0   \n",
       "\n",
       "    WATERSHED1 PRIORITY_W FIREPD  WITHIN_TRP  LITTORAL  AS_LANDVAL  \\\n",
       "0         None       None   None           0         0           0   \n",
       "1         None       None   None           0         0           0   \n",
       "2         None       None   None           0         0           0   \n",
       "3         None       None   None           0         0           0   \n",
       "4         None       None   None           0         0           0   \n",
       "..         ...        ...    ...         ...       ...         ...   \n",
       "995       None       None   None           0         0           0   \n",
       "996       None       None   None           0         0           0   \n",
       "997       None       None   None           0         0           0   \n",
       "998       None       None   None           0         0           0   \n",
       "999       None       None   None           0         0           0   \n",
       "\n",
       "     AS_IMPROVA  AS_SUM  TAX_LANDVA  TAX_IMPROV  TAX_SUM TAX_YEAR PLAN_ID_1  \\\n",
       "0             0       0           0           0        0     None      None   \n",
       "1             0       0           0           0        0     None      None   \n",
       "2             0       0           0           0        0     None      None   \n",
       "3             0       0           0           0        0     None      None   \n",
       "4             0       0           0           0        0     None      None   \n",
       "..          ...     ...         ...         ...      ...      ...       ...   \n",
       "995           0       0           0           0        0     None      None   \n",
       "996           0       0           0           0        0     None      None   \n",
       "997           0       0           0           0        0     None      None   \n",
       "998           0       0           0           0        0     None      None   \n",
       "999           0       0           0           0        0     None      None   \n",
       "\n",
       "    PLAN_NAME_ ZONING_ID ZONING_DES TOWN_CENTE LOCATION_T  PARCEL_ACR  \\\n",
       "0         None      None       None       None       None         0.0   \n",
       "1         None      None       None       None       None         0.0   \n",
       "2         None      None       None       None       None         0.0   \n",
       "3         None      None       None       None       None         0.0   \n",
       "4         None      None       None       None       None         0.0   \n",
       "..         ...       ...        ...        ...        ...         ...   \n",
       "995       None      None       None       None       None         0.0   \n",
       "996       None      None       None       None       None         0.0   \n",
       "997       None      None       None       None       None         0.0   \n",
       "998       None      None       None       None       None         0.0   \n",
       "999       None      None       None       None       None         0.0   \n",
       "\n",
       "     PARCEL_SQF     Shape_Leng    Shape_Area  \n",
       "0           0.0  129851.631409  4.962995e+08  \n",
       "1           0.0    1801.935090  9.733578e+03  \n",
       "2           0.0      29.065027  1.349903e+01  \n",
       "3           0.0      75.316363  1.818718e+02  \n",
       "4           0.0      11.928079  3.047978e+00  \n",
       "..          ...            ...           ...  \n",
       "995         0.0    1323.117949  2.736331e+03  \n",
       "996         0.0     543.048421  1.032034e+03  \n",
       "997         0.0      75.212447  4.936306e+01  \n",
       "998         0.0     174.669384  1.292433e+01  \n",
       "999         0.0     438.384989  1.111181e+03  \n",
       "\n",
       "[1000 rows x 107 columns]"
      ]
     },
     "execution_count": 15,
     "metadata": {},
     "output_type": "execute_result"
    }
   ],
   "source": [
    "dfImp2019"
   ]
  },
  {
   "cell_type": "code",
   "execution_count": 19,
   "metadata": {},
   "outputs": [],
   "source": [
    "dfImpChg.GISAcre.sum()\n",
    "# group by Surface and sum\n",
    "df = dfImpChg.groupby('Surface')[\"GISAcre\"].sum()"
   ]
  },
  {
   "cell_type": "code",
   "execution_count": 20,
   "metadata": {},
   "outputs": [
    {
     "data": {
      "text/plain": [
       "Surface\n",
       "Hard    3.679295\n",
       "Soft    5.878988\n",
       "Name: GISAcre, dtype: float64"
      ]
     },
     "execution_count": 20,
     "metadata": {},
     "output_type": "execute_result"
    }
   ],
   "source": [
    "df"
   ]
  },
  {
   "cell_type": "code",
   "execution_count": 3,
   "metadata": {},
   "outputs": [
    {
     "data": {
      "text/html": [
       "<div>\n",
       "<style scoped>\n",
       "    .dataframe tbody tr th:only-of-type {\n",
       "        vertical-align: middle;\n",
       "    }\n",
       "\n",
       "    .dataframe tbody tr th {\n",
       "        vertical-align: top;\n",
       "    }\n",
       "\n",
       "    .dataframe thead th {\n",
       "        text-align: right;\n",
       "    }\n",
       "</style>\n",
       "<table border=\"1\" class=\"dataframe\">\n",
       "  <thead>\n",
       "    <tr style=\"text-align: right;\">\n",
       "      <th></th>\n",
       "      <th>Land Capability</th>\n",
       "      <th>Acres of Hard Surface 2019</th>\n",
       "      <th>Acres of Soft Surface 2019</th>\n",
       "    </tr>\n",
       "  </thead>\n",
       "  <tbody>\n",
       "    <tr>\n",
       "      <th>0</th>\n",
       "      <td>1A</td>\n",
       "      <td>0.055125</td>\n",
       "      <td>0.146009</td>\n",
       "    </tr>\n",
       "    <tr>\n",
       "      <th>1</th>\n",
       "      <td>1B</td>\n",
       "      <td>0.415023</td>\n",
       "      <td>0.585477</td>\n",
       "    </tr>\n",
       "    <tr>\n",
       "      <th>2</th>\n",
       "      <td>1C</td>\n",
       "      <td>0.086758</td>\n",
       "      <td>0.711088</td>\n",
       "    </tr>\n",
       "    <tr>\n",
       "      <th>3</th>\n",
       "      <td>2</td>\n",
       "      <td>0.007584</td>\n",
       "      <td>0.015684</td>\n",
       "    </tr>\n",
       "    <tr>\n",
       "      <th>4</th>\n",
       "      <td>3</td>\n",
       "      <td>0.537689</td>\n",
       "      <td>1.552243</td>\n",
       "    </tr>\n",
       "    <tr>\n",
       "      <th>5</th>\n",
       "      <td>4</td>\n",
       "      <td>0.064962</td>\n",
       "      <td>0.111007</td>\n",
       "    </tr>\n",
       "    <tr>\n",
       "      <th>6</th>\n",
       "      <td>5</td>\n",
       "      <td>0.382236</td>\n",
       "      <td>0.061570</td>\n",
       "    </tr>\n",
       "    <tr>\n",
       "      <th>7</th>\n",
       "      <td>6</td>\n",
       "      <td>0.084123</td>\n",
       "      <td>0.000136</td>\n",
       "    </tr>\n",
       "    <tr>\n",
       "      <th>8</th>\n",
       "      <td>7</td>\n",
       "      <td>0.657318</td>\n",
       "      <td>0.010311</td>\n",
       "    </tr>\n",
       "    <tr>\n",
       "      <th>9</th>\n",
       "      <td>None</td>\n",
       "      <td>1.388481</td>\n",
       "      <td>0.000472</td>\n",
       "    </tr>\n",
       "  </tbody>\n",
       "</table>\n",
       "</div>"
      ],
      "text/plain": [
       "  Land Capability  Acres of Hard Surface 2019  Acres of Soft Surface 2019\n",
       "0              1A                    0.055125                    0.146009\n",
       "1              1B                    0.415023                    0.585477\n",
       "2              1C                    0.086758                    0.711088\n",
       "3               2                    0.007584                    0.015684\n",
       "4               3                    0.537689                    1.552243\n",
       "5               4                    0.064962                    0.111007\n",
       "6               5                    0.382236                    0.061570\n",
       "7               6                    0.084123                    0.000136\n",
       "8               7                    0.657318                    0.010311\n",
       "9            None                    1.388481                    0.000472"
      ]
     },
     "execution_count": 3,
     "metadata": {},
     "output_type": "execute_result"
    }
   ],
   "source": [
    "# get land capability data\n",
    "dfImpChg, dfImp2019 = get_soil_conservation_data_web()\n",
    "\n",
    "df = dfImpChg.astype({\"Land_Capab\": str})\n",
    "df = df.rename(columns={'Land_Capab':'Land Capability', 'GISAcre':'Total Acres', 'OWNERSHIP_': 'Ownership'})\n",
    "df = df.replace(r'^\\s*$', np.nan, regex=True)\n",
    "df = df[df['Land Capability'].notna()]\n",
    "df.set_index('Land Capability')\n",
    "dfLCType = df.groupby(\"Land Capability\")[\"Total Acres\"].sum().reset_index()\n",
    "\n",
    "df = dfLCType.replace(to_replace='None', value=np.nan).dropna()\n",
    "\n",
    "# 2019 analysis results\n",
    "df = dfImp2019.astype({\"Land_Capab\": str})\n",
    "df = df.rename(columns={'Land_Capab':'Land Capability', 'GISAcre':'Acre'})\n",
    "df.set_index('Land Capability')\n",
    "\n",
    "# trails were drawn to wide, reduce acreage by 50%\n",
    "df.loc[(df['Surface']=='Soft')&(df['Feature']=='Trail'), 'Acre'] = df.Acre * 0.5 \n",
    "\n",
    "# pivot land capbility by acres of surface type\n",
    "pivotSoilImp = pd.pivot_table(df,index=['Land Capability'],\n",
    "                            columns='Surface',\n",
    "                            values=['Acre'], \n",
    "                            aggfunc=np.sum,fill_value=0)\n",
    "\n",
    "flattened = pd.DataFrame(pivotSoilImp.to_records())\n",
    "\n",
    "df = flattened.rename(columns={\"('Acre', 'Hard')\":'Acres of Hard Surface 2019',\n",
    "                            \"('Acre', 'Soft')\":'Acres of Soft Surface 2019'})\n",
    "df\n",
    "# # replace all spaces ond blanks with NaN\n",
    "# df = df.replace(r'^\\s*$', np.nan, regex=True)\n",
    "# df = df[df['Land Capability'].notna()]\n",
    "\n",
    "# # calculate acres of coverage\n",
    "# df[\"Acres of Coverage 2019\"]= df[\"Acres of Hard Surface 2019\"]+df[\"Acres of Soft Surface 2019\"]\n",
    "\n",
    "# # merge grouped land capability data frame with impervious pivot data frame\n",
    "# dfMerge = pd.merge(df, dfLCType, on='Land Capability')\n",
    "\n",
    "# # rename field\n",
    "# df = dfMerge.rename(columns={'Acre':'Total Acres'})\n",
    "\n",
    "# # calculate perent coverage\n",
    "# df['Percent Hard 2019'] = (df['Acres of Hard Surface 2019']/df['Total Acres'])*100\n",
    "# df['Percent Soft 2019'] = (df['Acres of Soft Surface 2019']/df['Total Acres'])*100\n",
    "# df['Percent Impervious 2019'] = ((df['Acres of Hard Surface 2019']+df['Acres of Soft Surface 2019'])/df['Total Acres'])*100\n",
    "\n",
    "# # record percent allowed field\n",
    "# df['Threshold Value'] = \"0%\"\n",
    "# df.loc[df['Land Capability'].isin(['1A','1B','1C','2']), 'Threshold Value'] = \"1%\"\n",
    "# df.loc[df['Land Capability'].isin(['3']), 'Threshold Value'] = \"5%\"\n",
    "# df.loc[df['Land Capability'].isin(['4']), 'Threshold Value'] = \"20%\"\n",
    "# df.loc[df['Land Capability'].isin(['5']), 'Threshold Value'] = \"25%\"\n",
    "# df.loc[df['Land Capability'].isin(['6','7']), 'Threshold Value'] = \"30%\"\n",
    "\n",
    "# # determine acres of coverage allowed per land capability\n",
    "# df['Threshold Acres'] = 0\n",
    "# df.loc[df['Land Capability'].isin(['1A','1B','1C','2']), 'Threshold Acres'] = df['Total Acres']*0.01\n",
    "# df.loc[df['Land Capability'].isin(['3']), 'Threshold Acres'] = df['Total Acres']*0.05\n",
    "# df.loc[df['Land Capability'].isin(['4']), 'Threshold Acres'] = df['Total Acres']*0.2\n",
    "# df.loc[df['Land Capability'].isin(['5']), 'Threshold Acres'] = df['Total Acres']*0.25\n",
    "# df.loc[df['Land Capability'].isin(['6','7']), 'Threshold Acres'] = df['Total Acres']*0.3\n",
    "\n",
    "# df2019 = df.drop(columns=['Threshold Acres', 'Threshold Value', 'Total Acres'])\n",
    "\n",
    "# df = df[['Land Capability',\n",
    "#         'Acres of Hard Surface 2019',\n",
    "#         'Acres of Soft Surface 2019',\n",
    "#         'Acres of Coverage 2019',\n",
    "#         'Percent Hard 2019',\n",
    "#         'Percent Soft 2019',\n",
    "#         'Percent Impervious 2019',\n",
    "#         'Total Acres',\n",
    "#         'Threshold Value',\n",
    "#         'Threshold Acres']]\n",
    "\n",
    "# df.dropna(subset=['Land Capability'], inplace=True)\n",
    "\n",
    "# df['Land Capability']= pd.Categorical(df['Land Capability'], ['1A', '1B', '1C', '2', '3', '4', '5', '6', '7'])\n",
    "\n",
    "# df.sort_values(by=\"Land Capability\")\n",
    "# df.set_index('Land Capability')"
   ]
  },
  {
   "cell_type": "code",
   "execution_count": null,
   "metadata": {},
   "outputs": [],
   "source": []
  },
  {
   "cell_type": "code",
   "execution_count": null,
   "metadata": {},
   "outputs": [],
   "source": []
  },
  {
   "cell_type": "code",
   "execution_count": 5,
   "metadata": {},
   "outputs": [],
   "source": [
    "dfNewImp = pd.read_csv(r\"data\\raw_data\\FinalCoverageChanges_2020-2023.csv\")\n",
    "\n",
    "# fill any NaN values with 0\n",
    "dfNewImp.fillna(0, inplace=True)\n",
    "# drop parcle and jurisdiction columns\n",
    "dfNewImp.drop(['Parcel', 'Jurisdiction'], axis=1, inplace=True)\n",
    "# group by\n",
    "df = dfNewImp.groupby(['Bailey1a', 'Bailey1b', 'Bailey1c', 'Bailey2', 'Bailey3', 'Bailey4', 'Bailey5', 'Bailey6', 'Bailey7']).sum()\n",
    "df = df.reset_index()\n",
    "# drop total column\n",
    "# df.drop('Total', axis=1, inplace=True)\n",
    "# stack the dataframe\n",
    "df = df.stack().reset_index()\n",
    "# # rename columns\n",
    "df.rename(columns={'level_1':'LandCapability', 0:'SqFt'}, inplace=True)\n",
    "# # drop columns\n",
    "df.drop(['level_0'], axis=1, inplace=True)\n",
    "# pivot the dataframe\n",
    "pivot = pd.pivot_table(df,index=['LandCapability'],\n",
    "                              values='SqFt', aggfunc=np.sum)\n",
    "# flatten pivot\n",
    "flattened = pd.DataFrame(pivot.to_records())\n",
    "# create acres column\n",
    "flattened['Acres'] = flattened['SqFt']/43560\n",
    "# to csv\n",
    "flattened.to_csv(r\"data/processed_data/LandCapability_Acres.csv\")"
   ]
  },
  {
   "cell_type": "markdown",
   "metadata": {},
   "source": [
    "## Noise"
   ]
  },
  {
   "cell_type": "markdown",
   "metadata": {},
   "source": []
  },
  {
   "cell_type": "markdown",
   "metadata": {},
   "source": []
  },
  {
   "cell_type": "code",
   "execution_count": null,
   "metadata": {},
   "outputs": [],
   "source": [
    "# Setup\n",
    "#import pandas as pd\n",
    "#import os\n",
    "#from arcgis import GIS\n",
    "#from arcgis.features import FeatureLayer\n",
    "# Import geopandas\n",
    "#import geopandas as gpd\n",
    "#from shapely.geometry import Point\n",
    "#import arcpy\n",
    "#from arcgis.features import GeoAccessor\n",
    "\n",
    "\n",
    "#workspace =r'C:\\Users\\snewsome\\Documents\\ArcGIS\\Projects\\Data Management 2023\\Scratch.gdb'\n",
    "\n",
    "## Update SDE.Monitoring.SDE.Plan_Area_Noise with new data 2020-2023\n",
    "#excel_file_path = r\"F:\\Research and Analysis\\Noise\\Monitoring\\CNEL - Plan Areas\\ALL_CNEL_PLANAREAS_RESULTS_(1991-2023).xlsx\"\n",
    "\n",
    "# Read the Excel file into a DataFrame\n",
    "#Noise23_df = pd.read_excel(excel_file_path)\n",
    "\n",
    "# Keep only columns that you want\n",
    "#columns_to_keep = ['CNEL LAND USE', '1987 PAS#', 'MONITORING SITE LATITUDE', 'MONITORING SITE LONGITUDE', 'PAS_NAME', 'LAND_USE', '2023 CNEL Maximum Day', '2022 CNEL Maximum Day', '2021 CNEL Maximum Day', '2020 CNEL Maximum Day']\n",
    "#Noise23_df = Noise23_df[columns_to_keep]\n",
    "\n",
    "#Noise23_df.columns = Noise23_df.columns.str.strip()\n",
    "\n",
    "# PASNAME\n",
    "#Noise23_df['PAS_NAME'] = Noise23_df['PAS_NAME'].astype(str)\n",
    "\n",
    "# Assuming df is your DataFrame\n",
    "#meltcolumns_to_keep = ['CNEL LAND USE', '1987 PAS#', 'MONITORING SITE LATITUDE', 'MONITORING SITE LONGITUDE', 'LAND_USE']\n",
    "#id_columns = ['PAS_NAME']\n",
    "\n",
    "# Specify the columns to melt (exclude the identifier column)\n",
    "#columns_to_melt = ['2023 CNEL Maximum Day', '2022 CNEL Maximum Day', '2021 CNEL Maximum Day', '2020 CNEL Maximum Day']\n",
    "\n",
    "#id_vars = id_columns + meltcolumns_to_keep\n",
    "\n",
    "# Use pd.melt to reshape the DataFrame\n",
    "#Noise23_df = pd.melt(Noise23_df, id_vars=id_vars, value_vars=columns_to_melt, var_name='Year', value_name='CNEL_Maximum_Day_Value')\n",
    "\n",
    "#print(Noise23_df.head())\n",
    "#print(Noise23_df.columns)\n",
    "\n",
    "# Extract only the year from the 'YEAR_OF_COUNT' column and drop \"CNEL Maximum Day\" from each value\n",
    "#Noise23_df['Year'] = Noise23_df['Year'].str.replace(' CNEL Maximum Day', '')\n",
    "\n",
    "\n",
    "\n",
    "# Add 'Category' column\n",
    "#Noise23_df['Category'] = 'CNEL Maximum Day'\n",
    "\n",
    "# Drop rows where 'CNEL_Maximum_Day_Value' is NaN\n",
    "#Noise23_df = Noise23_df.dropna(subset=['CNEL_Maximum_Day_Value'])\n",
    "\n",
    "# Use lookup_dict to fill in LTINFO# Create a lookup dictionary to fill in LTINFO and ID\n",
    "#gis = GIS()\n",
    "\n",
    "\n",
    "#def get_fs_data(service_url):\n",
    " #   feature_layer = FeatureLayer(service_url)\n",
    "  #  query_result = feature_layer.query()\n",
    "   # feature_list = query_result.features\n",
    "    #all_data = pd.DataFrame([feature.attributes for feature in feature_list])\n",
    "    #return all_data\n",
    "\n",
    "\n",
    "# REST SERVICE data for lookup dictionary\n",
    "#service_url = 'https://maps.trpa.org/server/rest/services/LTInfo_Monitoring/MapServer/6'\n",
    "\n",
    "#dfplannoisesde = get_fs_data(service_url)\n",
    "\n",
    "#dfplannoisesde.info()\n",
    "#columnstokeep = ['SITE_NAME', 'ID', 'LTINFO']\n",
    "#dfplannoisesde = dfplannoisesde.loc[:, columnstokeep]\n",
    "\n",
    "# Drop duplicates based on 'SITE_NAME' and keep the first occurrence\n",
    "#unique_values = dfplannoisesde.drop_duplicates(subset='SITE_NAME', keep='first')\n",
    "\n",
    "# Select specific columns for lookup\n",
    "#selected_columns = ['SITE_NAME', 'ID', 'LTINFO']\n",
    "\n",
    "# Convert selected columns to dictionary\n",
    "#lookup_dict = unique_values[selected_columns].set_index('SITE_NAME').to_dict(orient='index')\n",
    "\n",
    "# Display the dictionary\n",
    "#print(lookup_dict)\n",
    "\n",
    "# Create new columns 'ID' and 'LTINFO' based on 'PAS_NAME' and look up dictionary\n",
    "#Noise23_df['ID'] = Noise23_df['PAS_NAME'].apply(lambda x: lookup_dict.get(x, {}).get('ID'))\n",
    "#Noise23_df['LTINFO'] = Noise23_df['PAS_NAME'].apply(lambda x: lookup_dict.get(x, {}).get('LTINFO'))\n",
    "\n",
    "# Specify the columns to keep in Final_sdf\n",
    "#finalcolumns_to_keep = ['PAS_NAME', 'Year', 'CNEL_Maximum_Day_Value', 'Category','ID', 'MONITORING SITE LATITUDE', 'MONITORING SITE LONGITUDE', 'LAND_USE', 'CNEL LAND USE', 'LTINFO', '1987 PAS#']\n",
    "\n",
    "# Create a new DataFrame Final_df with the selected columns\n",
    "#Final_sdf = Noise23_df[finalcolumns_to_keep]\n",
    "\n",
    "# Create a GeoDataFrame by converting 'LATITUDE' and 'LONGITUDE' to Point geometry\n",
    "#geometry = [Point(xy) for xy in zip(Final_sdf['MONITORING SITE LONGITUDE'], Final_sdf['MONITORING SITE LATITUDE'])]\n",
    "#Final_sdf = gpd.GeoDataFrame(Final_sdf, geometry=geometry)\n",
    "\n",
    "# Field mapping so that columns match\n",
    "#field_mapping = {\n",
    " #   '1987 PAS#': 'PAS_1987',\n",
    "  #  'ID': 'ID',\n",
    "   # 'MONITORING SITE LATITUDE': 'LATITUDE',\n",
    "    #'MONITORING SITE LONGITUDE': 'LONGITUDE',\n",
    "    #'PAS_NAME': 'SITE_NAME',\n",
    "    #'LAND_USE': 'LAND_USE',\n",
    "    #'CNEL LAND USE': 'CNEL_LAND_USE',\n",
    "    #'Category': 'CATEGORY',\n",
    "    #'Year': 'YEAR_OF_COUNT',\n",
    "    #'CNEL_Maximum_Day_Value': 'COUNT_VALUE',\n",
    "    #'LTINFO': 'LTINFO'\n",
    "#}\n",
    "\n",
    "# Create a new DataFrame Final_df with columns based on the field mapping\n",
    "#Final_sdf = Final_sdf.rename(columns=field_mapping)\n",
    "\n",
    "# Convert GeoPandas DataFrame to ArcGIS Spatially Enabled DataFrame\n",
    "#sedf = GeoAccessor.from_geodataframe(Final_sdf)\n",
    "\n",
    "# Display the updated Final_df\n",
    "#print(list(Final_sdf.columns))\n",
    "\n",
    "# Save Final_df to a CSV file\n",
    "#Final_sdf.to_csv(r'F:\\Research and Analysis\\Workspace\\Sarah\\Data Management 2023\\Drafts\\NoiseThreshold23.csv', index=False)\n",
    "\n",
    "# Convert the SEDF to a feature class\n",
    "#sedf.spatial.to_featureclass(location=os.path.join(workspace, 'PlanAreaNoise23staging'), \n",
    " #                                                           sanitize_columns=False)\n",
    "\n"
   ]
  },
  {
   "cell_type": "markdown",
   "metadata": {},
   "source": [
    "#### CNEL Average Update SDE.Tabular SDE.Thresholdevaluation_PlanAreaNoise"
   ]
  },
  {
   "cell_type": "code",
   "execution_count": null,
   "metadata": {},
   "outputs": [],
   "source": [
    "# update SDE.Tabular.sde.thresholdevaluation_PlanAreaNoise---Average CNEL over timeframe\n",
    "#updated to make a feature class instead of a csv\n",
    "# Setup\n",
    "import pandas as pd\n",
    "from arcgis import GIS\n",
    "from arcgis.features import FeatureLayer\n",
    "from arcgis.features import GeoAccessor\n",
    "import os\n",
    "import numpy as np\n",
    "\n",
    "\n",
    "workspace =r'F:\\Research and Analysis\\Workspace\\Sarah\\Data Management 2023\\Scratch.gdb'\n",
    "\n",
    "# Update SDE.tabular.SDE.threshhold_PlanAreaNoise with new data 2020-2023\n",
    "excel_file_path = r\"F:\\Research and Analysis\\Noise\\Monitoring\\CNEL - Plan Areas\\ALL_CNEL_PLANAREAS_RESULTS_(1991-2023).xlsx\"\n",
    "\n",
    "#update this Excel \n",
    "Excel_Final = r\"F:\\Research and Analysis\\Threshold reporting\\ThresholdData\\Noise\\ThresholdData_PlanAreaNoise.xlsx\"\n",
    "# Read the Excel file into a DataFrame\n",
    "Noise23_df = pd.read_excel(excel_file_path)\n",
    "\n",
    "# Keep only columns that you want\n",
    "columns_to_keep = ['PAS_NAME', 'CNEL LAND USE', '2023 CNEL Average', '2022 CNEL Average', '2021 CNEL Average', '2020 CNEL Average', 'CNEL limit']\n",
    "Noise23_df = Noise23_df[columns_to_keep]\n",
    "\n",
    "Noise23_df.columns = Noise23_df.columns.str.strip()\n",
    "\n",
    "\n",
    "\n",
    "# melted columns to keep\n",
    "meltcolumns_to_keep = ['CNEL LAND USE']\n",
    "id_columns = ['PAS_NAME']\n",
    "\n",
    "# Specify the columns to melt (exclude the identifier column)\n",
    "columns_to_melt = ['2023 CNEL Average', '2022 CNEL Average', '2021 CNEL Average', '2020 CNEL Average']\n",
    "\n",
    "id_vars = id_columns + meltcolumns_to_keep\n",
    "\n",
    "# Use pd.melt to reshape the DataFrame\n",
    "Noise23_df = pd.melt(Noise23_df, id_vars=id_vars, value_vars=columns_to_melt, var_name='Year', value_name='CNEL_Average')\n",
    "\n",
    "# Extract only the year from the 'YEAR_OF_COUNT' column and drop \"CNEL Maximum Day\" from each value\n",
    "#Noise23_df['Year'] = Noise23_df['Year'].str.replace(' CNEL Average', '')\n",
    "# Extract only the year from the 'Year' column and drop \"CNEL Average\" from each value\n",
    "Noise23_df['Year'] = Noise23_df['Year'].str.extract('(\\d+)').astype(int)\n",
    "\n",
    "# Drop rows where 'CNEL_Average' is NaN\n",
    "Noise23_df = Noise23_df.dropna(subset=['CNEL_Average'])\n",
    "\n",
    "print(Noise23_df.head())\n",
    "print(Noise23_df.columns)\n",
    "\n",
    "\n",
    "# Calculate the average for each category\n",
    "Value = Noise23_df.groupby('CNEL LAND USE')['CNEL_Average'].agg(np.mean)\n",
    "\n",
    "# Create new DataFrame with category averages\n",
    "Noiseavg_df = pd.DataFrame(Value).reset_index()\n",
    "Noiseavg_df.columns = ['CNEL LAND USE', 'Value']\n",
    "\n",
    "# Create new rows with the calculated averages and the desired year range\n",
    "year_range = '2020-2023'  # Define the desired year range\n",
    "\n",
    "Noiseavg_df['Year'] = '2020-2023'\n",
    "Noiseavg_df['Description'] = 'Average CNEL of all sites during timeframe'\n",
    "\n",
    "#Defining Threshold Value by category\n",
    "def categorize_value(row):\n",
    "    if row['CNEL LAND USE'] == 'COMMERCIAL':\n",
    "        return '60'\n",
    "    elif row['CNEL LAND USE'] == 'HIGH DENSITY RESIDENTIAL':\n",
    "        return '55'\n",
    "    elif row['CNEL LAND USE'] == 'HOTEL/MOTEL':\n",
    "        return '60'\n",
    "    elif row['CNEL LAND USE'] == 'INDUSTRIAL':\n",
    "        return '65'\n",
    "    elif row['CNEL LAND USE'] == 'LOW DENSITY RESIDENTIAL':\n",
    "        return '50'\n",
    "    elif row['CNEL LAND USE'] == 'URBAN OUTDOOR RECREATION':\n",
    "        return '55'\n",
    "    elif row['CNEL LAND USE'] == 'RURAL OUTDOOR RECREATION':\n",
    "        return '50'\n",
    "    elif row['CNEL LAND USE'] == 'WILDERNESS/ROADLESS':\n",
    "        return '45'\n",
    "\n",
    "    else:\n",
    "        return '45'\n",
    "\n",
    "# Apply the function to each row and assign the result to a new column 'Category_Type'\n",
    "Noiseavg_df['Threshold_Value'] = Noiseavg_df.apply(categorize_value, axis=1)\n",
    "\n",
    "#Defining Threshold Value by category\n",
    "def categorize_value(row):\n",
    "    if row['CNEL LAND USE'] == 'COMMERCIAL':\n",
    "        return 'Commercial Areas'\n",
    "    elif row['CNEL LAND USE'] == 'HIGH DENSITY RESIDENTIAL':\n",
    "        return 'High Density Residential'\n",
    "    elif row['CNEL LAND USE'] == 'HOTEL/MOTEL':\n",
    "        return 'Hotel / Motel Areas'\n",
    "    elif row['CNEL LAND USE'] == 'INDUSTRIAL':\n",
    "        return 'Industrial Areas'\n",
    "    elif row['CNEL LAND USE'] == 'LOW DENSITY RESIDENTIAL':\n",
    "        return 'Low Density Residential'\n",
    "    elif row['CNEL LAND USE'] == 'URBAN OUTDOOR RECREATION':\n",
    "        return 'Urban Outdoor Recreation Areas'\n",
    "    elif row['CNEL LAND USE'] == 'RURAL OUTDOOR RECREATION':\n",
    "        return 'Rural Outdoor Recreation Areas'\n",
    "    elif row['CNEL LAND USE'] == 'WILDERNESS/ROADLESS':\n",
    "        return 'Wilderness and Roadless'\n",
    "\n",
    "    else:\n",
    "        return 'Critical Wildlife Habitat'\n",
    "\n",
    "# Apply the function to each row and assign the result to a new column 'Category_Type'\n",
    "Noiseavg_df['Category'] = Noiseavg_df.apply(categorize_value, axis=1)\n",
    "\n",
    "print(Noiseavg_df)\n",
    "\n",
    "\n",
    "# Specify the columns to keep in Final_sdf\n",
    "finalcolumns_to_keep = [ 'Year', 'Threshold_Value','Description', 'Category', 'Value']\n",
    "\n",
    "# Create a new DataFrame Final_df with the selected columns\n",
    "df = Noiseavg_df[finalcolumns_to_keep]\n",
    "\n",
    "\n",
    "\n",
    "# Field mapping so that columns match\n",
    "field_mapping = {\n",
    "    'Threshold_Value': 'Threshold_Value',\n",
    "    'Category': 'Category',\n",
    "    'Description': 'Description',\n",
    "    'Year': 'Year',\n",
    "    'CNEL_Average': 'Value',\n",
    "    \n",
    "}\n",
    "\n",
    "# Create a new DataFrame Final_df with columns based on the field mapping\n",
    "df = df.rename(columns=field_mapping)\n",
    "\n"
   ]
  },
  {
   "cell_type": "markdown",
   "metadata": {},
   "source": [
    "## Update SDE.Monitoring.sde.Plan_Area_Noise for Monitoring Dashboard"
   ]
  },
  {
   "cell_type": "code",
   "execution_count": null,
   "metadata": {},
   "outputs": [],
   "source": [
    "#updated to make a feature class instead of a csv\n",
    "# Setup\n",
    "import pandas as pd\n",
    "from arcgis import GIS\n",
    "from arcgis.features import FeatureLayer\n",
    "from arcgis.features import GeoAccessor\n",
    "import os\n",
    "\n",
    "\n",
    "workspace =r'F:\\Research and Analysis\\Workspace\\Sarah\\Data Management 2023\\Scratch.gdb'\n",
    "\n",
    "# Update SDE.Monitoring.SDE.Plan_Area_Noise with new data 2020-2023\n",
    "excel_file_path = r\"F:\\Research and Analysis\\Noise\\Monitoring\\CNEL - Plan Areas\\ALL_CNEL_PLANAREAS_RESULTS_(1991-2023).xlsx\"\n",
    "\n",
    "# Read the Excel file into a DataFrame\n",
    "Noise23_df = pd.read_excel(excel_file_path)\n",
    "\n",
    "# Keep only columns that you want\n",
    "columns_to_keep = ['CNEL LAND USE', 'MONITORING SITE LATITUDE', 'MONITORING SITE LONGITUDE', 'PAS_NAME', 'LAND_USE', '2023 CNEL Maximum Day', '2022 CNEL Maximum Day', '2021 CNEL Maximum Day', '2020 CNEL Maximum Day']\n",
    "Noise23_df = Noise23_df[columns_to_keep]\n",
    "\n",
    "Noise23_df.columns = Noise23_df.columns.str.strip()\n",
    "\n",
    "# PASNAME\n",
    "Noise23_df['PAS_NAME'] = Noise23_df['PAS_NAME'].astype(str)\n",
    "\n",
    "# melted columns to keep\n",
    "meltcolumns_to_keep = ['CNEL LAND USE', 'MONITORING SITE LATITUDE', 'MONITORING SITE LONGITUDE', 'LAND_USE']\n",
    "id_columns = ['PAS_NAME']\n",
    "\n",
    "# Specify the columns to melt (exclude the identifier column)\n",
    "columns_to_melt = ['2023 CNEL Maximum Day', '2022 CNEL Maximum Day', '2021 CNEL Maximum Day', '2020 CNEL Maximum Day']\n",
    "\n",
    "id_vars = id_columns + meltcolumns_to_keep\n",
    "\n",
    "# Use pd.melt to reshape the DataFrame\n",
    "Noise23_df = pd.melt(Noise23_df, id_vars=id_vars, value_vars=columns_to_melt, var_name='Year', value_name='CNEL_Maximum_Day_Value')\n",
    "\n",
    "print(Noise23_df.head())\n",
    "print(Noise23_df.columns)\n",
    "\n",
    "# Extract only the year from the 'YEAR_OF_COUNT' column and drop \"CNEL Maximum Day\" from each value\n",
    "Noise23_df['Year'] = Noise23_df['Year'].str.replace(' CNEL Maximum Day', '')\n",
    "\n",
    "\n",
    "\n",
    "# Add 'Category' column\n",
    "Noise23_df['Category'] = 'CNEL Maximum Day'\n",
    "\n",
    "# Drop rows where 'CNEL_Maximum_Day_Value' is NaN\n",
    "Noise23_df = Noise23_df.dropna(subset=['CNEL_Maximum_Day_Value'])\n",
    "\n",
    "# Use lookup_dict to fill in LTINFO# Create a lookup dictionary to fill in LTINFO and ID\n",
    "gis = GIS()\n",
    "\n",
    "\n",
    "def get_fs_data(service_url):\n",
    "    feature_layer = FeatureLayer(service_url)\n",
    "    query_result = feature_layer.query()\n",
    "    feature_list = query_result.features\n",
    "    all_data = pd.DataFrame([feature.attributes for feature in feature_list])\n",
    "    return all_data\n",
    "\n",
    "\n",
    "# REST SERVICE data for lookup dictionary\n",
    "service_url = 'https://maps.trpa.org/server/rest/services/LTInfo_Monitoring/MapServer/6'\n",
    "\n",
    "dfplannoisesde = get_fs_data(service_url)\n",
    "\n",
    "dfplannoisesde.info()\n",
    "columnstokeep = ['SITE_NAME', 'ID', 'LTINFO', 'PAS_1987', 'LATITUDE', 'LONGITUDE']\n",
    "dfplannoisesde = dfplannoisesde.loc[:, columnstokeep]\n",
    "\n",
    "# Drop duplicates based on 'SITE_NAME' and keep the first occurrence\n",
    "unique_values = dfplannoisesde.drop_duplicates(subset='SITE_NAME', keep='first')\n",
    "\n",
    "# Select specific columns for lookup\n",
    "selected_columns = ['SITE_NAME', 'ID', 'LTINFO', 'PAS_1987', 'LATITUDE', 'LONGITUDE']\n",
    "\n",
    "def update_lat_lon_from_lookup_dict(noise_data, lookup_dict):\n",
    "    # Assuming 'SITE_NAME' is the common identifier between DataFrame and lookup dictionary\n",
    "    for index, row in noise_data.iterrows():\n",
    "        # Get the 'LATITUDE' and 'LONGITUDE' from the lookup dictionary using the 'SITE_NAME' from the DataFrame\n",
    "        lat_lon = lookup_dict.get(row['PAS_NAME'])\n",
    "        # Update the 'MONITORING SITE LATITUDE' and 'MONITORING SITE LONGITUDE' in the DataFrame with the 'LATITUDE' and 'LONGITUDE' from the lookup dictionary\n",
    "        if lat_lon is not None:\n",
    "            noise_data.at[index, 'MONITORING SITE LATITUDE'] = lat_lon['LATITUDE']\n",
    "            noise_data.at[index, 'MONITORING SITE LONGITUDE'] = lat_lon['LONGITUDE']\n",
    "\n",
    "    \n",
    "    return noise_data\n",
    "\n",
    "# Convert selected columns to dictionary\n",
    "lookup_dict = unique_values[selected_columns].set_index('SITE_NAME').to_dict(orient='index')\n",
    "\n",
    "# Display the dictionary\n",
    "print(lookup_dict)\n",
    "\n",
    "# Update 'MONITORING SITE LATITUDE' and 'MONITORING SITE LONGITUDE' in Noise23_df with data from the lookup dictionary\n",
    "Noise23_df = update_lat_lon_from_lookup_dict(Noise23_df, lookup_dict)\n",
    "\n",
    "\n",
    "\n",
    "# Create new columns 'ID' and 'LTINFO' based on 'PAS_NAME' and look up dictionary\n",
    "Noise23_df['ID'] = Noise23_df['PAS_NAME'].apply(lambda x: lookup_dict.get(x, {}).get('ID'))\n",
    "Noise23_df['LTINFO'] = Noise23_df['PAS_NAME'].apply(lambda x: lookup_dict.get(x, {}).get('LTINFO'))\n",
    "Noise23_df['PAS_1987'] = Noise23_df['PAS_NAME'].apply(lambda x: lookup_dict.get(x, {}).get('PAS_1987'))\n",
    "\n",
    "# Specify the columns to keep in Final_sdf\n",
    "finalcolumns_to_keep = ['PAS_NAME', 'Year', 'CNEL_Maximum_Day_Value', 'Category','ID', 'MONITORING SITE LATITUDE', 'MONITORING SITE LONGITUDE', 'LAND_USE', 'CNEL LAND USE', 'LTINFO', 'PAS_1987']\n",
    "\n",
    "# Create a new DataFrame Final_df with the selected columns\n",
    "df = Noise23_df[finalcolumns_to_keep]\n",
    "\n",
    "# Field mapping so that columns match\n",
    "field_mapping = {\n",
    "    'PAS_1987': 'PAS_1987',\n",
    "    'ID': 'ID',\n",
    "    'MONITORING SITE LATITUDE': 'LATITUDE',\n",
    "    'MONITORING SITE LONGITUDE': 'LONGITUDE',\n",
    "    'PAS_NAME': 'SITE_NAME',\n",
    "    'LAND_USE': 'LAND_USE',\n",
    "    'CNEL LAND USE': 'CNEL_LAND_USE',\n",
    "    'Category': 'CATEGORY',\n",
    "    'Year': 'YEAR_OF_COUNT',\n",
    "    'CNEL_Maximum_Day_Value': 'COUNT_VALUE',\n",
    "    'LTINFO': 'LTINFO'\n",
    "}\n",
    "\n",
    "# Create a new DataFrame Final_df with columns based on the field mapping\n",
    "df = df.rename(columns=field_mapping)\n",
    "\n",
    "# Convert DataFrame to Spatially Enabled DataFrame\n",
    "sedf = GeoAccessor.from_xy(df, x_column='LONGITUDE', y_column='LATITUDE')\n",
    "\n",
    "# Convert the SEDF to a feature class without sanitizing columns\n",
    "sedf.spatial.to_featureclass(location=os.path.join(workspace, 'PlanAreaNoise_23_Staging'), sanitize_columns=False)\n"
   ]
  },
  {
   "cell_type": "code",
   "execution_count": null,
   "metadata": {},
   "outputs": [],
   "source": [
    "#reproject feature class 4236 to 26910\n",
    "# Set the input and output paths\n",
    "arcpy.env.workspace=r'F:\\Research and Analysis\\Workspace\\Sarah\\Data Management 2023\\Scratch.gdb'\n",
    "input_feature_class = 'PlanAreaNoise_23_Staging'\n",
    "output_feature_class = 'PlanAreaNoise_23_ready'\n",
    " \n",
    "# Specify the target coordinate system (EPSG code 26910 for UTM Zone 10N)\n",
    "target_coordinate_system = arcpy.SpatialReference(26910)\n",
    " \n",
    "# Use the Project tool to reproject the feature class\n",
    "arcpy.management.Project(\n",
    "    input_feature_class,\n",
    "    output_feature_class,\n",
    "    target_coordinate_system\n",
    ")\n",
    " \n",
    "print(f\"Reprojection completed. Output feature class: {output_feature_class}\")"
   ]
  },
  {
   "cell_type": "code",
   "execution_count": null,
   "metadata": {},
   "outputs": [],
   "source": [
    "arcpy.Delete_management(r'c:\\Users\\snewsome\\Documents\\GitHub\\ThresholdEvaluation\\Scripts\\2023\\db_connect\\ConnectionFile.sde')"
   ]
  },
  {
   "cell_type": "code",
   "execution_count": null,
   "metadata": {},
   "outputs": [],
   "source": [
    "import arcpy\n",
    "from time import strftime\n",
    "\n",
    "\n",
    "#push data to sde\n",
    "#Create database connection\n",
    "inWorkspace = r\"F:\\Research and Analysis\\Workspace\\Sarah\\SarahVector.sde\"\n",
    "arcpy.env.workspace = inWorkspace\n",
    "\n",
    "# Specify the name of the new version and the parent version\n",
    "new_version_name = \"PlanAreaNoise_\" + strftime(\"%Y-%m-%d\")\n",
    "parent_version = \"sde.DEFAULT\"\n",
    "version_name_full = '\"TAHOE\\SNEWSOME\".'+ new_version_name\n",
    "\n",
    "# List all versions in the geodatabase\n",
    "existing_versions = [version.name for version in arcpy.da.ListVersions(inWorkspace)]"
   ]
  },
  {
   "cell_type": "markdown",
   "metadata": {},
   "source": []
  },
  {
   "cell_type": "code",
   "execution_count": null,
   "metadata": {},
   "outputs": [],
   "source": [
    "import arcpy\n",
    "from time import strftime\n",
    "\n",
    "\n",
    "#push data to sde\n",
    "#Create database connection\n",
    "inWorkspace=r\"F:\\Research and Analysis\\Workspace\\Sarah\\SarahVector.sde\"\n",
    "arcpy.env.workspace=inWorkspace\n",
    "\n",
    "# Specify the name of the new version and the parent version\n",
    "new_version_name = \"PlanAreaNoise_\" + strftime(\"%Y-%m-%d\")\n",
    "parent_version = \"sde.DEFAULT\"\n",
    "version_name_full = '\"TAHOE\\SNEWSOME\".'+ new_version_name\n",
    "\n",
    "# List all versions in the geodatabase\n",
    "existing_versions = [version.name for version in arcpy.da.ListVersions(inWorkspace)]\n",
    "\n",
    "# Check if the specified version exists\n",
    "if version_name_full in existing_versions:\n",
    "    # Delete the version\n",
    "    arcpy.management.DeleteVersion(inWorkspace, version_name_full)\n",
    "    print(f\"Version '{version_name_full}' deleted successfully.\")\n",
    "else:\n",
    "    print(f\"Version '{version_name_full}' does not exist.\")\n",
    "\n",
    "# Create a new version\n",
    "arcpy.CreateVersion_management(inWorkspace, parent_version, new_version_name, \"PUBLIC\")\n",
    "\n",
    "# If you want to create a connection file, you can use the following code:\n",
    "arcpy.CreateDatabaseConnection_management(\n",
    "    out_folder_path='db_connect/',\n",
    "    out_name=\"ConnectionFile.sde\",\n",
    "    database_platform=\"SQL_SERVER\",  \n",
    "    instance='sql12',\n",
    "    database='sde',\n",
    "    account_authentication=\"OPERATING_SYSTEM_AUTH\",  \n",
    "    version_type='TRANSACTIONAL',\n",
    "    version=version_name_full\n",
    ")\n",
    "\n",
    "PlanNoisesde=os.path.join(version_name_full, \"SDE.Monitoring\\SDE.Plan_Area_Noise\")\n",
    "PlanAreaNoise = 'planareanoise'\n",
    "arcpy.MakeFeatureLayer_management(PlanNoisesde, PlanAreaNoise)\n",
    "\n",
    "\n",
    "# Create a new version\n",
    "#arcpy.CreateVersion_management(inWorkspace, parent_version, new_version_name, \"PUBLIC\")\n",
    "arcpy.ChangeVersion_management(PlanAreaNoise, 'TRANSACTIONAL', version_name_full, '')\n",
    "\n",
    "#Start\n",
    "edit = arcpy.da.Editor('db_connections/ConnectionFile.sde')\n",
    "edit.startEditing(False, True)\n",
    "\n",
    "# Append the records from the temporary feature class to the target feature class\n",
    "arcpy.management.Append(\n",
    "    inputs='PlanAreaNoise_23_ready',\n",
    "    target=PlanNoisesde, \n",
    "    schema_type='NO_TEST'\n",
    ")\n",
    "\n",
    "#Stop\n",
    "edit.stopEditing(True)\n",
    "\n"
   ]
  },
  {
   "cell_type": "code",
   "execution_count": null,
   "metadata": {},
   "outputs": [],
   "source": [
    "try:\n",
    "    arcpy.CreateVersion_management(inWorkspace, parent_version, new_version_name, \"PUBLIC\")\n",
    "    print(\"Version created successfully.\")\n",
    "except arcpy.ExecuteError as e:\n",
    "    print(f\"Error: {e}\")"
   ]
  },
  {
   "cell_type": "code",
   "execution_count": null,
   "metadata": {},
   "outputs": [],
   "source": [
    "#Start\n",
    "edit = arcpy.da.Editor('db_connections/ConnectionFile.sde')\n",
    "edit.startEditing(False, True)\n",
    "\n",
    "# Append the records from the temporary feature class to the target feature class\n",
    "arcpy.management.Append(\n",
    "    inputs='PlanAreaNoise_23_ready',\n",
    "    target=os.path.join(version_full_name, \"SDE.Monitoring\\SDE.Plan_Area_Noise\"), \n",
    "    schema_type='NO_TEST'\n",
    ")\n",
    "\n",
    "#Stop\n",
    "edit.stopEditing(True)"
   ]
  },
  {
   "cell_type": "code",
   "execution_count": null,
   "metadata": {},
   "outputs": [],
   "source": [
    "arcpy.Delete_management(\"planareanoise\")"
   ]
  },
  {
   "cell_type": "code",
   "execution_count": null,
   "metadata": {},
   "outputs": [],
   "source": [
    "# Start an edit session\n",
    "edit = arcpy.da.Editor('db_connections/ConnectionFile.sde')\n",
    "edit.startEditing(False, True)\n",
    "\n",
    "    # Create a new version\n",
    "arcpy.CreateVersion_management(inWorkspace, parent_version, new_version_name, \"PUBLIC\")"
   ]
  },
  {
   "cell_type": "markdown",
   "metadata": {},
   "source": [
    "#### Shorezone Noise"
   ]
  },
  {
   "cell_type": "code",
   "execution_count": null,
   "metadata": {},
   "outputs": [],
   "source": []
  },
  {
   "cell_type": "code",
   "execution_count": null,
   "metadata": {},
   "outputs": [],
   "source": []
  },
  {
   "cell_type": "markdown",
   "metadata": {},
   "source": [
    "## Stream/CSCI"
   ]
  },
  {
   "cell_type": "code",
   "execution_count": null,
   "metadata": {},
   "outputs": [],
   "source": [
    "#Calculate the Average CSCI score for TPAandTPBsites for 2020-2022 and fill in csv, Next code block will be splitting TPA and TPB into two different avg scores\n",
    "#Setup\n",
    "#Create Dictionary Usring Rest Service data\n",
    "\n",
    "import pandas as pd\n",
    "import os\n",
    "from arcgis import GIS\n",
    "from arcgis.features import FeatureLayer\n",
    "import numpy as np\n",
    "import requests\n",
    "import arcpy\n",
    "\n",
    "gis = GIS()\n",
    "# Connect to TRPA Enterprise GIS Portal *if it's a service only shared with org\n",
    "# portal_user = \"TRPA_PORTAL_ADMIN\"\n",
    "# portal_pwd = str(os.environ.get('Password'))\n",
    "# portal_url = \"https://maps.trpa.org/portal/\"\n",
    "wk_memory = \"memory\" + \"\\\\\"\n",
    "\n",
    "#Set up Workspace\n",
    "# set workspace and sde connections \n",
    "working_folder = r\"F:\\Research and Analysis\\Threshold reporting\\ThresholdData\\Fisheries\"\n",
    "workspace      = \"C:\\GIS\\Scratch.gdb\"\n",
    "arcpy.env.workspace = \"C:\\GIS\\Scratch.gdb\"\n",
    "\n",
    "# network path to connection files\n",
    "filePath = r\"C:\\\\GIS\\\\DB_CONNECT\"\n",
    "\n",
    "\n",
    "## CSV to be updated with new average\n",
    "StreamAvg = os.path.join(working_folder,\"ThresholdData_Stream.csv\")\n",
    "\n",
    "\n",
    "def get_fs_data(service_url):\n",
    "    feature_layer = FeatureLayer(service_url)\n",
    "    query_result = feature_layer.query()\n",
    "    # Convert the query result to a list of dictionaries\n",
    "    feature_list = query_result.features\n",
    "    # Create a pandas DataFrame from the list of dictionaries\n",
    "    all_data = pd.DataFrame([feature.attributes for feature in feature_list])\n",
    "    return all_data\n",
    "\n",
    "# Service URL\n",
    "service_url = 'https://maps.trpa.org/server/rest/services/LTInfo_Monitoring/MapServer/8'\n",
    "\n",
    "# Get Stream data as a Spatially Enabled DataFrame\n",
    "sdfStreamHab = get_fs_data(service_url)\n",
    "\n",
    "# Keep only necessary columns\n",
    "columnstokeep = ['SITE_NAME', 'STATION_TYPE', 'DURATION', 'LATITUDE', 'LONGITUDE', 'LTINFO', 'COUNT_VALUE', 'YEAR_OF_COUNT']\n",
    "sdfStreamHab = sdfStreamHab.loc[:, columnstokeep]\n",
    "\n",
    "# Query only 2020-2022 data\n",
    "sdfStreamHab['Date'] = pd.to_datetime(sdfStreamHab['YEAR_OF_COUNT'], format='%Y')\n",
    "filtered_df = sdfStreamHab[\n",
    "    (sdfStreamHab['Date'].dt.year.between(2020, 2022)) & \n",
    "    (sdfStreamHab['SITE_NAME'].str.contains('TPB|TPA'))\n",
    "].copy()\n",
    "\n",
    "# Calculate the average of the 'COUNT_VALUE' column\n",
    "AvgCSCI23 = filtered_df['COUNT_VALUE'].mean()\n",
    "\n",
    "# Update CSV ThresholdData_Stream.csv\n",
    "csv_path = r\"F:\\Research and Analysis\\Threshold reporting\\ThresholdData\\Fisheries\\ThresholdData_Streams.csv\"\n",
    "existing_df = pd.read_csv(csv_path)\n",
    "\n",
    "Description = \"Average CSCI score of all trend sites (48 sites)\"\n",
    "Year = '2020-2022'\n",
    "Value = AvgCSCI\n",
    "\n",
    "existing_entry = existing_df[\n",
    "    (existing_df['Description'] == Description) &\n",
    "    (existing_df['Year'] == Year)\n",
    "]\n",
    "\n",
    "if existing_entry.empty:\n",
    "    new_entry = {'Description': Description, 'Year': Year, 'Value': Value}\n",
    "    existing_df = pd.concat([existing_df, pd.DataFrame([new_entry])], ignore_index=True)\n",
    "\n",
    "\n",
    "existing_df.to_csv(csv_path, index=False)\n",
    "print(f\"CSV file '{csv_path}' has been updated.\")\n",
    "\n"
   ]
  },
  {
   "cell_type": "markdown",
   "metadata": {},
   "source": [
    "#### Avg Stream CSCI split into TPB and TPA for all years. in a new excel sheet"
   ]
  },
  {
   "cell_type": "code",
   "execution_count": null,
   "metadata": {},
   "outputs": [],
   "source": [
    "import pandas as pd\n",
    "import os\n",
    "from arcgis import GIS\n",
    "from arcgis.features import FeatureLayer\n",
    "import numpy as np\n",
    "\n",
    "import arcpy\n",
    "\n",
    "gis = GIS()\n",
    "\n",
    "wk_memory = \"memory\" + \"\\\\\"\n",
    "\n",
    "#Set up Workspace\n",
    "# set workspace and sde connections \n",
    "working_folder = r\"F:\\Research and Analysis\\Threshold reporting\\ThresholdData\\Fisheries\"\n",
    "workspace      = \"F:\\Research and Analysis\\Workspace\\Sarah\\Data Management 2023\\Scratch.gdb\"\n",
    "arcpy.env.workspace = \"F:\\Research and Analysis\\Workspace\\Sarah\\Data Management 2023\\Scratch.gdb\"\n",
    "\n",
    "\n",
    "\n",
    "## excel to be updated with new averages split into TPA and TPB\n",
    "StreamAvg = os.path.join(working_folder,\"ThresholdData_StreamsTavg.xlsx\")\n",
    "\n",
    "\n",
    "def get_fs_data(service_url):\n",
    "    feature_layer = FeatureLayer(service_url)\n",
    "    query_result = feature_layer.query()\n",
    "    # Convert the query result to a list of dictionaries\n",
    "    feature_list = query_result.features\n",
    "    # Create a pandas DataFrame from the list of dictionaries\n",
    "    all_data = pd.DataFrame([feature.attributes for feature in feature_list])\n",
    "    return all_data\n",
    "\n",
    "# Service URL\n",
    "service_url = 'https://maps.trpa.org/server/rest/services/LTInfo_Monitoring/MapServer/8'\n",
    "\n",
    "# Get Stream data as REST SERVICE to a Spatially Enabled DataFrame\n",
    "sdfStreamHab = get_fs_data(service_url)\n",
    "\n",
    "# Keep only necessary columns\n",
    "columnstokeep = ['SITE_NAME', 'STATION_TYPE', 'DURATION', 'LATITUDE', 'LONGITUDE', 'LTINFO', 'COUNT_VALUE', 'YEAR_OF_COUNT']\n",
    "sdfStreamHab = sdfStreamHab.loc[:, columnstokeep]\n",
    "\n",
    "#This is where the magic calculations happen for each threshold\n",
    "# Mke year of count into date format\n",
    "sdfStreamHab['Date'] = pd.to_datetime(sdfStreamHab['YEAR_OF_COUNT'], format='%Y')\n",
    "\n",
    "# Define bins for grouping by year ranges\n",
    "bins = [2010, 2012, 2014, 2016, 2020, 2023]\n",
    "\n",
    "# Define labels for the bins\n",
    "labels = ['2010-2011', '2012-2013', '2014-2015', '2016-2019', '2020-2022']\n",
    "\n",
    "# Create a new column 'YearRange' to group the data by year ranges\n",
    "sdfStreamHab['YearRange'] = pd.cut(sdfStreamHab['Date'].dt.year, bins=bins, labels=labels, right=False)\n",
    "\n",
    "# Filter the DataFrame for TPB sites and TPA sites\n",
    "filtered_df_tpb = sdfStreamHab[sdfStreamHab['SITE_NAME'].str.contains('TPB')]\n",
    "filtered_df_tpa = sdfStreamHab[sdfStreamHab['SITE_NAME'].str.contains('TPA')]\n",
    "\n",
    "# Group by 'YearRange', then calculate the average 'COUNT_VALUE' TPB sites\n",
    "averages_tpb = filtered_df_tpb.groupby('YearRange')['COUNT_VALUE'].mean().reset_index()\n",
    "averages_tpb.rename(columns={'COUNT_VALUE': 'Average_COUNT_VALUE_TPB'}, inplace=True)\n",
    "\n",
    "averages_tpa = filtered_df_tpa.groupby('YearRange')['COUNT_VALUE'].mean().reset_index()\n",
    "averages_tpa.rename(columns={'COUNT_VALUE': 'Average_COUNT_VALUE_TPA'}, inplace=True)\n",
    "\n",
    "# Create Description and Year columns in both DataFrames\n",
    "averages_tpb['Description'] = 'Average CSCI Score per Trend Panel(24 Sites)'\n",
    "averages_tpa['Description'] = 'Average CSCI Score per Trend Panel(24 Sites)'\n",
    "averages_tpb['Year'] = averages_tpb['YearRange']\n",
    "averages_tpa['Year'] = averages_tpa['YearRange']\n",
    "\n",
    "# Merge the two DataFrames on 'Year' and 'Description' to create the final merged DataFrame\n",
    "FAdf = pd.merge(averages_tpb, averages_tpa, on=['Year', 'Description'], how='outer')\n",
    "# Sort by 'Year' for clarity\n",
    "FAdf.sort_values('Year', inplace=True)\n",
    "\n",
    "# Reset index for clarity\n",
    "FAdf.reset_index(drop=True, inplace=True)\n",
    "\n",
    "# Define columns to keep\n",
    "columns_to_keep = ['Year', 'Description', 'Average_COUNT_VALUE_TPB', 'Average_COUNT_VALUE_TPA']\n",
    "\n",
    "# Select only the desired columns\n",
    "FAdf = FAdf[columns_to_keep]\n",
    "# Print the combined averages\n",
    "print(FAdf)\n",
    "print(\"FAdf:\")\n",
    "\n",
    "# Write the updated DataFrame back to the CSV file\n",
    "FAdf.to_excel(StreamAvg, index=False)\n",
    "\n",
    "print(f\"The excel file '{StreamAvg}' has been updated with new averages successfully.\")"
   ]
  },
  {
   "cell_type": "code",
   "execution_count": null,
   "metadata": {},
   "outputs": [],
   "source": [
    "#Use F:Research and Analysis/Threshold reporting\\ThresholdData\\Fisheries\\ThresholdData_Streams.csv' to update SDE.tabular.....table\n"
   ]
  },
  {
   "cell_type": "code",
   "execution_count": null,
   "metadata": {},
   "outputs": [],
   "source": [
    "#Calculate Rating or CSCI values and then find the percent of total streams in each rating\n",
    "excel_file_path=\"F:\\Research and Analysis\\Fisheries\\Streams\\Bioassessment\\California Stream Condition Index\\California Stream Condition Index\\CSCI_Scores_AllSites_AllYears.xlsx\"\n",
    "\n",
    "Alldf = pd.read_excel(excel_file_path, sheet_name='CSCI_Scores_AllSites_AllYears')\n",
    "\n",
    "#Calculate Rating for CSCI value\n",
    "#Define a function to categorize CSCI values based on ranges\n",
    "def categorize_value(value):\n",
    "    if 0 <= value < 0.8:\n",
    "        return 'marginal'\n",
    "    elif 0.8 <= value < 1.0:\n",
    "        return 'good'\n",
    "    else:\n",
    "        return 'excellent'\n",
    "\n",
    "Alldf['Rating']=Alldf['CSCI_Score'].apply(categorize_value)\n",
    "\n",
    "print(Alldf)\n",
    "\n",
    "#Find average for each rating- Poor, Marginal, Good, Excellent\n",
    "# Group by 'Category' and calculate the mean of 'Count'\n",
    "average_count_by_category = df.groupby('Rating')['CSCI_Score'].mean()    "
   ]
  },
  {
   "cell_type": "markdown",
   "metadata": {},
   "source": [
    "## Wild Life"
   ]
  },
  {
   "cell_type": "code",
   "execution_count": null,
   "metadata": {},
   "outputs": [],
   "source": [
    "print(Wildlifedf['Wildlife_Species'].dtype)"
   ]
  },
  {
   "cell_type": "markdown",
   "metadata": {},
   "source": [
    "### Wildlife Species"
   ]
  },
  {
   "cell_type": "code",
   "execution_count": null,
   "metadata": {},
   "outputs": [],
   "source": [
    "import arcpy\n",
    "import pandas as pd\n",
    "import os\n",
    "# Delete the table\n",
    "\n",
    "workspace = r'F:\\Research and Analysis\\Workspace\\Sarah\\Data Management 2023\\Scratch.gdb'\n",
    "#arcpy.Delete_management(os.path.join(workspace, 'Wildlife_Staging'))\n",
    "# Update SDE.tabular.SDE.threshhold_PlanAreaNoise with new data 2020-2023\n",
    "excel_file_path = r\"F:\\Research and Analysis\\Threshold reporting\\ThresholdData\\Wildlife\\Wildlife_ThresholdData.xlsx\"\n",
    "\n",
    "# Read the Excel file into a DataFrame\n",
    "Rawdf = pd.read_excel(excel_file_path)\n",
    "\n",
    "# Grab needed data by year\n",
    "Wildlifedf = Rawdf.loc[(Rawdf['Year'] >= 2020) & (Rawdf['Year'] <= 2023)].copy()\n",
    "\n",
    "#Rename columns directly\n",
    "Wildlifedf.rename(columns={'Wildlife Species': 'Wildlife_Species', 'Threshold Value': 'Threshold_Value', 'Count': 'Total'}, inplace=True)\n",
    "# Convert 'Wildlife_Species' column to string type\n",
    "Wildlifedf['Wildlife_Species'] = Wildlifedf['Wildlife_Species'].astype(str)\n",
    "# Define the fields to include in the table\n",
    "field_names = ['Wildlife_Species', 'Threshold_Value', 'Category', 'Year', 'Total']  # Add more fields if necessary\n",
    "\n",
    "# Convert 'Wildlife Species' column to string type to ensure compatibility\n",
    "Wildlifedf['Wildlife_Species'] = Wildlifedf['Wildlife_Species'].astype(str)\n",
    "\n",
    "# Define the fields to include in the table with specified field types\n",
    "field_types = {'Wildlife_Species': 'Text', 'Threshold_Value': 'Text', 'Category': 'TEXT', 'Year': 'Double', 'Total': 'Double'}\n",
    "\n",
    "# Create an empty table in the workspace\n",
    "table_path = os.path.join(workspace, 'Wildlife_staging')\n",
    "arcpy.CreateTable_management(workspace, 'Wildlife_staging')\n",
    "\n",
    "# Add fields to the table with specified field types\n",
    "for field_name, field_type in field_types.items():\n",
    "    arcpy.AddField_management(table_path, field_name, field_type)\n",
    "\n",
    "# Convert the DataFrame to a structured numpy array\n",
    "array = Wildlifedf[list(field_types.keys())].to_records(index=False)\n",
    "\n",
    "# Insert data into the table\n",
    "with arcpy.da.InsertCursor(table_path, list(field_types.keys())) as cursor:\n",
    "    for row in array:\n",
    "        cursor.insertRow(row)\n",
    "\n",
    "\n",
    "        #GO TO WORKSPACE FOLDER AND APPEND TO F:\\GIS\\DB_CONNECT\\Tabular.sde\\SDE.ThresholdEvaluation_Wildlife in PRO"
   ]
  },
  {
   "cell_type": "markdown",
   "metadata": {},
   "source": [
    "## Waterfowl Human Activity"
   ]
  },
  {
   "cell_type": "code",
   "execution_count": null,
   "metadata": {},
   "outputs": [],
   "source": [
    "# Not done\n",
    "import arcpy\n",
    "import pandas as pd\n",
    "import os\n",
    "# Delete the table\n",
    "\n",
    "workspace = r'F:\\Research and Analysis\\Workspace\\Sarah\\Data Management 2023\\Scratch.gdb'\n",
    "#arcpy.Delete_management(os.path.join(workspace, 'Wildlife_Staging'))\n",
    "# Update SDE.tabular.SDE.threshhold_PlanAreaNoise with new data 2020-2023\n",
    "excel_file_path = r\"F:\\Research and Analysis\\Threshold reporting\\ThresholdData\\Wildlife\\Waterfowl_HumanActivityRating_2019.xlsx\"\n",
    "\n",
    "# Read the Excel file into a DataFrame\n",
    "Rawdf = pd.read_excel(excel_file_path)\n",
    "\n",
    "# Grab needed data by year\n",
    "Wildlifedf = Rawdf.loc[(Rawdf['Year'] >= 2020) & (Rawdf['Year'] <= 2023)].copy()\n",
    "\n",
    "#Rename columns directly\n",
    "fowldf.rename(columns={'Wildlife Species': 'Wildlife_Species', 'Threshold Value': 'Threshold_Value', 'Count': 'Total'}, inplace=True)\n",
    "# Convert 'Wildlife_Species' column to string type\n",
    "fowldf['Wildlife_Species'] = fowldf['Wildlife_Species'].astype(str)\n",
    "# Define the fields to include in the table\n",
    "field_names = ['Wildlife_Species', 'Threshold_Value', 'Category', 'Year', 'Total']  # Add more fields if necessary\n",
    "\n",
    "# Convert 'Wildlife Species' column to string type to ensure compatibility\n",
    "Wildlifedf['Wildlife_Species'] = Wildlifedf['Wildlife_Species'].astype(str)\n",
    "\n",
    "# Define the fields to include in the table with specified field types\n",
    "field_types = {'Wildlife_Species': 'Text', 'Threshold_Value': 'Text', 'Category': 'TEXT', 'Year': 'Double', 'Total': 'Double'}\n",
    "\n",
    "# Create an empty table in the workspace\n",
    "table_path = os.path.join(workspace, 'Wildlife_staging')\n",
    "arcpy.CreateTable_management(workspace, 'Wildlife_staging')\n",
    "\n",
    "# Add fields to the table with specified field types\n",
    "for field_name, field_type in field_types.items():\n",
    "    arcpy.AddField_management(table_path, field_name, field_type)\n",
    "\n",
    "# Convert the DataFrame to a structured numpy array\n",
    "array = Wildlifedf[list(field_types.keys())].to_records(index=False)\n",
    "\n",
    "# Insert data into the table\n",
    "with arcpy.da.InsertCursor(table_path, list(field_types.keys())) as cursor:\n",
    "    for row in array:\n",
    "        cursor.insertRow(row)"
   ]
  },
  {
   "cell_type": "markdown",
   "metadata": {},
   "source": [
    "### Watercraft Inspections"
   ]
  },
  {
   "cell_type": "code",
   "execution_count": 3,
   "metadata": {},
   "outputs": [
    {
     "data": {
      "application/vnd.plotly.v1+json": {
       "config": {
        "plotlyServerURL": "https://plot.ly"
       },
       "data": [
        {
         "alignmentgroup": "True",
         "hovertemplate": "PMSubcategoryOption1=No Decontamination Necessary<br>IndicatorProjectYear=%{x}<br>IndicatorProjectValue=%{y}<extra></extra>",
         "legendgroup": "No Decontamination Necessary",
         "marker": {
          "color": "#636efa",
          "pattern": {
           "shape": ""
          }
         },
         "name": "No Decontamination Necessary",
         "offsetgroup": "No Decontamination Necessary",
         "orientation": "v",
         "showlegend": true,
         "textposition": "auto",
         "type": "bar",
         "x": [
          2016,
          2011,
          2010,
          2009,
          2012,
          2014,
          2015,
          2013,
          2017,
          2018,
          2019,
          2020,
          2021,
          2022,
          2023
         ],
         "xaxis": "x",
         "y": [
          5180,
          3560,
          7040,
          3361,
          3691,
          3500,
          3964,
          4117,
          3928,
          4415,
          4262,
          2367,
          3425,
          2640,
          2670
         ],
         "yaxis": "y"
        },
        {
         "alignmentgroup": "True",
         "hovertemplate": "PMSubcategoryOption1=Watercraft Decontaminated<br>IndicatorProjectYear=%{x}<br>IndicatorProjectValue=%{y}<extra></extra>",
         "legendgroup": "Watercraft Decontaminated",
         "marker": {
          "color": "#EF553B",
          "pattern": {
           "shape": ""
          }
         },
         "name": "Watercraft Decontaminated",
         "offsetgroup": "Watercraft Decontaminated",
         "orientation": "v",
         "showlegend": true,
         "textposition": "auto",
         "type": "bar",
         "x": [
          2012,
          2014,
          2016,
          2011,
          2013,
          2010,
          2009,
          2015,
          2017,
          2018,
          2019,
          2020,
          2021,
          2022,
          2023
         ],
         "xaxis": "x",
         "y": [
          3752,
          3300,
          2689,
          4748,
          4221,
          1200,
          4151,
          3573,
          4942,
          4952,
          4037,
          3232,
          4013,
          3176,
          2997
         ],
         "yaxis": "y"
        }
       ],
       "layout": {
        "barmode": "stack",
        "legend": {
         "title": {
          "text": "PMSubcategoryOption1"
         },
         "tracegroupgap": 0
        },
        "margin": {
         "t": 60
        },
        "template": {
         "data": {
          "bar": [
           {
            "error_x": {
             "color": "#2a3f5f"
            },
            "error_y": {
             "color": "#2a3f5f"
            },
            "marker": {
             "line": {
              "color": "#E5ECF6",
              "width": 0.5
             },
             "pattern": {
              "fillmode": "overlay",
              "size": 10,
              "solidity": 0.2
             }
            },
            "type": "bar"
           }
          ],
          "barpolar": [
           {
            "marker": {
             "line": {
              "color": "#E5ECF6",
              "width": 0.5
             },
             "pattern": {
              "fillmode": "overlay",
              "size": 10,
              "solidity": 0.2
             }
            },
            "type": "barpolar"
           }
          ],
          "carpet": [
           {
            "aaxis": {
             "endlinecolor": "#2a3f5f",
             "gridcolor": "white",
             "linecolor": "white",
             "minorgridcolor": "white",
             "startlinecolor": "#2a3f5f"
            },
            "baxis": {
             "endlinecolor": "#2a3f5f",
             "gridcolor": "white",
             "linecolor": "white",
             "minorgridcolor": "white",
             "startlinecolor": "#2a3f5f"
            },
            "type": "carpet"
           }
          ],
          "choropleth": [
           {
            "colorbar": {
             "outlinewidth": 0,
             "ticks": ""
            },
            "type": "choropleth"
           }
          ],
          "contour": [
           {
            "colorbar": {
             "outlinewidth": 0,
             "ticks": ""
            },
            "colorscale": [
             [
              0,
              "#0d0887"
             ],
             [
              0.1111111111111111,
              "#46039f"
             ],
             [
              0.2222222222222222,
              "#7201a8"
             ],
             [
              0.3333333333333333,
              "#9c179e"
             ],
             [
              0.4444444444444444,
              "#bd3786"
             ],
             [
              0.5555555555555556,
              "#d8576b"
             ],
             [
              0.6666666666666666,
              "#ed7953"
             ],
             [
              0.7777777777777778,
              "#fb9f3a"
             ],
             [
              0.8888888888888888,
              "#fdca26"
             ],
             [
              1,
              "#f0f921"
             ]
            ],
            "type": "contour"
           }
          ],
          "contourcarpet": [
           {
            "colorbar": {
             "outlinewidth": 0,
             "ticks": ""
            },
            "type": "contourcarpet"
           }
          ],
          "heatmap": [
           {
            "colorbar": {
             "outlinewidth": 0,
             "ticks": ""
            },
            "colorscale": [
             [
              0,
              "#0d0887"
             ],
             [
              0.1111111111111111,
              "#46039f"
             ],
             [
              0.2222222222222222,
              "#7201a8"
             ],
             [
              0.3333333333333333,
              "#9c179e"
             ],
             [
              0.4444444444444444,
              "#bd3786"
             ],
             [
              0.5555555555555556,
              "#d8576b"
             ],
             [
              0.6666666666666666,
              "#ed7953"
             ],
             [
              0.7777777777777778,
              "#fb9f3a"
             ],
             [
              0.8888888888888888,
              "#fdca26"
             ],
             [
              1,
              "#f0f921"
             ]
            ],
            "type": "heatmap"
           }
          ],
          "heatmapgl": [
           {
            "colorbar": {
             "outlinewidth": 0,
             "ticks": ""
            },
            "colorscale": [
             [
              0,
              "#0d0887"
             ],
             [
              0.1111111111111111,
              "#46039f"
             ],
             [
              0.2222222222222222,
              "#7201a8"
             ],
             [
              0.3333333333333333,
              "#9c179e"
             ],
             [
              0.4444444444444444,
              "#bd3786"
             ],
             [
              0.5555555555555556,
              "#d8576b"
             ],
             [
              0.6666666666666666,
              "#ed7953"
             ],
             [
              0.7777777777777778,
              "#fb9f3a"
             ],
             [
              0.8888888888888888,
              "#fdca26"
             ],
             [
              1,
              "#f0f921"
             ]
            ],
            "type": "heatmapgl"
           }
          ],
          "histogram": [
           {
            "marker": {
             "pattern": {
              "fillmode": "overlay",
              "size": 10,
              "solidity": 0.2
             }
            },
            "type": "histogram"
           }
          ],
          "histogram2d": [
           {
            "colorbar": {
             "outlinewidth": 0,
             "ticks": ""
            },
            "colorscale": [
             [
              0,
              "#0d0887"
             ],
             [
              0.1111111111111111,
              "#46039f"
             ],
             [
              0.2222222222222222,
              "#7201a8"
             ],
             [
              0.3333333333333333,
              "#9c179e"
             ],
             [
              0.4444444444444444,
              "#bd3786"
             ],
             [
              0.5555555555555556,
              "#d8576b"
             ],
             [
              0.6666666666666666,
              "#ed7953"
             ],
             [
              0.7777777777777778,
              "#fb9f3a"
             ],
             [
              0.8888888888888888,
              "#fdca26"
             ],
             [
              1,
              "#f0f921"
             ]
            ],
            "type": "histogram2d"
           }
          ],
          "histogram2dcontour": [
           {
            "colorbar": {
             "outlinewidth": 0,
             "ticks": ""
            },
            "colorscale": [
             [
              0,
              "#0d0887"
             ],
             [
              0.1111111111111111,
              "#46039f"
             ],
             [
              0.2222222222222222,
              "#7201a8"
             ],
             [
              0.3333333333333333,
              "#9c179e"
             ],
             [
              0.4444444444444444,
              "#bd3786"
             ],
             [
              0.5555555555555556,
              "#d8576b"
             ],
             [
              0.6666666666666666,
              "#ed7953"
             ],
             [
              0.7777777777777778,
              "#fb9f3a"
             ],
             [
              0.8888888888888888,
              "#fdca26"
             ],
             [
              1,
              "#f0f921"
             ]
            ],
            "type": "histogram2dcontour"
           }
          ],
          "mesh3d": [
           {
            "colorbar": {
             "outlinewidth": 0,
             "ticks": ""
            },
            "type": "mesh3d"
           }
          ],
          "parcoords": [
           {
            "line": {
             "colorbar": {
              "outlinewidth": 0,
              "ticks": ""
             }
            },
            "type": "parcoords"
           }
          ],
          "pie": [
           {
            "automargin": true,
            "type": "pie"
           }
          ],
          "scatter": [
           {
            "fillpattern": {
             "fillmode": "overlay",
             "size": 10,
             "solidity": 0.2
            },
            "type": "scatter"
           }
          ],
          "scatter3d": [
           {
            "line": {
             "colorbar": {
              "outlinewidth": 0,
              "ticks": ""
             }
            },
            "marker": {
             "colorbar": {
              "outlinewidth": 0,
              "ticks": ""
             }
            },
            "type": "scatter3d"
           }
          ],
          "scattercarpet": [
           {
            "marker": {
             "colorbar": {
              "outlinewidth": 0,
              "ticks": ""
             }
            },
            "type": "scattercarpet"
           }
          ],
          "scattergeo": [
           {
            "marker": {
             "colorbar": {
              "outlinewidth": 0,
              "ticks": ""
             }
            },
            "type": "scattergeo"
           }
          ],
          "scattergl": [
           {
            "marker": {
             "colorbar": {
              "outlinewidth": 0,
              "ticks": ""
             }
            },
            "type": "scattergl"
           }
          ],
          "scattermapbox": [
           {
            "marker": {
             "colorbar": {
              "outlinewidth": 0,
              "ticks": ""
             }
            },
            "type": "scattermapbox"
           }
          ],
          "scatterpolar": [
           {
            "marker": {
             "colorbar": {
              "outlinewidth": 0,
              "ticks": ""
             }
            },
            "type": "scatterpolar"
           }
          ],
          "scatterpolargl": [
           {
            "marker": {
             "colorbar": {
              "outlinewidth": 0,
              "ticks": ""
             }
            },
            "type": "scatterpolargl"
           }
          ],
          "scatterternary": [
           {
            "marker": {
             "colorbar": {
              "outlinewidth": 0,
              "ticks": ""
             }
            },
            "type": "scatterternary"
           }
          ],
          "surface": [
           {
            "colorbar": {
             "outlinewidth": 0,
             "ticks": ""
            },
            "colorscale": [
             [
              0,
              "#0d0887"
             ],
             [
              0.1111111111111111,
              "#46039f"
             ],
             [
              0.2222222222222222,
              "#7201a8"
             ],
             [
              0.3333333333333333,
              "#9c179e"
             ],
             [
              0.4444444444444444,
              "#bd3786"
             ],
             [
              0.5555555555555556,
              "#d8576b"
             ],
             [
              0.6666666666666666,
              "#ed7953"
             ],
             [
              0.7777777777777778,
              "#fb9f3a"
             ],
             [
              0.8888888888888888,
              "#fdca26"
             ],
             [
              1,
              "#f0f921"
             ]
            ],
            "type": "surface"
           }
          ],
          "table": [
           {
            "cells": {
             "fill": {
              "color": "#EBF0F8"
             },
             "line": {
              "color": "white"
             }
            },
            "header": {
             "fill": {
              "color": "#C8D4E3"
             },
             "line": {
              "color": "white"
             }
            },
            "type": "table"
           }
          ]
         },
         "layout": {
          "annotationdefaults": {
           "arrowcolor": "#2a3f5f",
           "arrowhead": 0,
           "arrowwidth": 1
          },
          "autotypenumbers": "strict",
          "coloraxis": {
           "colorbar": {
            "outlinewidth": 0,
            "ticks": ""
           }
          },
          "colorscale": {
           "diverging": [
            [
             0,
             "#8e0152"
            ],
            [
             0.1,
             "#c51b7d"
            ],
            [
             0.2,
             "#de77ae"
            ],
            [
             0.3,
             "#f1b6da"
            ],
            [
             0.4,
             "#fde0ef"
            ],
            [
             0.5,
             "#f7f7f7"
            ],
            [
             0.6,
             "#e6f5d0"
            ],
            [
             0.7,
             "#b8e186"
            ],
            [
             0.8,
             "#7fbc41"
            ],
            [
             0.9,
             "#4d9221"
            ],
            [
             1,
             "#276419"
            ]
           ],
           "sequential": [
            [
             0,
             "#0d0887"
            ],
            [
             0.1111111111111111,
             "#46039f"
            ],
            [
             0.2222222222222222,
             "#7201a8"
            ],
            [
             0.3333333333333333,
             "#9c179e"
            ],
            [
             0.4444444444444444,
             "#bd3786"
            ],
            [
             0.5555555555555556,
             "#d8576b"
            ],
            [
             0.6666666666666666,
             "#ed7953"
            ],
            [
             0.7777777777777778,
             "#fb9f3a"
            ],
            [
             0.8888888888888888,
             "#fdca26"
            ],
            [
             1,
             "#f0f921"
            ]
           ],
           "sequentialminus": [
            [
             0,
             "#0d0887"
            ],
            [
             0.1111111111111111,
             "#46039f"
            ],
            [
             0.2222222222222222,
             "#7201a8"
            ],
            [
             0.3333333333333333,
             "#9c179e"
            ],
            [
             0.4444444444444444,
             "#bd3786"
            ],
            [
             0.5555555555555556,
             "#d8576b"
            ],
            [
             0.6666666666666666,
             "#ed7953"
            ],
            [
             0.7777777777777778,
             "#fb9f3a"
            ],
            [
             0.8888888888888888,
             "#fdca26"
            ],
            [
             1,
             "#f0f921"
            ]
           ]
          },
          "colorway": [
           "#636efa",
           "#EF553B",
           "#00cc96",
           "#ab63fa",
           "#FFA15A",
           "#19d3f3",
           "#FF6692",
           "#B6E880",
           "#FF97FF",
           "#FECB52"
          ],
          "font": {
           "color": "#2a3f5f"
          },
          "geo": {
           "bgcolor": "white",
           "lakecolor": "white",
           "landcolor": "#E5ECF6",
           "showlakes": true,
           "showland": true,
           "subunitcolor": "white"
          },
          "hoverlabel": {
           "align": "left"
          },
          "hovermode": "closest",
          "mapbox": {
           "style": "light"
          },
          "paper_bgcolor": "white",
          "plot_bgcolor": "#E5ECF6",
          "polar": {
           "angularaxis": {
            "gridcolor": "white",
            "linecolor": "white",
            "ticks": ""
           },
           "bgcolor": "#E5ECF6",
           "radialaxis": {
            "gridcolor": "white",
            "linecolor": "white",
            "ticks": ""
           }
          },
          "scene": {
           "xaxis": {
            "backgroundcolor": "#E5ECF6",
            "gridcolor": "white",
            "gridwidth": 2,
            "linecolor": "white",
            "showbackground": true,
            "ticks": "",
            "zerolinecolor": "white"
           },
           "yaxis": {
            "backgroundcolor": "#E5ECF6",
            "gridcolor": "white",
            "gridwidth": 2,
            "linecolor": "white",
            "showbackground": true,
            "ticks": "",
            "zerolinecolor": "white"
           },
           "zaxis": {
            "backgroundcolor": "#E5ECF6",
            "gridcolor": "white",
            "gridwidth": 2,
            "linecolor": "white",
            "showbackground": true,
            "ticks": "",
            "zerolinecolor": "white"
           }
          },
          "shapedefaults": {
           "line": {
            "color": "#2a3f5f"
           }
          },
          "ternary": {
           "aaxis": {
            "gridcolor": "white",
            "linecolor": "white",
            "ticks": ""
           },
           "baxis": {
            "gridcolor": "white",
            "linecolor": "white",
            "ticks": ""
           },
           "bgcolor": "#E5ECF6",
           "caxis": {
            "gridcolor": "white",
            "linecolor": "white",
            "ticks": ""
           }
          },
          "title": {
           "x": 0.05
          },
          "xaxis": {
           "automargin": true,
           "gridcolor": "white",
           "linecolor": "white",
           "ticks": "",
           "title": {
            "standoff": 15
           },
           "zerolinecolor": "white",
           "zerolinewidth": 2
          },
          "yaxis": {
           "automargin": true,
           "gridcolor": "white",
           "linecolor": "white",
           "ticks": "",
           "title": {
            "standoff": 15
           },
           "zerolinecolor": "white",
           "zerolinewidth": 2
          }
         }
        },
        "xaxis": {
         "anchor": "y",
         "domain": [
          0,
          1
         ],
         "title": {
          "text": "IndicatorProjectYear"
         }
        },
        "yaxis": {
         "anchor": "x",
         "domain": [
          0,
          1
         ],
         "title": {
          "text": "IndicatorProjectValue"
         }
        }
       }
      }
     },
     "metadata": {},
     "output_type": "display_data"
    }
   ],
   "source": [
    "import pandas as pd\n",
    "import plotly.express as px\n",
    "\n",
    "\n",
    "url = 'https://www.laketahoeinfo.org/WebServices/GetReportedEIPIndicatorProjectAccomplishments/JSON/e17aeb86-85e3-4260-83fd-a2b32501c476/16'\n",
    "\n",
    "df = pd.read_json(url)\n",
    "df\n",
    "\n",
    "# stacked bar chart with plotly\n",
    "fig = px.bar(df, x='IndicatorProjectYear', y='IndicatorProjectValue', color='PMSubcategoryOption1', barmode='stack')\n",
    "fig.show()"
   ]
  },
  {
   "cell_type": "markdown",
   "metadata": {},
   "source": [
    "# Air Quality Data to table in Arc Pro to be appended manually"
   ]
  },
  {
   "cell_type": "code",
   "execution_count": null,
   "metadata": {},
   "outputs": [],
   "source": [
    "#-----------------------#\n",
    "#Add Data to SDE\n",
    "#------------------------#\n",
    "import pandas as pd\n",
    "\n",
    "# 1. Specify File Paths\n",
    "file_paths = [\"F:\\Research and Analysis\\Air Quality\\Annual Reports DRI\\AQ data 2023.xlsx\",\n",
    "              \"F:\\Research and Analysis\\Air Quality\\Annual Reports DRI\\AQ data 2022.xlsx\",\n",
    "              \"F:\\Research and Analysis\\Air Quality\\Annual Reports DRI\\AQ data 2021.xlsx\",\n",
    "              \"F:\\Research and Analysis\\Air Quality\\Annual Reports DRI\\AQ data 2020.xlsx\"]\n",
    "\n",
    "# 2. Read Data from Each File\n",
    "dfs = []  # List to store DataFrames from each file\n",
    "sheet_name = 'Indicator Values'  # Name of the sheet to read\n",
    "\n",
    "for file_path in file_paths:\n",
    "    df = pd.read_excel(file_path, sheet_name=sheet_name)\n",
    "    dfs.append(df)\n",
    "\n",
    "# 3. Concatenate DataFrames\n",
    "Airdata_df = pd.concat(dfs, ignore_index=True)\n",
    "\n",
    "\n",
    "#Create layer in arcgis pro to be appended to sde.ThresholdEvaluyation_AirQuality\n",
    "\n",
    "#Fix up field names\n",
    "\n",
    "# Rename fields\n",
    "Airdata_df.rename(columns={'Data?': 'Data', 'Data Source': 'Data_Source'}, inplace=True)\n",
    "#Add columsn to dataframe\n",
    "Airdata_df['Threshold_Value']= None\n",
    "Airdata_df['Percent_of_Threshold_Value']= None\n",
    "Airdata_df['Include_in_Trend_Analysis']= None\n",
    "print(Airdata_df)\n",
    "\n",
    "\n",
    "# Improve code next year , ADD DLBLISS as yes for pm2.5 high24, south lake tahoe sites for pm2.5 avg. etc.\n",
    "# Convert DataFrame to a list of dictionaries\n",
    "data = Airdata_df.to_dict(orient='records')\n",
    "\n",
    "# Get the field names from the field mapping\n",
    "field_names = list(Airdata_df.columns)\n",
    "\n",
    "\n",
    "# Create an empty table in the workspace\n",
    "table_path = os.path.join(workspace, 'Air_staging2')\n",
    "arcpy.CreateTable_management(workspace, 'Air_staging2')\n",
    "\n",
    "# Define the fields to include in the table with specified field types\n",
    "field_types = {'Indicator': 'Text', 'Pollutant': 'Text', 'Statistic': 'Text', 'Year': 'Long', 'Data': 'Text', 'Site': 'Text', 'Value': 'Double', 'Data_Source': 'Text', 'Exceedances': 'Long', 'Threshold_Value': 'Text', 'Percent_of_Threshold_Value': 'Text', 'Include_in_Trend_Analysis': 'Text'}\n",
    "\n",
    "# Add fields to the table with specified field types\n",
    "for field_name, field_type in field_types.items():\n",
    "    arcpy.AddField_management(table_path, field_name, field_type)\n",
    "\n",
    "# Convert the DataFrame to a structured numpy array\n",
    "array = Airdata_df[list(field_types.keys())].to_records(index=False)\n",
    "\n",
    "# Insert data into the table\n",
    "with arcpy.da.InsertCursor(table_path, list(field_types.keys())) as cursor:\n",
    "    for row in array:\n",
    "        cursor.insertRow(row)\n",
    "\n",
    "print(\"Data table successfully made.\")"
   ]
  },
  {
   "cell_type": "markdown",
   "metadata": {},
   "source": [
    "# Nearshore Periphyton/Algae"
   ]
  },
  {
   "cell_type": "code",
   "execution_count": 31,
   "metadata": {},
   "outputs": [
    {
     "name": "stdout",
     "output_type": "stream",
     "text": [
      "   Year            site        Chl\n",
      "0  2000    Incline West   9.853056\n",
      "1  2000        Pineland  24.064444\n",
      "2  2000     Rubicon Pt.  15.412778\n",
      "3  2000  Sugar Pine Pt.  22.151667\n",
      "4  2000      Tahoe City  56.658333\n"
     ]
    }
   ],
   "source": [
    "# set colors\n",
    "color_discrete_map = {'Incline West': '#33a02c',\n",
    "                      'Pineland': '#1f78b4', \n",
    "                      'Rubicon': '#fb9a99',\n",
    "                      'Sugarpine': '#911eb4',\n",
    "                      'Tahoe City': '#ff7f00',\n",
    "                      'Zephyr': '#cab2d6'                                \n",
    "                        }\n",
    "#Import DAta\n",
    "file_path = r\"F:\\Research and Analysis\\Water Quality Monitoring Program\\Nearshore\\IntegratedAlgaeMonitoring\\data\\Peri\"\n",
    "\n",
    "# Load each CSV file into a DataFrame\n",
    "inclinedf = pd.read_csv(os.path.join(file_path, 'InclineWest_Historic.csv'))\n",
    "Pinelanddf = pd.read_csv(os.path.join(file_path, 'Pineland_Historic.csv'))\n",
    "Rubicondf = pd.read_csv(os.path.join(file_path, 'Rubicon_Historic.csv'))\n",
    "Sugarpinedf = pd.read_csv(os.path.join(file_path, 'Sugarpine_Historic.csv'))\n",
    "TahoeCitydf = pd.read_csv(os.path.join(file_path, 'TahoeCity_Historic.csv'))\n",
    "Zephyrdf = pd.read_csv(os.path.join(file_path, 'Zephyr_Historic.csv'))\n",
    "\n",
    "#Combine All Dataframes\n",
    "combined_df = pd.concat([inclinedf, Pinelanddf, Rubicondf, Sugarpinedf, TahoeCitydf, Zephyrdf], ignore_index=True)\n",
    "# Ensure the Date column is in datetime format\n",
    "combined_df['Sample_Date'] = pd.to_datetime(combined_df['Sample_Date'])\n",
    "\n",
    "# Extract the year from the Date column and create a new Year column\n",
    "combined_df['Year'] = combined_df['Sample_Date'].dt.year\n",
    "\n",
    "#Group by 'Year' and 'Site', then calculate the average of the 'chl' column\n",
    "grouped_df = combined_df.groupby(['Year', 'site'], as_index=False)['Chl'].mean()\n",
    "\n",
    "# Preview the resulting DataFrame\n",
    "print(grouped_df.head())\n",
    "\n",
    "#May need to drop rows with missing value? not sure how it will show up on chart"
   ]
  },
  {
   "cell_type": "code",
   "execution_count": 42,
   "metadata": {},
   "outputs": [
    {
     "data": {
      "application/vnd.plotly.v1+json": {
       "config": {
        "plotlyServerURL": "https://plot.ly"
       },
       "data": [
        {
         "hovertemplate": "<br>%{y:.2f}",
         "legendgroup": "Incline West",
         "line": {
          "color": "#008080",
          "dash": "solid"
         },
         "marker": {
          "symbol": "circle"
         },
         "mode": "lines",
         "name": "Incline West",
         "orientation": "v",
         "showlegend": true,
         "type": "scatter",
         "x": [
          2000,
          2001,
          2002,
          2003,
          2004,
          2005,
          2006,
          2007,
          2008,
          2009,
          2010,
          2011,
          2012,
          2013,
          2014,
          2015,
          2016,
          2017,
          2018,
          2019,
          2020,
          2021,
          2022,
          2023
         ],
         "xaxis": "x",
         "y": [
          9.853055556500001,
          13.17047619,
          16.163055555,
          21.47374999875,
          33.455,
          27.821111111111108,
          10.161428571428571,
          15.0575,
          32.7175,
          33.027333334000005,
          27.592000000000002,
          25.302,
          14.531,
          27.276333333999997,
          21.588,
          31.160684881999998,
          39.9905005518,
          7.0676970145,
          9.391958417400001,
          30.173807505999996,
          18.95,
          null,
          null,
          5.975
         ],
         "yaxis": "y"
        },
        {
         "hovertemplate": "<br>%{y:.2f}",
         "legendgroup": "Pineland",
         "line": {
          "color": "#FF6F61",
          "dash": "solid"
         },
         "marker": {
          "symbol": "circle"
         },
         "mode": "lines",
         "name": "Pineland",
         "orientation": "v",
         "showlegend": true,
         "type": "scatter",
         "x": [
          2000,
          2001,
          2002,
          2003,
          2004,
          2005,
          2006,
          2007,
          2008,
          2009,
          2010,
          2011,
          2012,
          2013,
          2014,
          2015,
          2016,
          2017,
          2018,
          2019,
          2020,
          2021,
          2022,
          2023
         ],
         "xaxis": "x",
         "y": [
          24.064444445000003,
          30.01714285857143,
          62.706111115,
          57.904375008749994,
          33.545,
          38.364629629999996,
          19.73071428571429,
          61.77285714285714,
          69.938,
          62.301,
          76.206,
          79.58888888833333,
          102.035,
          89.601000006,
          25.984999999999996,
          29.166643238,
          39.531853690000005,
          9.258111363800001,
          18.90738568,
          51.519889056,
          46.722,
          45.30833333333334,
          105.40000000000002,
          9.6425
         ],
         "yaxis": "y"
        },
        {
         "hovertemplate": "<br>%{y:.2f}",
         "legendgroup": "Rubicon Pt.",
         "line": {
          "color": "#cab2d6",
          "dash": "solid"
         },
         "marker": {
          "symbol": "circle"
         },
         "mode": "lines",
         "name": "Rubicon Pt.",
         "orientation": "v",
         "showlegend": true,
         "type": "scatter",
         "x": [
          2000,
          2001,
          2002,
          2003,
          2004,
          2005,
          2006,
          2007,
          2008,
          2009,
          2010,
          2011,
          2012,
          2013,
          2014,
          2015,
          2016,
          2017,
          2018,
          2019,
          2020,
          2021,
          2022,
          2023
         ],
         "xaxis": "x",
         "y": [
          15.412777778333334,
          14.719047619,
          17.455555555500002,
          26.078958332875,
          52.2,
          22.462777777777777,
          7.584166666666667,
          38.34166666666666,
          65.317,
          45.855,
          63.5829166675,
          41.22125,
          53.28533334,
          23.512333333999997,
          15.324000000000002,
          30.153310262,
          47.954791369999995,
          2.9447377225,
          21.228154645399997,
          63.92135891775,
          26.910000000000004,
          35.093333333333334,
          46.57333333333333,
          8.379999999999999
         ],
         "yaxis": "y"
        },
        {
         "hovertemplate": "<br>%{y:.2f}",
         "legendgroup": "Sugar Pine Pt.",
         "line": {
          "color": "#4169E1",
          "dash": "solid"
         },
         "marker": {
          "symbol": "circle"
         },
         "mode": "lines",
         "name": "Sugar Pine Pt.",
         "orientation": "v",
         "showlegend": true,
         "type": "scatter",
         "x": [
          2000,
          2001,
          2002,
          2003,
          2004,
          2005,
          2006,
          2007,
          2008,
          2009,
          2010,
          2011,
          2012,
          2013,
          2014,
          2015,
          2016,
          2017,
          2018,
          2019,
          2020,
          2021,
          2022,
          2023
         ],
         "xaxis": "x",
         "y": [
          22.151666665000004,
          12.2241666655,
          2.891111111166667,
          8.370000000428572,
          17.735,
          11.517857142857142,
          6.411,
          13.157142857142857,
          20.429000000000002,
          28.204,
          33.7775,
          7.993333333333333,
          3.044,
          8.615,
          9.311,
          16.8406320488,
          37.585718424999996,
          3.7808340586666667,
          7.6508973104999995,
          10.353921330333334,
          11.645999999999999,
          null,
          null,
          3.985
         ],
         "yaxis": "y"
        },
        {
         "hovertemplate": "<br>%{y:.2f}",
         "legendgroup": "Tahoe City",
         "line": {
          "color": "#DAA520",
          "dash": "solid"
         },
         "marker": {
          "symbol": "circle"
         },
         "mode": "lines",
         "name": "Tahoe City",
         "orientation": "v",
         "showlegend": true,
         "type": "scatter",
         "x": [
          2000,
          2001,
          2002,
          2003,
          2004,
          2005,
          2006,
          2007,
          2008,
          2009,
          2010,
          2011,
          2012,
          2013,
          2014,
          2015,
          2016,
          2017,
          2018,
          2019,
          2020,
          2021,
          2022,
          2023
         ],
         "xaxis": "x",
         "y": [
          56.65833333333334,
          44.986666671428566,
          103.488888895,
          79.677500005,
          8.41,
          34.625625,
          41.902857142857144,
          64.81714285714285,
          71.991666666,
          36.068,
          66.411,
          32.6975,
          61.694,
          61.289333334000005,
          27.498666666,
          24.177515152,
          25.359159225800003,
          12.76505771575,
          50.099580244,
          51.84055457666667,
          25.285,
          null,
          null,
          6.2575
         ],
         "yaxis": "y"
        },
        {
         "hovertemplate": "<br>%{y:.2f}",
         "legendgroup": "Zephyr Pt.",
         "line": {
          "color": "#708090",
          "dash": "solid"
         },
         "marker": {
          "symbol": "circle"
         },
         "mode": "lines",
         "name": "Zephyr Pt.",
         "orientation": "v",
         "showlegend": true,
         "type": "scatter",
         "x": [
          2000,
          2001,
          2002,
          2003,
          2004,
          2005,
          2006,
          2007,
          2008,
          2009,
          2010,
          2011,
          2012,
          2013,
          2014,
          2015,
          2016,
          2017,
          2018,
          2019,
          2020,
          2021,
          2022,
          2023
         ],
         "xaxis": "x",
         "y": [
          13.831666667166667,
          9.132142857571429,
          18.294444443333333,
          15.251041667125,
          10.86,
          21.331666666666667,
          9.702857142857143,
          13.993333333333334,
          42.485,
          14.041250000000002,
          21.107999999999997,
          17.804666666,
          9.795833333333334,
          13.6,
          10.110333334,
          13.118471375999999,
          15.641004837399999,
          4.752225862666666,
          8.1804525682,
          18.370632236,
          17.580000000000002,
          null,
          null,
          5.8725
         ],
         "yaxis": "y"
        }
       ],
       "layout": {
        "font": {
         "family": "Calibri"
        },
        "hovermode": "x unified",
        "legend": {
         "title": {
          "text": "site"
         },
         "tracegroupgap": 0
        },
        "margin": {
         "t": 60
        },
        "showlegend": true,
        "template": {
         "data": {
          "bar": [
           {
            "error_x": {
             "color": "#2a3f5f"
            },
            "error_y": {
             "color": "#2a3f5f"
            },
            "marker": {
             "line": {
              "color": "white",
              "width": 0.5
             },
             "pattern": {
              "fillmode": "overlay",
              "size": 10,
              "solidity": 0.2
             }
            },
            "type": "bar"
           }
          ],
          "barpolar": [
           {
            "marker": {
             "line": {
              "color": "white",
              "width": 0.5
             },
             "pattern": {
              "fillmode": "overlay",
              "size": 10,
              "solidity": 0.2
             }
            },
            "type": "barpolar"
           }
          ],
          "carpet": [
           {
            "aaxis": {
             "endlinecolor": "#2a3f5f",
             "gridcolor": "#C8D4E3",
             "linecolor": "#C8D4E3",
             "minorgridcolor": "#C8D4E3",
             "startlinecolor": "#2a3f5f"
            },
            "baxis": {
             "endlinecolor": "#2a3f5f",
             "gridcolor": "#C8D4E3",
             "linecolor": "#C8D4E3",
             "minorgridcolor": "#C8D4E3",
             "startlinecolor": "#2a3f5f"
            },
            "type": "carpet"
           }
          ],
          "choropleth": [
           {
            "colorbar": {
             "outlinewidth": 0,
             "ticks": ""
            },
            "type": "choropleth"
           }
          ],
          "contour": [
           {
            "colorbar": {
             "outlinewidth": 0,
             "ticks": ""
            },
            "colorscale": [
             [
              0,
              "#0d0887"
             ],
             [
              0.1111111111111111,
              "#46039f"
             ],
             [
              0.2222222222222222,
              "#7201a8"
             ],
             [
              0.3333333333333333,
              "#9c179e"
             ],
             [
              0.4444444444444444,
              "#bd3786"
             ],
             [
              0.5555555555555556,
              "#d8576b"
             ],
             [
              0.6666666666666666,
              "#ed7953"
             ],
             [
              0.7777777777777778,
              "#fb9f3a"
             ],
             [
              0.8888888888888888,
              "#fdca26"
             ],
             [
              1,
              "#f0f921"
             ]
            ],
            "type": "contour"
           }
          ],
          "contourcarpet": [
           {
            "colorbar": {
             "outlinewidth": 0,
             "ticks": ""
            },
            "type": "contourcarpet"
           }
          ],
          "heatmap": [
           {
            "colorbar": {
             "outlinewidth": 0,
             "ticks": ""
            },
            "colorscale": [
             [
              0,
              "#0d0887"
             ],
             [
              0.1111111111111111,
              "#46039f"
             ],
             [
              0.2222222222222222,
              "#7201a8"
             ],
             [
              0.3333333333333333,
              "#9c179e"
             ],
             [
              0.4444444444444444,
              "#bd3786"
             ],
             [
              0.5555555555555556,
              "#d8576b"
             ],
             [
              0.6666666666666666,
              "#ed7953"
             ],
             [
              0.7777777777777778,
              "#fb9f3a"
             ],
             [
              0.8888888888888888,
              "#fdca26"
             ],
             [
              1,
              "#f0f921"
             ]
            ],
            "type": "heatmap"
           }
          ],
          "heatmapgl": [
           {
            "colorbar": {
             "outlinewidth": 0,
             "ticks": ""
            },
            "colorscale": [
             [
              0,
              "#0d0887"
             ],
             [
              0.1111111111111111,
              "#46039f"
             ],
             [
              0.2222222222222222,
              "#7201a8"
             ],
             [
              0.3333333333333333,
              "#9c179e"
             ],
             [
              0.4444444444444444,
              "#bd3786"
             ],
             [
              0.5555555555555556,
              "#d8576b"
             ],
             [
              0.6666666666666666,
              "#ed7953"
             ],
             [
              0.7777777777777778,
              "#fb9f3a"
             ],
             [
              0.8888888888888888,
              "#fdca26"
             ],
             [
              1,
              "#f0f921"
             ]
            ],
            "type": "heatmapgl"
           }
          ],
          "histogram": [
           {
            "marker": {
             "pattern": {
              "fillmode": "overlay",
              "size": 10,
              "solidity": 0.2
             }
            },
            "type": "histogram"
           }
          ],
          "histogram2d": [
           {
            "colorbar": {
             "outlinewidth": 0,
             "ticks": ""
            },
            "colorscale": [
             [
              0,
              "#0d0887"
             ],
             [
              0.1111111111111111,
              "#46039f"
             ],
             [
              0.2222222222222222,
              "#7201a8"
             ],
             [
              0.3333333333333333,
              "#9c179e"
             ],
             [
              0.4444444444444444,
              "#bd3786"
             ],
             [
              0.5555555555555556,
              "#d8576b"
             ],
             [
              0.6666666666666666,
              "#ed7953"
             ],
             [
              0.7777777777777778,
              "#fb9f3a"
             ],
             [
              0.8888888888888888,
              "#fdca26"
             ],
             [
              1,
              "#f0f921"
             ]
            ],
            "type": "histogram2d"
           }
          ],
          "histogram2dcontour": [
           {
            "colorbar": {
             "outlinewidth": 0,
             "ticks": ""
            },
            "colorscale": [
             [
              0,
              "#0d0887"
             ],
             [
              0.1111111111111111,
              "#46039f"
             ],
             [
              0.2222222222222222,
              "#7201a8"
             ],
             [
              0.3333333333333333,
              "#9c179e"
             ],
             [
              0.4444444444444444,
              "#bd3786"
             ],
             [
              0.5555555555555556,
              "#d8576b"
             ],
             [
              0.6666666666666666,
              "#ed7953"
             ],
             [
              0.7777777777777778,
              "#fb9f3a"
             ],
             [
              0.8888888888888888,
              "#fdca26"
             ],
             [
              1,
              "#f0f921"
             ]
            ],
            "type": "histogram2dcontour"
           }
          ],
          "mesh3d": [
           {
            "colorbar": {
             "outlinewidth": 0,
             "ticks": ""
            },
            "type": "mesh3d"
           }
          ],
          "parcoords": [
           {
            "line": {
             "colorbar": {
              "outlinewidth": 0,
              "ticks": ""
             }
            },
            "type": "parcoords"
           }
          ],
          "pie": [
           {
            "automargin": true,
            "type": "pie"
           }
          ],
          "scatter": [
           {
            "fillpattern": {
             "fillmode": "overlay",
             "size": 10,
             "solidity": 0.2
            },
            "type": "scatter"
           }
          ],
          "scatter3d": [
           {
            "line": {
             "colorbar": {
              "outlinewidth": 0,
              "ticks": ""
             }
            },
            "marker": {
             "colorbar": {
              "outlinewidth": 0,
              "ticks": ""
             }
            },
            "type": "scatter3d"
           }
          ],
          "scattercarpet": [
           {
            "marker": {
             "colorbar": {
              "outlinewidth": 0,
              "ticks": ""
             }
            },
            "type": "scattercarpet"
           }
          ],
          "scattergeo": [
           {
            "marker": {
             "colorbar": {
              "outlinewidth": 0,
              "ticks": ""
             }
            },
            "type": "scattergeo"
           }
          ],
          "scattergl": [
           {
            "marker": {
             "colorbar": {
              "outlinewidth": 0,
              "ticks": ""
             }
            },
            "type": "scattergl"
           }
          ],
          "scattermapbox": [
           {
            "marker": {
             "colorbar": {
              "outlinewidth": 0,
              "ticks": ""
             }
            },
            "type": "scattermapbox"
           }
          ],
          "scatterpolar": [
           {
            "marker": {
             "colorbar": {
              "outlinewidth": 0,
              "ticks": ""
             }
            },
            "type": "scatterpolar"
           }
          ],
          "scatterpolargl": [
           {
            "marker": {
             "colorbar": {
              "outlinewidth": 0,
              "ticks": ""
             }
            },
            "type": "scatterpolargl"
           }
          ],
          "scatterternary": [
           {
            "marker": {
             "colorbar": {
              "outlinewidth": 0,
              "ticks": ""
             }
            },
            "type": "scatterternary"
           }
          ],
          "surface": [
           {
            "colorbar": {
             "outlinewidth": 0,
             "ticks": ""
            },
            "colorscale": [
             [
              0,
              "#0d0887"
             ],
             [
              0.1111111111111111,
              "#46039f"
             ],
             [
              0.2222222222222222,
              "#7201a8"
             ],
             [
              0.3333333333333333,
              "#9c179e"
             ],
             [
              0.4444444444444444,
              "#bd3786"
             ],
             [
              0.5555555555555556,
              "#d8576b"
             ],
             [
              0.6666666666666666,
              "#ed7953"
             ],
             [
              0.7777777777777778,
              "#fb9f3a"
             ],
             [
              0.8888888888888888,
              "#fdca26"
             ],
             [
              1,
              "#f0f921"
             ]
            ],
            "type": "surface"
           }
          ],
          "table": [
           {
            "cells": {
             "fill": {
              "color": "#EBF0F8"
             },
             "line": {
              "color": "white"
             }
            },
            "header": {
             "fill": {
              "color": "#C8D4E3"
             },
             "line": {
              "color": "white"
             }
            },
            "type": "table"
           }
          ]
         },
         "layout": {
          "annotationdefaults": {
           "arrowcolor": "#2a3f5f",
           "arrowhead": 0,
           "arrowwidth": 1
          },
          "autotypenumbers": "strict",
          "coloraxis": {
           "colorbar": {
            "outlinewidth": 0,
            "ticks": ""
           }
          },
          "colorscale": {
           "diverging": [
            [
             0,
             "#8e0152"
            ],
            [
             0.1,
             "#c51b7d"
            ],
            [
             0.2,
             "#de77ae"
            ],
            [
             0.3,
             "#f1b6da"
            ],
            [
             0.4,
             "#fde0ef"
            ],
            [
             0.5,
             "#f7f7f7"
            ],
            [
             0.6,
             "#e6f5d0"
            ],
            [
             0.7,
             "#b8e186"
            ],
            [
             0.8,
             "#7fbc41"
            ],
            [
             0.9,
             "#4d9221"
            ],
            [
             1,
             "#276419"
            ]
           ],
           "sequential": [
            [
             0,
             "#0d0887"
            ],
            [
             0.1111111111111111,
             "#46039f"
            ],
            [
             0.2222222222222222,
             "#7201a8"
            ],
            [
             0.3333333333333333,
             "#9c179e"
            ],
            [
             0.4444444444444444,
             "#bd3786"
            ],
            [
             0.5555555555555556,
             "#d8576b"
            ],
            [
             0.6666666666666666,
             "#ed7953"
            ],
            [
             0.7777777777777778,
             "#fb9f3a"
            ],
            [
             0.8888888888888888,
             "#fdca26"
            ],
            [
             1,
             "#f0f921"
            ]
           ],
           "sequentialminus": [
            [
             0,
             "#0d0887"
            ],
            [
             0.1111111111111111,
             "#46039f"
            ],
            [
             0.2222222222222222,
             "#7201a8"
            ],
            [
             0.3333333333333333,
             "#9c179e"
            ],
            [
             0.4444444444444444,
             "#bd3786"
            ],
            [
             0.5555555555555556,
             "#d8576b"
            ],
            [
             0.6666666666666666,
             "#ed7953"
            ],
            [
             0.7777777777777778,
             "#fb9f3a"
            ],
            [
             0.8888888888888888,
             "#fdca26"
            ],
            [
             1,
             "#f0f921"
            ]
           ]
          },
          "colorway": [
           "#636efa",
           "#EF553B",
           "#00cc96",
           "#ab63fa",
           "#FFA15A",
           "#19d3f3",
           "#FF6692",
           "#B6E880",
           "#FF97FF",
           "#FECB52"
          ],
          "font": {
           "color": "#2a3f5f"
          },
          "geo": {
           "bgcolor": "white",
           "lakecolor": "white",
           "landcolor": "white",
           "showlakes": true,
           "showland": true,
           "subunitcolor": "#C8D4E3"
          },
          "hoverlabel": {
           "align": "left"
          },
          "hovermode": "closest",
          "mapbox": {
           "style": "light"
          },
          "paper_bgcolor": "white",
          "plot_bgcolor": "white",
          "polar": {
           "angularaxis": {
            "gridcolor": "#EBF0F8",
            "linecolor": "#EBF0F8",
            "ticks": ""
           },
           "bgcolor": "white",
           "radialaxis": {
            "gridcolor": "#EBF0F8",
            "linecolor": "#EBF0F8",
            "ticks": ""
           }
          },
          "scene": {
           "xaxis": {
            "backgroundcolor": "white",
            "gridcolor": "#DFE8F3",
            "gridwidth": 2,
            "linecolor": "#EBF0F8",
            "showbackground": true,
            "ticks": "",
            "zerolinecolor": "#EBF0F8"
           },
           "yaxis": {
            "backgroundcolor": "white",
            "gridcolor": "#DFE8F3",
            "gridwidth": 2,
            "linecolor": "#EBF0F8",
            "showbackground": true,
            "ticks": "",
            "zerolinecolor": "#EBF0F8"
           },
           "zaxis": {
            "backgroundcolor": "white",
            "gridcolor": "#DFE8F3",
            "gridwidth": 2,
            "linecolor": "#EBF0F8",
            "showbackground": true,
            "ticks": "",
            "zerolinecolor": "#EBF0F8"
           }
          },
          "shapedefaults": {
           "line": {
            "color": "#2a3f5f"
           }
          },
          "ternary": {
           "aaxis": {
            "gridcolor": "#DFE8F3",
            "linecolor": "#A2B1C6",
            "ticks": ""
           },
           "baxis": {
            "gridcolor": "#DFE8F3",
            "linecolor": "#A2B1C6",
            "ticks": ""
           },
           "bgcolor": "white",
           "caxis": {
            "gridcolor": "#DFE8F3",
            "linecolor": "#A2B1C6",
            "ticks": ""
           }
          },
          "title": {
           "x": 0.05
          },
          "xaxis": {
           "automargin": true,
           "gridcolor": "#EBF0F8",
           "linecolor": "#EBF0F8",
           "ticks": "",
           "title": {
            "standoff": 15
           },
           "zerolinecolor": "#EBF0F8",
           "zerolinewidth": 2
          },
          "yaxis": {
           "automargin": true,
           "gridcolor": "#EBF0F8",
           "linecolor": "#EBF0F8",
           "ticks": "",
           "title": {
            "standoff": 15
           },
           "zerolinecolor": "#EBF0F8",
           "zerolinewidth": 2
          }
         }
        },
        "title": {
         "text": "Nearshore Attached Algae - Average Chlorophyll"
        },
        "xaxis": {
         "anchor": "y",
         "domain": [
          0,
          1
         ],
         "dtick": 5,
         "tick0": 1985,
         "tickmode": "linear",
         "title": {
          "text": "Year"
         }
        },
        "yaxis": {
         "anchor": "x",
         "domain": [
          0,
          1
         ],
         "dtick": 5,
         "range": [
          0,
          110
         ],
         "tick0": 0,
         "tickmode": "linear",
         "title": {
          "text": "Average Chl"
         }
        }
       }
      }
     },
     "metadata": {},
     "output_type": "display_data"
    }
   ],
   "source": [
    "\n",
    "\n",
    "color_discrete_map = {'Incline West': '#008080',\n",
    "                      'Pineland': '#FF6F61', \n",
    "                      'Rubicon Pt.': '#cab2d6',\n",
    "                      'Sugar Pine Pt.': '#4169E1',\n",
    "                      'Tahoe City': '#DAA520',\n",
    "                      'Zephyr Pt.': '#708090'                                \n",
    "                        }\n",
    "\n",
    "df = grouped_df\n",
    "\n",
    "\n",
    "# setup plot\n",
    "fig = px.line(df, x = 'Year', y= 'Chl', color='site',\n",
    "                 color_discrete_map = color_discrete_map)\n",
    "\n",
    "fig.update_traces(hovertemplate='<br>%{y:.2f}')\n",
    "\n",
    "\n",
    "# set layout\n",
    "fig.update_layout(title=\"Nearshore Attached Algae - Average Chlorophyll\",\n",
    "                    font_family=font,\n",
    "                    template=template,\n",
    "                    showlegend=True,\n",
    "                    hovermode=\"x unified\",\n",
    "                    xaxis = dict(\n",
    "                        tickmode = 'linear',\n",
    "                        tick0 = 1985,\n",
    "                        dtick = 5\n",
    "                    ),\n",
    "                    yaxis = dict(\n",
    "                        tickmode = 'linear',\n",
    "                        tick0 = 0,\n",
    "                        dtick = 5,\n",
    "                        range=[0, 110],\n",
    "                        title_text='Average Chl'\n",
    "                    )\n",
    "                  \n",
    "                 )\n",
    "\n",
    "# show figure\n",
    "fig.show()\n",
    "# save to HTML\n",
    "fig.write_html(os.path.join(draftworkspace, \"WaterQuality_NearshoreChl.html\"))"
   ]
  }
 ],
 "metadata": {
  "kernelspec": {
   "display_name": "Python 3",
   "language": "python",
   "name": "python3"
  },
  "language_info": {
   "codemirror_mode": {
    "name": "ipython",
    "version": 3
   },
   "file_extension": ".py",
   "mimetype": "text/x-python",
   "name": "python",
   "nbconvert_exporter": "python",
   "pygments_lexer": "ipython3",
   "version": "3.9.18"
  }
 },
 "nbformat": 4,
 "nbformat_minor": 2
}
