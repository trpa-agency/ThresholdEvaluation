{
 "cells": [
  {
   "cell_type": "markdown",
   "metadata": {},
   "source": [
    "## Setup"
   ]
  },
  {
   "cell_type": "code",
   "execution_count": 1,
   "metadata": {},
   "outputs": [],
   "source": [
    "%load_ext autoreload\n",
    "%autoreload 2"
   ]
  },
  {
   "cell_type": "code",
   "execution_count": 12,
   "metadata": {},
   "outputs": [],
   "source": [
    "# get modules\n",
    "from air_quality import *\n",
    "from fisheries import *\n",
    "from noise import *\n",
    "from recreation import *\n",
    "from scenic_resources import *\n",
    "from soil_conservation import *\n",
    "from transportation_sustainablecommunities import *\n",
    "from vegetation_preservation import *\n",
    "from water_quality import *\n",
    "from wildlife import *"
   ]
  },
  {
   "cell_type": "markdown",
   "metadata": {},
   "source": [
    "## Water Quality"
   ]
  },
  {
   "cell_type": "code",
   "execution_count": 10,
   "metadata": {},
   "outputs": [],
   "source": [
    "# secchi depth data and chart\n",
    "df = get_secchi_data_sql()\n",
    "# df = get_secchi_data_web()\n",
    "plot_secchi_depth(df, draft=False)"
   ]
  },
  {
   "cell_type": "markdown",
   "metadata": {},
   "source": [
    "## Wildlife"
   ]
  },
  {
   "cell_type": "code",
   "execution_count": 18,
   "metadata": {},
   "outputs": [
    {
     "name": "stdout",
     "output_type": "stream",
     "text": [
      "Beta = 0.8471794871794645\n"
     ]
    }
   ],
   "source": [
    "# bald eagle winter roost data and chart\n",
    "df = get_wildlife_data_web()\n",
    "plot_bald_eagle(df, draft=False)"
   ]
  }
 ],
 "metadata": {
  "kernelspec": {
   "display_name": "Python 3",
   "language": "python",
   "name": "python3"
  },
  "language_info": {
   "codemirror_mode": {
    "name": "ipython",
    "version": 3
   },
   "file_extension": ".py",
   "mimetype": "text/x-python",
   "name": "python",
   "nbconvert_exporter": "python",
   "pygments_lexer": "ipython3",
   "version": "3.11.8"
  }
 },
 "nbformat": 4,
 "nbformat_minor": 2
}
