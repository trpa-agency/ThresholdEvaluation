{
 "cells": [
  {
   "cell_type": "markdown",
   "metadata": {},
   "source": [
    "## Setup"
   ]
  },
  {
   "cell_type": "code",
   "execution_count": null,
   "metadata": {},
   "outputs": [],
   "source": [
    "%load_ext autoreload\n",
    "%autoreload 2"
   ]
  },
  {
   "cell_type": "code",
   "execution_count": 15,
   "metadata": {},
   "outputs": [],
   "source": [
    "# get modules\n",
    "from air_quality import *\n",
    "from fisheries import *\n",
    "from noise import *\n",
    "from recreation import *\n",
    "from scenic_resources import *\n",
    "from soil_conservation import *\n",
    "from transportation_sustainablecommunities import *\n",
    "from vegetation_preservation import *\n",
    "from water_quality import *\n",
    "from wildlife import *\n",
    "localpath = pathlib.Path.cwd()"
   ]
  },
  {
   "cell_type": "markdown",
   "metadata": {},
   "source": [
    "## Air Quality"
   ]
  },
  {
   "cell_type": "code",
   "execution_count": null,
   "metadata": {},
   "outputs": [],
   "source": [
    "# get PM 2.5\n",
    "df = get_airquality_data_sql()\n",
    "# plot PM 2.5\n",
    "plot_pm2_5_annual(df, draft=False)"
   ]
  },
  {
   "cell_type": "code",
   "execution_count": null,
   "metadata": {},
   "outputs": [],
   "source": [
    "# get PM 2.5\n",
    "df = get_airquality_data_sql()\n",
    "# plot PM 2.5\n",
    "plot_pm2_5_24hour(df, draft=False)"
   ]
  },
  {
   "cell_type": "code",
   "execution_count": null,
   "metadata": {},
   "outputs": [],
   "source": [
    "# get PM 10\n",
    "df = get_airquality_data_sql()\n",
    "#Get PM 10 24 hour high\n",
    "plot_pm10_24hr(df, draft= False)"
   ]
  },
  {
   "cell_type": "code",
   "execution_count": null,
   "metadata": {},
   "outputs": [],
   "source": [
    "# get PM 10\n",
    "df = get_airquality_data_sql()\n",
    "#Plot PM 10 Average Annual Concentrations\n",
    "plot_pm10_annual(df, draft= False)"
   ]
  },
  {
   "cell_type": "code",
   "execution_count": null,
   "metadata": {},
   "outputs": [],
   "source": [
    "# get 03\n",
    "df = get_airquality_data_sql()\n",
    "#Plot 03 1 hour high\n",
    "plot_o3_1hour_high(df, draft= False)"
   ]
  },
  {
   "cell_type": "code",
   "execution_count": null,
   "metadata": {},
   "outputs": [],
   "source": [
    "# get CO\n",
    "df = get_airquality_data_sql()\n",
    "#Plot CO 1 hour high\n",
    "plot_co_8hour_avg(df, draft= True)"
   ]
  },
  {
   "cell_type": "code",
   "execution_count": null,
   "metadata": {},
   "outputs": [],
   "source": [
    "#Get 50th regionalVisibility Bliss \n",
    "df = get_airquality_data_sql()\n",
    "#Plot Visibility at Bliss\n",
    "plot_50_Bliss_vis(df, draft= False)"
   ]
  },
  {
   "cell_type": "code",
   "execution_count": null,
   "metadata": {},
   "outputs": [],
   "source": [
    "#Get 90th regionalVisibility Bliss \n",
    "df = get_airquality_data_sql()\n",
    "#Plot 90th percentile Visibility at Bliss\n",
    "plot_90_Bliss_vis(df, draft= False)"
   ]
  },
  {
   "cell_type": "code",
   "execution_count": null,
   "metadata": {},
   "outputs": [],
   "source": [
    "#Get 50th Visibility subregional slt\n",
    "df = get_airquality_data_sql()\n",
    "#Plot 50th Visibility subregional slt\n",
    "plot_50_SLT_vis(df, draft= False)"
   ]
  },
  {
   "cell_type": "code",
   "execution_count": null,
   "metadata": {},
   "outputs": [],
   "source": [
    "#Get 90th Visibility subregional slt\n",
    "df = get_airquality_data_sql()\n",
    "#Plot 90th Visibility subregional slt\n",
    "plot_90_SLT_vis(df, draft= False)"
   ]
  },
  {
   "cell_type": "code",
   "execution_count": null,
   "metadata": {},
   "outputs": [],
   "source": [
    "#Get NOx data\n",
    "df = get_NOX_data_sql()\n",
    "#Plot NOX\n",
    "plot_NOx(df, draft= False)"
   ]
  },
  {
   "cell_type": "code",
   "execution_count": null,
   "metadata": {},
   "outputs": [],
   "source": [
    "#Get winter traffic data\n",
    "df = get_wintertraffic_data_sql()\n",
    "plot_winter_traffic(df, draft= False)"
   ]
  },
  {
   "cell_type": "code",
   "execution_count": null,
   "metadata": {},
   "outputs": [],
   "source": [
    "# mid lake dissolved nitrogen data and chart\n",
    "df = get_midlake_dissolved_nitrogen_data()\n",
    "plot_midlake_dissolved_nitrogen(df, draft=False)"
   ]
  },
  {
   "cell_type": "markdown",
   "metadata": {},
   "source": [
    "## Fisheries"
   ]
  },
  {
   "cell_type": "code",
   "execution_count": 9,
   "metadata": {},
   "outputs": [],
   "source": [
    "df = get_fishhab()\n",
    "plot_fishhab(df, draft=False)"
   ]
  },
  {
   "cell_type": "markdown",
   "metadata": {},
   "source": [
    "## Noise"
   ]
  },
  {
   "cell_type": "code",
   "execution_count": null,
   "metadata": {},
   "outputs": [],
   "source": [
    "# plot commercial noise\n",
    "# get data\n",
    "df = get_plannoise_data_sql()\n",
    "# plot data\n",
    "plot_commercial(df, draft=False)"
   ]
  },
  {
   "cell_type": "code",
   "execution_count": null,
   "metadata": {},
   "outputs": [],
   "source": [
    "# plot hotel/motel noise data\n",
    "# get data\n",
    "df = get_plannoise_data_sql()\n",
    "# plot data\n",
    "plot_hotelmotel(df, draft=True)"
   ]
  },
  {
   "cell_type": "code",
   "execution_count": null,
   "metadata": {},
   "outputs": [],
   "source": [
    "# high density residential noise data\n",
    "# get data\n",
    "df = get_plannoise_data_sql()\n",
    "# plot data\n",
    "plot_highdensityresidential(df, draft=False)"
   ]
  },
  {
   "cell_type": "code",
   "execution_count": 21,
   "metadata": {},
   "outputs": [],
   "source": [
    "# plot industrial noise data\n",
    "# get data\n",
    "df = get_plannoise_data_sql()\n",
    "# plot data\n",
    "plot_industrial(df, draft=False)"
   ]
  },
  {
   "cell_type": "code",
   "execution_count": null,
   "metadata": {},
   "outputs": [],
   "source": [
    "# plot low density residential noise data\n",
    "# get data\n",
    "df = get_plannoise_data_sql()\n",
    "# plot data\n",
    "plot_lowdensity(df, draft=False)"
   ]
  },
  {
   "cell_type": "code",
   "execution_count": null,
   "metadata": {},
   "outputs": [],
   "source": [
    "# plot rural noise data\n",
    "# get data\n",
    "df = get_plannoise_data_sql()\n",
    "# plot data\n",
    "plot_rural(df, draft=False)"
   ]
  },
  {
   "cell_type": "code",
   "execution_count": null,
   "metadata": {},
   "outputs": [],
   "source": [
    "# plot urban outdoor recreation noise\n",
    "# get data\n",
    "df = get_plannoise_data_sql()\n",
    "# plot data\n",
    "plot_rec(df, draft=False)"
   ]
  },
  {
   "cell_type": "code",
   "execution_count": null,
   "metadata": {},
   "outputs": [],
   "source": [
    "# plot wilderness and roadless area noise\n",
    "# get data\n",
    "df = get_plannoise_data_sql()\n",
    "# plot data\n",
    "plot_wilderness(df, draft=False)"
   ]
  },
  {
   "cell_type": "code",
   "execution_count": null,
   "metadata": {},
   "outputs": [],
   "source": [
    "# plot watercraft shore noise\n",
    "# get data\n",
    "df = get_shorenoise_data_sql()\n",
    "# plot data\n",
    "plot_watercraft(df, draft=False)"
   ]
  },
  {
   "cell_type": "markdown",
   "metadata": {},
   "source": [
    "## Soil Conservation"
   ]
  },
  {
   "cell_type": "code",
   "execution_count": 5,
   "metadata": {},
   "outputs": [],
   "source": [
    "dfImpChg, dfImp2019 = get_soil_conservation_data_sql()\n",
    "dfImpOld = transform_soil_conservation_data(dfImpChg, dfImp2019)\n",
    "dfImpNew = transform_new_coverage_data()\n",
    "df = add_new_coverage(dfImpOld, dfImpNew)"
   ]
  },
  {
   "cell_type": "code",
   "execution_count": null,
   "metadata": {},
   "outputs": [],
   "source": [
    "# plot 1A - soil conservation\n",
    "plot_soil_conservation(df, landcap = '1A', draft=False)\n",
    "plot_soil_conservation(df, landcap = '1B', draft=False)\n",
    "plot_soil_conservation(df, landcap = '1C', draft=False)\n",
    "plot_soil_conservation(df, landcap = '2', draft=False)\n",
    "plot_soil_conservation(df, landcap = '3', draft=False)\n",
    "plot_soil_conservation(df, landcap = '4', draft=False)\n",
    "plot_soil_conservation(df, landcap = '5', draft=False)\n",
    "plot_soil_conservation(df, landcap = '6', draft=False)\n",
    "plot_soil_conservation(df, landcap = '7', draft=False)"
   ]
  },
  {
   "cell_type": "code",
   "execution_count": 3,
   "metadata": {},
   "outputs": [],
   "source": [
    "# Get SEZ Data\n",
    "df = get_SEZ_data_web()\n",
    "# Make SEZ/Wetland Restoration Chart\n",
    "plot_SEZ_scores(df,draft=False) "
   ]
  },
  {
   "cell_type": "markdown",
   "metadata": {},
   "source": [
    "## Vegetation"
   ]
  },
  {
   "cell_type": "code",
   "execution_count": null,
   "metadata": {},
   "outputs": [],
   "source": [
    "# Vegetation Preservation Abundance\n",
    "# get veg data\n",
    "df =get_ecobject_caldor_identity_data()\n",
    "# plot veg data\n",
    "plot_veg_abundance(df, draft=True)"
   ]
  },
  {
   "cell_type": "code",
   "execution_count": null,
   "metadata": {},
   "outputs": [],
   "source": [
    "# Vegetation Seral Stage\n",
    "# get veg data\n",
    "df =get_ecobject_caldor_identity_data()\n",
    "# plot veg data\n",
    "plot_seral_stage(df, draft=True)"
   ]
  },
  {
   "cell_type": "code",
   "execution_count": 12,
   "metadata": {},
   "outputs": [],
   "source": [
    "# Vegetatoin Composition\n",
    "# get veg data\n",
    "df =get_ecobject_caldor_identity_data()\n",
    "# plot veg data\n",
    "plot_veg_composition(df, draft=True)"
   ]
  },
  {
   "cell_type": "code",
   "execution_count": 9,
   "metadata": {},
   "outputs": [],
   "source": [
    "#Get Sensitive plant data\n",
    "#TDraba, CDraba, Lewisia = get_sensitiveplant_xlsx()\n",
    "df= get_TDraba_xslx()\n",
    "#plot_TDraba\n",
    "plot_TDraba(df, draft=True)"
   ]
  },
  {
   "cell_type": "code",
   "execution_count": 13,
   "metadata": {},
   "outputs": [],
   "source": [
    "#Get Cup Draba subpopulation data\n",
    "df= get_CDraba_xslx()\n",
    "#plot CDraba\n",
    "plot_CDraba(df, draft=True)"
   ]
  },
  {
   "cell_type": "code",
   "execution_count": 21,
   "metadata": {},
   "outputs": [],
   "source": [
    "#Get Long Petaled Lewisia data\n",
    "df= get_lewisia_xslx()\n",
    "#plot CDraba\n",
    "plot_lewisia(df, draft=True)"
   ]
  },
  {
   "cell_type": "code",
   "execution_count": 18,
   "metadata": {},
   "outputs": [],
   "source": [
    "# Relative Abundance of Red Fir Forest In Seral Stages Other Than Mature\n",
    "# get data\n",
    "df = get_ecobject_caldor_identity_data()\n",
    "# plot red fir forest chart\n",
    "plot_redfir(df, draft=False)"
   ]
  },
  {
   "cell_type": "code",
   "execution_count": 21,
   "metadata": {},
   "outputs": [],
   "source": [
    "# Relative Abundance of Yellow Pine Forest In Seral Stages Other Than Mature\n",
    "# get data\n",
    "df = get_ecobject_caldor_identity_data()\n",
    "# plot red fir forest chart\n",
    "plot_yellowpine(df, draft=False)"
   ]
  },
  {
   "cell_type": "code",
   "execution_count": null,
   "metadata": {},
   "outputs": [],
   "source": [
    "# Relative Abundance of Meadows And Wetland Vegetation Types\n",
    "# get data\n",
    "df = get_ecobject_caldor_identity_data()\n",
    "# plot\n",
    "plot_wetland(df, draft=False)"
   ]
  },
  {
   "cell_type": "code",
   "execution_count": null,
   "metadata": {},
   "outputs": [],
   "source": [
    "# Relative Abundance of Shrub Vegetation Type\n",
    "# get data\n",
    "df = get_ecobject_caldor_identity_data()\n",
    "# plot\n",
    "plot_shrub(df, draft=False)"
   ]
  },
  {
   "cell_type": "code",
   "execution_count": 10,
   "metadata": {},
   "outputs": [],
   "source": [
    "# Relative Abundance of Deciduous Riparian Vegetation\n",
    "# get data\n",
    "df = get_ecobject_caldor_identity_data()\n",
    "# plot\n",
    "plot_deciduous(df, draft=True)"
   ]
  },
  {
   "cell_type": "code",
   "execution_count": 28,
   "metadata": {},
   "outputs": [],
   "source": [
    "# Pattern: Stand Composition And Age\n",
    "# get data\n",
    "df = get_ecobject_caldor_identity_data()\n",
    "# plot red fir forest chart\n",
    "plot_veg_composition(df, draft=True)"
   ]
  },
  {
   "cell_type": "code",
   "execution_count": 25,
   "metadata": {},
   "outputs": [],
   "source": [
    "# Consistency with Bailey Land Capability System\n",
    "# get data\n",
    "dfImpChg, dfImp2019 = get_soil_conservation_data_sql()\n",
    "# plot land capability chart\n",
    "plot_landcapability(dfImpChg, draft=False)"
   ]
  },
  {
   "cell_type": "code",
   "execution_count": null,
   "metadata": {},
   "outputs": [],
   "source": [
    "# Appropriate Management Practices\n",
    "df = get_data_forest_fuel()\n",
    "plot_forest_fuel(df, draft=True)"
   ]
  },
  {
   "cell_type": "code",
   "execution_count": null,
   "metadata": {},
   "outputs": [],
   "source": [
    "# Total Old Growth\n",
    "df = get_old_growth()\n",
    "plot_old_growth(df, draft=False)"
   ]
  },
  {
   "cell_type": "code",
   "execution_count": null,
   "metadata": {},
   "outputs": [],
   "source": [
    "# Old Growth in Sub-Alpine Zone\n",
    "df = get_ecobject_caldor_identity_data()\n",
    "plot_seral_subalpine(df, draft=False)"
   ]
  },
  {
   "cell_type": "code",
   "execution_count": null,
   "metadata": {},
   "outputs": [],
   "source": [
    "# Old Growth in Upper Montane Zone\n",
    "df = get_ecobject_caldor_identity_data()\n",
    "plot_seral_upper_montane(df, draft=True)"
   ]
  },
  {
   "cell_type": "code",
   "execution_count": null,
   "metadata": {},
   "outputs": [],
   "source": [
    "# Old Growth in Montane Zone\n",
    "df = get_ecobject_caldor_identity_data()\n",
    "plot_seral_montane(df, draft=False)"
   ]
  },
  {
   "cell_type": "code",
   "execution_count": 14,
   "metadata": {},
   "outputs": [],
   "source": [
    "#Tahoe Yellow Cress Chart\n",
    "df = get_TYC_data_sql()\n",
    "plot_TYC(df, draft=False)"
   ]
  },
  {
   "cell_type": "code",
   "execution_count": null,
   "metadata": {},
   "outputs": [],
   "source": []
  },
  {
   "cell_type": "markdown",
   "metadata": {},
   "source": [
    "## Water Quality"
   ]
  },
  {
   "cell_type": "code",
   "execution_count": null,
   "metadata": {},
   "outputs": [],
   "source": [
    "# secchi depth data and chart\n",
    "df = get_secchi_data_sql()\n",
    "# df = get_secchi_data_web()\n",
    "plot_secchi_depth(df, draft=False)"
   ]
  },
  {
   "cell_type": "code",
   "execution_count": null,
   "metadata": {},
   "outputs": [],
   "source": [
    "# watercraft inspections\n",
    "df = get_watercraft_inspection_data_web()\n",
    "plot_watercraft_inspections(df, draft=False)"
   ]
  },
  {
   "cell_type": "code",
   "execution_count": null,
   "metadata": {},
   "outputs": [],
   "source": [
    "# get water quality data\n",
    "df = get_waterquality_data()\n",
    "# plot total nitrogetn\n",
    "plot_total_nitrogen(df, draft=False)\n",
    "plot_total_phosphorus(df, draft=False)\n",
    "plot_suspended_sediment(df, draft=False)"
   ]
  },
  {
   "cell_type": "code",
   "execution_count": null,
   "metadata": {},
   "outputs": [],
   "source": [
    "# get total load reduction data\n",
    "df = get_phosphorus_load_reduction()\n",
    "plot_phosphorus_load_reduction(df, draft=False)"
   ]
  },
  {
   "cell_type": "code",
   "execution_count": null,
   "metadata": {},
   "outputs": [],
   "source": [
    "# get total load reduction data\n",
    "df = get_nitrogen_load_reduction()\n",
    "plot_nitrogen_load_reduction(df, draft=False)"
   ]
  },
  {
   "cell_type": "code",
   "execution_count": null,
   "metadata": {},
   "outputs": [],
   "source": [
    "# get total load reduction data\n",
    "df = get_sediment_load_reduction()\n",
    "plot_sediment_load_reduction(df, draft=False)"
   ]
  },
  {
   "cell_type": "code",
   "execution_count": null,
   "metadata": {},
   "outputs": [],
   "source": [
    "# periyphyton data and chart\n",
    "df = get_periphyton_data()\n",
    "plot_periphyton(df, draft=False)"
   ]
  },
  {
   "cell_type": "code",
   "execution_count": 69,
   "metadata": {},
   "outputs": [],
   "source": [
    "# nearshore turbidity data and chart\n",
    "df = get_nearshore_turbidity_data()\n",
    "plot_nearshore_turbidity(df, draft=True)"
   ]
  },
  {
   "cell_type": "code",
   "execution_count": null,
   "metadata": {},
   "outputs": [],
   "source": [
    "df = get_ais_infestation_data_sql()\n",
    "plot_ais_infestation(df, draft=False)"
   ]
  },
  {
   "cell_type": "markdown",
   "metadata": {},
   "source": [
    "## Wildlife"
   ]
  },
  {
   "cell_type": "code",
   "execution_count": null,
   "metadata": {},
   "outputs": [],
   "source": [
    "# goshawk data and chart\n",
    "df = get_wildlife_data_web()\n",
    "plot_goshawk_data(df, draft=False)"
   ]
  },
  {
   "cell_type": "code",
   "execution_count": null,
   "metadata": {},
   "outputs": [],
   "source": [
    "# osprey data and chart\n",
    "df = get_wildlife_data_web()\n",
    "plot_osprey_data(df, draft=True)"
   ]
  },
  {
   "cell_type": "code",
   "execution_count": null,
   "metadata": {},
   "outputs": [],
   "source": [
    "# bald eagle winter roost data and chart\n",
    "df = get_wildlife_data_web()\n",
    "plot_bald_eagle_winter(df, draft=False)"
   ]
  },
  {
   "cell_type": "code",
   "execution_count": null,
   "metadata": {},
   "outputs": [],
   "source": [
    "df = get_bald_eagle_data_wt_estimate_sql()\n",
    "plot_bald_eagle_winter_est(df, draft=False)"
   ]
  },
  {
   "cell_type": "code",
   "execution_count": null,
   "metadata": {},
   "outputs": [],
   "source": [
    "df = get_peregrine_falcon_data_wt_estimate_sql()\n",
    "plot_pfalcon_data_wt_estimate(df, draft=False)"
   ]
  },
  {
   "cell_type": "code",
   "execution_count": null,
   "metadata": {},
   "outputs": [],
   "source": [
    "df = get_osprey_data_wt_estimate_sql()\n",
    "plot_osprey_data_wt_estimate(df, draft=False)"
   ]
  },
  {
   "cell_type": "code",
   "execution_count": null,
   "metadata": {},
   "outputs": [],
   "source": [
    "# peregine falcon data and chart\n",
    "df = get_wildlife_data_web()\n",
    "plot_falcon_data(df, draft=False)"
   ]
  },
  {
   "cell_type": "code",
   "execution_count": null,
   "metadata": {},
   "outputs": [],
   "source": [
    "# bald eagle summer roost data and chart\n",
    "df = get_wildlife_data_web()\n",
    "plot_bald_eagle_summer(df, draft=False)"
   ]
  },
  {
   "cell_type": "code",
   "execution_count": null,
   "metadata": {},
   "outputs": [],
   "source": [
    "#waterfowl data and chart\n",
    "df = get_waterfowl_data_web()\n",
    "plot_waterfowl_data(df, draft=False)"
   ]
  },
  {
   "cell_type": "code",
   "execution_count": null,
   "metadata": {},
   "outputs": [],
   "source": []
  }
 ],
 "metadata": {
  "kernelspec": {
   "display_name": "Python 3",
   "language": "python",
   "name": "python3"
  },
  "language_info": {
   "codemirror_mode": {
    "name": "ipython",
    "version": 3
   },
   "file_extension": ".py",
   "mimetype": "text/x-python",
   "name": "python",
   "nbconvert_exporter": "python",
   "pygments_lexer": "ipython3",
   "version": "3.11.8"
  }
 },
 "nbformat": 4,
 "nbformat_minor": 2
}
