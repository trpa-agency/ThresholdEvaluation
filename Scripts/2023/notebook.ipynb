{
 "cells": [
  {
   "cell_type": "markdown",
   "metadata": {},
   "source": [
    "## Setup"
   ]
  },
  {
   "cell_type": "code",
   "execution_count": 2,
   "metadata": {},
   "outputs": [],
   "source": [
    "%load_ext autoreload\n",
    "%autoreload 2"
   ]
  },
  {
   "cell_type": "code",
   "execution_count": 45,
   "metadata": {},
   "outputs": [],
   "source": [
    "# get modules\n",
    "from air_quality import *\n",
    "from fisheries import *\n",
    "from noise import *\n",
    "from recreation import *\n",
    "from scenic_resources import *\n",
    "from soil_conservation import *\n",
    "from transportation_sustainablecommunities import *\n",
    "from vegetation_preservation import *\n",
    "from water_quality import *\n",
    "from wildlife import *"
   ]
  },
  {
   "cell_type": "markdown",
   "metadata": {},
   "source": [
    "## Air Quality"
   ]
  },
  {
   "cell_type": "code",
   "execution_count": 40,
   "metadata": {},
   "outputs": [],
   "source": [
    "# get PM 2.5\n",
    "df = get_airquality_data_sql()\n",
    "# plot PM 2.5\n",
    "plot_pm2_5_annual(df, draft=False)"
   ]
  },
  {
   "cell_type": "code",
   "execution_count": 41,
   "metadata": {},
   "outputs": [],
   "source": [
    "# get PM 2.5\n",
    "df = get_airquality_data_sql()\n",
    "# plot PM 2.5\n",
    "plot_pm2_5_24hour(df, draft=False)"
   ]
  },
  {
   "cell_type": "code",
   "execution_count": 42,
   "metadata": {},
   "outputs": [],
   "source": [
    "# get PM 10\n",
    "df = get_airquality_data_sql()\n",
    "#Get PM 10 24 hour high\n",
    "plot_pm10_24hr(df, draft= False)"
   ]
  },
  {
   "cell_type": "code",
   "execution_count": 43,
   "metadata": {},
   "outputs": [],
   "source": [
    "# get PM 10\n",
    "df = get_airquality_data_sql()\n",
    "#Plot PM 10 Average Annual Concentrations\n",
    "plot_pm10_annual(df, draft= False)"
   ]
  },
  {
   "cell_type": "code",
   "execution_count": 44,
   "metadata": {},
   "outputs": [],
   "source": [
    "# get 03\n",
    "df = get_airquality_data_sql()\n",
    "#Plot 03 1 hour high\n",
    "plot_o3_1hour_high(df, draft= False)"
   ]
  },
  {
   "cell_type": "code",
   "execution_count": 47,
   "metadata": {},
   "outputs": [],
   "source": [
    "# get CO\n",
    "df = get_airquality_data_sql()\n",
    "#Plot CO 1 hour high\n",
    "plot_co_8hour_avg(df, draft= True)"
   ]
  },
  {
   "cell_type": "code",
   "execution_count": 48,
   "metadata": {},
   "outputs": [],
   "source": [
    "#Get 50th regionalVisibility Bliss \n",
    "df = get_airquality_data_sql()\n",
    "#Plot Visibility at Bliss\n",
    "plot_50_Bliss_vis(df, draft= False)"
   ]
  },
  {
   "cell_type": "code",
   "execution_count": 49,
   "metadata": {},
   "outputs": [],
   "source": [
    "#Get 90th regionalVisibility Bliss \n",
    "df = get_airquality_data_sql()\n",
    "#Plot 90th percentile Visibility at Bliss\n",
    "plot_90_Bliss_vis(df, draft= False)"
   ]
  },
  {
   "cell_type": "code",
   "execution_count": 34,
   "metadata": {},
   "outputs": [],
   "source": [
    "#Get 50th Visibility subregional slt\n",
    "df = get_airquality_data_sql()\n",
    "#Plot 50th Visibility subregional slt\n",
    "plot_50_SLT_vis(df, draft= False)"
   ]
  },
  {
   "cell_type": "code",
   "execution_count": 33,
   "metadata": {},
   "outputs": [],
   "source": [
    "#Get 90th Visibility subregional slt\n",
    "df = get_airquality_data_sql()\n",
    "#Plot 90th Visibility subregional slt\n",
    "plot_90_SLT_vis(df, draft= False)"
   ]
  },
  {
   "cell_type": "code",
   "execution_count": 50,
   "metadata": {},
   "outputs": [],
   "source": [
    "#Get NOx data\n",
    "df = get_NOX_data_sql()\n",
    "#Plot NOX\n",
    "plot_NOx(df, draft= False)"
   ]
  },
  {
   "cell_type": "markdown",
   "metadata": {},
   "source": [
    "## Soil Conservation"
   ]
  },
  {
   "cell_type": "code",
   "execution_count": null,
   "metadata": {},
   "outputs": [],
   "source": [
    "# get land capability data\n",
    "# dfImpChg, dfImp2019 = get_soil_conservation_data_web()\n",
    "dfImpChg, dfImp2019 = get_soil_conservation_data_sql()"
   ]
  },
  {
   "cell_type": "code",
   "execution_count": null,
   "metadata": {},
   "outputs": [],
   "source": [
    "dfImpChg.info()"
   ]
  },
  {
   "cell_type": "code",
   "execution_count": null,
   "metadata": {},
   "outputs": [],
   "source": [
    "# transform new coverage data\n",
    "dfImpNew = transform_new_coverage_data()\n",
    "# transform soil conservation data\n",
    "dfImpOld = transform_soil_conservation_data(dfImpChg, dfImp2019)\n",
    "df = add_new_coverage(dfImpOld, dfImpNew)\n",
    "df"
   ]
  },
  {
   "cell_type": "code",
   "execution_count": null,
   "metadata": {},
   "outputs": [],
   "source": [
    "df.sort_values(by=\"Land Capability\")\n",
    "\n",
    "colors = ['#D1FF73','#FFFF00','#4CE600','#4C7300', \n",
    "          '#0084A8', '#FFD37F','#FFAA00','#CD8966', '#734C00']\n",
    "\n",
    "fig = px.bar(df, y=\"Land Capability\", x=\"Total Acres\", color=\"Land Capability\", \n",
    "             orientation=\"h\", hover_name=\"Land Capability\",\n",
    "             color_discrete_sequence=colors ,\n",
    "             title=\"Land Capability\"\n",
    "            )\n",
    "\n",
    "fig.update_traces(hovertemplate='%{y}<br>%{x:,.0f} acres<extra></extra>')\n",
    "\n",
    "fig.update_layout(font_family=font, template=template, showlegend=True)\n",
    "fig.show()"
   ]
  },
  {
   "cell_type": "code",
   "execution_count": null,
   "metadata": {},
   "outputs": [],
   "source": [
    "\n",
    "colors = ['lightslategray',] * 9\n",
    "colors[0] = '#279bdc'\n",
    "\n",
    "# create threshold lines\n",
    "fig = go.Figure(go.Scatter(\n",
    "    y=df['Threshold Acres'],\n",
    "    x=df['Land Capability'],\n",
    "    name= \"Threshold\",\n",
    "    line=dict(color='#333333', width=3),\n",
    "    mode='markers',\n",
    "    marker_symbol='line-ew',\n",
    "    marker_line_color=\"midnightblue\", \n",
    "    marker_color=\"lightskyblue\", \n",
    "    marker_line_width=2, \n",
    "    marker_size = 36,\n",
    "    customdata=df['Threshold Value'],\n",
    "    hovertemplate='Threshold:<br>%{customdata} coverage allowed<br>or %{y:,.0f} acres<extra></extra>'\n",
    "))\n",
    "\n",
    "# create coverage bars\n",
    "fig.add_trace(go.Bar(\n",
    "    y=df['Acres of Coverage 2019'],\n",
    "    x=df['Land Capability'],\n",
    "    name= \"Coverage in Class 1A\",\n",
    "    marker_color=colors,\n",
    "#     marker_color='rgb(188,202,200)', \n",
    "    marker_line_color='rgb(88,48,10)',\n",
    "    opacity=0.6,\n",
    "    hovertemplate='<b>%{y:,.0f} acres</b> covered<extra></extra>'\n",
    "))\n",
    "\n",
    "# set layout\n",
    "fig.update_layout(title='Impervious Cover in Land Capability Class 1A',\n",
    "                    font_family=font,\n",
    "                    template=template,\n",
    "                    legend_title_text='',\n",
    "                    showlegend=True,\n",
    "                    hovermode=\"x unified\",\n",
    "                    barmode='overlay',\n",
    "                    xaxis = dict(\n",
    "                        tickmode = 'linear',\n",
    "                        title_text='Land Capability Class',\n",
    "#                         range=[-1,4.5]\n",
    "                    ),\n",
    "                    yaxis = dict(\n",
    "                        title_text='Acres',\n",
    "                        tickmode = 'linear',\n",
    "                        rangemode=\"tozero\",\n",
    "                        range= [0,100],\n",
    "                        tick0 = 0,\n",
    "                        dtick = 10,\n",
    "                        tickformat=\",.0\"\n",
    "                    )\n",
    "                 )\n",
    "\n",
    "fig.show()\n",
    "# save to HTML\n",
    "fig.write_html(os.path.join(workspace, \"SoilConservation_LandCapability_Coverage_1A.html\"))"
   ]
  },
  {
   "cell_type": "code",
   "execution_count": null,
   "metadata": {},
   "outputs": [],
   "source": [
    "# plot 1A - soil conservation\n",
    "plot_soil_conservation(df, landcap = '1A')"
   ]
  },
  {
   "cell_type": "markdown",
   "metadata": {},
   "source": [
    "## Water Quality"
   ]
  },
  {
   "cell_type": "code",
   "execution_count": null,
   "metadata": {},
   "outputs": [],
   "source": [
    "# secchi depth data and chart\n",
    "df = get_secchi_data_sql()\n",
    "# df = get_secchi_data_web()\n",
    "plot_secchi_depth(df, draft=False)"
   ]
  },
  {
   "cell_type": "code",
   "execution_count": null,
   "metadata": {},
   "outputs": [],
   "source": [
    "# watercraft inspections\n",
    "df = get_watercraft_inspection_data_web()\n",
    "plot_watercraft_inspections(df, draft=False)"
   ]
  },
  {
   "cell_type": "markdown",
   "metadata": {},
   "source": [
    "## Wildlife"
   ]
  },
  {
   "cell_type": "code",
   "execution_count": null,
   "metadata": {},
   "outputs": [],
   "source": [
    "# goshawk data and chart\n",
    "df = get_wildlife_data_web()\n",
    "plot_goshawk_data(df, draft=False)"
   ]
  },
  {
   "cell_type": "code",
   "execution_count": null,
   "metadata": {},
   "outputs": [],
   "source": [
    "# osprey data and chart\n",
    "df = get_wildlife_data_web()\n",
    "plot_osprey_data(df, draft=True)"
   ]
  },
  {
   "cell_type": "code",
   "execution_count": null,
   "metadata": {},
   "outputs": [],
   "source": [
    "# bald eagle winter roost data and chart\n",
    "df = get_wildlife_data_web()\n",
    "plot_bald_eagle_winter(df, draft=False)"
   ]
  },
  {
   "cell_type": "code",
   "execution_count": null,
   "metadata": {},
   "outputs": [],
   "source": [
    "# peregine falcon data and chart\n",
    "df = get_wildlife_data_web()\n",
    "plot_falcon_data(df, draft=False)"
   ]
  },
  {
   "cell_type": "code",
   "execution_count": null,
   "metadata": {},
   "outputs": [],
   "source": [
    "# bald eagle summer roost data and chart\n",
    "df = get_wildlife_data_web()\n",
    "plot_bald_eagle_summer(df, draft=False)"
   ]
  },
  {
   "cell_type": "code",
   "execution_count": null,
   "metadata": {},
   "outputs": [],
   "source": [
    "#waterfowl data and chart\n",
    "df = get_waterfowl_data_web()\n",
    "plot_waterfowl_data(df, draft=False)"
   ]
  }
 ],
 "metadata": {
  "kernelspec": {
   "display_name": "Python 3",
   "language": "python",
   "name": "python3"
  },
  "language_info": {
   "codemirror_mode": {
    "name": "ipython",
    "version": 3
   },
   "file_extension": ".py",
   "mimetype": "text/x-python",
   "name": "python",
   "nbconvert_exporter": "python",
   "pygments_lexer": "ipython3",
   "version": "3.9.18"
  }
 },
 "nbformat": 4,
 "nbformat_minor": 2
}
