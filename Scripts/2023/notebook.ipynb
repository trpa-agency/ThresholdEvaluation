{
 "cells": [
  {
   "cell_type": "markdown",
   "metadata": {},
   "source": [
    "## Setup"
   ]
  },
  {
   "cell_type": "code",
   "execution_count": 1,
   "metadata": {},
   "outputs": [],
   "source": [
    "%load_ext autoreload\n",
    "%autoreload 2"
   ]
  },
  {
   "cell_type": "code",
   "execution_count": 1,
   "metadata": {},
   "outputs": [],
   "source": [
    "# get modules\n",
    "from executive_summary import *\n",
    "#from cumulative_accounting import *\n",
    "from air_quality import *\n",
    "from fisheries import *\n",
    "from noise import *\n",
    "from recreation import *\n",
    "from scenic_resources import *\n",
    "from soil_conservation import *\n",
    "from transportation_sustainablecommunities import *\n",
    "from vegetation_preservation import *\n",
    "from water_quality import *\n",
    "from wildlife import *\n",
    "localpath = pathlib.Path.cwd()"
   ]
  },
  {
   "cell_type": "markdown",
   "metadata": {},
   "source": [
    "## Executive Summary"
   ]
  },
  {
   "cell_type": "code",
   "execution_count": null,
   "metadata": {},
   "outputs": [],
   "source": [
    "# Summarize Air Quality Data and Relate it to Fires\n",
    "df = get_airquality_data_sql()\n",
    "plot_AQ_daily_exceedances_per_year(df, draft=True)"
   ]
  },
  {
   "cell_type": "code",
   "execution_count": 2,
   "metadata": {},
   "outputs": [],
   "source": [
    "df = get_restored_sez_data()\n",
    "plot_restored_sez(df)"
   ]
  },
  {
   "cell_type": "code",
   "execution_count": null,
   "metadata": {},
   "outputs": [],
   "source": [
    "# read this json into a pandas dataframe\n",
    "json = \"https://www.laketahoeinfo.org/WebServices/GetThresholdEvaluations/JSON/e17aeb86-85e3-4260-83fd-a2b32501c476\"\n",
    "df = pd.read_json(json)\n",
    "df"
   ]
  },
  {
   "cell_type": "markdown",
   "metadata": {},
   "source": [
    "## Cumulative Accounting"
   ]
  },
  {
   "cell_type": "code",
   "execution_count": null,
   "metadata": {},
   "outputs": [],
   "source": [
    "# development by district\n"
   ]
  },
  {
   "cell_type": "code",
   "execution_count": null,
   "metadata": {},
   "outputs": [],
   "source": [
    "# get the data\n",
    "dfDev19Bailey = pd.read_csv(localpath / 'data' / 'Summarize_ParcelLandCapabilities_Bailey_2019.csv')\n",
    "sdf = dfDev19Bailey.copy()\n",
    "# create new field for Land Capability Category as empty string\n",
    "sdf['Category'] = ''\n",
    "# set values to 'SEZ' if Majority_Land_Capab = '1B'\n",
    "sdf.loc[sdf['Majority_CAPABILITY'].isin(['1B','WB']), 'Category'] = 'SEZ'\n",
    "# set values to 'Sensitive' if Majority_Land_Capab = '1C', 1A, 2, 3\n",
    "sdf.loc[sdf['Majority_CAPABILITY'].isin(['1C', '1A', '2', '3']), 'Category'] = 'Sensitive'\n",
    "# set values to 'Non-Sensitive' if Majority_Land_Capab = '4', 5' or '6' 7\n",
    "sdf.loc[sdf['Majority_CAPABILITY'].isin(['4', '5', '6', '7']), 'Category'] = 'Non-Sensitive'\n",
    "# filter out WITHIN_TRPA_BOUNDARY = 0\n",
    "sdf = sdf.loc[sdf['WITHIN_TRPA_BNDY'] == 1]\n",
    "# melt by category and sum Residential_Units, TouristAccommodation_Units, and CommercialFloorArea_SqFt\n",
    "df = pd.melt(sdf, id_vars=['Category'], value_vars=['Residential_Units', 'TouristAccommodation_Units', 'CommercialFloorArea_SqFt'], var_name='DevelopmentType', value_name='Value')\n",
    "df = df.groupby(['Category', 'DevelopmentType'], dropna=False).sum().reset_index()\n",
    "df.to_csv(localpath / 'data' / 'DevelopmentSummary_LandCap_TVAL2019.csv', index=False)"
   ]
  },
  {
   "cell_type": "code",
   "execution_count": 8,
   "metadata": {},
   "outputs": [],
   "source": [
    "# summarize 2019 TVAL analysis results\n",
    "dfOld19 = get_old_dev_cap()\n",
    "sdf = dfOld19.copy()\n",
    "# melt by category and sum Residential_Units, TouristAccommodation_Units, and CommercialFloorArea_SqFt\n",
    "df = pd.melt(sdf, id_vars=['LandCapabilityType'], value_vars=['RES_2019', 'TAU_2019', 'CFA_2019'], var_name='DevelopmentType', value_name='Value')\n",
    "df = df.groupby(['LandCapabilityType', 'DevelopmentType'], dropna=False).sum().reset_index()\n",
    "# value to int\n",
    "df['Value'] = df['Value'].astype(int)\n",
    "df.to_csv(localpath / 'data' / 'DevelopmentSummary_LandCap_NEWDEVDATA2019.csv', index=False)"
   ]
  },
  {
   "cell_type": "code",
   "execution_count": null,
   "metadata": {},
   "outputs": [],
   "source": [
    "# tables and charts for the cumulative accounting web page\n",
    "# summarize existing development by land capability category\n",
    "df23Bailey, sdf23Bailey = get_summary('2023')\n",
    "df23Bailey.to_pickle(localpath / 'data' / 'df23Bailey.pkl')\n",
    "sdf23Bailey.to_pickle(localpath / 'data' / 'sdf23Bailey.pkl')"
   ]
  },
  {
   "cell_type": "code",
   "execution_count": null,
   "metadata": {},
   "outputs": [],
   "source": [
    "# tables and charts for the cumulative accounting web page\n",
    "# summarize existing development by land capability category\n",
    "df19Bailey, sdf19Bailey = get_summary('2019')\n",
    "df19Bailey.to_pickle(localpath / 'data' / 'df19Bailey.pkl')\n",
    "sdf19Bailey.to_pickle(localpath / 'data' / 'sdf19Bailey.pkl')"
   ]
  },
  {
   "cell_type": "code",
   "execution_count": null,
   "metadata": {},
   "outputs": [],
   "source": [
    "sdfOld19 = df\n",
    "df = pd.melt(sdfOld19, id_vars=['LandCapabilityType'], value_vars=['RES_2019', 'TAU_2019', 'CFA_2019'], var_name='DevelopmentType', value_name='Value')\n",
    "df = df.groupby(['LandCapabilityType', 'DevelopmentType'], dropna=False).sum().reset_index()\n",
    "# set Value to int\n",
    "df['Value'] = df['Value'].astype(int)\n",
    "dfOld19 = df\n",
    "dfOld19.to_pickle(localpath / 'data' / 'dfOld19.pkl')"
   ]
  },
  {
   "cell_type": "code",
   "execution_count": 2,
   "metadata": {},
   "outputs": [],
   "source": [
    "# write code to compare Units between dataframes using APN as the key\n",
    "df19    = pd.read_pickle(localpath / 'data' / 'sdf19Bailey.pkl')\n",
    "dfOld19 = pd.read_pickle(localpath / 'data' / 'sdfOld19.pkl')\n",
    "df23    = pd.read_pickle(localpath / 'data' / 'sdf23Bailey.pkl')"
   ]
  },
  {
   "cell_type": "code",
   "execution_count": null,
   "metadata": {},
   "outputs": [],
   "source": [
    "# sum dfOld19 Vlaue wher development type is TAU_2019\n",
    "dfOld19Tau19 = dfOld19[dfOld19['DevelopmentType'] == 'CFA_2019']\n",
    "dfOld19Tau19 = dfOld19Tau19.groupby(['LandCapabilityType'], dropna=False).sum().reset_index()\n",
    "dfOld19Tau19"
   ]
  },
  {
   "cell_type": "code",
   "execution_count": null,
   "metadata": {},
   "outputs": [],
   "source": [
    "# merge dataframes\n",
    "df = pd.merge(df19, dfOld19, on='APN', how='outer', suffixes=('_2019', '_Old2019'))\n",
    "# print rows where the values are different for LandCapability\n",
    "df = df[df['Category'] != df['LandCapabilityType']]\n",
    "df = df[['APN', 'Category', 'LandCapabilityType']]\n",
    "df = df.dropna()\n",
    "# show the value counts of each unique combination of Category and LandCapabilityType\n",
    "df['Category'] = df['Category'].astype(str)\n",
    "df['LandCapabilityType'] = df['LandCapabilityType'].astype(str)\n",
    "df['Category_LandCapabilityType'] = df['Category'] + '_' + df['LandCapabilityType']\n",
    "df['Category_LandCapabilityType'].value_counts()"
   ]
  },
  {
   "cell_type": "code",
   "execution_count": null,
   "metadata": {},
   "outputs": [],
   "source": [
    "\n",
    "df = df23\n",
    "df = pd.melt(df, id_vars=['Majority_CAPABILITY'], value_vars=['Residential_Units', 'TouristAccommodation_Units', 'CommercialFloorArea_SqFt'], var_name='DevelopmentType', value_name='Value')\n",
    "df = df.groupby(['Majority_CAPABILITY', 'DevelopmentType'], dropna=False).sum().reset_index()\n",
    "# set Value to int\n",
    "df['Value'] = df['Value'].astype(int)\n",
    "df"
   ]
  },
  {
   "cell_type": "code",
   "execution_count": null,
   "metadata": {},
   "outputs": [],
   "source": [
    "# pivot sdfB to get values for Residential_Units by Jurisdiction, Category, and LOCATION_TO_TOWNCENTER\n",
    "df, sdf = get_summary('2019')\n",
    "dfCat = pd.melt(sdf, id_vars=['Category','JURISDICTION'], value_vars=['Residential_Units', 'TouristAccommodation_Units', 'CommercialFloorArea_SqFt'], var_name='DevelopmentType', value_name='Value')\n",
    "dfTC  = pd.melt(sdf, id_vars=['LOCATION_TO_TOWNCENTER','JURISDICTION'], value_vars=['Residential_Units', 'TouristAccommodation_Units', 'CommercialFloorArea_SqFt'], var_name='DevelopmentType', value_name='Value')\n",
    "# make Category values the column names with totals for each Jurisdiction of Residential_Units, TouristAccommodation_Units, and CommercialFloorArea_SqFt\n",
    "dfCatPivot = dfCat.pivot_table(index=['JURISDICTION', 'DevelopmentType'], columns='Category', values='Value', aggfunc='sum', fill_value=0).reset_index()\n",
    "dfTCPivot  = dfTC.pivot_table(index=['JURISDICTION', 'DevelopmentType'], columns='LOCATION_TO_TOWNCENTER', values='Value', aggfunc='sum', fill_value=0).reset_index()\n",
    "\n",
    "# merge on Jurisdiction and DevelopmentType\n",
    "dfMerge = pd.merge(dfCatPivot, dfTCPivot, on=['JURISDICTION', 'DevelopmentType'], how='outer', suffixes=('_Category', '_TownCenter'))\n",
    "\n",
    "# format dfMerge values\n",
    "# Rename Fields\n",
    "df = dfMerge.rename(columns={'JURISDICTION': 'Jurisdiction', \n",
    "                                  'DevelopmentType': 'Development Type', \n",
    "                                  'Further than Quarter Mile from Town Center':'Remote Areas',\n",
    "                                  \"Within Town Center\": \"Town Centers\"})\n",
    "# format Development Type values\n",
    "devType = {'CommercialFloorArea_SqFt': 'Commercial Floor Area',\n",
    "           'Residential_Units': 'Residential Units',\n",
    "           'TouristAccommodation_Units': 'Tourist Accommodation Units'}\n",
    "# jursidiction values\n",
    "jurisdiction = {'CC': 'Carson City County',\n",
    "                'CSLT': 'City of South Lake Tahoe',\n",
    "                'EL': 'El Dorado County',\n",
    "                'DG': 'Douglas County',\n",
    "                'PL': 'Placer County',\n",
    "                'WA': 'Washoe County'}\n",
    "# map values\n",
    "df['Development Type'] = df['Development Type'].map(devType)\n",
    "df['Jurisdiction'] = df['Jurisdiction'].map(jurisdiction)\n",
    "# use gropuby to get total Residential_Units by Jurisdiction\n",
    "dfRes = sdf.groupby(['JURISDICTION'], dropna=False)['Residential_Units'].sum().reset_index()\n",
    "dfTAU = sdf.groupby(['JURISDICTION'], dropna=False)['TouristAccommodation_Units'].sum().reset_index()\n",
    "dfCFA = sdf.groupby(['JURISDICTION'], dropna=False)['CommercialFloorArea_SqFt'].sum().reset_index()\n",
    "# create Development Type column for each dataframe\n",
    "dfRes['Development Type'] = 'Residential Units'\n",
    "dfTAU['Development Type'] = 'Tourist Accommodation Units'\n",
    "dfCFA['Development Type'] = 'Commercial Floor Area'\n",
    "# rename to Total\n",
    "dfRes = dfRes.rename(columns={'Residential_Units': 'Total Existing'})\n",
    "dfTAU = dfTAU.rename(columns={'TouristAccommodation_Units': 'Total Existing'})\n",
    "dfCFA = dfCFA.rename(columns={'CommercialFloorArea_SqFt': 'Total Existing'})\n",
    "# merge dataframes\n",
    "dfUnits = pd.concat([dfRes, dfTAU, dfCFA])\n",
    "# map jurisdiction values\n",
    "dfUnits['JURISDICTION'] = dfUnits['JURISDICTION'].map(jurisdiction)\n",
    "# rename Jurisdiction column\n",
    "dfUnits = dfUnits.rename(columns={'JURISDICTION': 'Jurisdiction'})\n",
    "# sort values\n",
    "dfUnits = dfUnits.sort_values(by=['Jurisdiction', 'Development Type'], ascending=[True, True], ignore_index=True)\n",
    "\n",
    "# add Total Existing to dfMerge from dfUnits\n",
    "df = pd.merge(df, dfUnits, on=['Jurisdiction', 'Development Type'], how='outer', suffixes=('_Category', '_TownCenter'))\n",
    "df\n",
    "# drop column\n",
    "df = df.drop(columns=[''])\n",
    "df.to_pickle(localpath / 'data' / 'development_summary_by_landcap_landuse_19.pkl')\n",
    "df.to_csv(localpath / 'data' / 'development_summary_by_landcap_landuse_19.csv', index=False)"
   ]
  },
  {
   "cell_type": "code",
   "execution_count": null,
   "metadata": {},
   "outputs": [],
   "source": [
    "df"
   ]
  },
  {
   "cell_type": "markdown",
   "metadata": {},
   "source": [
    "## Air Quality"
   ]
  },
  {
   "cell_type": "code",
   "execution_count": null,
   "metadata": {},
   "outputs": [],
   "source": [
    "# get PM 2.5\n",
    "df = get_airquality_data_sql()\n",
    "# plot PM 2.5\n",
    "plot_pm2_5_annual(df, draft=False)"
   ]
  },
  {
   "cell_type": "code",
   "execution_count": 9,
   "metadata": {},
   "outputs": [],
   "source": [
    "# get PM 2.5\n",
    "df = get_airquality_data_sql()\n",
    "# plot PM 2.5\n",
    "plot_pm2_5_24hour(df, draft=False)"
   ]
  },
  {
   "cell_type": "code",
   "execution_count": 8,
   "metadata": {},
   "outputs": [],
   "source": [
    "# get PM 10\n",
    "df = get_airquality_data_sql()\n",
    "#Get PM 10 24 hour high\n",
    "plot_pm10_24hr(df, draft= False)"
   ]
  },
  {
   "cell_type": "code",
   "execution_count": null,
   "metadata": {},
   "outputs": [],
   "source": [
    "# get PM 10\n",
    "df = get_airquality_data_sql()\n",
    "#Plot PM 10 Average Annual Concentrations\n",
    "plot_pm10_annual(df, draft= False)"
   ]
  },
  {
   "cell_type": "code",
   "execution_count": null,
   "metadata": {},
   "outputs": [],
   "source": [
    "# get 03\n",
    "df = get_airquality_data_sql()\n",
    "#Plot 03 1 hour high\n",
    "plot_o3_1hour_high(df, draft= False)"
   ]
  },
  {
   "cell_type": "code",
   "execution_count": null,
   "metadata": {},
   "outputs": [],
   "source": [
    "# get CO\n",
    "df = get_airquality_data_sql()\n",
    "#Plot CO 1 hour high\n",
    "plot_co_8hour_avg(df, draft= False)"
   ]
  },
  {
   "cell_type": "code",
   "execution_count": null,
   "metadata": {},
   "outputs": [],
   "source": [
    "#Get 50th regionalVisibility Bliss \n",
    "df = get_airquality_data_sql()\n",
    "#Plot Visibility at Bliss\n",
    "plot_50_Bliss_vis(df, draft= False)"
   ]
  },
  {
   "cell_type": "code",
   "execution_count": null,
   "metadata": {},
   "outputs": [],
   "source": [
    "#Get 90th regionalVisibility Bliss \n",
    "df = get_airquality_data_sql()\n",
    "#Plot 90th percentile Visibility at Bliss\n",
    "plot_90_Bliss_vis(df, draft= False)"
   ]
  },
  {
   "cell_type": "code",
   "execution_count": null,
   "metadata": {},
   "outputs": [],
   "source": [
    "#Get 50th Visibility subregional slt\n",
    "df = get_airquality_data_sql()\n",
    "#Plot 50th Visibility subregional slt\n",
    "plot_50_SLT_vis(df, draft= False)"
   ]
  },
  {
   "cell_type": "code",
   "execution_count": null,
   "metadata": {},
   "outputs": [],
   "source": [
    "#Get 90th Visibility subregional slt\n",
    "df = get_airquality_data_sql()\n",
    "#Plot 90th Visibility subregional slt\n",
    "plot_90_SLT_vis(df, draft= False)"
   ]
  },
  {
   "cell_type": "code",
   "execution_count": null,
   "metadata": {},
   "outputs": [],
   "source": [
    "#Get NOx data\n",
    "df = get_NOX_data_sql()\n",
    "#Plot NOX\n",
    "plot_NOx(df, draft= False)"
   ]
  },
  {
   "cell_type": "code",
   "execution_count": null,
   "metadata": {},
   "outputs": [],
   "source": [
    "#Get winter traffic data\n",
    "df = get_wintertraffic_data_sql()\n",
    "plot_winter_traffic(df, draft= False)"
   ]
  },
  {
   "cell_type": "code",
   "execution_count": null,
   "metadata": {},
   "outputs": [],
   "source": [
    "# mid lake dissolved nitrogen data and chart\n",
    "df = get_midlake_dissolved_nitrogen_data()\n",
    "plot_midlake_dissolved_nitrogen(df, draft=False)"
   ]
  },
  {
   "cell_type": "markdown",
   "metadata": {},
   "source": [
    "## Fisheries"
   ]
  },
  {
   "cell_type": "code",
   "execution_count": null,
   "metadata": {},
   "outputs": [],
   "source": [
    "from fisheries import *"
   ]
  },
  {
   "cell_type": "code",
   "execution_count": null,
   "metadata": {},
   "outputs": [],
   "source": [
    "#Fish habitat\n",
    "df = get_fishhab()\n",
    "plot_fishhab(df, draft=False)"
   ]
  },
  {
   "cell_type": "code",
   "execution_count": null,
   "metadata": {},
   "outputs": [],
   "source": [
    "#Stream Habitat Condition\n",
    "df= get_CSCI()\n",
    "plot_avgCSCI(df,draft=False)"
   ]
  },
  {
   "cell_type": "markdown",
   "metadata": {},
   "source": [
    "## Noise"
   ]
  },
  {
   "cell_type": "code",
   "execution_count": null,
   "metadata": {},
   "outputs": [],
   "source": [
    "from noise import *"
   ]
  },
  {
   "cell_type": "code",
   "execution_count": null,
   "metadata": {},
   "outputs": [],
   "source": [
    "# plot commercial noise\n",
    "# get data\n",
    "df = get_plannoise_data_sql()\n",
    "# plot data\n",
    "plot_commercial(df, draft=False)"
   ]
  },
  {
   "cell_type": "code",
   "execution_count": null,
   "metadata": {},
   "outputs": [],
   "source": [
    "# plot hotel/motel noise data\n",
    "# get data\n",
    "df = get_plannoise_data_sql()\n",
    "# plot data\n",
    "plot_hotelmotel(df, draft=False)"
   ]
  },
  {
   "cell_type": "code",
   "execution_count": null,
   "metadata": {},
   "outputs": [],
   "source": [
    "# high density residential noise data\n",
    "# get data\n",
    "df = get_plannoise_data_sql()\n",
    "# plot data\n",
    "plot_highdensityresidential(df, draft=False)"
   ]
  },
  {
   "cell_type": "code",
   "execution_count": null,
   "metadata": {},
   "outputs": [],
   "source": [
    "# plot industrial noise data\n",
    "# get data\n",
    "df = get_plannoise_data_sql()\n",
    "# plot data\n",
    "plot_industrial(df, draft=False)"
   ]
  },
  {
   "cell_type": "code",
   "execution_count": null,
   "metadata": {},
   "outputs": [],
   "source": [
    "# plot low density residential noise data\n",
    "# get data\n",
    "df = get_plannoise_data_sql()\n",
    "# plot data\n",
    "plot_lowdensity(df, draft=False)"
   ]
  },
  {
   "cell_type": "code",
   "execution_count": null,
   "metadata": {},
   "outputs": [],
   "source": [
    "# plot rural noise data\n",
    "# get data\n",
    "df = get_plannoise_data_sql()\n",
    "# plot data\n",
    "plot_rural(df, draft=False)"
   ]
  },
  {
   "cell_type": "code",
   "execution_count": null,
   "metadata": {},
   "outputs": [],
   "source": [
    "# plot urban outdoor recreation noise\n",
    "# get data\n",
    "df = get_plannoise_data_sql()\n",
    "# plot data\n",
    "plot_rec(df, draft=False)"
   ]
  },
  {
   "cell_type": "code",
   "execution_count": null,
   "metadata": {},
   "outputs": [],
   "source": [
    "# plot wilderness and roadless area noise\n",
    "# get data\n",
    "df = get_plannoise_data_sql()\n",
    "# plot data\n",
    "plot_wilderness(df, draft=False)"
   ]
  },
  {
   "cell_type": "code",
   "execution_count": null,
   "metadata": {},
   "outputs": [],
   "source": [
    "# plot watercraft shore noise\n",
    "# get data\n",
    "df = get_shorenoise_data_sql()\n",
    "# plot data\n",
    "plot_watercraft(df, draft=False)"
   ]
  },
  {
   "cell_type": "code",
   "execution_count": null,
   "metadata": {},
   "outputs": [],
   "source": [
    "#plot critical wildlife\n",
    "df=get_plannoise_data_sql()\n",
    "#get data\n",
    "plot_wildlife(df, draft=False)"
   ]
  },
  {
   "cell_type": "markdown",
   "metadata": {},
   "source": [
    "## Scenic Resources"
   ]
  },
  {
   "cell_type": "code",
   "execution_count": null,
   "metadata": {},
   "outputs": [],
   "source": [
    "# plot scenic corridor roadway attainment\n",
    "# get data\n",
    "df = get_scenic_corridor_rating()\n",
    "# remove rows with ID = '47-roadway'\n",
    "df = df.loc[df['ID'] != '47-roadway']\n",
    "# plot data\n",
    "plot_scenic_corridor_attainment_roadway(df, draft=True)"
   ]
  },
  {
   "cell_type": "code",
   "execution_count": null,
   "metadata": {},
   "outputs": [],
   "source": [
    "# plot scenic corridor shoreline attainment\n",
    "# get data\n",
    "df = get_scenic_corridor_rating()\n",
    "# plot data\n",
    "plot_scenic_corridor_attainment_shoreline(df, draft=False)"
   ]
  },
  {
   "cell_type": "code",
   "execution_count": null,
   "metadata": {},
   "outputs": [],
   "source": [
    "# plot scenic viewpoint average rating\n",
    "# get data\n",
    "df = get_scenic_viewpoint_rating()\n",
    "# plot data\n",
    "plot_scenic_viewpoint_roadway_rating(df, draft=True)"
   ]
  },
  {
   "cell_type": "code",
   "execution_count": null,
   "metadata": {},
   "outputs": [],
   "source": [
    "# plot scenic viewpoint shoreline average rating\n",
    "# get data\n",
    "df = get_scenic_viewpoint_rating()\n",
    "# plot data\n",
    "plot_scenic_viewpoint_shoreline_rating(df, draft=True)"
   ]
  },
  {
   "cell_type": "markdown",
   "metadata": {},
   "source": [
    "## Soil Conservation"
   ]
  },
  {
   "cell_type": "code",
   "execution_count": null,
   "metadata": {},
   "outputs": [],
   "source": [
    "dfImpChg, dfImp2019 = get_soil_conservation_data_sql()\n",
    "dfImpOld = transform_soil_conservation_data(dfImpChg, dfImp2019)\n",
    "dfImpNew = transform_new_coverage_data()\n",
    "df = add_new_coverage(dfImpOld, dfImpNew)"
   ]
  },
  {
   "cell_type": "code",
   "execution_count": null,
   "metadata": {},
   "outputs": [],
   "source": [
    "# plot 1A - soil conservation\n",
    "plot_soil_conservation(df, landcap = '1A', draft=False)\n",
    "plot_soil_conservation(df, landcap = '1B', draft=False)\n",
    "plot_soil_conservation(df, landcap = '1C', draft=False)\n",
    "plot_soil_conservation(df, landcap = '2', draft=False)\n",
    "plot_soil_conservation(df, landcap = '3', draft=False)\n",
    "plot_soil_conservation(df, landcap = '4', draft=False)\n",
    "plot_soil_conservation(df, landcap = '5', draft=False)\n",
    "plot_soil_conservation(df, landcap = '6', draft=False)\n",
    "plot_soil_conservation(df, landcap = '7', draft=False)"
   ]
  },
  {
   "cell_type": "code",
   "execution_count": null,
   "metadata": {},
   "outputs": [],
   "source": [
    "from soil_conservation import *"
   ]
  },
  {
   "cell_type": "code",
   "execution_count": null,
   "metadata": {},
   "outputs": [],
   "source": [
    "# Get SEZ Data\n",
    "df = get_sez_data_sql()\n",
    "# Make SEZ/Wetland Restoration Chart\n",
    "plot_BasinwideSEZ_scores(df, draft=False) "
   ]
  },
  {
   "cell_type": "markdown",
   "metadata": {},
   "source": [
    "## Vegetation"
   ]
  },
  {
   "cell_type": "code",
   "execution_count": null,
   "metadata": {},
   "outputs": [],
   "source": [
    "# Vegetation Preservation Abundance\n",
    "# get veg data\n",
    "df =get_ecobject_caldor_identity_data()\n",
    "# plot veg data\n",
    "plot_veg_abundance(df, draft=True)"
   ]
  },
  {
   "cell_type": "code",
   "execution_count": null,
   "metadata": {},
   "outputs": [],
   "source": [
    "# Vegetation Seral Stage\n",
    "# get veg data\n",
    "df =get_ecobject_caldor_identity_data()\n",
    "# plot veg data\n",
    "plot_seral_stage(df, draft=False)"
   ]
  },
  {
   "cell_type": "code",
   "execution_count": null,
   "metadata": {},
   "outputs": [],
   "source": [
    "# Vegetatoin Composition\n",
    "# get veg data\n",
    "df =get_ecobject_caldor_identity_data()\n",
    "# plot veg data\n",
    "plot_veg_composition(df, draft=True)"
   ]
  },
  {
   "cell_type": "code",
   "execution_count": null,
   "metadata": {},
   "outputs": [],
   "source": [
    "#Get Sensitive plant data\n",
    "#TDraba, CDraba, Lewisia = get_sensitiveplant_xlsx()\n",
    "df= get_TDraba_xslx()\n",
    "#plot_TDraba\n",
    "plot_TDraba(df, draft=False)"
   ]
  },
  {
   "cell_type": "code",
   "execution_count": null,
   "metadata": {},
   "outputs": [],
   "source": [
    "#Get Cup Draba subpopulation data\n",
    "df= get_CDraba_xslx()\n",
    "#plot CDraba\n",
    "plot_CDraba(df, draft=False)"
   ]
  },
  {
   "cell_type": "code",
   "execution_count": null,
   "metadata": {},
   "outputs": [],
   "source": [
    "#Get Long Petaled Lewisia data\n",
    "df= get_lewisia_xslx()\n",
    "#plot CDraba\n",
    "plot_lewisia(df, draft=False)"
   ]
  },
  {
   "cell_type": "code",
   "execution_count": null,
   "metadata": {},
   "outputs": [],
   "source": [
    "# Relative Abundance of Red Fir Forest In Seral Stages Other Than Mature\n",
    "# get data\n",
    "df = get_ecobject_caldor_identity_data()\n",
    "# plot red fir forest chart\n",
    "plot_redfir(df, draft=False)"
   ]
  },
  {
   "cell_type": "code",
   "execution_count": null,
   "metadata": {},
   "outputs": [],
   "source": [
    "# Relative Abundance of Yellow Pine Forest In Seral Stages Other Than Mature\n",
    "# get data\n",
    "df = get_ecobject_caldor_identity_data()\n",
    "# plot red fir forest chart\n",
    "plot_yellowpine(df, draft=False)"
   ]
  },
  {
   "cell_type": "code",
   "execution_count": null,
   "metadata": {},
   "outputs": [],
   "source": [
    "# Relative Abundance of Meadows And Wetland Vegetation Types\n",
    "# get data\n",
    "df = get_ecobject_caldor_identity_data()\n",
    "# plot\n",
    "plot_wetland(df, draft=False)"
   ]
  },
  {
   "cell_type": "code",
   "execution_count": null,
   "metadata": {},
   "outputs": [],
   "source": [
    "# Relative Abundance of Shrub Vegetation Type\n",
    "# get data\n",
    "df = get_ecobject_caldor_identity_data()\n",
    "# plot\n",
    "plot_shrub(df, draft=False)"
   ]
  },
  {
   "cell_type": "code",
   "execution_count": null,
   "metadata": {},
   "outputs": [],
   "source": [
    "# Relative Abundance of Deciduous Riparian Vegetation\n",
    "# get data\n",
    "df = get_ecobject_caldor_identity_data()\n",
    "# plot\n",
    "plot_deciduous(df, draft=True)"
   ]
  },
  {
   "cell_type": "code",
   "execution_count": null,
   "metadata": {},
   "outputs": [],
   "source": [
    "# Pattern: Stand Composition And Age\n",
    "# get data\n",
    "df = get_ecobject_caldor_identity_data()\n",
    "# plot red fir forest chart\n",
    "plot_veg_composition(df, draft=True)"
   ]
  },
  {
   "cell_type": "code",
   "execution_count": null,
   "metadata": {},
   "outputs": [],
   "source": [
    "# Consistency with Bailey Land Capability System\n",
    "# get data\n",
    "dfImpChg, dfImp2019 = get_soil_conservation_data_sql()\n",
    "# plot land capability chart\n",
    "plot_landcapability(dfImpChg, draft=False)"
   ]
  },
  {
   "cell_type": "code",
   "execution_count": null,
   "metadata": {},
   "outputs": [],
   "source": [
    "# Appropriate Management Practices\n",
    "df = get_data_forest_fuel()\n",
    "plot_forest_fuel(df, draft=True)"
   ]
  },
  {
   "cell_type": "code",
   "execution_count": null,
   "metadata": {},
   "outputs": [],
   "source": [
    "# Total Old Growth\n",
    "df = get_old_growth()\n",
    "plot_old_growth(df, draft=False)"
   ]
  },
  {
   "cell_type": "code",
   "execution_count": null,
   "metadata": {},
   "outputs": [],
   "source": [
    "# Old Growth in Sub-Alpine Zone\n",
    "df = get_ecobject_caldor_identity_data()\n",
    "plot_seral_subalpine(df, draft=False)"
   ]
  },
  {
   "cell_type": "code",
   "execution_count": null,
   "metadata": {},
   "outputs": [],
   "source": [
    "# Old Growth in Upper Montane Zone\n",
    "df = get_ecobject_caldor_identity_data()\n",
    "plot_seral_upper_montane(df, draft=False)"
   ]
  },
  {
   "cell_type": "code",
   "execution_count": null,
   "metadata": {},
   "outputs": [],
   "source": [
    "# Old Growth in Montane Zone\n",
    "df = get_ecobject_caldor_identity_data()\n",
    "plot_seral_montane(df, draft=False)"
   ]
  },
  {
   "cell_type": "code",
   "execution_count": null,
   "metadata": {},
   "outputs": [],
   "source": [
    "#Tahoe Yellow Cress Chart\n",
    "df = get_TYC_data_sql()\n",
    "plot_TYC(df, draft=False)"
   ]
  },
  {
   "cell_type": "code",
   "execution_count": null,
   "metadata": {},
   "outputs": [],
   "source": []
  },
  {
   "cell_type": "markdown",
   "metadata": {},
   "source": [
    "## Water Quality"
   ]
  },
  {
   "cell_type": "code",
   "execution_count": null,
   "metadata": {},
   "outputs": [],
   "source": [
    "# secchi depth data and chart\n",
    "df = get_secchi_data_sql()\n",
    "# df = get_secchi_data_web()\n",
    "plot_secchi_depth(df, draft=False)"
   ]
  },
  {
   "cell_type": "code",
   "execution_count": null,
   "metadata": {},
   "outputs": [],
   "source": [
    "# watercraft inspections\n",
    "df = get_watercraft_inspection_data_web()\n",
    "plot_watercraft_inspections(df, draft=False)"
   ]
  },
  {
   "cell_type": "code",
   "execution_count": null,
   "metadata": {},
   "outputs": [],
   "source": [
    "from water_quality import *"
   ]
  },
  {
   "cell_type": "code",
   "execution_count": null,
   "metadata": {},
   "outputs": [],
   "source": [
    "# get water quality data\n",
    "df = get_waterquality_data()\n",
    "# plot total nitrogetn\n",
    "plot_total_nitrogen(df, draft=False)\n",
    "plot_total_phosphorus(df, draft=False)\n",
    "plot_suspended_sediment(df, draft=False)"
   ]
  },
  {
   "cell_type": "code",
   "execution_count": null,
   "metadata": {},
   "outputs": [],
   "source": [
    "# get total load reduction data\n",
    "df = get_phosphorus_load_reduction()\n",
    "plot_phosphorus_load_reduction(df, draft=False)"
   ]
  },
  {
   "cell_type": "code",
   "execution_count": null,
   "metadata": {},
   "outputs": [],
   "source": [
    "# get total load reduction data\n",
    "df = get_nitrogen_load_reduction()\n",
    "plot_nitrogen_load_reduction(df, draft=False)"
   ]
  },
  {
   "cell_type": "code",
   "execution_count": null,
   "metadata": {},
   "outputs": [],
   "source": [
    "# get total load reduction data\n",
    "df = get_sediment_load_reduction()\n",
    "plot_sediment_load_reduction(df, draft=False)"
   ]
  },
  {
   "cell_type": "code",
   "execution_count": null,
   "metadata": {},
   "outputs": [],
   "source": [
    "# periyphyton data and chart\n",
    "df = get_periphyton_data()\n",
    "plot_periphyton(df, draft=False)"
   ]
  },
  {
   "cell_type": "code",
   "execution_count": null,
   "metadata": {},
   "outputs": [],
   "source": [
    "# nearshore turbidity data and chart\n",
    "df = get_nearshore_turbidity_data()\n",
    "plot_nearshore_turbidity(df, draft=True)"
   ]
  },
  {
   "cell_type": "code",
   "execution_count": null,
   "metadata": {},
   "outputs": [],
   "source": [
    "df = get_ais_infestation_data_sql()\n",
    "plot_ais_infestation(df, draft=True)"
   ]
  },
  {
   "cell_type": "markdown",
   "metadata": {},
   "source": [
    "## Wildlife"
   ]
  },
  {
   "cell_type": "code",
   "execution_count": null,
   "metadata": {},
   "outputs": [],
   "source": [
    "from wildlife import *"
   ]
  },
  {
   "cell_type": "code",
   "execution_count": null,
   "metadata": {},
   "outputs": [],
   "source": [
    "# goshawk data and chart\n",
    "df = get_wildlife_data_web()\n",
    "plot_goshawk_data(df, draft=False)"
   ]
  },
  {
   "cell_type": "code",
   "execution_count": null,
   "metadata": {},
   "outputs": [],
   "source": [
    "# osprey data and chart\n",
    "df = get_wildlife_data_web()\n",
    "plot_osprey_data(df, draft=False)"
   ]
  },
  {
   "cell_type": "code",
   "execution_count": null,
   "metadata": {},
   "outputs": [],
   "source": [
    "# bald eagle winter roost data and chart\n",
    "df = get_wildlife_data_web()\n",
    "plot_bald_eagle_winter(df, draft=False)"
   ]
  },
  {
   "cell_type": "code",
   "execution_count": null,
   "metadata": {},
   "outputs": [],
   "source": [
    "df = get_bald_eagle_data_wt_estimate_sql()\n",
    "plot_bald_eagle_winter_est(df, draft=False)"
   ]
  },
  {
   "cell_type": "code",
   "execution_count": null,
   "metadata": {},
   "outputs": [],
   "source": [
    "df = get_peregrine_falcon_data_wt_estimate_sql()\n",
    "plot_pfalcon_data_wt_estimate(df, draft=False)"
   ]
  },
  {
   "cell_type": "code",
   "execution_count": null,
   "metadata": {},
   "outputs": [],
   "source": [
    "df = get_osprey_data_wt_estimate_sql()\n",
    "plot_osprey_data_wt_estimate(df, draft=False)"
   ]
  },
  {
   "cell_type": "code",
   "execution_count": null,
   "metadata": {},
   "outputs": [],
   "source": [
    "# peregine falcon data and chart\n",
    "df = get_wildlife_data_web()\n",
    "plot_falcon_data(df, draft=False)"
   ]
  },
  {
   "cell_type": "code",
   "execution_count": null,
   "metadata": {},
   "outputs": [],
   "source": [
    "# bald eagle summer roost data and chart\n",
    "df = get_wildlife_data_web()\n",
    "plot_bald_eagle_summer(df, draft=False)"
   ]
  },
  {
   "cell_type": "code",
   "execution_count": null,
   "metadata": {},
   "outputs": [],
   "source": [
    "#waterfowl data and chart\n",
    "df = get_waterfowl_data_web()\n",
    "plot_waterfowl_data(df, draft=False)"
   ]
  }
 ],
 "metadata": {
  "kernelspec": {
   "display_name": "arcgispro-py3",
   "language": "python",
   "name": "python3"
  },
  "language_info": {
   "codemirror_mode": {
    "name": "ipython",
    "version": 3
   },
   "file_extension": ".py",
   "mimetype": "text/x-python",
   "name": "python",
   "nbconvert_exporter": "python",
   "pygments_lexer": "ipython3",
   "version": "3.11.10"
  }
 },
 "nbformat": 4,
 "nbformat_minor": 2
}
