{
 "cells": [
  {
   "cell_type": "markdown",
   "metadata": {},
   "source": [
    "## Setup"
   ]
  },
  {
   "cell_type": "code",
   "execution_count": null,
   "metadata": {},
   "outputs": [],
   "source": [
    "%load_ext autoreload\n",
    "%autoreload 2"
   ]
  },
  {
   "cell_type": "code",
   "execution_count": null,
   "metadata": {},
   "outputs": [],
   "source": [
    "# get modules\n",
    "from air_quality import *\n",
    "from fisheries import *\n",
    "from noise import *\n",
    "from recreation import *\n",
    "from scenic_resources import *\n",
    "from soil_conservation import *\n",
    "from transportation_sustainablecommunities import *\n",
    "from vegetation_preservation import *\n",
    "from water_quality import *\n",
    "from wildlife import *"
   ]
  },
  {
   "cell_type": "markdown",
   "metadata": {},
   "source": [
    "## Air Quality"
   ]
  },
  {
   "cell_type": "code",
   "execution_count": null,
   "metadata": {},
   "outputs": [],
   "source": [
    "# get PM 2.5\n",
    "df = get_airquality_data_sql()\n",
    "# plot PM 2.5\n",
    "plot_pm2_5_annual(df, draft=False)"
   ]
  },
  {
   "cell_type": "code",
   "execution_count": null,
   "metadata": {},
   "outputs": [],
   "source": [
    "# get PM 2.5\n",
    "df = get_airquality_data_sql()\n",
    "# plot PM 2.5\n",
    "plot_pm2_5_24hour(df, draft=False)"
   ]
  },
  {
   "cell_type": "code",
   "execution_count": null,
   "metadata": {},
   "outputs": [],
   "source": [
    "# get PM 10\n",
    "df = get_airquality_data_sql()\n",
    "#Get PM 10 24 hour high\n",
    "plot_pm10_24hr(df, draft= False)"
   ]
  },
  {
   "cell_type": "code",
   "execution_count": null,
   "metadata": {},
   "outputs": [],
   "source": [
    "# get PM 10\n",
    "df = get_airquality_data_sql()\n",
    "#Plot PM 10 Average Annual Concentrations\n",
    "plot_pm10_annual(df, draft= False)"
   ]
  },
  {
   "cell_type": "code",
   "execution_count": null,
   "metadata": {},
   "outputs": [],
   "source": [
    "# get 03\n",
    "df = get_airquality_data_sql()\n",
    "#Plot 03 1 hour high\n",
    "plot_o3_1hour_high(df, draft= False)"
   ]
  },
  {
   "cell_type": "code",
   "execution_count": null,
   "metadata": {},
   "outputs": [],
   "source": [
    "# get CO\n",
    "df = get_airquality_data_sql()\n",
    "#Plot CO 1 hour high\n",
    "plot_co_8hour_avg(df, draft= True)"
   ]
  },
  {
   "cell_type": "code",
   "execution_count": null,
   "metadata": {},
   "outputs": [],
   "source": [
    "#Get 50th regionalVisibility Bliss \n",
    "df = get_airquality_data_sql()\n",
    "#Plot Visibility at Bliss\n",
    "plot_50_Bliss_vis(df, draft= False)"
   ]
  },
  {
   "cell_type": "code",
   "execution_count": null,
   "metadata": {},
   "outputs": [],
   "source": [
    "#Get 90th regionalVisibility Bliss \n",
    "df = get_airquality_data_sql()\n",
    "#Plot 90th percentile Visibility at Bliss\n",
    "plot_90_Bliss_vis(df, draft= False)"
   ]
  },
  {
   "cell_type": "code",
   "execution_count": null,
   "metadata": {},
   "outputs": [],
   "source": [
    "#Get 50th Visibility subregional slt\n",
    "df = get_airquality_data_sql()\n",
    "#Plot 50th Visibility subregional slt\n",
    "plot_50_SLT_vis(df, draft= False)"
   ]
  },
  {
   "cell_type": "code",
   "execution_count": null,
   "metadata": {},
   "outputs": [],
   "source": [
    "#Get 90th Visibility subregional slt\n",
    "df = get_airquality_data_sql()\n",
    "#Plot 90th Visibility subregional slt\n",
    "plot_90_SLT_vis(df, draft= False)"
   ]
  },
  {
   "cell_type": "code",
   "execution_count": null,
   "metadata": {},
   "outputs": [],
   "source": [
    "#Get NOx data\n",
    "df = get_NOX_data_sql()\n",
    "#Plot NOX\n",
    "plot_NOx(df, draft= False)"
   ]
  },
  {
   "cell_type": "code",
   "execution_count": null,
   "metadata": {},
   "outputs": [],
   "source": [
    "#Get winter traffic data\n",
    "df = get_wintertraffic_data_sql()\n",
    "plot_winter_traffic(df, draft= False)"
   ]
  },
  {
   "cell_type": "code",
   "execution_count": null,
   "metadata": {},
   "outputs": [],
   "source": [
    "# mid lake dissolved nitrogen data and chart\n",
    "df = get_midlake_dissolved_nitrogen_data()\n",
    "plot_midlake_dissolved_nitrogen(df, draft=False)"
   ]
  },
  {
   "cell_type": "markdown",
   "metadata": {},
   "source": [
    "## Noise"
   ]
  },
  {
   "cell_type": "code",
   "execution_count": null,
   "metadata": {},
   "outputs": [],
   "source": []
  },
  {
   "cell_type": "code",
   "execution_count": null,
   "metadata": {},
   "outputs": [],
   "source": []
  },
  {
   "cell_type": "code",
   "execution_count": null,
   "metadata": {},
   "outputs": [],
   "source": []
  },
  {
   "cell_type": "markdown",
   "metadata": {},
   "source": [
    "## Soil Conservation"
   ]
  },
  {
   "cell_type": "code",
   "execution_count": null,
   "metadata": {},
   "outputs": [],
   "source": [
    "df = transform_new_coverage_data()"
   ]
  },
  {
   "cell_type": "code",
   "execution_count": null,
   "metadata": {},
   "outputs": [],
   "source": [
    "dfNewImp = pd.read_csv(\"data/raw_data/FinalCoverageChanges_2020-2023.csv\")"
   ]
  },
  {
   "cell_type": "code",
   "execution_count": null,
   "metadata": {},
   "outputs": [],
   "source": [
    "import pandas as pd\n",
    "import numpy as np\n",
    "\n"
   ]
  },
  {
   "cell_type": "code",
   "execution_count": null,
   "metadata": {},
   "outputs": [],
   "source": [
    "df = transform_new_coverage_data()\n",
    "df"
   ]
  },
  {
   "cell_type": "code",
   "execution_count": null,
   "metadata": {},
   "outputs": [],
   "source": [
    "# get land capability data\n",
    "# dfImpChg, dfImp2019 = get_soil_conservation_data_web()\n",
    "dfImpChg, dfImp2019 = get_soil_conservation_data_sql()"
   ]
  },
  {
   "cell_type": "code",
   "execution_count": null,
   "metadata": {},
   "outputs": [],
   "source": [
    "# plot 1A - soil conservation\n",
    "plot_soil_conservation(df, landcap = '1A')\n",
    "plot_soil_conservation(df, landcap = '1B')\n",
    "plot_soil_conservation(df, landcap = '1C')\n",
    "plot_soil_conservation(df, landcap = '2')\n",
    "plot_soil_conservation(df, landcap = '3')\n",
    "plot_soil_conservation(df, landcap = '4')\n",
    "plot_soil_conservation(df, landcap = '5')\n",
    "plot_soil_conservation(df, landcap = '6')\n",
    "plot_soil_conservation(df, landcap = '7')"
   ]
  },
  {
   "cell_type": "markdown",
   "metadata": {},
   "source": [
    "## Water Quality"
   ]
  },
  {
   "cell_type": "code",
   "execution_count": null,
   "metadata": {},
   "outputs": [],
   "source": [
    "# secchi depth data and chart\n",
    "df = get_secchi_data_sql()\n",
    "# df = get_secchi_data_web()\n",
    "plot_secchi_depth(df, draft=False)"
   ]
  },
  {
   "cell_type": "code",
   "execution_count": null,
   "metadata": {},
   "outputs": [],
   "source": [
    "# watercraft inspections\n",
    "df = get_watercraft_inspection_data_web()\n",
    "plot_watercraft_inspections(df, draft=False)"
   ]
  },
  {
   "cell_type": "code",
   "execution_count": null,
   "metadata": {},
   "outputs": [],
   "source": [
    "# get water quality data\n",
    "df = get_waterquality_data()\n",
    "# plot total nitrogetn\n",
    "plot_total_nitrogen(df, draft=False)\n",
    "plot_total_phosphorus(df, draft=False)\n",
    "plot_suspended_sediment(df, draft=False)"
   ]
  },
  {
   "cell_type": "code",
   "execution_count": null,
   "metadata": {},
   "outputs": [],
   "source": [
    "# get total load reduction data\n",
    "df = get_phosphorus_load_reduction()\n",
    "plot_phosphorus_load_reduction(df, draft=False)"
   ]
  },
  {
   "cell_type": "code",
   "execution_count": null,
   "metadata": {},
   "outputs": [],
   "source": [
    "# get total load reduction data\n",
    "df = get_nitrogen_load_reduction()\n",
    "plot_nitrogen_load_reduction(df, draft=False)"
   ]
  },
  {
   "cell_type": "code",
   "execution_count": null,
   "metadata": {},
   "outputs": [],
   "source": [
    "# get total load reduction data\n",
    "df = get_sediment_load_reduction()\n",
    "plot_sediment_load_reduction(df, draft=False)"
   ]
  },
  {
   "cell_type": "code",
   "execution_count": null,
   "metadata": {},
   "outputs": [],
   "source": [
    "# periyphyton data and chart\n",
    "df = get_periphyton_data()\n",
    "plot_periphyton(df, draft=False)"
   ]
  },
  {
   "cell_type": "code",
   "execution_count": null,
   "metadata": {},
   "outputs": [],
   "source": [
    "# nearshore turbidity data and chart\n",
    "df = get_nearshore_turbidity_data()\n",
    "plot_nearshore_turbidity(df, draft=True)"
   ]
  },
  {
   "cell_type": "code",
   "execution_count": 2,
   "metadata": {},
   "outputs": [],
   "source": [
    "df = get_ais_infestation_data_sql()\n",
    "plot_ais_infestation(df, draft=False)"
   ]
  },
  {
   "cell_type": "markdown",
   "metadata": {},
   "source": []
  },
  {
   "cell_type": "markdown",
   "metadata": {},
   "source": [
    "## Wildlife"
   ]
  },
  {
   "cell_type": "code",
   "execution_count": null,
   "metadata": {},
   "outputs": [],
   "source": [
    "# goshawk data and chart\n",
    "df = get_wildlife_data_web()\n",
    "plot_goshawk_data(df, draft=False)"
   ]
  },
  {
   "cell_type": "code",
   "execution_count": null,
   "metadata": {},
   "outputs": [],
   "source": [
    "# osprey data and chart\n",
    "df = get_wildlife_data_web()\n",
    "plot_osprey_data(df, draft=True)"
   ]
  },
  {
   "cell_type": "code",
   "execution_count": null,
   "metadata": {},
   "outputs": [],
   "source": [
    "# bald eagle winter roost data and chart\n",
    "df = get_wildlife_data_web()\n",
    "plot_bald_eagle_winter(df, draft=False)"
   ]
  },
  {
   "cell_type": "code",
   "execution_count": null,
   "metadata": {},
   "outputs": [],
   "source": [
    "df = get_bald_eagle_data_wt_estimate_sql()\n",
    "plot_bald_eagle_winter_est(df, draft=False)"
   ]
  },
  {
   "cell_type": "code",
   "execution_count": null,
   "metadata": {},
   "outputs": [],
   "source": [
    "df = get_peregrine_falcon_data_wt_estimate_sql()\n",
    "plot_pfalcon_data_wt_estimate(df, draft=False)"
   ]
  },
  {
   "cell_type": "code",
   "execution_count": null,
   "metadata": {},
   "outputs": [],
   "source": [
    "df = get_osprey_data_wt_estimate_sql()\n",
    "plot_osprey_data_wt_estimate(df, draft=False)"
   ]
  },
  {
   "cell_type": "code",
   "execution_count": null,
   "metadata": {},
   "outputs": [],
   "source": [
    "# peregine falcon data and chart\n",
    "df = get_wildlife_data_web()\n",
    "plot_falcon_data(df, draft=False)"
   ]
  },
  {
   "cell_type": "code",
   "execution_count": null,
   "metadata": {},
   "outputs": [],
   "source": [
    "# bald eagle summer roost data and chart\n",
    "df = get_wildlife_data_web()\n",
    "plot_bald_eagle_summer(df, draft=False)"
   ]
  },
  {
   "cell_type": "code",
   "execution_count": null,
   "metadata": {},
   "outputs": [],
   "source": [
    "#waterfowl data and chart\n",
    "df = get_waterfowl_data_web()\n",
    "plot_waterfowl_data(df, draft=False)"
   ]
  }
 ],
 "metadata": {
  "kernelspec": {
   "display_name": "Python 3",
   "language": "python",
   "name": "python3"
  },
  "language_info": {
   "codemirror_mode": {
    "name": "ipython",
    "version": 3
   },
   "file_extension": ".py",
   "mimetype": "text/x-python",
   "name": "python",
   "nbconvert_exporter": "python",
   "pygments_lexer": "ipython3",
   "version": "3.11.8"
  }
 },
 "nbformat": 4,
 "nbformat_minor": 2
}
