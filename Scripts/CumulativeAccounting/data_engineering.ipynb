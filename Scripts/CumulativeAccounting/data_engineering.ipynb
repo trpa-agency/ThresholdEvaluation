{
 "cells": [
  {
   "cell_type": "code",
   "execution_count": null,
   "metadata": {},
   "outputs": [],
   "source": [
    "# compare "
   ]
  },
  {
   "cell_type": "code",
   "execution_count": null,
   "metadata": {},
   "outputs": [],
   "source": [
    "## "
   ]
  },
  {
   "cell_type": "code",
   "execution_count": null,
   "metadata": {},
   "outputs": [],
   "source": []
  },
  {
   "cell_type": "code",
   "execution_count": null,
   "metadata": {},
   "outputs": [],
   "source": [
    "# from utils import *\n",
    "# get modules\n",
    "import arcpy\n",
    "from pathlib import Path\n",
    "from great_tables import *\n",
    "# current working directory\n",
    "out_chart = local_path.parents[1] / '2023/Cumulative_Accounting'\n",
    "local_path = pathlib.Path().absolute()\n",
    "# workspace gdb for stuff that doesnt work in memory\n",
    "gdb = os.path.join(local_path,'Workspace.gdb')\n",
    "\n",
    "# get locations\n",
    "sdeBase = r'F:\\GIS\\PROJECTS\\ResearchAnalysis\\ThresholdEvaluation\\Vector.sde'\n",
    "\n",
    "def summarize_landcap_by_parcel(year):\n",
    "    query = f'\"YEAR\" = {year}'\n",
    "    # get paths\n",
    "    parcelPath  = Path(sdeBase) / 'SDE.Parcels/SDE.Parcel_History_Attributed'\n",
    "    landcapPath = Path(sdeBase) / 'SDE.Soils/SDE.land_capability_NRCS2007'\n",
    "    # get parcels where the year is 2023\n",
    "    parcels = arcpy.management.MakeFeatureLayer(str(parcelPath), 'parcels', query) \n",
    "    landcap = arcpy.management.MakeFeatureLayer(str(landcapPath), 'landcap')\n",
    "    # summarize within\n",
    "    arcpy.analysis.SummarizeWithin(\n",
    "        in_polygons=parcels,\n",
    "        in_sum_features=landcap,\n",
    "        out_feature_class=fr'C:\\\\GIS\\\\Scratch.gdb\\\\Summarize_ParcelLandCapabalities_{year}',\n",
    "        keep_all_polygons=\"KEEP_ALL\",\n",
    "        sum_fields=None,\n",
    "        sum_shape=\"ADD_SHAPE_SUM\",\n",
    "        shape_unit=\"ACRES\",\n",
    "        group_field=\"Land_Capab\",\n",
    "        add_min_maj=\"ADD_MIN_MAJ\",\n",
    "        add_group_percent=\"ADD_PERCENT\",\n",
    "        out_group_table=r\"C:\\GIS\\Scratch.gdb\\Land_Capab_Summary\"\n",
    "    )\n",
    "    arcpy.management.Delete('parcels')\n",
    "    arcpy.Delete_management(\"memory\")\n",
    "\n",
    "\n",
    "def get_summary(year):\n",
    "    # get land cap summary as dataframe\n",
    "    # parcel development layer polygons\n",
    "    path = fr'C:\\GIS\\Scratch.gdb\\Summarize_ParcelLandCapabalities_{year}'\n",
    "    # query 2022 rows\n",
    "    sdf = pd.DataFrame.spatial.from_featureclass(path)\n",
    "    sdf.spatial.sr = sr\n",
    "    # create new field for Land Capability Category as empty string\n",
    "    sdf['Category'] = ''\n",
    "    # set values to 'SEZ' if Majority_Land_Capab = '1B'\n",
    "    sdf.loc[sdf['Majority_Land_Capab'] == '1B', 'Category'] = 'SEZ'\n",
    "    # set values to 'Sensitive' if Majority_Land_Capab = '1C', 1A, 2, 3\n",
    "    sdf.loc[sdf['Majority_Land_Capab'].isin(['1C', '1A', '2', '3']), 'Category'] = 'Sensitive'\n",
    "    # set values to 'Non-Sensitive' if Majority_Land_Capab = '4', 5' or '6' 7\n",
    "    sdf.loc[sdf['Majority_Land_Capab'].isin(['4', '5', '6', '7']), 'Category'] = 'Non-Sensitive'\n",
    "    # filter out WITHIN_TRPA_BOUNDARY = 0\n",
    "    sdf = sdf.loc[sdf['WITHIN_TRPA_BNDY'] == 1]\n",
    "    # melt by category and sum Residential_Units, TouristAccommodation_Units, and CommercialFloorArea_SqFt\n",
    "    df = pd.melt(sdf, id_vars=['Category'], value_vars=['Residential_Units', 'TouristAccommodation_Units', 'CommercialFloorArea_SqFt'], var_name='DevelopmentType', value_name='Value')\n",
    "    df = df.groupby(['Category', 'DevelopmentType'], dropna=False).sum().reset_index()\n",
    "    return df, sdf\n",
    "\n",
    "def make_table(df):\n",
    "    # drop Category is None\n",
    "    df = df.loc[df['Category'] != '']\n",
    "    # Create the styled HTML table\n",
    "    html_table = GT(df).tab_header(title=\"Table 1. \").tab_spanner(\n",
    "        label=\"\", columns=['Category', 'DevelopmentType', 'Value']).tab_stub(\n",
    "            rowname_col='DevelopmentType', groupname_col='Category').tab_style(\n",
    "                style=style.fill(color=\"aliceblue\"), locations=loc.body()).as_raw_html()\n",
    "    # savel as html\n",
    "    out_table = out_chart / 'existingdevelopment_table.html'\n",
    "    # Output the HTML as .html saved on local drive\n",
    "    with open(out_table, 'w') as f:\n",
    "        f.write(html_table)\n",
    "    \n",
    "# get the data\n",
    "def get_old_dev_cap():\n",
    "    engine = get_conn('sde_tabular')\n",
    "    # get dataframe from BMP SQL Database\n",
    "    with engine.begin() as conn:\n",
    "        # create dataframe from sql query\n",
    "        df = pd.read_sql(\"SELECT * FROM SDE.ThresholdEvaluation_ExistingDevelopmentRights_By_LandCapability\", conn)\n",
    "    return df"
   ]
  },
  {
   "cell_type": "code",
   "execution_count": null,
   "metadata": {},
   "outputs": [],
   "source": [
    "# get "
   ]
  },
  {
   "cell_type": "code",
   "execution_count": null,
   "metadata": {},
   "outputs": [],
   "source": []
  },
  {
   "cell_type": "code",
   "execution_count": null,
   "metadata": {},
   "outputs": [],
   "source": []
  }
 ],
 "metadata": {
  "kernelspec": {
   "display_name": "arcgispro-py3",
   "language": "python",
   "name": "python3"
  },
  "language_info": {
   "codemirror_mode": {
    "name": "ipython",
    "version": 3
   },
   "file_extension": ".py",
   "mimetype": "text/x-python",
   "name": "python",
   "nbconvert_exporter": "python",
   "pygments_lexer": "ipython3",
   "version": "3.11.10"
  }
 },
 "nbformat": 4,
 "nbformat_minor": 2
}
