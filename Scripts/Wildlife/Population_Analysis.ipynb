{
 "cells": [
  {
   "cell_type": "code",
   "execution_count": 7,
   "metadata": {},
   "outputs": [],
   "source": [
    "import pandas as pd\n",
    "#import utils from parent folder\n",
    "# Determine the absolute path to the Subfolder2 directory\n",
    "import sys\n",
    "import os\n",
    "utils_dir = os.path.abspath(os.path.join(os.getcwd(),  '..', '2023'))\n",
    "import subprocess\n",
    "import pandas as pd\n",
    "import json\n",
    "# Add the Subfolder2 directory to the system path\n",
    "sys.path.append(utils_dir)\n",
    "\n",
    "import numpy as np\n",
    "\n",
    "from utils import *"
   ]
  },
  {
   "cell_type": "code",
   "execution_count": 2,
   "metadata": {},
   "outputs": [],
   "source": [
    "def get_wildlife_data_sql():\n",
    "    engine = get_conn('sde_tabular')\n",
    "    # get BMP Status data as dataframe from BMP SQL Database\n",
    "    with engine.begin() as conn:\n",
    "        # create dataframe from sql query\n",
    "        df = pd.read_sql(\"SELECT * FROM sde_tabular.SDE.ThresholdEvaluation_Wildlife\", conn)\n",
    "    return df\n",
    "\n",
    "    #return the data\n",
    "    return df"
   ]
  },
  {
   "cell_type": "code",
   "execution_count": 3,
   "metadata": {},
   "outputs": [],
   "source": [
    "wildlife_data = get_wildlife_data_sql()\n",
    "bald_eagle_individuals = wildlife_data[wildlife_data['Wildlife_Species'] == 'Bald Eagle - winter']\n",
    "bald_eagle_nesting = wildlife_data[wildlife_data['Wildlife_Species'] == 'Bald Eagle - nesting']\n",
    "osprey_nests = wildlife_data[wildlife_data['Wildlife_Species'] == 'Osprey']\n",
    "peregrine_falcon_nests = wildlife_data[wildlife_data['Wildlife_Species'] == 'Peregrine Falcon']\n"
   ]
  },
  {
   "cell_type": "code",
   "execution_count": 27,
   "metadata": {},
   "outputs": [],
   "source": [
    "def generate_csv(df,filename, year_start = None, year_end= None):\n",
    "    df = df.sort_values(by=['Year']).reset_index(drop=True)\n",
    "    if year_start is not None:\n",
    "        df = df[df['Year'] >= year_start]\n",
    "    if year_end is not None:\n",
    "        df = df[df['Year'] <= year_end]\n",
    "    df_formatted = pd.DataFrame()\n",
    "    df_formatted['Observed.t']= df['Total']\n",
    "    df_formatted['Time.t']= df.index\n",
    "    df_formatted.to_csv(filename, index=False)\n",
    "    return df_formatted"
   ]
  },
  {
   "cell_type": "code",
   "execution_count": 28,
   "metadata": {},
   "outputs": [
    {
     "data": {
      "text/html": [
       "<div>\n",
       "<style scoped>\n",
       "    .dataframe tbody tr th:only-of-type {\n",
       "        vertical-align: middle;\n",
       "    }\n",
       "\n",
       "    .dataframe tbody tr th {\n",
       "        vertical-align: top;\n",
       "    }\n",
       "\n",
       "    .dataframe thead th {\n",
       "        text-align: right;\n",
       "    }\n",
       "</style>\n",
       "<table border=\"1\" class=\"dataframe\">\n",
       "  <thead>\n",
       "    <tr style=\"text-align: right;\">\n",
       "      <th></th>\n",
       "      <th>Observed.t</th>\n",
       "      <th>Time.t</th>\n",
       "    </tr>\n",
       "  </thead>\n",
       "  <tbody>\n",
       "    <tr>\n",
       "      <th>0</th>\n",
       "      <td>0.0</td>\n",
       "      <td>0</td>\n",
       "    </tr>\n",
       "    <tr>\n",
       "      <th>1</th>\n",
       "      <td>1.0</td>\n",
       "      <td>1</td>\n",
       "    </tr>\n",
       "    <tr>\n",
       "      <th>2</th>\n",
       "      <td>1.0</td>\n",
       "      <td>2</td>\n",
       "    </tr>\n",
       "    <tr>\n",
       "      <th>3</th>\n",
       "      <td>2.0</td>\n",
       "      <td>3</td>\n",
       "    </tr>\n",
       "    <tr>\n",
       "      <th>4</th>\n",
       "      <td>2.0</td>\n",
       "      <td>4</td>\n",
       "    </tr>\n",
       "    <tr>\n",
       "      <th>5</th>\n",
       "      <td>2.0</td>\n",
       "      <td>5</td>\n",
       "    </tr>\n",
       "    <tr>\n",
       "      <th>6</th>\n",
       "      <td>3.0</td>\n",
       "      <td>6</td>\n",
       "    </tr>\n",
       "    <tr>\n",
       "      <th>7</th>\n",
       "      <td>4.0</td>\n",
       "      <td>7</td>\n",
       "    </tr>\n",
       "    <tr>\n",
       "      <th>8</th>\n",
       "      <td>4.0</td>\n",
       "      <td>8</td>\n",
       "    </tr>\n",
       "    <tr>\n",
       "      <th>9</th>\n",
       "      <td>4.0</td>\n",
       "      <td>9</td>\n",
       "    </tr>\n",
       "    <tr>\n",
       "      <th>10</th>\n",
       "      <td>5.0</td>\n",
       "      <td>10</td>\n",
       "    </tr>\n",
       "    <tr>\n",
       "      <th>11</th>\n",
       "      <td>5.0</td>\n",
       "      <td>11</td>\n",
       "    </tr>\n",
       "    <tr>\n",
       "      <th>12</th>\n",
       "      <td>5.0</td>\n",
       "      <td>12</td>\n",
       "    </tr>\n",
       "    <tr>\n",
       "      <th>13</th>\n",
       "      <td>4.0</td>\n",
       "      <td>13</td>\n",
       "    </tr>\n",
       "    <tr>\n",
       "      <th>14</th>\n",
       "      <td>5.0</td>\n",
       "      <td>14</td>\n",
       "    </tr>\n",
       "    <tr>\n",
       "      <th>15</th>\n",
       "      <td>4.0</td>\n",
       "      <td>15</td>\n",
       "    </tr>\n",
       "  </tbody>\n",
       "</table>\n",
       "</div>"
      ],
      "text/plain": [
       "    Observed.t  Time.t\n",
       "0          0.0       0\n",
       "1          1.0       1\n",
       "2          1.0       2\n",
       "3          2.0       3\n",
       "4          2.0       4\n",
       "5          2.0       5\n",
       "6          3.0       6\n",
       "7          4.0       7\n",
       "8          4.0       8\n",
       "9          4.0       9\n",
       "10         5.0      10\n",
       "11         5.0      11\n",
       "12         5.0      12\n",
       "13         4.0      13\n",
       "14         5.0      14\n",
       "15         4.0      15"
      ]
     },
     "execution_count": 28,
     "metadata": {},
     "output_type": "execute_result"
    }
   ],
   "source": [
    "# generate csv files for each species\n",
    "generate_csv(bald_eagle_individuals, 'bald_eagle_individuals.csv')\n",
    "#generate_csv(bald_eagle_nesting, 'bald_eagle_nesting.csv')\n",
    "generate_csv(osprey_nests, 'osprey_nests.csv')\n",
    "generate_csv(peregrine_falcon_nests, 'peregrine_falcon_nests.csv')"
   ]
  },
  {
   "cell_type": "code",
   "execution_count": 29,
   "metadata": {},
   "outputs": [
    {
     "data": {
      "text/html": [
       "<div>\n",
       "<style scoped>\n",
       "    .dataframe tbody tr th:only-of-type {\n",
       "        vertical-align: middle;\n",
       "    }\n",
       "\n",
       "    .dataframe tbody tr th {\n",
       "        vertical-align: top;\n",
       "    }\n",
       "\n",
       "    .dataframe thead th {\n",
       "        text-align: right;\n",
       "    }\n",
       "</style>\n",
       "<table border=\"1\" class=\"dataframe\">\n",
       "  <thead>\n",
       "    <tr style=\"text-align: right;\">\n",
       "      <th></th>\n",
       "      <th>Observed.t</th>\n",
       "      <th>Time.t</th>\n",
       "    </tr>\n",
       "  </thead>\n",
       "  <tbody>\n",
       "    <tr>\n",
       "      <th>5</th>\n",
       "      <td>21.0</td>\n",
       "      <td>5</td>\n",
       "    </tr>\n",
       "    <tr>\n",
       "      <th>6</th>\n",
       "      <td>29.0</td>\n",
       "      <td>6</td>\n",
       "    </tr>\n",
       "    <tr>\n",
       "      <th>7</th>\n",
       "      <td>28.0</td>\n",
       "      <td>7</td>\n",
       "    </tr>\n",
       "    <tr>\n",
       "      <th>8</th>\n",
       "      <td>22.0</td>\n",
       "      <td>8</td>\n",
       "    </tr>\n",
       "    <tr>\n",
       "      <th>9</th>\n",
       "      <td>24.0</td>\n",
       "      <td>9</td>\n",
       "    </tr>\n",
       "    <tr>\n",
       "      <th>10</th>\n",
       "      <td>24.0</td>\n",
       "      <td>10</td>\n",
       "    </tr>\n",
       "    <tr>\n",
       "      <th>11</th>\n",
       "      <td>22.0</td>\n",
       "      <td>11</td>\n",
       "    </tr>\n",
       "    <tr>\n",
       "      <th>12</th>\n",
       "      <td>24.0</td>\n",
       "      <td>12</td>\n",
       "    </tr>\n",
       "    <tr>\n",
       "      <th>13</th>\n",
       "      <td>26.0</td>\n",
       "      <td>13</td>\n",
       "    </tr>\n",
       "    <tr>\n",
       "      <th>14</th>\n",
       "      <td>26.0</td>\n",
       "      <td>14</td>\n",
       "    </tr>\n",
       "    <tr>\n",
       "      <th>15</th>\n",
       "      <td>22.0</td>\n",
       "      <td>15</td>\n",
       "    </tr>\n",
       "    <tr>\n",
       "      <th>16</th>\n",
       "      <td>26.0</td>\n",
       "      <td>16</td>\n",
       "    </tr>\n",
       "    <tr>\n",
       "      <th>17</th>\n",
       "      <td>29.0</td>\n",
       "      <td>17</td>\n",
       "    </tr>\n",
       "    <tr>\n",
       "      <th>18</th>\n",
       "      <td>30.0</td>\n",
       "      <td>18</td>\n",
       "    </tr>\n",
       "    <tr>\n",
       "      <th>19</th>\n",
       "      <td>25.0</td>\n",
       "      <td>19</td>\n",
       "    </tr>\n",
       "    <tr>\n",
       "      <th>20</th>\n",
       "      <td>25.0</td>\n",
       "      <td>20</td>\n",
       "    </tr>\n",
       "    <tr>\n",
       "      <th>21</th>\n",
       "      <td>22.0</td>\n",
       "      <td>21</td>\n",
       "    </tr>\n",
       "    <tr>\n",
       "      <th>22</th>\n",
       "      <td>29.0</td>\n",
       "      <td>22</td>\n",
       "    </tr>\n",
       "    <tr>\n",
       "      <th>23</th>\n",
       "      <td>24.0</td>\n",
       "      <td>23</td>\n",
       "    </tr>\n",
       "    <tr>\n",
       "      <th>24</th>\n",
       "      <td>29.0</td>\n",
       "      <td>24</td>\n",
       "    </tr>\n",
       "    <tr>\n",
       "      <th>25</th>\n",
       "      <td>22.0</td>\n",
       "      <td>25</td>\n",
       "    </tr>\n",
       "    <tr>\n",
       "      <th>26</th>\n",
       "      <td>21.0</td>\n",
       "      <td>26</td>\n",
       "    </tr>\n",
       "  </tbody>\n",
       "</table>\n",
       "</div>"
      ],
      "text/plain": [
       "    Observed.t  Time.t\n",
       "5         21.0       5\n",
       "6         29.0       6\n",
       "7         28.0       7\n",
       "8         22.0       8\n",
       "9         24.0       9\n",
       "10        24.0      10\n",
       "11        22.0      11\n",
       "12        24.0      12\n",
       "13        26.0      13\n",
       "14        26.0      14\n",
       "15        22.0      15\n",
       "16        26.0      16\n",
       "17        29.0      17\n",
       "18        30.0      18\n",
       "19        25.0      19\n",
       "20        25.0      20\n",
       "21        22.0      21\n",
       "22        29.0      22\n",
       "23        24.0      23\n",
       "24        29.0      24\n",
       "25        22.0      25\n",
       "26        21.0      26"
      ]
     },
     "execution_count": 29,
     "metadata": {},
     "output_type": "execute_result"
    }
   ],
   "source": [
    "generate_csv(osprey_nests, 'osprey_nests_post_2002.csv', year_start=2002)"
   ]
  },
  {
   "cell_type": "code",
   "execution_count": 41,
   "metadata": {},
   "outputs": [],
   "source": [
    "test_osprey = generate_csv(osprey_nests, r'C:\\Users\\amcclary\\Documents\\GitHub\\ThresholdEvaluation\\Scripts\\Analysis\\osprey.csv')"
   ]
  },
  {
   "cell_type": "code",
   "execution_count": 10,
   "metadata": {},
   "outputs": [
    {
     "name": "stdout",
     "output_type": "stream",
     "text": [
      "   Parameter                                              Value\n",
      "0       EGOE  {'mu': 0.0131, 'x0': 2.9754, 'ssq': 0, 'tsq': ...\n",
      "1       EGPN  {'mu': 0.0215, 'x0': 2.4849, 'ssq': 0.0272, 't...\n",
      "2    EGSS_ML  {'mu': 0.019, 'ssq': 0.0117, 'tsq': 0.0069, 'x...\n",
      "3  EGSS_REML  {'mu': [[0.0192]], 'ssq': 0.0138, 'tsq': 0.006...\n"
     ]
    }
   ],
   "source": [
    "import subprocess\n",
    "import pandas as pd\n",
    "import json\n",
    "\n",
    "# Define your inputs\n",
    "csv_file = r'C:/Users/amcclary/Documents/GitHub/ThresholdEvaluation/Scripts/Wildlife/osprey.csv'\n",
    "output_dir = r'C:/Users/amcclary/Documents/GitHub/ThresholdEvaluation/Scripts/Wildlife'\n",
    "rscript = r'C:/Users/amcclary/Documents/GitHub/ThresholdEvaluation/Scripts/Wildlife/Population_Trends.R'\n",
    "\n",
    "# Call the R script using subprocess\n",
    "result = subprocess.run(\n",
    "    [\"Rscript\", rscript, csv_file, output_dir], \n",
    "    capture_output=True, \n",
    "    text=True\n",
    ")\n",
    "\n",
    "# Check for errors\n",
    "if result.returncode != 0:\n",
    "    print(\"Error:\", result.stderr)\n",
    "else:\n",
    "    # Parse JSON output from the R script\n",
    "    results = json.loads(result.stdout)\n",
    "    \n",
    "    # Convert the results to a DataFrame\n",
    "    output_df = pd.DataFrame(list(results.items()), columns=['Parameter', 'Value'])\n",
    "    \n",
    "    # Display the DataFrame\n",
    "    print(output_df)\n"
   ]
  },
  {
   "cell_type": "code",
   "execution_count": 34,
   "metadata": {},
   "outputs": [
    {
     "name": "stdout",
     "output_type": "stream",
     "text": [
      "17.0\n"
     ]
    }
   ],
   "source": [
    "# Next step, run this for each dataframe and then create plots with the predicted line and the observed data\n",
    "# access the mu value from the output_df \n",
    "# Extract 'mu' values from the 'data' column\n",
    "df = output_df.copy()\n",
    "df['mu'] = df['Value'].apply(lambda x: x.get('mu', None))  # Adjust key as needed\n",
    "df['ssq'] = df['Value'].apply(lambda x: x.get('ssq', None))  # Adjust key as needed\n",
    "df['tsq'] = df['Value'].apply(lambda x: x.get('tsq', None))  # Adjust key as needed\n",
    "df['growth_rate'] = np.exp(df['mu'])\n",
    "df['Start_Year'] = 2006\n",
    "df['End_Year'] = 2023\n",
    "mu = df.loc[df['Parameter']=='EGPN', 'mu'].values[0]\n",
    "# Display the DataFrame\n",
    "# inverse natural log transformation\n",
    "mu = np.exp(mu)\n",
    "#print(mu)\n",
    "osprey_df = osprey_nests.copy()\n",
    "# Initialize the starting value\n",
    "osprey_df['adjusted_value'] = osprey_df['Total']  # Start with the original value\n",
    "osprey_df = osprey_df.reset_index(drop=True)\n",
    "# Apply the increase factor cumulatively\n",
    "print(osprey_df.loc[1, 'adjusted_value'])\n",
    "\n",
    "for i in range(1, len(osprey_df)):\n",
    "     osprey_df.loc[i, 'adjusted_value'] = osprey_df.loc[i-1, 'adjusted_value'] * mu\n",
    "osprey_df['Predicted'] = osprey_df['adjusted_value']\n",
    "osprey_df['Observed'] = osprey_df['Total']"
   ]
  },
  {
   "cell_type": "code",
   "execution_count": 25,
   "metadata": {},
   "outputs": [],
   "source": [
    "def generate_trend_estimate(df, species, csv_file, output_dir, rscript, year_start = None, year_end= None):\n",
    "    df_species = df.loc[df['Wildlife_Species'] == species]\n",
    "    df_species = df_species.sort_values(by=['Year']).reset_index(drop=True)\n",
    "    if year_start is not None:\n",
    "        df_species = df_species[df_species['Year'] >= year_start]\n",
    "    if year_end is not None:\n",
    "        df_species = df_species[df_species['Year'] <= year_end]\n",
    "    max_year = df_species['Year'].max()\n",
    "    min_year = df_species['Year'].min()\n",
    "    df_formatted = pd.DataFrame()\n",
    "    df_formatted['Observed.t']= df_species['Total']\n",
    "    df_formatted['Time.t']= df_species.index\n",
    "    df_formatted.to_csv(csv_file, index=False)\n",
    "    result = subprocess.run(\n",
    "    [\"Rscript\", rscript, csv_file, output_dir], \n",
    "    capture_output=True, \n",
    "    text=True\n",
    "    )\n",
    "\n",
    "    # Check for errors\n",
    "    if result.returncode != 0:\n",
    "        print(\"Error:\", result.stderr)\n",
    "    else:\n",
    "        # Parse JSON output from the R script\n",
    "        results = json.loads(result.stdout)\n",
    "        \n",
    "        # Convert the results to a DataFrame\n",
    "        output_df = pd.DataFrame(list(results.items()), columns=['Parameter', 'Value'])\n",
    "    \n",
    "    df = output_df.copy()\n",
    "    df['mu'] = df['Value'].apply(lambda x: x.get('mu', None))  # Adjust key as needed\n",
    "    df['ssq'] = df['Value'].apply(lambda x: x.get('ssq', None))  # Adjust key as needed\n",
    "    df['tsq'] = df['Value'].apply(lambda x: x.get('tsq', None))  # Adjust key as needed\n",
    "    df['lower'] = df['Value'].apply(lambda x: x.get('ci_mu', {}).get('lower', None)) \n",
    "    df['upper'] = df['Value'].apply(lambda x: x.get('ci_mu', {}).get('upper', None))\n",
    "    \n",
    "    df['mu']=pd.to_numeric(df['mu'], errors='coerce')\n",
    "    df['lower']=pd.to_numeric(df['lower'], errors='coerce')\n",
    "    df['upper']=pd.to_numeric(df['upper'], errors='coerce')\n",
    "    df['growth_rate'] = np.exp(df['mu'])\n",
    "    df['growth_rate_lower'] = np.exp(df['lower'])\n",
    "    df['growth_rate_upper'] = np.exp(df['upper'])\n",
    "    df['growth_percent'] = (df['growth_rate'] - 1) * 100\n",
    "    df['growth_percent_lower'] = (df['growth_rate_lower'] - 1) * 100\n",
    "    df['growth_percent_upper'] = (df['growth_rate_upper'] - 1) * 100\n",
    "    df['Start_Year'] = min_year\n",
    "    df['End_Year'] = max_year\n",
    "    df.drop(columns=['Value'], inplace=True)\n",
    "    df['Species'] = species\n",
    "    return df\n"
   ]
  },
  {
   "cell_type": "code",
   "execution_count": 43,
   "metadata": {},
   "outputs": [],
   "source": [
    "osprey_trend = generate_trend_estimate(wildlife_data, 'Osprey', \n",
    "                                       r'C:\\Users\\amcclary\\Documents\\GitHub\\ThresholdEvaluation\\Scripts\\Analysis\\osprey.csv', \n",
    "                                       r'C:\\Users\\amcclary\\Documents\\GitHub\\ThresholdEvaluation\\Scripts\\Analysis', \n",
    "                                       r'C:\\Users\\amcclary\\Documents\\GitHub\\ThresholdEvaluation\\Scripts\\Analysis\\Wildlife\\Population_Trends.R')"
   ]
  },
  {
   "cell_type": "code",
   "execution_count": 26,
   "metadata": {},
   "outputs": [
    {
     "name": "stdout",
     "output_type": "stream",
     "text": [
      "   Parameter      mu     ssq     tsq   lower   upper  growth_rate  \\\n",
      "0       EGOE  0.0131  0.0000  0.0290 -0.0354  0.0615     1.013186   \n",
      "1       EGPN  0.0215  0.0272  0.0000 -0.3629  0.4059     1.021733   \n",
      "2    EGSS_ML  0.0190  0.0117  0.0069 -0.0267  0.0647     1.019182   \n",
      "3  EGSS_REML     NaN  0.0138  0.0067     NaN     NaN          NaN   \n",
      "\n",
      "   growth_rate_lower  growth_rate_upper  growth_percent  growth_percent_lower  \\\n",
      "0           0.965219           1.063430        1.318618             -3.478075   \n",
      "1           0.695656           1.500652        2.173279            -30.434400   \n",
      "2           0.973653           1.066839        1.918165             -2.634671   \n",
      "3                NaN                NaN             NaN                   NaN   \n",
      "\n",
      "   growth_percent_upper  Start_Year  End_Year Species  \n",
      "0              6.343050      1997.0    2023.0  Osprey  \n",
      "1             50.065248      1997.0    2023.0  Osprey  \n",
      "2              6.683892      1997.0    2023.0  Osprey  \n",
      "3                   NaN      1997.0    2023.0  Osprey  \n",
      "   Parameter      mu           ssq     tsq   lower   upper  growth_rate  \\\n",
      "0       EGOE  0.0496  0.000000e+00  0.1098 -0.0017  0.1008     1.050851   \n",
      "1       EGPN  0.0439  1.832000e-01  0.0000 -0.3481  0.4359     1.044878   \n",
      "2    EGSS_ML  0.0496  5.887300e-11  0.1013 -0.0728  0.1720     1.050851   \n",
      "3  EGSS_REML     NaN  1.130000e-02  0.0886     NaN     NaN          NaN   \n",
      "\n",
      "   growth_rate_lower  growth_rate_upper  growth_percent  growth_percent_lower  \\\n",
      "0           0.998301           1.106055        5.085067             -0.169856   \n",
      "1           0.706028           1.546354        4.487786            -29.397173   \n",
      "2           0.929787           1.187678        5.085067             -7.021323   \n",
      "3                NaN                NaN             NaN                   NaN   \n",
      "\n",
      "   growth_percent_upper  Start_Year  End_Year              Species  \n",
      "0             10.605541      1998.0    2023.0  Bald Eagle - winter  \n",
      "1             54.635415      1998.0    2023.0  Bald Eagle - winter  \n",
      "2             18.767783      1998.0    2023.0  Bald Eagle - winter  \n",
      "3                   NaN      1998.0    2023.0  Bald Eagle - winter  \n"
     ]
    }
   ],
   "source": [
    "csv_file = r'C:/Users/amcclary/Documents/GitHub/ThresholdEvaluation/Scripts/Wildlife/input.csv'\n",
    "output_dir = r'C:/Users/amcclary/Documents/GitHub/ThresholdEvaluation/Scripts/Wildlife'\n",
    "rscript = r'C:/Users/amcclary/Documents/GitHub/ThresholdEvaluation/Scripts/Wildlife/Population_Trends.R'\n",
    "osprey_estimates_all_years = generate_trend_estimate(wildlife_data, 'Osprey', csv_file, output_dir, rscript)\n",
    "print (osprey_estimates_all_years)\n",
    "bald_eagle_individuals_estimates_all_years = generate_trend_estimate(wildlife_data, 'Bald Eagle - winter', csv_file, output_dir, rscript)\n",
    "print (bald_eagle_individuals_estimates_all_years)\n",
    "peregrine_falcon_nests_estimates_no_year_0 = generate_trend_estimate(wildlife_data, 'Peregrine Falcon', csv_file, output_dir, rscript, year_start = 2009, year_end= 2023)\n",
    "osprey_estimates_post_2002 = generate_trend_estimate(wildlife_data, 'Osprey', csv_file, output_dir, rscript, year_start = 2003)\n",
    "osprey_test = generate_trend_estimate(wildlife_data, 'Osprey', csv_file, output_dir, rscript, year_end= 2015)\n",
    "all_estimates = pd.concat([osprey_estimates_all_years, bald_eagle_individuals_estimates_all_years, peregrine_falcon_nests_estimates_no_year_0, osprey_estimates_post_2002, osprey_test])"
   ]
  },
  {
   "cell_type": "code",
   "execution_count": 19,
   "metadata": {},
   "outputs": [],
   "source": [
    "all_estimates['mu'] = pd.to_numeric(all_estimates['mu'], errors='coerce')\n",
    "\n",
    "# Apply the exponential function to the 'mu' column\n",
    "all_estimates['growth_rate'] = np.exp(all_estimates['mu'])"
   ]
  },
  {
   "cell_type": "code",
   "execution_count": 18,
   "metadata": {},
   "outputs": [
    {
     "name": "stdout",
     "output_type": "stream",
     "text": [
      "object\n",
      "0     0.0131\n",
      "1     0.0215\n",
      "2      0.019\n",
      "0     0.0496\n",
      "1     0.0439\n",
      "2     0.0496\n",
      "0     0.1081\n",
      "1      0.099\n",
      "2   -11.5401\n",
      "0    -0.0019\n",
      "1    -0.0161\n",
      "2    -0.0019\n",
      "Name: mu, dtype: object\n"
     ]
    }
   ],
   "source": [
    "print(all_estimates['mu'].dtype)\n",
    "print(all_estimates['mu'])\n"
   ]
  },
  {
   "cell_type": "code",
   "execution_count": 54,
   "metadata": {},
   "outputs": [],
   "source": [
    "all_estimates.to_csv(r'C:\\Users\\amcclary\\Documents\\GitHub\\ThresholdEvaluation\\Scripts\\Analysis\\population_estimates.csv', index=False)"
   ]
  },
  {
   "cell_type": "code",
   "execution_count": 35,
   "metadata": {},
   "outputs": [
    {
     "data": {
      "application/vnd.plotly.v1+json": {
       "config": {
        "plotlyServerURL": "https://plot.ly"
       },
       "data": [
        {
         "hovertemplate": "variable=Observed<br>Year=%{x}<br>value=%{y}<extra></extra>",
         "legendgroup": "Observed",
         "line": {
          "color": "#636efa",
          "dash": "solid"
         },
         "marker": {
          "symbol": "circle"
         },
         "mode": "lines",
         "name": "Observed",
         "orientation": "v",
         "showlegend": true,
         "type": "scatter",
         "x": [
          1997,
          1998,
          1999,
          2000,
          2001,
          2002,
          2003,
          2004,
          2005,
          2006,
          2007,
          2008,
          2009,
          2010,
          2011,
          2012,
          2013,
          2014,
          2015,
          2016,
          2017,
          2018,
          2019,
          2020,
          2021,
          2022,
          2023
         ],
         "xaxis": "x",
         "y": [
          12,
          17,
          20,
          19,
          20,
          21,
          29,
          28,
          22,
          24,
          24,
          22,
          24,
          26,
          26,
          22,
          26,
          29,
          30,
          25,
          25,
          22,
          29,
          24,
          29,
          22,
          21
         ],
         "yaxis": "y"
        },
        {
         "hovertemplate": "variable=Predicted<br>Year=%{x}<br>value=%{y}<extra></extra>",
         "legendgroup": "Predicted",
         "line": {
          "color": "#EF553B",
          "dash": "solid"
         },
         "marker": {
          "symbol": "circle"
         },
         "mode": "lines",
         "name": "Predicted",
         "orientation": "v",
         "showlegend": true,
         "type": "scatter",
         "x": [
          1997,
          1998,
          1999,
          2000,
          2001,
          2002,
          2003,
          2004,
          2005,
          2006,
          2007,
          2008,
          2009,
          2010,
          2011,
          2012,
          2013,
          2014,
          2015,
          2016,
          2017,
          2018,
          2019,
          2020,
          2021,
          2022,
          2023
         ],
         "xaxis": "x",
         "y": [
          12,
          12.260793484048584,
          12.527254738207352,
          12.799506938935789,
          13.077675939661548,
          13.361890328958438,
          13.652281489988784,
          13.948983661237632,
          14.252133998566878,
          14.561872638618006,
          14.878342763592752,
          15.20169066744162,
          15.532065823490866,
          15.86962095353921,
          16.214512098456204,
          16.566898690314897,
          16.92694362609216,
          17.29481334297071,
          17.67067789527765,
          18.05471103309513,
          18.447090282579406,
          18.847997028025464,
          19.25761659571514,
          19.67613833958751,
          20.10375572877109,
          20.540666437018416,
          20.987072434084237
         ],
         "yaxis": "y"
        }
       ],
       "layout": {
        "legend": {
         "title": {
          "text": "variable"
         },
         "tracegroupgap": 0
        },
        "template": {
         "data": {
          "bar": [
           {
            "error_x": {
             "color": "#2a3f5f"
            },
            "error_y": {
             "color": "#2a3f5f"
            },
            "marker": {
             "line": {
              "color": "#E5ECF6",
              "width": 0.5
             },
             "pattern": {
              "fillmode": "overlay",
              "size": 10,
              "solidity": 0.2
             }
            },
            "type": "bar"
           }
          ],
          "barpolar": [
           {
            "marker": {
             "line": {
              "color": "#E5ECF6",
              "width": 0.5
             },
             "pattern": {
              "fillmode": "overlay",
              "size": 10,
              "solidity": 0.2
             }
            },
            "type": "barpolar"
           }
          ],
          "carpet": [
           {
            "aaxis": {
             "endlinecolor": "#2a3f5f",
             "gridcolor": "white",
             "linecolor": "white",
             "minorgridcolor": "white",
             "startlinecolor": "#2a3f5f"
            },
            "baxis": {
             "endlinecolor": "#2a3f5f",
             "gridcolor": "white",
             "linecolor": "white",
             "minorgridcolor": "white",
             "startlinecolor": "#2a3f5f"
            },
            "type": "carpet"
           }
          ],
          "choropleth": [
           {
            "colorbar": {
             "outlinewidth": 0,
             "ticks": ""
            },
            "type": "choropleth"
           }
          ],
          "contour": [
           {
            "colorbar": {
             "outlinewidth": 0,
             "ticks": ""
            },
            "colorscale": [
             [
              0,
              "#0d0887"
             ],
             [
              0.1111111111111111,
              "#46039f"
             ],
             [
              0.2222222222222222,
              "#7201a8"
             ],
             [
              0.3333333333333333,
              "#9c179e"
             ],
             [
              0.4444444444444444,
              "#bd3786"
             ],
             [
              0.5555555555555556,
              "#d8576b"
             ],
             [
              0.6666666666666666,
              "#ed7953"
             ],
             [
              0.7777777777777778,
              "#fb9f3a"
             ],
             [
              0.8888888888888888,
              "#fdca26"
             ],
             [
              1,
              "#f0f921"
             ]
            ],
            "type": "contour"
           }
          ],
          "contourcarpet": [
           {
            "colorbar": {
             "outlinewidth": 0,
             "ticks": ""
            },
            "type": "contourcarpet"
           }
          ],
          "heatmap": [
           {
            "colorbar": {
             "outlinewidth": 0,
             "ticks": ""
            },
            "colorscale": [
             [
              0,
              "#0d0887"
             ],
             [
              0.1111111111111111,
              "#46039f"
             ],
             [
              0.2222222222222222,
              "#7201a8"
             ],
             [
              0.3333333333333333,
              "#9c179e"
             ],
             [
              0.4444444444444444,
              "#bd3786"
             ],
             [
              0.5555555555555556,
              "#d8576b"
             ],
             [
              0.6666666666666666,
              "#ed7953"
             ],
             [
              0.7777777777777778,
              "#fb9f3a"
             ],
             [
              0.8888888888888888,
              "#fdca26"
             ],
             [
              1,
              "#f0f921"
             ]
            ],
            "type": "heatmap"
           }
          ],
          "heatmapgl": [
           {
            "colorbar": {
             "outlinewidth": 0,
             "ticks": ""
            },
            "colorscale": [
             [
              0,
              "#0d0887"
             ],
             [
              0.1111111111111111,
              "#46039f"
             ],
             [
              0.2222222222222222,
              "#7201a8"
             ],
             [
              0.3333333333333333,
              "#9c179e"
             ],
             [
              0.4444444444444444,
              "#bd3786"
             ],
             [
              0.5555555555555556,
              "#d8576b"
             ],
             [
              0.6666666666666666,
              "#ed7953"
             ],
             [
              0.7777777777777778,
              "#fb9f3a"
             ],
             [
              0.8888888888888888,
              "#fdca26"
             ],
             [
              1,
              "#f0f921"
             ]
            ],
            "type": "heatmapgl"
           }
          ],
          "histogram": [
           {
            "marker": {
             "pattern": {
              "fillmode": "overlay",
              "size": 10,
              "solidity": 0.2
             }
            },
            "type": "histogram"
           }
          ],
          "histogram2d": [
           {
            "colorbar": {
             "outlinewidth": 0,
             "ticks": ""
            },
            "colorscale": [
             [
              0,
              "#0d0887"
             ],
             [
              0.1111111111111111,
              "#46039f"
             ],
             [
              0.2222222222222222,
              "#7201a8"
             ],
             [
              0.3333333333333333,
              "#9c179e"
             ],
             [
              0.4444444444444444,
              "#bd3786"
             ],
             [
              0.5555555555555556,
              "#d8576b"
             ],
             [
              0.6666666666666666,
              "#ed7953"
             ],
             [
              0.7777777777777778,
              "#fb9f3a"
             ],
             [
              0.8888888888888888,
              "#fdca26"
             ],
             [
              1,
              "#f0f921"
             ]
            ],
            "type": "histogram2d"
           }
          ],
          "histogram2dcontour": [
           {
            "colorbar": {
             "outlinewidth": 0,
             "ticks": ""
            },
            "colorscale": [
             [
              0,
              "#0d0887"
             ],
             [
              0.1111111111111111,
              "#46039f"
             ],
             [
              0.2222222222222222,
              "#7201a8"
             ],
             [
              0.3333333333333333,
              "#9c179e"
             ],
             [
              0.4444444444444444,
              "#bd3786"
             ],
             [
              0.5555555555555556,
              "#d8576b"
             ],
             [
              0.6666666666666666,
              "#ed7953"
             ],
             [
              0.7777777777777778,
              "#fb9f3a"
             ],
             [
              0.8888888888888888,
              "#fdca26"
             ],
             [
              1,
              "#f0f921"
             ]
            ],
            "type": "histogram2dcontour"
           }
          ],
          "mesh3d": [
           {
            "colorbar": {
             "outlinewidth": 0,
             "ticks": ""
            },
            "type": "mesh3d"
           }
          ],
          "parcoords": [
           {
            "line": {
             "colorbar": {
              "outlinewidth": 0,
              "ticks": ""
             }
            },
            "type": "parcoords"
           }
          ],
          "pie": [
           {
            "automargin": true,
            "type": "pie"
           }
          ],
          "scatter": [
           {
            "fillpattern": {
             "fillmode": "overlay",
             "size": 10,
             "solidity": 0.2
            },
            "type": "scatter"
           }
          ],
          "scatter3d": [
           {
            "line": {
             "colorbar": {
              "outlinewidth": 0,
              "ticks": ""
             }
            },
            "marker": {
             "colorbar": {
              "outlinewidth": 0,
              "ticks": ""
             }
            },
            "type": "scatter3d"
           }
          ],
          "scattercarpet": [
           {
            "marker": {
             "colorbar": {
              "outlinewidth": 0,
              "ticks": ""
             }
            },
            "type": "scattercarpet"
           }
          ],
          "scattergeo": [
           {
            "marker": {
             "colorbar": {
              "outlinewidth": 0,
              "ticks": ""
             }
            },
            "type": "scattergeo"
           }
          ],
          "scattergl": [
           {
            "marker": {
             "colorbar": {
              "outlinewidth": 0,
              "ticks": ""
             }
            },
            "type": "scattergl"
           }
          ],
          "scattermapbox": [
           {
            "marker": {
             "colorbar": {
              "outlinewidth": 0,
              "ticks": ""
             }
            },
            "type": "scattermapbox"
           }
          ],
          "scatterpolar": [
           {
            "marker": {
             "colorbar": {
              "outlinewidth": 0,
              "ticks": ""
             }
            },
            "type": "scatterpolar"
           }
          ],
          "scatterpolargl": [
           {
            "marker": {
             "colorbar": {
              "outlinewidth": 0,
              "ticks": ""
             }
            },
            "type": "scatterpolargl"
           }
          ],
          "scatterternary": [
           {
            "marker": {
             "colorbar": {
              "outlinewidth": 0,
              "ticks": ""
             }
            },
            "type": "scatterternary"
           }
          ],
          "surface": [
           {
            "colorbar": {
             "outlinewidth": 0,
             "ticks": ""
            },
            "colorscale": [
             [
              0,
              "#0d0887"
             ],
             [
              0.1111111111111111,
              "#46039f"
             ],
             [
              0.2222222222222222,
              "#7201a8"
             ],
             [
              0.3333333333333333,
              "#9c179e"
             ],
             [
              0.4444444444444444,
              "#bd3786"
             ],
             [
              0.5555555555555556,
              "#d8576b"
             ],
             [
              0.6666666666666666,
              "#ed7953"
             ],
             [
              0.7777777777777778,
              "#fb9f3a"
             ],
             [
              0.8888888888888888,
              "#fdca26"
             ],
             [
              1,
              "#f0f921"
             ]
            ],
            "type": "surface"
           }
          ],
          "table": [
           {
            "cells": {
             "fill": {
              "color": "#EBF0F8"
             },
             "line": {
              "color": "white"
             }
            },
            "header": {
             "fill": {
              "color": "#C8D4E3"
             },
             "line": {
              "color": "white"
             }
            },
            "type": "table"
           }
          ]
         },
         "layout": {
          "annotationdefaults": {
           "arrowcolor": "#2a3f5f",
           "arrowhead": 0,
           "arrowwidth": 1
          },
          "autotypenumbers": "strict",
          "coloraxis": {
           "colorbar": {
            "outlinewidth": 0,
            "ticks": ""
           }
          },
          "colorscale": {
           "diverging": [
            [
             0,
             "#8e0152"
            ],
            [
             0.1,
             "#c51b7d"
            ],
            [
             0.2,
             "#de77ae"
            ],
            [
             0.3,
             "#f1b6da"
            ],
            [
             0.4,
             "#fde0ef"
            ],
            [
             0.5,
             "#f7f7f7"
            ],
            [
             0.6,
             "#e6f5d0"
            ],
            [
             0.7,
             "#b8e186"
            ],
            [
             0.8,
             "#7fbc41"
            ],
            [
             0.9,
             "#4d9221"
            ],
            [
             1,
             "#276419"
            ]
           ],
           "sequential": [
            [
             0,
             "#0d0887"
            ],
            [
             0.1111111111111111,
             "#46039f"
            ],
            [
             0.2222222222222222,
             "#7201a8"
            ],
            [
             0.3333333333333333,
             "#9c179e"
            ],
            [
             0.4444444444444444,
             "#bd3786"
            ],
            [
             0.5555555555555556,
             "#d8576b"
            ],
            [
             0.6666666666666666,
             "#ed7953"
            ],
            [
             0.7777777777777778,
             "#fb9f3a"
            ],
            [
             0.8888888888888888,
             "#fdca26"
            ],
            [
             1,
             "#f0f921"
            ]
           ],
           "sequentialminus": [
            [
             0,
             "#0d0887"
            ],
            [
             0.1111111111111111,
             "#46039f"
            ],
            [
             0.2222222222222222,
             "#7201a8"
            ],
            [
             0.3333333333333333,
             "#9c179e"
            ],
            [
             0.4444444444444444,
             "#bd3786"
            ],
            [
             0.5555555555555556,
             "#d8576b"
            ],
            [
             0.6666666666666666,
             "#ed7953"
            ],
            [
             0.7777777777777778,
             "#fb9f3a"
            ],
            [
             0.8888888888888888,
             "#fdca26"
            ],
            [
             1,
             "#f0f921"
            ]
           ]
          },
          "colorway": [
           "#636efa",
           "#EF553B",
           "#00cc96",
           "#ab63fa",
           "#FFA15A",
           "#19d3f3",
           "#FF6692",
           "#B6E880",
           "#FF97FF",
           "#FECB52"
          ],
          "font": {
           "color": "#2a3f5f"
          },
          "geo": {
           "bgcolor": "white",
           "lakecolor": "white",
           "landcolor": "#E5ECF6",
           "showlakes": true,
           "showland": true,
           "subunitcolor": "white"
          },
          "hoverlabel": {
           "align": "left"
          },
          "hovermode": "closest",
          "mapbox": {
           "style": "light"
          },
          "paper_bgcolor": "white",
          "plot_bgcolor": "#E5ECF6",
          "polar": {
           "angularaxis": {
            "gridcolor": "white",
            "linecolor": "white",
            "ticks": ""
           },
           "bgcolor": "#E5ECF6",
           "radialaxis": {
            "gridcolor": "white",
            "linecolor": "white",
            "ticks": ""
           }
          },
          "scene": {
           "xaxis": {
            "backgroundcolor": "#E5ECF6",
            "gridcolor": "white",
            "gridwidth": 2,
            "linecolor": "white",
            "showbackground": true,
            "ticks": "",
            "zerolinecolor": "white"
           },
           "yaxis": {
            "backgroundcolor": "#E5ECF6",
            "gridcolor": "white",
            "gridwidth": 2,
            "linecolor": "white",
            "showbackground": true,
            "ticks": "",
            "zerolinecolor": "white"
           },
           "zaxis": {
            "backgroundcolor": "#E5ECF6",
            "gridcolor": "white",
            "gridwidth": 2,
            "linecolor": "white",
            "showbackground": true,
            "ticks": "",
            "zerolinecolor": "white"
           }
          },
          "shapedefaults": {
           "line": {
            "color": "#2a3f5f"
           }
          },
          "ternary": {
           "aaxis": {
            "gridcolor": "white",
            "linecolor": "white",
            "ticks": ""
           },
           "baxis": {
            "gridcolor": "white",
            "linecolor": "white",
            "ticks": ""
           },
           "bgcolor": "#E5ECF6",
           "caxis": {
            "gridcolor": "white",
            "linecolor": "white",
            "ticks": ""
           }
          },
          "title": {
           "x": 0.05
          },
          "xaxis": {
           "automargin": true,
           "gridcolor": "white",
           "linecolor": "white",
           "ticks": "",
           "title": {
            "standoff": 15
           },
           "zerolinecolor": "white",
           "zerolinewidth": 2
          },
          "yaxis": {
           "automargin": true,
           "gridcolor": "white",
           "linecolor": "white",
           "ticks": "",
           "title": {
            "standoff": 15
           },
           "zerolinecolor": "white",
           "zerolinewidth": 2
          }
         }
        },
        "title": {
         "text": "Osprey Population Trends"
        },
        "xaxis": {
         "anchor": "y",
         "domain": [
          0,
          1
         ],
         "title": {
          "text": "Year"
         }
        },
        "yaxis": {
         "anchor": "x",
         "domain": [
          0,
          1
         ],
         "title": {
          "text": "value"
         }
        }
       }
      }
     },
     "metadata": {},
     "output_type": "display_data"
    }
   ],
   "source": [
    "#plot the observed and predicted data with year on the x axis using plotly\n",
    "import plotly.express as px\n",
    "fig = px.line(osprey_df, x='Year', y=['Observed', 'Predicted'], title='Osprey Population Trends')\n",
    "fig.show()"
   ]
  }
 ],
 "metadata": {
  "kernelspec": {
   "display_name": "Python 3",
   "language": "python",
   "name": "python3"
  },
  "language_info": {
   "codemirror_mode": {
    "name": "ipython",
    "version": 3
   },
   "file_extension": ".py",
   "mimetype": "text/x-python",
   "name": "python",
   "nbconvert_exporter": "python",
   "pygments_lexer": "ipython3",
   "version": "3.11.8"
  }
 },
 "nbformat": 4,
 "nbformat_minor": 2
}
