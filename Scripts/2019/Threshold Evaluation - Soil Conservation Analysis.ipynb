{
 "cells": [
  {
   "cell_type": "markdown",
   "metadata": {},
   "source": [
    "## Setup"
   ]
  },
  {
   "cell_type": "code",
   "execution_count": null,
   "metadata": {
    "ExecuteTime": {
     "end_time": "2020-11-10T23:14:11.498778Z",
     "start_time": "2020-11-10T23:13:57.540611Z"
    }
   },
   "outputs": [],
   "source": [
    "# import packages and modules\n",
    "import os\n",
    "import csv\n",
    "from datetime import datetime\n",
    "import pyodbc\n",
    "import arcpy\n",
    "from arcgis.features import FeatureSet, GeoAccessor, GeoSeriesAccessor\n",
    "import pickle\n",
    "import pandas as pd\n",
    "from functools import reduce\n",
    "\n",
    "arcpy.overwriteOutput = True\n",
    "\n",
    "# set local variables\n",
    "workspace =  \"C:\\\\GIS\\PROJECT\\\\ThresholdEvaluation\\\\ThresholdEvaluation.gdb\"\n",
    "sdeBase   = \"C:\\\\GIS\\\\DB_CONNECT\\\\Vector.sde\"\n",
    "sdeCollect= \"C:/GIS/DB_CONNECT/Collection.sde\"\n",
    "\n",
    "# sde datasets\n",
    "parcels    = os.path.join(sdeBase,\"sde.SDE.Parcels\\sde.SDE.Parcel_Master\")\n",
    "soils      = os.path.join(sdeBase, \"sde.SDE.Soils\\sde.SDE.land_capability_NRCS2007\") \n",
    "localplan  = os.path.join(sdeBase, \"sde.SDE.Planning\\sde.SDE.LocalPlan\")\n",
    "towncenter = os.path.join(sdeBase, \"sde.SDE.Planning\\sde.SDE.TownCenter\")\n",
    "lcv        = os.path.join(sdeBase, \"sde.SDE.Soils\\sde.SDE.Land_Capability_Verification\")\n",
    "ipes       = os.path.join(sdeCollect, \"sde_collection.SDE.Parcel\\sde_collection.SDE.Parcel_LTinfo_IPES\")\n",
    "                          \n",
    "# local impervious datasets\n",
    "newImp = os.path.join(workspace, \"Impervious_2018\")\n",
    "oldImp = os.path.join(workspace, \"Impervious_2010\")\n",
    "changeImp = os.path.join(workspace, \"Impervious_Change_2010_2019\")                        \n",
    "# sde impervious\n",
    "impervious2010Old = os.path.join(sdeBase, \"sde.SDE.Impervious//sde.SDE.Impervious_2010\")\n",
    "impervious2010 = os.path.join(sdeBase, \"sde.SDE.Impervious//sde.SDE.Impervious_2010_Cleaned\")                                                      \n",
    "impervious2018 = os.path.join(sdeBase, \"sde.SDE.Impervious//sde.SDE.Impervious_2019\")\n",
    "imperviousChng = os.path.join(sdeBase, \"sde.SDE.Impervious//sde.SDE.Impervious_Change_2010_2019\")\n",
    "# local impervious layers\n",
    "\n",
    "\n",
    "# output tables\n",
    "outTable2010Old = \"ImperviousOverlayAnalysis_2010_Original.csv\"\n",
    "outTable2010 = \"ImperviousOverlayAnalysis_2010.csv\"\n",
    "outTable2018 = \"ImperviousOverlayAnalysis_2018.csv\"\n",
    "outTable2018LCVHybrid = \"ImperviousOverlayAnalysis_2018_LCVHybrid.csv\"\n",
    "outTableChng = \"ImperviousOverlayAnalysis_Change.csv\"\n",
    "outLocation  = \"C:\\\\GIS\\PROJECT\\\\ThresholdEvaluation\\\\\""
   ]
  },
  {
   "cell_type": "markdown",
   "metadata": {},
   "source": [
    "# Create Land Capability Hybrid Layer"
   ]
  },
  {
   "cell_type": "code",
   "execution_count": null,
   "metadata": {
    "ExecuteTime": {
     "end_time": "2020-11-10T23:14:46.327856Z",
     "start_time": "2020-11-10T23:14:11.512687Z"
    }
   },
   "outputs": [],
   "source": [
    "lcvslct = arcpy.SelectLayerByAttribute_management(lcv, 'NEW_SELECTION', \n",
    "                                        \"LCV_IPES IN ('1A', '1B', '1C', '2', '3', '4', '5', '6', '7')\")\n",
    "\n",
    "lcvHybrid = os.path.join(workspace, \"Land_Capability_Hybrid\")"
   ]
  },
  {
   "cell_type": "code",
   "execution_count": null,
   "metadata": {
    "ExecuteTime": {
     "end_time": "2020-11-10T23:16:51.958842Z",
     "start_time": "2020-11-10T23:15:15.966532Z"
    },
    "scrolled": true
   },
   "outputs": [],
   "source": [
    "# delete hybrid layer if it exists\n",
    "if arcpy.Exists(lcvHybrid):\n",
    "    arcpy.Delete_management(lcvHybrid)\n",
    "\n",
    "# union all lc layers together to create hybrid land capability layer\n",
    "arcpy.Union_analysis([[soils,3], [lcvslct, 1], [ipes, 2]], \n",
    "                     lcvHybrid, \n",
    "                     \"ALL\", \n",
    "                     0.1)\n"
   ]
  },
  {
   "cell_type": "code",
   "execution_count": null,
   "metadata": {
    "ExecuteTime": {
     "end_time": "2020-11-10T23:19:07.233205Z",
     "start_time": "2020-11-10T23:18:48.558166Z"
    }
   },
   "outputs": [],
   "source": [
    "# calculate acres\n",
    "print(\"Calculating Acres...\")\n",
    "with arcpy.da.UpdateCursor(lcvHybrid, ['GISAcre', 'SHAPE@']) as cursor:\n",
    "    for row in cursor:\n",
    "        row[0] = row[1].getArea('GEODESIC', 'ACRES')\n",
    "        cursor.updateRow(row)"
   ]
  },
  {
   "cell_type": "code",
   "execution_count": null,
   "metadata": {
    "ExecuteTime": {
     "end_time": "2020-11-10T23:19:14.209599Z",
     "start_time": "2020-11-10T23:19:07.250190Z"
    },
    "scrolled": true
   },
   "outputs": [],
   "source": [
    "sdf = pd.DataFrame.spatial.from_featureclass(lcvHybrid)\n",
    "sdf.head()"
   ]
  },
  {
   "cell_type": "code",
   "execution_count": null,
   "metadata": {
    "ExecuteTime": {
     "end_time": "2020-11-10T23:19:14.315504Z",
     "start_time": "2020-11-10T23:19:14.308540Z"
    }
   },
   "outputs": [],
   "source": [
    "# iterating the columns \n",
    "for col in sdf.columns: \n",
    "    print(col) "
   ]
  },
  {
   "cell_type": "code",
   "execution_count": null,
   "metadata": {
    "ExecuteTime": {
     "end_time": "2020-11-10T23:19:14.731755Z",
     "start_time": "2020-11-10T23:19:14.720760Z"
    }
   },
   "outputs": [],
   "source": [
    "# Using DataFrame.drop\n",
    "df = sdf[['OBJECTID','FID_land_capability_NRCS2007', 'Land_Capab', 'GISAcre', \n",
    "          'FID_Parcel_LTinfo_IPES', 'Status', 'IPESScore','IPESScoreType',\n",
    "          'RelativeErosionHazardScore','RunoffPotentialScore',\n",
    "          'FID_Land_Capability_Verification', 'LCV_IPES',\n",
    "#           'OWNERSHIP_TYPE', 'TRPA_LANDUSE_DESCRIPTION', 'JURISDICTION_1',\n",
    "#           'PLAN_NAME', 'ZONING_ID', 'ZONING_DESCRIPTION','TOWN_CENTER', 'LOCATION_TO_TOWNCENTER',\n",
    "          'GISAcre','SHAPE']]"
   ]
  },
  {
   "cell_type": "markdown",
   "metadata": {},
   "source": [
    "## IPES to Land Capability Translation"
   ]
  },
  {
   "cell_type": "code",
   "execution_count": null,
   "metadata": {
    "ExecuteTime": {
     "end_time": "2020-11-10T23:19:14.905674Z",
     "start_time": "2020-11-10T23:19:14.864670Z"
    },
    "scrolled": false
   },
   "outputs": [],
   "source": [
    " \n",
    "df.loc[((df.FID_Parcel_LTinfo_IPES != -1), \"IPES_Translated_Score\")] = df['RelativeErosionHazardScore'] + df['RunoffPotentialScore']"
   ]
  },
  {
   "cell_type": "code",
   "execution_count": null,
   "metadata": {
    "ExecuteTime": {
     "end_time": "2020-11-10T23:19:15.214450Z",
     "start_time": "2020-11-10T23:19:15.203451Z"
    },
    "scrolled": true
   },
   "outputs": [],
   "source": [
    "df.rename(columns={'Land_Capab':'LandCapability_NRCS',\n",
    "                   'LCV_IPES':'LandCapability_Verified',\n",
    "                    'JURISDICTION_1':'JURISDICTION'}, \n",
    "                 inplace=True)"
   ]
  },
  {
   "cell_type": "code",
   "execution_count": null,
   "metadata": {
    "ExecuteTime": {
     "end_time": "2020-11-10T23:19:15.502324Z",
     "start_time": "2020-11-10T23:19:15.343394Z"
    }
   },
   "outputs": [],
   "source": [
    "df.loc[(df.IPES_Translated_Score == 0), 'Land_Capability_Modified'] = '1B'\n",
    "df.loc[(df.IPES_Translated_Score > 0)   & (df.IPES_Translated_Score < 270) & (df.LandCapability_NRCS == '1A'), 'Land_Capability_Modified'] = '1A'\n",
    "df.loc[(df.IPES_Translated_Score > 0)   & (df.IPES_Translated_Score < 270) & (df.LandCapability_NRCS == '1C'), 'Land_Capability_Modified'] = '1C'\n",
    "df.loc[(df.IPES_Translated_Score > 0)   & (df.IPES_Translated_Score < 270) & (df.LandCapability_NRCS == '2'), 'Land_Capability_Modified'] = '2'\n",
    "df.loc[(df.IPES_Translated_Score > 0)   & (df.IPES_Translated_Score < 270) & (df.LandCapability_NRCS == '1B'), 'Land_Capability_Modified'] = '1B'\n",
    "df.loc[(df.IPES_Translated_Score > 0)   & (df.IPES_Translated_Score < 270) & (df.LandCapability_NRCS == '3'), 'Land_Capability_Modified'] = '3'\n",
    "df.loc[(df.IPES_Translated_Score > 0)   & (df.IPES_Translated_Score < 270) & (df.LandCapability_NRCS == '4'), 'Land_Capability_Modified'] = '4'\n",
    "df.loc[(df.IPES_Translated_Score > 0)   & (df.IPES_Translated_Score < 270) & (df.LandCapability_NRCS == '5'), 'Land_Capability_Modified'] = '5'\n",
    "df.loc[(df.IPES_Translated_Score > 0)   & (df.IPES_Translated_Score < 270) & (df.LandCapability_NRCS == '6'), 'Land_Capability_Modified'] = '6'\n",
    "df.loc[(df.IPES_Translated_Score > 0)   & (df.IPES_Translated_Score < 270) & (df.LandCapability_NRCS == '7'), 'Land_Capability_Modified'] = '7'\n",
    "df.loc[(df.IPES_Translated_Score > 269) & (df.IPES_Translated_Score < 380), 'Land_Capability_Modified'] = '3'\n",
    "df.loc[(df.IPES_Translated_Score > 379) & (df.IPES_Translated_Score < 415), 'Land_Capability_Modified'] = '4'\n",
    "df.loc[(df.IPES_Translated_Score > 414) & (df.IPES_Translated_Score < 511), 'Land_Capability_Modified'] = '5'\n",
    "df.loc[(df.IPES_Translated_Score > 510) & (df.IPES_Translated_Score < 600), 'Land_Capability_Modified'] = '6'\n",
    "df.loc[(df.IPES_Translated_Score > 599), 'Land_Capability_Modified'] = '7'\n",
    "\n",
    "df.loc[(df.FID_Parcel_LTinfo_IPES == -1) & (df.FID_Land_Capability_Verification.notna()), 'Land_Capability_Modified'] = df.LandCapability_Verified\n",
    "\n",
    "df.loc[(df.FID_Parcel_LTinfo_IPES == -1) & (df.FID_Land_Capability_Verification == -1), 'Land_Capability_Modified'] = df.LandCapability_NRCS\n",
    "\n",
    "df.loc[(df.Land_Capability_Modified.isnull()), 'Land_Capability_Modified'] = df.LandCapability_NRCS"
   ]
  },
  {
   "cell_type": "code",
   "execution_count": null,
   "metadata": {
    "ExecuteTime": {
     "end_time": "2020-11-10T23:19:38.063227Z",
     "start_time": "2020-11-10T23:19:16.140898Z"
    }
   },
   "outputs": [],
   "source": [
    "# export cleaned up lcv layer with modified field for land capability\n",
    "df.spatial.to_featureclass(lcvHybrid)"
   ]
  },
  {
   "cell_type": "markdown",
   "metadata": {},
   "source": [
    "# Land Capability/Impervious Overlay Analysis"
   ]
  },
  {
   "cell_type": "markdown",
   "metadata": {},
   "source": [
    "### New 2010 Impervious Analysis"
   ]
  },
  {
   "cell_type": "code",
   "execution_count": null,
   "metadata": {
    "ExecuteTime": {
     "end_time": "2020-09-21T17:45:02.723231Z",
     "start_time": "2020-09-21T17:44:42.649538Z"
    },
    "scrolled": true
   },
   "outputs": [],
   "source": [
    "# output feature classes\n",
    "id_NRCS_Impervious = \"memory\\id_NRCS_Impervious\"\n",
    "\n",
    "id_NRCS_Impervious_LocalPlan = \"memory\\id_NRCS_Impervious_LocalPlan\"\n",
    "\n",
    "id_NRCS_Impervious_LocalPlan_TownCenter = \"memory\\id_NRCS_Impervious_LocalPlan_TownCenter\"\n",
    "\n",
    "id_NRCS_Impervious_LocalPlan_TownCenter_Parcel = os.path.join(workspace,\"id_NRCS_Impervious_LocalPlan_TownCenter_Parcel_2010\")\n",
    "\n",
    "# delete in memory feature class\n",
    "if arcpy.Exists(\"memory\\id_NRCS_Impervious\"):\n",
    "    print(\"Deleting: memory\\id_NRCS_Impervious\")\n",
    "    arcpy.Delete_management(\"memory\\id_NRCS_Impervious\")\n",
    "\n",
    "# delete in memory feature class\n",
    "if arcpy.Exists(\"memory\\id_NRCS_Impervious_LocalPlan\"):\n",
    "    print(\"Deleting: memory\\id_NRCS_Impervious_LocalPlan\")\n",
    "    arcpy.Delete_management(\"memory\\id_NRCS_Impervious_LocalPlan\")\n",
    "    \n",
    "# delete in memory feature class\n",
    "if arcpy.Exists(\"memory\\id_NRCS_Impervious_LocalPlan_TownCenter\"):\n",
    "    print(\"Deleting: memory\\id_NRCS_Impervious_LocalPlan_TownCenter\")\n",
    "    arcpy.Delete_management(\"memory\\id_NRCS_Impervious_LocalPlan_TownCenter\")\n",
    "\n",
    "# delete staging feature class\n",
    "if arcpy.Exists(id_NRCS_Impervious_LocalPlan_TownCenter_Parcel):\n",
    "    print(\"Deleting: id_NRCS_Impervious_LocalPlan_TownCenter_Parcel\")\n",
    "    arcpy.Delete_management(id_NRCS_Impervious_LocalPlan_TownCenter_Parcel)\n",
    "    \n",
    "# identify land capability/impervious\n",
    "print(\"Identifying Soils with Impervious Surfaces...\")\n",
    "arcpy.Identity_analysis(soils, impervious2010, id_NRCS_Impervious)\n",
    "\n",
    "# identify land capability/impervious/local plan\n",
    "print(\"Identifying Soils with Impervious Surfaces & Local Plan layers...\")\n",
    "arcpy.Identity_analysis(id_NRCS_Impervious, localplan, id_NRCS_Impervious_LocalPlan)\n",
    "\n",
    "# identify land capability/impervious/local plan/town center\n",
    "print(\"Identifying Soils with Impervious Surfaces, Local Plan, & Town Center layers...\")\n",
    "arcpy.Identity_analysis(id_NRCS_Impervious_LocalPlan, towncenter, id_NRCS_Impervious_LocalPlan_TownCenter)\n",
    "\n",
    "# identify land capability/impervious/local plan/town center/parcels\n",
    "print(\"Identifying Soils with Impervious Surfaces, Local Plan, Town Center, and Parcel layers...\")\n",
    "arcpy.Identity_analysis(id_NRCS_Impervious_LocalPlan_TownCenter, parcels, id_NRCS_Impervious_LocalPlan_TownCenter_Parcel)\n",
    "\n",
    "# calculate acres\n",
    "print(\"Calculating Acres...\")\n",
    "with arcpy.da.UpdateCursor(id_NRCS_Impervious_LocalPlan_TownCenter_Parcel, ['GISAcre', 'SHAPE@']) as cursor:\n",
    "    for row in cursor:\n",
    "        row[0] = row[1].getArea('GEODESIC', 'ACRES')\n",
    "        cursor.updateRow(row)\n",
    "\n",
    "# delete table if it already exists\n",
    "print(\"Deleting Old Table...\")\n",
    "if arcpy.Exists(os.path.join(outLocation,outTable2010)):\n",
    "    arcpy.Delete_management(os.path.join(outLocation,outTable2010))\n",
    "\n",
    "# Execute Table To Table\n",
    "print(\"Exporting New Table...\")\n",
    "arcpy.TableToTable_conversion(id_NRCS_Impervious_LocalPlan_TownCenter_Parcel, outLocation, outTable2010)\n",
    "\n",
    "# success?\n",
    "print(\"Table {0} created\".format(outTable2010))"
   ]
  },
  {
   "cell_type": "markdown",
   "metadata": {},
   "source": [
    "### 2018 Impervious Analysis"
   ]
  },
  {
   "cell_type": "code",
   "execution_count": null,
   "metadata": {
    "ExecuteTime": {
     "end_time": "2020-11-10T23:43:43.400404Z",
     "start_time": "2020-11-10T23:20:00.065837Z"
    }
   },
   "outputs": [],
   "source": [
    "# output feature classes\n",
    "id_NRCS_Impervious = \"memory\\id_NRCS_Impervious\"\n",
    "\n",
    "id_NRCS_Impervious_LocalPlan = \"memory\\id_NRCS_Impervious_LocalPlan\"\n",
    "\n",
    "id_NRCS_Impervious_LocalPlan_TownCenter = \"memory\\id_NRCS_Impervious_LocalPlan_TownCenter\"\n",
    "\n",
    "id_NRCS_Impervious_LocalPlan_TownCenter_Parcel = os.path.join(workspace,\"id_NRCS_Impervious_LocalPlan_TownCenter_Parcel_2018\")\n",
    "\n",
    "# delete in memory feature class\n",
    "if arcpy.Exists(\"memory\\id_NRCS_Impervious\"):\n",
    "    print(\"Deleting: memory\\id_NRCS_Impervious\")\n",
    "    arcpy.Delete_management(\"memory\\id_NRCS_Impervious\")\n",
    "\n",
    "# delete in memory feature class\n",
    "if arcpy.Exists(\"memory\\id_NRCS_Impervious_LocalPlan\"):\n",
    "    print(\"Deleting: memory\\id_NRCS_Impervious_LocalPlan\")\n",
    "    arcpy.Delete_management(\"memory\\id_NRCS_Impervious_LocalPlan\")\n",
    "    \n",
    "# delete in memory feature class\n",
    "if arcpy.Exists(\"memory\\id_NRCS_Impervious_LocalPlan_TownCenter\"):\n",
    "    print(\"Deleting: memory\\id_NRCS_Impervious_LocalPlan_TownCenter\")\n",
    "    arcpy.Delete_management(\"memory\\id_NRCS_Impervious_LocalPlan_TownCenter\")\n",
    "\n",
    "# delete staging feature class\n",
    "if arcpy.Exists(id_NRCS_Impervious_LocalPlan_TownCenter_Parcel):\n",
    "    print(\"Deleting: memory\\id_NRCS_Impervious_LocalPlan_Parcel\")\n",
    "    arcpy.Delete_management(id_NRCS_Impervious_LocalPlan_TownCenter_Parcel)\n",
    "    \n",
    "# identify land capability/impervious\n",
    "print(\"Identifying Soils with Impervious Surfaces...\")\n",
    "arcpy.Identity_analysis(lcvHybrid, impervious2018, id_NRCS_Impervious)\n",
    "\n",
    "# identify land capability/impervious/local plan\n",
    "print(\"Identifying Soils with Impervious Surfaces & Local Plan layers...\")\n",
    "arcpy.Identity_analysis(id_NRCS_Impervious, localplan, id_NRCS_Impervious_LocalPlan)\n",
    "\n",
    "# identify land capability/impervious/local plan/town center\n",
    "print(\"Identifying Soils with Impervious Surfaces, Local Plan, & Town Center layers...\")\n",
    "arcpy.Identity_analysis(id_NRCS_Impervious_LocalPlan, towncenter, id_NRCS_Impervious_LocalPlan_TownCenter)\n",
    "\n",
    "# identify land capability/impervious/local plan/town center/parcels\n",
    "print(\"Identifying Soils with Impervious Surfaces, Local Plan, Town Center, and Parcel layers...\")\n",
    "arcpy.Identity_analysis(id_NRCS_Impervious_LocalPlan_TownCenter, parcels, id_NRCS_Impervious_LocalPlan_TownCenter_Parcel)\n",
    "\n",
    "# calculate acres\n",
    "print(\"Calculating Acres...\")\n",
    "with arcpy.da.UpdateCursor(id_NRCS_Impervious_LocalPlan_TownCenter_Parcel, ['GISAcre', 'SHAPE@']) as cursor:\n",
    "    for row in cursor:\n",
    "        row[0] = row[1].getArea('GEODESIC', 'ACRES')\n",
    "        cursor.updateRow(row)\n",
    "\n",
    "# delete table if it already exists\n",
    "print(\"Deleting Old Table...\")\n",
    "if arcpy.Exists(os.path.join(outLocation,outTable2018)):\n",
    "    arcpy.Delete_management(os.path.join(outLocation,outTable2018))\n",
    "\n",
    "# Execute Table To Table\n",
    "print(\"Exporting New Table...\")\n",
    "arcpy.TableToTable_conversion(id_NRCS_Impervious_LocalPlan_TownCenter_Parcel, outLocation, outTable2018)\n",
    "\n",
    "# success?\n",
    "print(\"Table {0} created\".format(outTable2018LCVHybrid))"
   ]
  },
  {
   "cell_type": "code",
   "execution_count": null,
   "metadata": {
    "ExecuteTime": {
     "end_time": "2020-11-10T23:43:43.409351Z",
     "start_time": "2020-11-10T23:20:02.088Z"
    }
   },
   "outputs": [],
   "source": [
    "# output feature classes\n",
    "id_NRCS_Impervious = \"memory\\id_NRCS_Impervious\"\n",
    "\n",
    "id_NRCS_Impervious_LocalPlan = \"memory\\id_NRCS_Impervious_LocalPlan\"\n",
    "\n",
    "id_NRCS_Impervious_LocalPlan_TownCenter = \"memory\\id_NRCS_Impervious_LocalPlan_TownCenter\"\n",
    "\n",
    "id_NRCS_Impervious_LocalPlan_TownCenter_Parcel = os.path.join(workspace,\"id_NRCS_Impervious_LocalPlan_TownCenter_Parcel_2018\")\n",
    "\n",
    "# delete in memory feature class\n",
    "if arcpy.Exists(\"memory\\id_NRCS_Impervious\"):\n",
    "    print(\"Deleting: memory\\id_NRCS_Impervious\")\n",
    "    arcpy.Delete_management(\"memory\\id_NRCS_Impervious\")\n",
    "\n",
    "# delete in memory feature class\n",
    "if arcpy.Exists(\"memory\\id_NRCS_Impervious_LocalPlan\"):\n",
    "    print(\"Deleting: memory\\id_NRCS_Impervious_LocalPlan\")\n",
    "    arcpy.Delete_management(\"memory\\id_NRCS_Impervious_LocalPlan\")\n",
    "    \n",
    "# delete in memory feature class\n",
    "if arcpy.Exists(\"memory\\id_NRCS_Impervious_LocalPlan_TownCenter\"):\n",
    "    print(\"Deleting: memory\\id_NRCS_Impervious_LocalPlan_TownCenter\")\n",
    "    arcpy.Delete_management(\"memory\\id_NRCS_Impervious_LocalPlan_TownCenter\")\n",
    "\n",
    "# delete staging feature class\n",
    "if arcpy.Exists(id_NRCS_Impervious_LocalPlan_TownCenter_Parcel):\n",
    "    print(\"Deleting: memory\\id_NRCS_Impervious_LocalPlan_Parcel\")\n",
    "    arcpy.Delete_management(id_NRCS_Impervious_LocalPlan_TownCenter_Parcel)\n",
    "    \n",
    "# identify land capability/impervious\n",
    "print(\"Identifying Soils with Impervious Surfaces...\")\n",
    "arcpy.Identity_analysis(soils, impervious2018, id_NRCS_Impervious)\n",
    "\n",
    "# identify land capability/impervious/local plan\n",
    "print(\"Identifying Soils with Impervious Surfaces & Local Plan layers...\")\n",
    "arcpy.Identity_analysis(id_NRCS_Impervious, localplan, id_NRCS_Impervious_LocalPlan)\n",
    "\n",
    "# identify land capability/impervious/local plan/town center\n",
    "print(\"Identifying Soils with Impervious Surfaces, Local Plan, & Town Center layers...\")\n",
    "arcpy.Identity_analysis(id_NRCS_Impervious_LocalPlan, towncenter, id_NRCS_Impervious_LocalPlan_TownCenter)\n",
    "\n",
    "# identify land capability/impervious/local plan/town center/parcels\n",
    "print(\"Identifying Soils with Impervious Surfaces, Local Plan, Town Center, and Parcel layers...\")\n",
    "arcpy.Identity_analysis(id_NRCS_Impervious_LocalPlan_TownCenter, parcels, id_NRCS_Impervious_LocalPlan_TownCenter_Parcel)\n",
    "\n",
    "# calculate acres\n",
    "print(\"Calculating Acres...\")\n",
    "with arcpy.da.UpdateCursor(id_NRCS_Impervious_LocalPlan_TownCenter_Parcel, ['GISAcre', 'SHAPE@']) as cursor:\n",
    "    for row in cursor:\n",
    "        row[0] = row[1].getArea('GEODESIC', 'ACRES')\n",
    "        cursor.updateRow(row)\n",
    "\n",
    "# delete table if it already exists\n",
    "print(\"Deleting Old Table...\")\n",
    "if arcpy.Exists(os.path.join(outLocation,outTable2018)):\n",
    "    arcpy.Delete_management(os.path.join(outLocation,outTable2018))\n",
    "\n",
    "# Execute Table To Table\n",
    "print(\"Exporting New Table...\")\n",
    "arcpy.TableToTable_conversion(id_NRCS_Impervious_LocalPlan_TownCenter_Parcel, outLocation, outTable2018)\n",
    "\n",
    "# success?\n",
    "print(\"Table {0} created\".format(outTable2018))"
   ]
  },
  {
   "cell_type": "markdown",
   "metadata": {},
   "source": [
    "## Overlay Overlay"
   ]
  },
  {
   "cell_type": "code",
   "execution_count": null,
   "metadata": {
    "ExecuteTime": {
     "end_time": "2020-11-04T22:41:11.943484Z",
     "start_time": "2020-11-04T22:07:10.618990Z"
    }
   },
   "outputs": [],
   "source": [
    "# output feature classes\n",
    "id_NRCS_Impervious = \"memory\\id_NRCS_Impervious\"\n",
    "\n",
    "id_NRCS_Impervious_LocalPlan = \"memory\\id_NRCS_Impervious_LocalPlan\"\n",
    "\n",
    "id_NRCS_Impervious_LocalPlan_TownCenter = \"memory\\id_NRCS_Impervious_LocalPlan_TownCenter\"\n",
    "\n",
    "id_NRCS_Impervious_LocalPlan_TownCenter_Parcel = os.path.join(workspace,\"id_NRCS_Impervious_LocalPlan_TownCenter_Parcel_Change\")\n",
    "\n",
    "# delete in memory feature class\n",
    "if arcpy.Exists(\"memory\\id_NRCS_Impervious\"):\n",
    "    print(\"Deleting: memory\\id_NRCS_Impervious\")\n",
    "    arcpy.Delete_management(\"memory\\id_NRCS_Impervious\")\n",
    "\n",
    "# delete in memory feature class\n",
    "if arcpy.Exists(\"memory\\id_NRCS_Impervious_LocalPlan\"):\n",
    "    print(\"Deleting: memory\\id_NRCS_Impervious_LocalPlan\")\n",
    "    arcpy.Delete_management(\"memory\\id_NRCS_Impervious_LocalPlan\")\n",
    "    \n",
    "# delete in memory feature class\n",
    "if arcpy.Exists(\"memory\\id_NRCS_Impervious_LocalPlan_TownCenter\"):\n",
    "    print(\"Deleting: memory\\id_NRCS_Impervious_LocalPlan_TownCenter\")\n",
    "    arcpy.Delete_management(\"memory\\id_NRCS_Impervious_LocalPlan_TownCenter\")\n",
    "\n",
    "# delete staging feature class\n",
    "if arcpy.Exists(id_NRCS_Impervious_LocalPlan_TownCenter_Parcel):\n",
    "    print(\"Deleting: memory\\id_NRCS_Impervious_LocalPlan_Parcel\")\n",
    "    arcpy.Delete_management(id_NRCS_Impervious_LocalPlan_TownCenter_Parcel)\n",
    "    \n",
    "# identify land capability/impervious\n",
    "print(\"Identifying Soils with Impervious Surfaces...\")\n",
    "arcpy.Identity_analysis(lcvHybrid, imperviousChng, id_NRCS_Impervious)\n",
    "\n",
    "# identify land capability/impervious/local plan\n",
    "print(\"Identifying Soils with Impervious Surfaces & Local Plan layers...\")\n",
    "arcpy.Identity_analysis(id_NRCS_Impervious, localplan, id_NRCS_Impervious_LocalPlan)\n",
    "\n",
    "# identify land capability/impervious/local plan/town center\n",
    "print(\"Identifying Soils with Impervious Surfaces, Local Plan, & Town Center layers...\")\n",
    "arcpy.Identity_analysis(id_NRCS_Impervious_LocalPlan, towncenter, id_NRCS_Impervious_LocalPlan_TownCenter)\n",
    "\n",
    "# identify land capability/impervious/local plan/town center/parcels\n",
    "print(\"Identifying Soils with Impervious Surfaces, Local Plan, Town Center, and Parcel layers...\")\n",
    "arcpy.Identity_analysis(id_NRCS_Impervious_LocalPlan_TownCenter, parcels, id_NRCS_Impervious_LocalPlan_TownCenter_Parcel)\n",
    "\n",
    "# calculate acres\n",
    "print(\"Calculating Acres...\")\n",
    "with arcpy.da.UpdateCursor(id_NRCS_Impervious_LocalPlan_TownCenter_Parcel, ['GISAcre', 'SHAPE@']) as cursor:\n",
    "    for row in cursor:\n",
    "        row[0] = row[1].getArea('GEODESIC', 'ACRES')\n",
    "        cursor.updateRow(row)\n",
    "\n",
    "# delete table if it already exists\n",
    "print(\"Deleting Old Table...\")\n",
    "if arcpy.Exists(os.path.join(outLocation,outTableChng)):\n",
    "    arcpy.Delete_management(os.path.join(outLocation,outTableChng))\n",
    "\n",
    "# Execute Table To Table\n",
    "print(\"Exporting New Table...\")\n",
    "arcpy.TableToTable_conversion(id_NRCS_Impervious_LocalPlan_TownCenter_Parcel, outLocation, outTableChng)\n",
    "\n",
    "# success?\n",
    "print(\"Table {0} created\".format(outTableChng))"
   ]
  },
  {
   "cell_type": "code",
   "execution_count": null,
   "metadata": {
    "ExecuteTime": {
     "end_time": "2020-11-04T23:26:53.834361Z",
     "start_time": "2020-11-04T23:26:52.531493Z"
    }
   },
   "outputs": [],
   "source": [
    "print(\"Deleting Old Table...\")\n",
    "if arcpy.Exists(os.path.join(outLocation,outTableChng)):\n",
    "    arcpy.Delete_management(os.path.join(outLocation,outTableChng))\n",
    "\n",
    "# Execute Table To Table\n",
    "print(\"Exporting New Table...\")\n",
    "arcpy.TableToTable_conversion(id_NRCS_Impervious_LocalPlan_TownCenter_Parcel, outLocation, outTableChng)\n",
    "\n",
    "# success?\n",
    "print(\"Table {0} created\".format(outTableChng))"
   ]
  },
  {
   "cell_type": "markdown",
   "metadata": {},
   "source": [
    "## Old 2010 Overlay"
   ]
  },
  {
   "cell_type": "code",
   "execution_count": null,
   "metadata": {},
   "outputs": [],
   "source": [
    "# output feature classes\n",
    "id_NRCS_Impervious = \"memory\\id_NRCS_Impervious\"\n",
    "\n",
    "id_NRCS_Impervious_LocalPlan = \"memory\\id_NRCS_Impervious_LocalPlan\"\n",
    "\n",
    "id_NRCS_Impervious_LocalPlan_TownCenter = \"memory\\id_NRCS_Impervious_LocalPlan_TownCenter\"\n",
    "\n",
    "id_NRCS_Impervious_LocalPlan_TownCenter_Parcel = os.path.join(workspace,\"id_NRCS_Impervious_LocalPlan_TownCenter_Parcel_2010Old\")\n",
    "\n",
    "# delete in memory feature class\n",
    "if arcpy.Exists(\"memory\\id_NRCS_Impervious\"):\n",
    "    print(\"Deleting: memory\\id_NRCS_Impervious\")\n",
    "    arcpy.Delete_management(\"memory\\id_NRCS_Impervious\")\n",
    "\n",
    "# delete in memory feature class\n",
    "if arcpy.Exists(\"memory\\id_NRCS_Impervious_LocalPlan\"):\n",
    "    print(\"Deleting: memory\\id_NRCS_Impervious_LocalPlan\")\n",
    "    arcpy.Delete_management(\"memory\\id_NRCS_Impervious_LocalPlan\")\n",
    "    \n",
    "# delete in memory feature class\n",
    "if arcpy.Exists(\"memory\\id_NRCS_Impervious_LocalPlan_TownCenter\"):\n",
    "    print(\"Deleting: memory\\id_NRCS_Impervious_LocalPlan_TownCenter\")\n",
    "    arcpy.Delete_management(\"memory\\id_NRCS_Impervious_LocalPlan_TownCenter\")\n",
    "\n",
    "# delete staging feature class\n",
    "if arcpy.Exists(id_NRCS_Impervious_LocalPlan_TownCenter_Parcel):\n",
    "    print(\"Deleting: memory\\id_NRCS_Impervious_LocalPlan_Parcel\")\n",
    "    arcpy.Delete_management(id_NRCS_Impervious_LocalPlan_TownCenter_Parcel)\n",
    "    \n",
    "# identify land capability/impervious\n",
    "print(\"Identifying Soils with Impervious Surfaces...\")\n",
    "arcpy.Identity_analysis(soils, impervious2010Old, id_NRCS_Impervious)\n",
    "\n",
    "# identify land capability/impervious/local plan\n",
    "print(\"Identifying Soils with Impervious Surfaces & Local Plan layers...\")\n",
    "arcpy.Identity_analysis(id_NRCS_Impervious, localplan, id_NRCS_Impervious_LocalPlan)\n",
    "\n",
    "# identify land capability/impervious/local plan/town center\n",
    "print(\"Identifying Soils with Impervious Surfaces, Local Plan, & Town Center layers...\")\n",
    "arcpy.Identity_analysis(id_NRCS_Impervious_LocalPlan, towncenter, id_NRCS_Impervious_LocalPlan_TownCenter)\n",
    "\n",
    "# identify land capability/impervious/local plan/town center/parcels\n",
    "print(\"Identifying Soils with Impervious Surfaces, Local Plan, Town Center, and Parcel layers...\")\n",
    "arcpy.Identity_analysis(id_NRCS_Impervious_LocalPlan_TownCenter, parcels, id_NRCS_Impervious_LocalPlan_TownCenter_Parcel)\n",
    "\n",
    "# calculate acres\n",
    "print(\"Calculating Acres...\")\n",
    "with arcpy.da.UpdateCursor(id_NRCS_Impervious_LocalPlan_TownCenter_Parcel, ['GISAcre', 'SHAPE@']) as cursor:\n",
    "    for row in cursor:\n",
    "        row[0] = row[1].getArea('GEODESIC', 'ACRES')\n",
    "        cursor.updateRow(row)\n",
    "\n",
    "# delete table if it already exists\n",
    "print(\"Deleting Old Table...\")\n",
    "if arcpy.Exists(os.path.join(outLocation,outTable2010Old)):\n",
    "    arcpy.Delete_management(os.path.join(outLocation,outTable2010Old))\n",
    "\n",
    "# Execute Table To Table\n",
    "print(\"Exporting New Table...\")\n",
    "arcpy.TableToTable_conversion(id_NRCS_Impervious_LocalPlan_TownCenter_Parcel, outLocation, outTable2010Old)\n",
    "\n",
    "# success?\n",
    "print(\"Table {0} created\".format(outTable2010Old))"
   ]
  },
  {
   "cell_type": "markdown",
   "metadata": {},
   "source": [
    "# Change Analysis"
   ]
  },
  {
   "cell_type": "code",
   "execution_count": null,
   "metadata": {
    "ExecuteTime": {
     "end_time": "2020-10-07T01:58:51.851817Z",
     "start_time": "2020-10-07T01:56:05.164504Z"
    }
   },
   "outputs": [],
   "source": [
    "workspace   = r\"C:\\GIS\\PROJECT\\ImperviousSurface\\ImperviousSurface.gdb\"\n",
    "sdfImp2010  =  pd.DataFrame.spatial.from_featureclass(os.path.join(workspace, \"Impervious_2010_Cleaned\"))\n",
    "sdfImp2018  =  pd.DataFrame.spatial.from_featureclass(os.path.join(workspace, \"Impervious_2018_2019\"))\n",
    "sdfImpChange =  pd.DataFrame.spatial.from_featureclass(os.path.join(workspace, \"Impervious_2018_2019_ChangeAnalysis\"))"
   ]
  }
 ],
 "metadata": {
  "kernelspec": {
   "display_name": "Python 3",
   "language": "python",
   "name": "python3"
  },
  "language_info": {
   "codemirror_mode": {
    "name": "ipython",
    "version": 3
   },
   "file_extension": ".py",
   "mimetype": "text/x-python",
   "name": "python",
   "nbconvert_exporter": "python",
   "pygments_lexer": "ipython3",
   "version": "3.11.8"
  },
  "toc": {
   "base_numbering": 1,
   "nav_menu": {
    "height": "471px",
    "width": "974px"
   },
   "number_sections": true,
   "sideBar": true,
   "skip_h1_title": false,
   "title_cell": "Table of Contents",
   "title_sidebar": "Contents",
   "toc_cell": false,
   "toc_position": {},
   "toc_section_display": true,
   "toc_window_display": false
  },
  "varInspector": {
   "cols": {
    "lenName": 16,
    "lenType": 16,
    "lenVar": 40
   },
   "kernels_config": {
    "python": {
     "delete_cmd_postfix": "",
     "delete_cmd_prefix": "del ",
     "library": "var_list.py",
     "varRefreshCmd": "print(var_dic_list())"
    },
    "r": {
     "delete_cmd_postfix": ") ",
     "delete_cmd_prefix": "rm(",
     "library": "var_list.r",
     "varRefreshCmd": "cat(var_dic_list()) "
    }
   },
   "types_to_exclude": [
    "module",
    "function",
    "builtin_function_or_method",
    "instance",
    "_Feature"
   ],
   "window_display": false
  }
 },
 "nbformat": 4,
 "nbformat_minor": 2
}
