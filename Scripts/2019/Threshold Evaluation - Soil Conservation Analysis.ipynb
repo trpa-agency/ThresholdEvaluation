{
 "cells": [
  {
   "cell_type": "markdown",
   "metadata": {},
   "source": [
    "## Setup"
   ]
  },
  {
   "cell_type": "code",
   "execution_count": 1,
   "metadata": {
    "ExecuteTime": {
     "end_time": "2020-11-10T23:14:11.498778Z",
     "start_time": "2020-11-10T23:13:57.540611Z"
    }
   },
   "outputs": [],
   "source": [
    "# import packages and modules\n",
    "import os\n",
    "import csv\n",
    "from datetime import datetime\n",
    "import pyodbc\n",
    "import arcpy\n",
    "from arcgis.features import FeatureSet, GeoAccessor, GeoSeriesAccessor\n",
    "import pickle\n",
    "import pandas as pd\n",
    "from functools import reduce\n",
    "\n",
    "arcpy.overwriteOutput = True\n",
    "\n",
    "# set local variables\n",
    "workspace =  \"C:\\\\GIS\\PROJECT\\\\ThresholdEvaluation\\\\ThresholdEvaluation.gdb\"\n",
    "sdeBase   = \"C:\\\\GIS\\\\DB_CONNECT\\\\Vector.sde\"\n",
    "sdeCollect= \"C:/GIS/DB_CONNECT/Collection.sde\"\n",
    "\n",
    "# sde datasets\n",
    "parcels    = os.path.join(sdeBase,\"sde.SDE.Parcels\\sde.SDE.Parcel_Master\")\n",
    "soils      = os.path.join(sdeBase, \"sde.SDE.Soils\\sde.SDE.land_capability_NRCS2007\") \n",
    "localplan  = os.path.join(sdeBase, \"sde.SDE.Planning\\sde.SDE.LocalPlan\")\n",
    "towncenter = os.path.join(sdeBase, \"sde.SDE.Planning\\sde.SDE.TownCenter\")\n",
    "lcv        = os.path.join(sdeBase, \"sde.SDE.Soils\\sde.SDE.Land_Capability_Verification\")\n",
    "ipes       = os.path.join(sdeCollect, \"sde_collection.SDE.Parcel\\sde_collection.SDE.Parcel_LTinfo_IPES\")\n",
    "                          \n",
    "# local impervious datasets\n",
    "newImp = os.path.join(workspace, \"Impervious_2018\")\n",
    "oldImp = os.path.join(workspace, \"Impervious_2010\")\n",
    "changeImp = os.path.join(workspace, \"Impervious_Change_2010_2019\")                        \n",
    "# sde impervious\n",
    "impervious2010Old = os.path.join(sdeBase, \"sde.SDE.Impervious//sde.SDE.Impervious_2010\")\n",
    "impervious2010 = os.path.join(sdeBase, \"sde.SDE.Impervious//sde.SDE.Impervious_2010_Cleaned\")                                                      \n",
    "impervious2018 = os.path.join(sdeBase, \"sde.SDE.Impervious//sde.SDE.Impervious_2019\")\n",
    "imperviousChng = os.path.join(sdeBase, \"sde.SDE.Impervious//sde.SDE.Impervious_Change_2010_2019\")\n",
    "# local impervious layers\n",
    "\n",
    "\n",
    "# output tables\n",
    "outTable2010Old = \"ImperviousOverlayAnalysis_2010_Original.csv\"\n",
    "outTable2010 = \"ImperviousOverlayAnalysis_2010.csv\"\n",
    "outTable2018 = \"ImperviousOverlayAnalysis_2018.csv\"\n",
    "outTable2018LCVHybrid = \"ImperviousOverlayAnalysis_2018_LCVHybrid.csv\"\n",
    "outTableChng = \"ImperviousOverlayAnalysis_Change.csv\"\n",
    "outLocation  = \"C:\\\\GIS\\PROJECT\\\\ThresholdEvaluation\\\\\""
   ]
  },
  {
   "cell_type": "markdown",
   "metadata": {},
   "source": [
    "# Create Land Capability Hybrid Layer"
   ]
  },
  {
   "cell_type": "code",
   "execution_count": null,
   "metadata": {
    "ExecuteTime": {
     "end_time": "2020-11-10T23:14:46.327856Z",
     "start_time": "2020-11-10T23:14:11.512687Z"
    }
   },
   "outputs": [],
   "source": [
    "lcvslct = arcpy.SelectLayerByAttribute_management(lcv, 'NEW_SELECTION', \n",
    "                                        \"LCV_IPES IN ('1A', '1B', '1C', '2', '3', '4', '5', '6', '7')\")\n",
    "\n",
    "lcvHybrid = os.path.join(workspace, \"Land_Capability_Hybrid\")"
   ]
  },
  {
   "cell_type": "code",
   "execution_count": null,
   "metadata": {
    "ExecuteTime": {
     "end_time": "2020-11-10T23:16:51.958842Z",
     "start_time": "2020-11-10T23:15:15.966532Z"
    },
    "scrolled": true
   },
   "outputs": [],
   "source": [
    "# delete hybrid layer if it exists\n",
    "if arcpy.Exists(lcvHybrid):\n",
    "    arcpy.Delete_management(lcvHybrid)\n",
    "\n",
    "# union all lc layers together to create hybrid land capability layer\n",
    "arcpy.Union_analysis([[soils,3], [lcvslct, 1], [ipes, 2]], \n",
    "                     lcvHybrid, \n",
    "                     \"ALL\", \n",
    "                     0.1)\n"
   ]
  },
  {
   "cell_type": "code",
   "execution_count": null,
   "metadata": {
    "ExecuteTime": {
     "end_time": "2020-11-10T23:19:07.233205Z",
     "start_time": "2020-11-10T23:18:48.558166Z"
    }
   },
   "outputs": [],
   "source": [
    "# calculate acres\n",
    "print(\"Calculating Acres...\")\n",
    "with arcpy.da.UpdateCursor(lcvHybrid, ['GISAcre', 'SHAPE@']) as cursor:\n",
    "    for row in cursor:\n",
    "        row[0] = row[1].getArea('GEODESIC', 'ACRES')\n",
    "        cursor.updateRow(row)"
   ]
  },
  {
   "cell_type": "code",
   "execution_count": null,
   "metadata": {
    "ExecuteTime": {
     "end_time": "2020-11-10T23:19:14.209599Z",
     "start_time": "2020-11-10T23:19:07.250190Z"
    },
    "scrolled": true
   },
   "outputs": [],
   "source": [
    "sdf = pd.DataFrame.spatial.from_featureclass(lcvHybrid)\n",
    "sdf.head()"
   ]
  },
  {
   "cell_type": "code",
   "execution_count": null,
   "metadata": {
    "ExecuteTime": {
     "end_time": "2020-11-10T23:19:14.315504Z",
     "start_time": "2020-11-10T23:19:14.308540Z"
    }
   },
   "outputs": [],
   "source": [
    "# iterating the columns \n",
    "for col in sdf.columns: \n",
    "    print(col) "
   ]
  },
  {
   "cell_type": "code",
   "execution_count": null,
   "metadata": {
    "ExecuteTime": {
     "end_time": "2020-11-10T23:19:14.524409Z",
     "start_time": "2020-11-10T23:19:14.426437Z"
    },
    "scrolled": true
   },
   "outputs": [],
   "source": [
    "sdf.set_index('OBJECTID')"
   ]
  },
  {
   "cell_type": "code",
   "execution_count": null,
   "metadata": {
    "ExecuteTime": {
     "end_time": "2020-11-10T23:19:14.620828Z",
     "start_time": "2020-11-10T23:19:14.611830Z"
    }
   },
   "outputs": [],
   "source": [
    "sdf.LCV_IPES.unique()"
   ]
  },
  {
   "cell_type": "code",
   "execution_count": null,
   "metadata": {
    "ExecuteTime": {
     "end_time": "2020-11-10T23:19:14.731755Z",
     "start_time": "2020-11-10T23:19:14.720760Z"
    }
   },
   "outputs": [],
   "source": [
    "# Using DataFrame.drop\n",
    "df = sdf[['OBJECTID','FID_land_capability_NRCS2007', 'Land_Capab', 'GISAcre', \n",
    "          'FID_Parcel_LTinfo_IPES', 'Status', 'IPESScore','IPESScoreType',\n",
    "          'RelativeErosionHazardScore','RunoffPotentialScore',\n",
    "          'FID_Land_Capability_Verification', 'LCV_IPES',\n",
    "#           'OWNERSHIP_TYPE', 'TRPA_LANDUSE_DESCRIPTION', 'JURISDICTION_1',\n",
    "#           'PLAN_NAME', 'ZONING_ID', 'ZONING_DESCRIPTION','TOWN_CENTER', 'LOCATION_TO_TOWNCENTER',\n",
    "          'GISAcre','SHAPE']]"
   ]
  },
  {
   "cell_type": "markdown",
   "metadata": {},
   "source": [
    "## IPES to Land Capability Translation"
   ]
  },
  {
   "cell_type": "code",
   "execution_count": null,
   "metadata": {
    "ExecuteTime": {
     "end_time": "2020-11-10T23:19:14.905674Z",
     "start_time": "2020-11-10T23:19:14.864670Z"
    },
    "scrolled": false
   },
   "outputs": [],
   "source": [
    " \n",
    "df.loc[((df.FID_Parcel_LTinfo_IPES != -1), \"IPES_Translated_Score\")] = df['RelativeErosionHazardScore'] + df['RunoffPotentialScore']"
   ]
  },
  {
   "cell_type": "code",
   "execution_count": null,
   "metadata": {
    "ExecuteTime": {
     "end_time": "2020-11-10T23:19:15.069548Z",
     "start_time": "2020-11-10T23:19:15.033560Z"
    }
   },
   "outputs": [],
   "source": [
    "df"
   ]
  },
  {
   "cell_type": "code",
   "execution_count": null,
   "metadata": {
    "ExecuteTime": {
     "end_time": "2020-11-10T23:19:15.214450Z",
     "start_time": "2020-11-10T23:19:15.203451Z"
    },
    "scrolled": true
   },
   "outputs": [],
   "source": [
    "df.rename(columns={'Land_Capab':'LandCapability_NRCS',\n",
    "                   'LCV_IPES':'LandCapability_Verified',\n",
    "                    'JURISDICTION_1':'JURISDICTION'}, \n",
    "                 inplace=True)"
   ]
  },
  {
   "cell_type": "code",
   "execution_count": null,
   "metadata": {
    "ExecuteTime": {
     "end_time": "2020-11-10T23:19:15.502324Z",
     "start_time": "2020-11-10T23:19:15.343394Z"
    }
   },
   "outputs": [],
   "source": [
    "df.loc[(df.IPES_Translated_Score == 0), 'Land_Capability_Modified'] = '1B'\n",
    "df.loc[(df.IPES_Translated_Score > 0)   & (df.IPES_Translated_Score < 270) & (df.LandCapability_NRCS == '1A'), 'Land_Capability_Modified'] = '1A'\n",
    "df.loc[(df.IPES_Translated_Score > 0)   & (df.IPES_Translated_Score < 270) & (df.LandCapability_NRCS == '1C'), 'Land_Capability_Modified'] = '1C'\n",
    "df.loc[(df.IPES_Translated_Score > 0)   & (df.IPES_Translated_Score < 270) & (df.LandCapability_NRCS == '2'), 'Land_Capability_Modified'] = '2'\n",
    "df.loc[(df.IPES_Translated_Score > 0)   & (df.IPES_Translated_Score < 270) & (df.LandCapability_NRCS == '1B'), 'Land_Capability_Modified'] = '1B'\n",
    "df.loc[(df.IPES_Translated_Score > 0)   & (df.IPES_Translated_Score < 270) & (df.LandCapability_NRCS == '3'), 'Land_Capability_Modified'] = '3'\n",
    "df.loc[(df.IPES_Translated_Score > 0)   & (df.IPES_Translated_Score < 270) & (df.LandCapability_NRCS == '4'), 'Land_Capability_Modified'] = '4'\n",
    "df.loc[(df.IPES_Translated_Score > 0)   & (df.IPES_Translated_Score < 270) & (df.LandCapability_NRCS == '5'), 'Land_Capability_Modified'] = '5'\n",
    "df.loc[(df.IPES_Translated_Score > 0)   & (df.IPES_Translated_Score < 270) & (df.LandCapability_NRCS == '6'), 'Land_Capability_Modified'] = '6'\n",
    "df.loc[(df.IPES_Translated_Score > 0)   & (df.IPES_Translated_Score < 270) & (df.LandCapability_NRCS == '7'), 'Land_Capability_Modified'] = '7'\n",
    "df.loc[(df.IPES_Translated_Score > 269) & (df.IPES_Translated_Score < 380), 'Land_Capability_Modified'] = '3'\n",
    "df.loc[(df.IPES_Translated_Score > 379) & (df.IPES_Translated_Score < 415), 'Land_Capability_Modified'] = '4'\n",
    "df.loc[(df.IPES_Translated_Score > 414) & (df.IPES_Translated_Score < 511), 'Land_Capability_Modified'] = '5'\n",
    "df.loc[(df.IPES_Translated_Score > 510) & (df.IPES_Translated_Score < 600), 'Land_Capability_Modified'] = '6'\n",
    "df.loc[(df.IPES_Translated_Score > 599), 'Land_Capability_Modified'] = '7'\n",
    "\n",
    "df.loc[(df.FID_Parcel_LTinfo_IPES == -1) & (df.FID_Land_Capability_Verification.notna()), 'Land_Capability_Modified'] = df.LandCapability_Verified\n",
    "\n",
    "df.loc[(df.FID_Parcel_LTinfo_IPES == -1) & (df.FID_Land_Capability_Verification == -1), 'Land_Capability_Modified'] = df.LandCapability_NRCS\n",
    "\n",
    "df.loc[(df.Land_Capability_Modified.isnull()), 'Land_Capability_Modified'] = df.LandCapability_NRCS"
   ]
  },
  {
   "cell_type": "code",
   "execution_count": null,
   "metadata": {
    "ExecuteTime": {
     "end_time": "2020-11-10T23:19:15.640189Z",
     "start_time": "2020-11-10T23:19:15.631195Z"
    }
   },
   "outputs": [],
   "source": [
    "df.Land_Capability_Modified.unique()\n"
   ]
  },
  {
   "cell_type": "code",
   "execution_count": null,
   "metadata": {
    "ExecuteTime": {
     "end_time": "2020-11-10T23:19:15.786097Z",
     "start_time": "2020-11-10T23:19:15.773103Z"
    }
   },
   "outputs": [],
   "source": [
    "df['Land_Capability_Modified'].fillna('NA', inplace=True)"
   ]
  },
  {
   "cell_type": "code",
   "execution_count": null,
   "metadata": {
    "ExecuteTime": {
     "end_time": "2020-11-10T23:19:15.966516Z",
     "start_time": "2020-11-10T23:19:15.914540Z"
    }
   },
   "outputs": [],
   "source": [
    "df.set_index('OBJECTID')"
   ]
  },
  {
   "cell_type": "code",
   "execution_count": null,
   "metadata": {
    "ExecuteTime": {
     "end_time": "2020-11-10T23:19:38.063227Z",
     "start_time": "2020-11-10T23:19:16.140898Z"
    }
   },
   "outputs": [],
   "source": [
    "# export cleaned up lcv layer with modified field for land capability\n",
    "df.spatial.to_featureclass(lcvHybrid)"
   ]
  },
  {
   "cell_type": "code",
   "execution_count": null,
   "metadata": {
    "ExecuteTime": {
     "end_time": "2020-11-10T23:19:38.222610Z",
     "start_time": "2020-11-10T23:19:38.215615Z"
    }
   },
   "outputs": [],
   "source": [
    "df.GISAcre.sum()"
   ]
  },
  {
   "cell_type": "code",
   "execution_count": null,
   "metadata": {
    "ExecuteTime": {
     "end_time": "2020-11-10T23:19:38.404522Z",
     "start_time": "2020-11-10T23:19:38.379509Z"
    }
   },
   "outputs": [],
   "source": [
    "np.round(pd.pivot_table(df, index=\"Land_Capability_Modified\",values=[\"GISAcre\"],aggfunc=np.sum),0)"
   ]
  },
  {
   "cell_type": "markdown",
   "metadata": {},
   "source": [
    "# Land Capability/Impervious Overlay Analysis"
   ]
  },
  {
   "cell_type": "markdown",
   "metadata": {},
   "source": [
    "### New 2010 Impervious Analysis"
   ]
  },
  {
   "cell_type": "code",
   "execution_count": null,
   "metadata": {
    "ExecuteTime": {
     "end_time": "2020-09-21T17:45:02.723231Z",
     "start_time": "2020-09-21T17:44:42.649538Z"
    },
    "scrolled": true
   },
   "outputs": [],
   "source": [
    "# output feature classes\n",
    "id_NRCS_Impervious = \"memory\\id_NRCS_Impervious\"\n",
    "\n",
    "id_NRCS_Impervious_LocalPlan = \"memory\\id_NRCS_Impervious_LocalPlan\"\n",
    "\n",
    "id_NRCS_Impervious_LocalPlan_TownCenter = \"memory\\id_NRCS_Impervious_LocalPlan_TownCenter\"\n",
    "\n",
    "id_NRCS_Impervious_LocalPlan_TownCenter_Parcel = os.path.join(workspace,\"id_NRCS_Impervious_LocalPlan_TownCenter_Parcel_2010\")\n",
    "\n",
    "# delete in memory feature class\n",
    "if arcpy.Exists(\"memory\\id_NRCS_Impervious\"):\n",
    "    print(\"Deleting: memory\\id_NRCS_Impervious\")\n",
    "    arcpy.Delete_management(\"memory\\id_NRCS_Impervious\")\n",
    "\n",
    "# delete in memory feature class\n",
    "if arcpy.Exists(\"memory\\id_NRCS_Impervious_LocalPlan\"):\n",
    "    print(\"Deleting: memory\\id_NRCS_Impervious_LocalPlan\")\n",
    "    arcpy.Delete_management(\"memory\\id_NRCS_Impervious_LocalPlan\")\n",
    "    \n",
    "# delete in memory feature class\n",
    "if arcpy.Exists(\"memory\\id_NRCS_Impervious_LocalPlan_TownCenter\"):\n",
    "    print(\"Deleting: memory\\id_NRCS_Impervious_LocalPlan_TownCenter\")\n",
    "    arcpy.Delete_management(\"memory\\id_NRCS_Impervious_LocalPlan_TownCenter\")\n",
    "\n",
    "# delete staging feature class\n",
    "if arcpy.Exists(id_NRCS_Impervious_LocalPlan_TownCenter_Parcel):\n",
    "    print(\"Deleting: id_NRCS_Impervious_LocalPlan_TownCenter_Parcel\")\n",
    "    arcpy.Delete_management(id_NRCS_Impervious_LocalPlan_TownCenter_Parcel)\n",
    "    \n",
    "# identify land capability/impervious\n",
    "print(\"Identifying Soils with Impervious Surfaces...\")\n",
    "arcpy.Identity_analysis(soils, impervious2010, id_NRCS_Impervious)\n",
    "\n",
    "# identify land capability/impervious/local plan\n",
    "print(\"Identifying Soils with Impervious Surfaces & Local Plan layers...\")\n",
    "arcpy.Identity_analysis(id_NRCS_Impervious, localplan, id_NRCS_Impervious_LocalPlan)\n",
    "\n",
    "# identify land capability/impervious/local plan/town center\n",
    "print(\"Identifying Soils with Impervious Surfaces, Local Plan, & Town Center layers...\")\n",
    "arcpy.Identity_analysis(id_NRCS_Impervious_LocalPlan, towncenter, id_NRCS_Impervious_LocalPlan_TownCenter)\n",
    "\n",
    "# identify land capability/impervious/local plan/town center/parcels\n",
    "print(\"Identifying Soils with Impervious Surfaces, Local Plan, Town Center, and Parcel layers...\")\n",
    "arcpy.Identity_analysis(id_NRCS_Impervious_LocalPlan_TownCenter, parcels, id_NRCS_Impervious_LocalPlan_TownCenter_Parcel)\n",
    "\n",
    "# calculate acres\n",
    "print(\"Calculating Acres...\")\n",
    "with arcpy.da.UpdateCursor(id_NRCS_Impervious_LocalPlan_TownCenter_Parcel, ['GISAcre', 'SHAPE@']) as cursor:\n",
    "    for row in cursor:\n",
    "        row[0] = row[1].getArea('GEODESIC', 'ACRES')\n",
    "        cursor.updateRow(row)\n",
    "\n",
    "# delete table if it already exists\n",
    "print(\"Deleting Old Table...\")\n",
    "if arcpy.Exists(os.path.join(outLocation,outTable2010)):\n",
    "    arcpy.Delete_management(os.path.join(outLocation,outTable2010))\n",
    "\n",
    "# Execute Table To Table\n",
    "print(\"Exporting New Table...\")\n",
    "arcpy.TableToTable_conversion(id_NRCS_Impervious_LocalPlan_TownCenter_Parcel, outLocation, outTable2010)\n",
    "\n",
    "# success?\n",
    "print(\"Table {0} created\".format(outTable2010))"
   ]
  },
  {
   "cell_type": "markdown",
   "metadata": {},
   "source": [
    "### 2018 Impervious Analysis"
   ]
  },
  {
   "cell_type": "code",
   "execution_count": null,
   "metadata": {},
   "outputs": [],
   "source": [
    "lcvHybrid"
   ]
  },
  {
   "cell_type": "code",
   "execution_count": null,
   "metadata": {
    "ExecuteTime": {
     "end_time": "2020-11-10T23:43:43.400404Z",
     "start_time": "2020-11-10T23:20:00.065837Z"
    }
   },
   "outputs": [],
   "source": [
    "# output feature classes\n",
    "id_NRCS_Impervious = \"memory\\id_NRCS_Impervious\"\n",
    "\n",
    "id_NRCS_Impervious_LocalPlan = \"memory\\id_NRCS_Impervious_LocalPlan\"\n",
    "\n",
    "id_NRCS_Impervious_LocalPlan_TownCenter = \"memory\\id_NRCS_Impervious_LocalPlan_TownCenter\"\n",
    "\n",
    "id_NRCS_Impervious_LocalPlan_TownCenter_Parcel = os.path.join(workspace,\"id_NRCS_Impervious_LocalPlan_TownCenter_Parcel_2018\")\n",
    "\n",
    "# delete in memory feature class\n",
    "if arcpy.Exists(\"memory\\id_NRCS_Impervious\"):\n",
    "    print(\"Deleting: memory\\id_NRCS_Impervious\")\n",
    "    arcpy.Delete_management(\"memory\\id_NRCS_Impervious\")\n",
    "\n",
    "# delete in memory feature class\n",
    "if arcpy.Exists(\"memory\\id_NRCS_Impervious_LocalPlan\"):\n",
    "    print(\"Deleting: memory\\id_NRCS_Impervious_LocalPlan\")\n",
    "    arcpy.Delete_management(\"memory\\id_NRCS_Impervious_LocalPlan\")\n",
    "    \n",
    "# delete in memory feature class\n",
    "if arcpy.Exists(\"memory\\id_NRCS_Impervious_LocalPlan_TownCenter\"):\n",
    "    print(\"Deleting: memory\\id_NRCS_Impervious_LocalPlan_TownCenter\")\n",
    "    arcpy.Delete_management(\"memory\\id_NRCS_Impervious_LocalPlan_TownCenter\")\n",
    "\n",
    "# delete staging feature class\n",
    "if arcpy.Exists(id_NRCS_Impervious_LocalPlan_TownCenter_Parcel):\n",
    "    print(\"Deleting: memory\\id_NRCS_Impervious_LocalPlan_Parcel\")\n",
    "    arcpy.Delete_management(id_NRCS_Impervious_LocalPlan_TownCenter_Parcel)\n",
    "    \n",
    "# identify land capability/impervious\n",
    "print(\"Identifying Soils with Impervious Surfaces...\")\n",
    "arcpy.Identity_analysis(lcvHybrid, impervious2018, id_NRCS_Impervious)\n",
    "\n",
    "# identify land capability/impervious/local plan\n",
    "print(\"Identifying Soils with Impervious Surfaces & Local Plan layers...\")\n",
    "arcpy.Identity_analysis(id_NRCS_Impervious, localplan, id_NRCS_Impervious_LocalPlan)\n",
    "\n",
    "# identify land capability/impervious/local plan/town center\n",
    "print(\"Identifying Soils with Impervious Surfaces, Local Plan, & Town Center layers...\")\n",
    "arcpy.Identity_analysis(id_NRCS_Impervious_LocalPlan, towncenter, id_NRCS_Impervious_LocalPlan_TownCenter)\n",
    "\n",
    "# identify land capability/impervious/local plan/town center/parcels\n",
    "print(\"Identifying Soils with Impervious Surfaces, Local Plan, Town Center, and Parcel layers...\")\n",
    "arcpy.Identity_analysis(id_NRCS_Impervious_LocalPlan_TownCenter, parcels, id_NRCS_Impervious_LocalPlan_TownCenter_Parcel)\n",
    "\n",
    "# calculate acres\n",
    "print(\"Calculating Acres...\")\n",
    "with arcpy.da.UpdateCursor(id_NRCS_Impervious_LocalPlan_TownCenter_Parcel, ['GISAcre', 'SHAPE@']) as cursor:\n",
    "    for row in cursor:\n",
    "        row[0] = row[1].getArea('GEODESIC', 'ACRES')\n",
    "        cursor.updateRow(row)\n",
    "\n",
    "# delete table if it already exists\n",
    "print(\"Deleting Old Table...\")\n",
    "if arcpy.Exists(os.path.join(outLocation,outTable2018)):\n",
    "    arcpy.Delete_management(os.path.join(outLocation,outTable2018))\n",
    "\n",
    "# Execute Table To Table\n",
    "print(\"Exporting New Table...\")\n",
    "arcpy.TableToTable_conversion(id_NRCS_Impervious_LocalPlan_TownCenter_Parcel, outLocation, outTable2018)\n",
    "\n",
    "# success?\n",
    "print(\"Table {0} created\".format(outTable2018LCVHybrid))"
   ]
  },
  {
   "cell_type": "code",
   "execution_count": null,
   "metadata": {
    "ExecuteTime": {
     "end_time": "2020-11-10T23:43:43.409351Z",
     "start_time": "2020-11-10T23:20:02.088Z"
    }
   },
   "outputs": [],
   "source": [
    "# output feature classes\n",
    "id_NRCS_Impervious = \"memory\\id_NRCS_Impervious\"\n",
    "\n",
    "id_NRCS_Impervious_LocalPlan = \"memory\\id_NRCS_Impervious_LocalPlan\"\n",
    "\n",
    "id_NRCS_Impervious_LocalPlan_TownCenter = \"memory\\id_NRCS_Impervious_LocalPlan_TownCenter\"\n",
    "\n",
    "id_NRCS_Impervious_LocalPlan_TownCenter_Parcel = os.path.join(workspace,\"id_NRCS_Impervious_LocalPlan_TownCenter_Parcel_2018\")\n",
    "\n",
    "# delete in memory feature class\n",
    "if arcpy.Exists(\"memory\\id_NRCS_Impervious\"):\n",
    "    print(\"Deleting: memory\\id_NRCS_Impervious\")\n",
    "    arcpy.Delete_management(\"memory\\id_NRCS_Impervious\")\n",
    "\n",
    "# delete in memory feature class\n",
    "if arcpy.Exists(\"memory\\id_NRCS_Impervious_LocalPlan\"):\n",
    "    print(\"Deleting: memory\\id_NRCS_Impervious_LocalPlan\")\n",
    "    arcpy.Delete_management(\"memory\\id_NRCS_Impervious_LocalPlan\")\n",
    "    \n",
    "# delete in memory feature class\n",
    "if arcpy.Exists(\"memory\\id_NRCS_Impervious_LocalPlan_TownCenter\"):\n",
    "    print(\"Deleting: memory\\id_NRCS_Impervious_LocalPlan_TownCenter\")\n",
    "    arcpy.Delete_management(\"memory\\id_NRCS_Impervious_LocalPlan_TownCenter\")\n",
    "\n",
    "# delete staging feature class\n",
    "if arcpy.Exists(id_NRCS_Impervious_LocalPlan_TownCenter_Parcel):\n",
    "    print(\"Deleting: memory\\id_NRCS_Impervious_LocalPlan_Parcel\")\n",
    "    arcpy.Delete_management(id_NRCS_Impervious_LocalPlan_TownCenter_Parcel)\n",
    "    \n",
    "# identify land capability/impervious\n",
    "print(\"Identifying Soils with Impervious Surfaces...\")\n",
    "arcpy.Identity_analysis(soils, impervious2018, id_NRCS_Impervious)\n",
    "\n",
    "# identify land capability/impervious/local plan\n",
    "print(\"Identifying Soils with Impervious Surfaces & Local Plan layers...\")\n",
    "arcpy.Identity_analysis(id_NRCS_Impervious, localplan, id_NRCS_Impervious_LocalPlan)\n",
    "\n",
    "# identify land capability/impervious/local plan/town center\n",
    "print(\"Identifying Soils with Impervious Surfaces, Local Plan, & Town Center layers...\")\n",
    "arcpy.Identity_analysis(id_NRCS_Impervious_LocalPlan, towncenter, id_NRCS_Impervious_LocalPlan_TownCenter)\n",
    "\n",
    "# identify land capability/impervious/local plan/town center/parcels\n",
    "print(\"Identifying Soils with Impervious Surfaces, Local Plan, Town Center, and Parcel layers...\")\n",
    "arcpy.Identity_analysis(id_NRCS_Impervious_LocalPlan_TownCenter, parcels, id_NRCS_Impervious_LocalPlan_TownCenter_Parcel)\n",
    "\n",
    "# calculate acres\n",
    "print(\"Calculating Acres...\")\n",
    "with arcpy.da.UpdateCursor(id_NRCS_Impervious_LocalPlan_TownCenter_Parcel, ['GISAcre', 'SHAPE@']) as cursor:\n",
    "    for row in cursor:\n",
    "        row[0] = row[1].getArea('GEODESIC', 'ACRES')\n",
    "        cursor.updateRow(row)\n",
    "\n",
    "# delete table if it already exists\n",
    "print(\"Deleting Old Table...\")\n",
    "if arcpy.Exists(os.path.join(outLocation,outTable2018)):\n",
    "    arcpy.Delete_management(os.path.join(outLocation,outTable2018))\n",
    "\n",
    "# Execute Table To Table\n",
    "print(\"Exporting New Table...\")\n",
    "arcpy.TableToTable_conversion(id_NRCS_Impervious_LocalPlan_TownCenter_Parcel, outLocation, outTable2018)\n",
    "\n",
    "# success?\n",
    "print(\"Table {0} created\".format(outTable2018))"
   ]
  },
  {
   "cell_type": "markdown",
   "metadata": {},
   "source": [
    "## Overlay Overlay"
   ]
  },
  {
   "cell_type": "code",
   "execution_count": null,
   "metadata": {
    "ExecuteTime": {
     "end_time": "2020-11-04T22:41:11.943484Z",
     "start_time": "2020-11-04T22:07:10.618990Z"
    }
   },
   "outputs": [],
   "source": [
    "# output feature classes\n",
    "id_NRCS_Impervious = \"memory\\id_NRCS_Impervious\"\n",
    "\n",
    "id_NRCS_Impervious_LocalPlan = \"memory\\id_NRCS_Impervious_LocalPlan\"\n",
    "\n",
    "id_NRCS_Impervious_LocalPlan_TownCenter = \"memory\\id_NRCS_Impervious_LocalPlan_TownCenter\"\n",
    "\n",
    "id_NRCS_Impervious_LocalPlan_TownCenter_Parcel = os.path.join(workspace,\"id_NRCS_Impervious_LocalPlan_TownCenter_Parcel_Change\")\n",
    "\n",
    "# delete in memory feature class\n",
    "if arcpy.Exists(\"memory\\id_NRCS_Impervious\"):\n",
    "    print(\"Deleting: memory\\id_NRCS_Impervious\")\n",
    "    arcpy.Delete_management(\"memory\\id_NRCS_Impervious\")\n",
    "\n",
    "# delete in memory feature class\n",
    "if arcpy.Exists(\"memory\\id_NRCS_Impervious_LocalPlan\"):\n",
    "    print(\"Deleting: memory\\id_NRCS_Impervious_LocalPlan\")\n",
    "    arcpy.Delete_management(\"memory\\id_NRCS_Impervious_LocalPlan\")\n",
    "    \n",
    "# delete in memory feature class\n",
    "if arcpy.Exists(\"memory\\id_NRCS_Impervious_LocalPlan_TownCenter\"):\n",
    "    print(\"Deleting: memory\\id_NRCS_Impervious_LocalPlan_TownCenter\")\n",
    "    arcpy.Delete_management(\"memory\\id_NRCS_Impervious_LocalPlan_TownCenter\")\n",
    "\n",
    "# delete staging feature class\n",
    "if arcpy.Exists(id_NRCS_Impervious_LocalPlan_TownCenter_Parcel):\n",
    "    print(\"Deleting: memory\\id_NRCS_Impervious_LocalPlan_Parcel\")\n",
    "    arcpy.Delete_management(id_NRCS_Impervious_LocalPlan_TownCenter_Parcel)\n",
    "    \n",
    "# identify land capability/impervious\n",
    "print(\"Identifying Soils with Impervious Surfaces...\")\n",
    "arcpy.Identity_analysis(lcvHybrid, imperviousChng, id_NRCS_Impervious)\n",
    "\n",
    "# identify land capability/impervious/local plan\n",
    "print(\"Identifying Soils with Impervious Surfaces & Local Plan layers...\")\n",
    "arcpy.Identity_analysis(id_NRCS_Impervious, localplan, id_NRCS_Impervious_LocalPlan)\n",
    "\n",
    "# identify land capability/impervious/local plan/town center\n",
    "print(\"Identifying Soils with Impervious Surfaces, Local Plan, & Town Center layers...\")\n",
    "arcpy.Identity_analysis(id_NRCS_Impervious_LocalPlan, towncenter, id_NRCS_Impervious_LocalPlan_TownCenter)\n",
    "\n",
    "# identify land capability/impervious/local plan/town center/parcels\n",
    "print(\"Identifying Soils with Impervious Surfaces, Local Plan, Town Center, and Parcel layers...\")\n",
    "arcpy.Identity_analysis(id_NRCS_Impervious_LocalPlan_TownCenter, parcels, id_NRCS_Impervious_LocalPlan_TownCenter_Parcel)\n",
    "\n",
    "# calculate acres\n",
    "print(\"Calculating Acres...\")\n",
    "with arcpy.da.UpdateCursor(id_NRCS_Impervious_LocalPlan_TownCenter_Parcel, ['GISAcre', 'SHAPE@']) as cursor:\n",
    "    for row in cursor:\n",
    "        row[0] = row[1].getArea('GEODESIC', 'ACRES')\n",
    "        cursor.updateRow(row)\n",
    "\n",
    "# delete table if it already exists\n",
    "print(\"Deleting Old Table...\")\n",
    "if arcpy.Exists(os.path.join(outLocation,outTableChng)):\n",
    "    arcpy.Delete_management(os.path.join(outLocation,outTableChng))\n",
    "\n",
    "# Execute Table To Table\n",
    "print(\"Exporting New Table...\")\n",
    "arcpy.TableToTable_conversion(id_NRCS_Impervious_LocalPlan_TownCenter_Parcel, outLocation, outTableChng)\n",
    "\n",
    "# success?\n",
    "print(\"Table {0} created\".format(outTableChng))"
   ]
  },
  {
   "cell_type": "code",
   "execution_count": null,
   "metadata": {
    "ExecuteTime": {
     "end_time": "2020-11-04T23:26:53.834361Z",
     "start_time": "2020-11-04T23:26:52.531493Z"
    }
   },
   "outputs": [],
   "source": [
    "print(\"Deleting Old Table...\")\n",
    "if arcpy.Exists(os.path.join(outLocation,outTableChng)):\n",
    "    arcpy.Delete_management(os.path.join(outLocation,outTableChng))\n",
    "\n",
    "# Execute Table To Table\n",
    "print(\"Exporting New Table...\")\n",
    "arcpy.TableToTable_conversion(id_NRCS_Impervious_LocalPlan_TownCenter_Parcel, outLocation, outTableChng)\n",
    "\n",
    "# success?\n",
    "print(\"Table {0} created\".format(outTableChng))"
   ]
  },
  {
   "cell_type": "markdown",
   "metadata": {},
   "source": [
    "## Old 2010 Overlay"
   ]
  },
  {
   "cell_type": "code",
   "execution_count": null,
   "metadata": {},
   "outputs": [],
   "source": [
    "# output feature classes\n",
    "id_NRCS_Impervious = \"memory\\id_NRCS_Impervious\"\n",
    "\n",
    "id_NRCS_Impervious_LocalPlan = \"memory\\id_NRCS_Impervious_LocalPlan\"\n",
    "\n",
    "id_NRCS_Impervious_LocalPlan_TownCenter = \"memory\\id_NRCS_Impervious_LocalPlan_TownCenter\"\n",
    "\n",
    "id_NRCS_Impervious_LocalPlan_TownCenter_Parcel = os.path.join(workspace,\"id_NRCS_Impervious_LocalPlan_TownCenter_Parcel_2010Old\")\n",
    "\n",
    "# delete in memory feature class\n",
    "if arcpy.Exists(\"memory\\id_NRCS_Impervious\"):\n",
    "    print(\"Deleting: memory\\id_NRCS_Impervious\")\n",
    "    arcpy.Delete_management(\"memory\\id_NRCS_Impervious\")\n",
    "\n",
    "# delete in memory feature class\n",
    "if arcpy.Exists(\"memory\\id_NRCS_Impervious_LocalPlan\"):\n",
    "    print(\"Deleting: memory\\id_NRCS_Impervious_LocalPlan\")\n",
    "    arcpy.Delete_management(\"memory\\id_NRCS_Impervious_LocalPlan\")\n",
    "    \n",
    "# delete in memory feature class\n",
    "if arcpy.Exists(\"memory\\id_NRCS_Impervious_LocalPlan_TownCenter\"):\n",
    "    print(\"Deleting: memory\\id_NRCS_Impervious_LocalPlan_TownCenter\")\n",
    "    arcpy.Delete_management(\"memory\\id_NRCS_Impervious_LocalPlan_TownCenter\")\n",
    "\n",
    "# delete staging feature class\n",
    "if arcpy.Exists(id_NRCS_Impervious_LocalPlan_TownCenter_Parcel):\n",
    "    print(\"Deleting: memory\\id_NRCS_Impervious_LocalPlan_Parcel\")\n",
    "    arcpy.Delete_management(id_NRCS_Impervious_LocalPlan_TownCenter_Parcel)\n",
    "    \n",
    "# identify land capability/impervious\n",
    "print(\"Identifying Soils with Impervious Surfaces...\")\n",
    "arcpy.Identity_analysis(soils, impervious2010Old, id_NRCS_Impervious)\n",
    "\n",
    "# identify land capability/impervious/local plan\n",
    "print(\"Identifying Soils with Impervious Surfaces & Local Plan layers...\")\n",
    "arcpy.Identity_analysis(id_NRCS_Impervious, localplan, id_NRCS_Impervious_LocalPlan)\n",
    "\n",
    "# identify land capability/impervious/local plan/town center\n",
    "print(\"Identifying Soils with Impervious Surfaces, Local Plan, & Town Center layers...\")\n",
    "arcpy.Identity_analysis(id_NRCS_Impervious_LocalPlan, towncenter, id_NRCS_Impervious_LocalPlan_TownCenter)\n",
    "\n",
    "# identify land capability/impervious/local plan/town center/parcels\n",
    "print(\"Identifying Soils with Impervious Surfaces, Local Plan, Town Center, and Parcel layers...\")\n",
    "arcpy.Identity_analysis(id_NRCS_Impervious_LocalPlan_TownCenter, parcels, id_NRCS_Impervious_LocalPlan_TownCenter_Parcel)\n",
    "\n",
    "# calculate acres\n",
    "print(\"Calculating Acres...\")\n",
    "with arcpy.da.UpdateCursor(id_NRCS_Impervious_LocalPlan_TownCenter_Parcel, ['GISAcre', 'SHAPE@']) as cursor:\n",
    "    for row in cursor:\n",
    "        row[0] = row[1].getArea('GEODESIC', 'ACRES')\n",
    "        cursor.updateRow(row)\n",
    "\n",
    "# delete table if it already exists\n",
    "print(\"Deleting Old Table...\")\n",
    "if arcpy.Exists(os.path.join(outLocation,outTable2010Old)):\n",
    "    arcpy.Delete_management(os.path.join(outLocation,outTable2010Old))\n",
    "\n",
    "# Execute Table To Table\n",
    "print(\"Exporting New Table...\")\n",
    "arcpy.TableToTable_conversion(id_NRCS_Impervious_LocalPlan_TownCenter_Parcel, outLocation, outTable2010Old)\n",
    "\n",
    "# success?\n",
    "print(\"Table {0} created\".format(outTable2010Old))"
   ]
  },
  {
   "cell_type": "markdown",
   "metadata": {},
   "source": [
    "# Change Analysis"
   ]
  },
  {
   "cell_type": "code",
   "execution_count": 2,
   "metadata": {
    "ExecuteTime": {
     "end_time": "2020-10-07T01:58:51.851817Z",
     "start_time": "2020-10-07T01:56:05.164504Z"
    }
   },
   "outputs": [
    {
     "ename": "OSError",
     "evalue": "\"C:\\GIS\\PROJECT\\ImperviousSurface\\ImperviousSurface.gdb\\Impervious_2010_Cleaned\" does not exist",
     "output_type": "error",
     "traceback": [
      "\u001b[1;31m---------------------------------------------------------------------------\u001b[0m",
      "\u001b[1;31mValueError\u001b[0m                                Traceback (most recent call last)",
      "\u001b[1;32mc:\\Program Files\\ArcGIS\\Pro\\bin\\Python\\envs\\arcgispro-py3\\Lib\\site-packages\\arcgis\\features\\geo\\_io\\fileops.py\u001b[0m in \u001b[0;36mfrom_featureclass\u001b[1;34m(filename, **kwargs)\u001b[0m\n\u001b[0;32m    736\u001b[0m         \u001b[1;32mtry\u001b[0m\u001b[1;33m:\u001b[0m\u001b[1;33m\u001b[0m\u001b[1;33m\u001b[0m\u001b[0m\n\u001b[1;32m--> 737\u001b[1;33m             \u001b[0mdesc\u001b[0m \u001b[1;33m=\u001b[0m \u001b[0marcpy\u001b[0m\u001b[1;33m.\u001b[0m\u001b[0mda\u001b[0m\u001b[1;33m.\u001b[0m\u001b[0mDescribe\u001b[0m\u001b[1;33m(\u001b[0m\u001b[0mfilename\u001b[0m\u001b[1;33m)\u001b[0m\u001b[1;33m\u001b[0m\u001b[1;33m\u001b[0m\u001b[0m\n\u001b[0m\u001b[0;32m    738\u001b[0m             \u001b[0marea_field\u001b[0m \u001b[1;33m=\u001b[0m \u001b[0mdesc\u001b[0m\u001b[1;33m.\u001b[0m\u001b[0mpop\u001b[0m\u001b[1;33m(\u001b[0m\u001b[1;34m\"areaFieldName\"\u001b[0m\u001b[1;33m,\u001b[0m \u001b[1;32mNone\u001b[0m\u001b[1;33m)\u001b[0m\u001b[1;33m\u001b[0m\u001b[1;33m\u001b[0m\u001b[0m\n",
      "\u001b[1;31mValueError\u001b[0m: Object: Error in accessing describe",
      "\nDuring handling of the above exception, another exception occurred:\n",
      "\u001b[1;31mOSError\u001b[0m                                   Traceback (most recent call last)",
      "\u001b[1;32m~\\AppData\\Local\\Temp\\ipykernel_21872\\69056593.py\u001b[0m in \u001b[0;36m<cell line: 0>\u001b[1;34m()\u001b[0m\n\u001b[0;32m      1\u001b[0m \u001b[0mworkspace\u001b[0m   \u001b[1;33m=\u001b[0m \u001b[1;34mr\"C:\\GIS\\PROJECT\\ImperviousSurface\\ImperviousSurface.gdb\"\u001b[0m\u001b[1;33m\u001b[0m\u001b[1;33m\u001b[0m\u001b[0m\n\u001b[1;32m----> 2\u001b[1;33m \u001b[0msdfImp2010\u001b[0m  \u001b[1;33m=\u001b[0m  \u001b[0mpd\u001b[0m\u001b[1;33m.\u001b[0m\u001b[0mDataFrame\u001b[0m\u001b[1;33m.\u001b[0m\u001b[0mspatial\u001b[0m\u001b[1;33m.\u001b[0m\u001b[0mfrom_featureclass\u001b[0m\u001b[1;33m(\u001b[0m\u001b[0mos\u001b[0m\u001b[1;33m.\u001b[0m\u001b[0mpath\u001b[0m\u001b[1;33m.\u001b[0m\u001b[0mjoin\u001b[0m\u001b[1;33m(\u001b[0m\u001b[0mworkspace\u001b[0m\u001b[1;33m,\u001b[0m \u001b[1;34m\"Impervious_2010_Cleaned\"\u001b[0m\u001b[1;33m)\u001b[0m\u001b[1;33m)\u001b[0m\u001b[1;33m\u001b[0m\u001b[1;33m\u001b[0m\u001b[0m\n\u001b[0m\u001b[0;32m      3\u001b[0m \u001b[0msdfImp2018\u001b[0m  \u001b[1;33m=\u001b[0m  \u001b[0mpd\u001b[0m\u001b[1;33m.\u001b[0m\u001b[0mDataFrame\u001b[0m\u001b[1;33m.\u001b[0m\u001b[0mspatial\u001b[0m\u001b[1;33m.\u001b[0m\u001b[0mfrom_featureclass\u001b[0m\u001b[1;33m(\u001b[0m\u001b[0mos\u001b[0m\u001b[1;33m.\u001b[0m\u001b[0mpath\u001b[0m\u001b[1;33m.\u001b[0m\u001b[0mjoin\u001b[0m\u001b[1;33m(\u001b[0m\u001b[0mworkspace\u001b[0m\u001b[1;33m,\u001b[0m \u001b[1;34m\"Impervious_2018_2019\"\u001b[0m\u001b[1;33m)\u001b[0m\u001b[1;33m)\u001b[0m\u001b[1;33m\u001b[0m\u001b[1;33m\u001b[0m\u001b[0m\n\u001b[0;32m      4\u001b[0m \u001b[0msdfImpChange\u001b[0m \u001b[1;33m=\u001b[0m  \u001b[0mpd\u001b[0m\u001b[1;33m.\u001b[0m\u001b[0mDataFrame\u001b[0m\u001b[1;33m.\u001b[0m\u001b[0mspatial\u001b[0m\u001b[1;33m.\u001b[0m\u001b[0mfrom_featureclass\u001b[0m\u001b[1;33m(\u001b[0m\u001b[0mos\u001b[0m\u001b[1;33m.\u001b[0m\u001b[0mpath\u001b[0m\u001b[1;33m.\u001b[0m\u001b[0mjoin\u001b[0m\u001b[1;33m(\u001b[0m\u001b[0mworkspace\u001b[0m\u001b[1;33m,\u001b[0m \u001b[1;34m\"Impervious_2018_2019_ChangeAnalysis\"\u001b[0m\u001b[1;33m)\u001b[0m\u001b[1;33m)\u001b[0m\u001b[1;33m\u001b[0m\u001b[1;33m\u001b[0m\u001b[0m\n",
      "\u001b[1;32mc:\\Program Files\\ArcGIS\\Pro\\bin\\Python\\envs\\arcgispro-py3\\Lib\\site-packages\\arcgis\\features\\geo\\_accessor.py\u001b[0m in \u001b[0;36mfrom_featureclass\u001b[1;34m(location, **kwargs)\u001b[0m\n\u001b[0;32m   3193\u001b[0m             \u001b[0mA\u001b[0m \u001b[0mpandas\u001b[0m\u001b[1;33m.\u001b[0m\u001b[0mcore\u001b[0m\u001b[1;33m.\u001b[0m\u001b[0mframe\u001b[0m\u001b[1;33m.\u001b[0m\u001b[0mDataFrame\u001b[0m \u001b[0mobject\u001b[0m\u001b[1;33m\u001b[0m\u001b[1;33m\u001b[0m\u001b[0m\n\u001b[0;32m   3194\u001b[0m         \"\"\"\n\u001b[1;32m-> 3195\u001b[1;33m         \u001b[1;32mreturn\u001b[0m \u001b[0mfrom_featureclass\u001b[0m\u001b[1;33m(\u001b[0m\u001b[0mfilename\u001b[0m\u001b[1;33m=\u001b[0m\u001b[0mlocation\u001b[0m\u001b[1;33m,\u001b[0m \u001b[1;33m**\u001b[0m\u001b[0mkwargs\u001b[0m\u001b[1;33m)\u001b[0m\u001b[1;33m\u001b[0m\u001b[1;33m\u001b[0m\u001b[0m\n\u001b[0m\u001b[0;32m   3196\u001b[0m \u001b[1;33m\u001b[0m\u001b[0m\n\u001b[0;32m   3197\u001b[0m     \u001b[1;31m# ----------------------------------------------------------------------\u001b[0m\u001b[1;33m\u001b[0m\u001b[1;33m\u001b[0m\u001b[0m\n",
      "\u001b[1;32mc:\\Program Files\\ArcGIS\\Pro\\bin\\Python\\envs\\arcgispro-py3\\Lib\\site-packages\\arcgis\\features\\geo\\_io\\fileops.py\u001b[0m in \u001b[0;36mfrom_featureclass\u001b[1;34m(filename, **kwargs)\u001b[0m\n\u001b[0;32m    739\u001b[0m             \u001b[0mlength_field\u001b[0m \u001b[1;33m=\u001b[0m \u001b[0mdesc\u001b[0m\u001b[1;33m.\u001b[0m\u001b[0mpop\u001b[0m\u001b[1;33m(\u001b[0m\u001b[1;34m\"lengthFieldName\"\u001b[0m\u001b[1;33m,\u001b[0m \u001b[1;32mNone\u001b[0m\u001b[1;33m)\u001b[0m\u001b[1;33m\u001b[0m\u001b[1;33m\u001b[0m\u001b[0m\n\u001b[0;32m    740\u001b[0m         \u001b[1;32mexcept\u001b[0m\u001b[1;33m:\u001b[0m  \u001b[1;31m# for older versions of arcpy\u001b[0m\u001b[1;33m\u001b[0m\u001b[1;33m\u001b[0m\u001b[0m\n\u001b[1;32m--> 741\u001b[1;33m             \u001b[0mdesc\u001b[0m \u001b[1;33m=\u001b[0m \u001b[0marcpy\u001b[0m\u001b[1;33m.\u001b[0m\u001b[0mDescribe\u001b[0m\u001b[1;33m(\u001b[0m\u001b[0mfilename\u001b[0m\u001b[1;33m)\u001b[0m\u001b[1;33m\u001b[0m\u001b[1;33m\u001b[0m\u001b[0m\n\u001b[0m\u001b[0;32m    742\u001b[0m             \u001b[0mdesc\u001b[0m \u001b[1;33m=\u001b[0m \u001b[1;33m{\u001b[0m\u001b[1;34m\"fields\"\u001b[0m\u001b[1;33m:\u001b[0m \u001b[0mdesc\u001b[0m\u001b[1;33m.\u001b[0m\u001b[0mfields\u001b[0m\u001b[1;33m,\u001b[0m \u001b[1;34m\"shapeType\"\u001b[0m\u001b[1;33m:\u001b[0m \u001b[0mdesc\u001b[0m\u001b[1;33m.\u001b[0m\u001b[0mshapeType\u001b[0m\u001b[1;33m}\u001b[0m\u001b[1;33m\u001b[0m\u001b[1;33m\u001b[0m\u001b[0m\n\u001b[0;32m    743\u001b[0m             \u001b[0marea_field\u001b[0m \u001b[1;33m=\u001b[0m \u001b[0mgetattr\u001b[0m\u001b[1;33m(\u001b[0m\u001b[0mdesc\u001b[0m\u001b[1;33m,\u001b[0m \u001b[1;34m\"areaFieldName\"\u001b[0m\u001b[1;33m,\u001b[0m \u001b[1;32mNone\u001b[0m\u001b[1;33m)\u001b[0m\u001b[1;33m\u001b[0m\u001b[1;33m\u001b[0m\u001b[0m\n",
      "\u001b[1;32mc:\\Program Files\\ArcGIS\\Pro\\Resources\\ArcPy\\arcpy\\__init__.py\u001b[0m in \u001b[0;36mDescribe\u001b[1;34m(value, data_type)\u001b[0m\n\u001b[0;32m   1333\u001b[0m        \u001b[1;32mclass\u001b[0m \u001b[1;32mwith\u001b[0m \u001b[0mthe\u001b[0m \u001b[0msame\u001b[0m \u001b[0mname\u001b[0m\u001b[1;33m.\u001b[0m \u001b[0mIn\u001b[0m \u001b[0mthis\u001b[0m \u001b[0mcase\u001b[0m\u001b[1;33m,\u001b[0m \u001b[0mthe\u001b[0m \u001b[0mdata\u001b[0m \u001b[0mtype\u001b[0m \u001b[1;32mis\u001b[0m \u001b[0mused\u001b[0m \u001b[0mto\u001b[0m \u001b[0mclarify\u001b[0m\u001b[1;33m\u001b[0m\u001b[1;33m\u001b[0m\u001b[0m\n\u001b[0;32m   1334\u001b[0m        which dataset you want to describe.\"\"\"\n\u001b[1;32m-> 1335\u001b[1;33m     \u001b[1;32mreturn\u001b[0m \u001b[0mgp\u001b[0m\u001b[1;33m.\u001b[0m\u001b[0mdescribe\u001b[0m\u001b[1;33m(\u001b[0m\u001b[0mvalue\u001b[0m\u001b[1;33m,\u001b[0m \u001b[0mdata_type\u001b[0m\u001b[1;33m)\u001b[0m\u001b[1;33m\u001b[0m\u001b[1;33m\u001b[0m\u001b[0m\n\u001b[0m\u001b[0;32m   1336\u001b[0m \u001b[1;33m\u001b[0m\u001b[0m\n\u001b[0;32m   1337\u001b[0m \u001b[1;32mdef\u001b[0m \u001b[0mCreateObject\u001b[0m\u001b[1;33m(\u001b[0m\u001b[0mname\u001b[0m\u001b[1;33m,\u001b[0m \u001b[0moptions\u001b[0m\u001b[1;33m=\u001b[0m\u001b[1;32mNone\u001b[0m\u001b[1;33m)\u001b[0m\u001b[1;33m:\u001b[0m\u001b[1;33m\u001b[0m\u001b[1;33m\u001b[0m\u001b[0m\n",
      "\u001b[1;32mc:\\Program Files\\ArcGIS\\Pro\\Resources\\ArcPy\\arcpy\\geoprocessing\\_base.py\u001b[0m in \u001b[0;36mdescribe\u001b[1;34m(self, *args)\u001b[0m\n\u001b[0;32m    382\u001b[0m         \u001b[1;32mfrom\u001b[0m \u001b[0marcpy\u001b[0m\u001b[1;33m.\u001b[0m\u001b[0marcobjects\u001b[0m\u001b[1;33m.\u001b[0m\u001b[0marcobjectconversion\u001b[0m \u001b[1;32mimport\u001b[0m \u001b[0mconvertArcObjectToPythonObject\u001b[0m\u001b[1;33m\u001b[0m\u001b[1;33m\u001b[0m\u001b[0m\n\u001b[0;32m    383\u001b[0m         return convertArcObjectToPythonObject(\n\u001b[1;32m--> 384\u001b[1;33m                     self._gp.Describe(*gp_fixargs(args, True)))\n\u001b[0m\u001b[0;32m    385\u001b[0m     \u001b[1;32mdef\u001b[0m \u001b[0mcreateObject\u001b[0m\u001b[1;33m(\u001b[0m\u001b[0mself\u001b[0m\u001b[1;33m,\u001b[0m \u001b[1;33m*\u001b[0m\u001b[0margs\u001b[0m\u001b[1;33m)\u001b[0m\u001b[1;33m:\u001b[0m\u001b[1;33m\u001b[0m\u001b[1;33m\u001b[0m\u001b[0m\n\u001b[0;32m    386\u001b[0m         \u001b[1;34m\"\"\"GP function CreateObject\"\"\"\u001b[0m\u001b[1;33m\u001b[0m\u001b[1;33m\u001b[0m\u001b[0m\n",
      "\u001b[1;31mOSError\u001b[0m: \"C:\\GIS\\PROJECT\\ImperviousSurface\\ImperviousSurface.gdb\\Impervious_2010_Cleaned\" does not exist"
     ]
    }
   ],
   "source": [
    "workspace   = r\"C:\\GIS\\PROJECT\\ImperviousSurface\\ImperviousSurface.gdb\"\n",
    "sdfImp2010  =  pd.DataFrame.spatial.from_featureclass(os.path.join(workspace, \"Impervious_2010_Cleaned\"))\n",
    "sdfImp2018  =  pd.DataFrame.spatial.from_featureclass(os.path.join(workspace, \"Impervious_2018_2019\"))\n",
    "sdfImpChange =  pd.DataFrame.spatial.from_featureclass(os.path.join(workspace, \"Impervious_2018_2019_ChangeAnalysis\"))"
   ]
  },
  {
   "cell_type": "code",
   "execution_count": null,
   "metadata": {},
   "outputs": [],
   "source": []
  },
  {
   "cell_type": "code",
   "execution_count": null,
   "metadata": {
    "ExecuteTime": {
     "end_time": "2020-10-07T01:58:52.379833Z",
     "start_time": "2020-10-07T01:58:52.252038Z"
    }
   },
   "outputs": [],
   "source": [
    "sdfImpChange.info()"
   ]
  },
  {
   "cell_type": "code",
   "execution_count": null,
   "metadata": {
    "ExecuteTime": {
     "end_time": "2020-10-07T01:58:52.803156Z",
     "start_time": "2020-10-07T01:58:52.779222Z"
    }
   },
   "outputs": [],
   "source": [
    "sdfImpChange.General_Status.unique()"
   ]
  },
  {
   "cell_type": "code",
   "execution_count": null,
   "metadata": {
    "ExecuteTime": {
     "end_time": "2020-09-21T18:06:11.748095Z",
     "start_time": "2020-09-21T18:06:11.433935Z"
    }
   },
   "outputs": [],
   "source": [
    "sdfImp2018"
   ]
  },
  {
   "cell_type": "code",
   "execution_count": null,
   "metadata": {},
   "outputs": [],
   "source": [
    "sdf"
   ]
  }
 ],
 "metadata": {
  "kernelspec": {
   "display_name": "Python 3",
   "language": "python",
   "name": "python3"
  },
  "language_info": {
   "codemirror_mode": {
    "name": "ipython",
    "version": 3
   },
   "file_extension": ".py",
   "mimetype": "text/x-python",
   "name": "python",
   "nbconvert_exporter": "python",
   "pygments_lexer": "ipython3",
   "version": "3.11.8"
  },
  "toc": {
   "base_numbering": 1,
   "nav_menu": {
    "height": "471px",
    "width": "974px"
   },
   "number_sections": true,
   "sideBar": true,
   "skip_h1_title": false,
   "title_cell": "Table of Contents",
   "title_sidebar": "Contents",
   "toc_cell": false,
   "toc_position": {},
   "toc_section_display": true,
   "toc_window_display": false
  },
  "varInspector": {
   "cols": {
    "lenName": 16,
    "lenType": 16,
    "lenVar": 40
   },
   "kernels_config": {
    "python": {
     "delete_cmd_postfix": "",
     "delete_cmd_prefix": "del ",
     "library": "var_list.py",
     "varRefreshCmd": "print(var_dic_list())"
    },
    "r": {
     "delete_cmd_postfix": ") ",
     "delete_cmd_prefix": "rm(",
     "library": "var_list.r",
     "varRefreshCmd": "cat(var_dic_list()) "
    }
   },
   "types_to_exclude": [
    "module",
    "function",
    "builtin_function_or_method",
    "instance",
    "_Feature"
   ],
   "window_display": false
  }
 },
 "nbformat": 4,
 "nbformat_minor": 2
}
